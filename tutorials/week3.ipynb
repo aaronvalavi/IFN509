{
 "cells": [
  {
   "metadata": {},
   "cell_type": "markdown",
   "source": [
    "## Exercise 1\n",
    "\n",
    "\n",
    "   - a: Qualitative, ordinal (assumes University > Tafe > high school)\n",
    "   - b: Quantitative, interval (ordered, equal intervals, no true zero) - average and median are meaningless\n",
    "   - c: Qualitative, ordinal (assumes 1 > 2 > 3, mapped to excellent, good, poor etc.)\n",
    "   - d: Quantitative, continuous - average and median are meaningful\n",
    "   - e: Qualitative, nominal, binary\n",
    "   - f: Quantitative, (i) discrete (ii) continuous (iii) ordinal\n",
    "\n"
   ],
   "id": "86e12c6df92dff49"
  },
  {
   "metadata": {},
   "cell_type": "markdown",
   "source": [
    "## Exercise 2\n",
    "\n",
    " - e (however the context for statement 2 should be qualified, it depends on the research question)\n"
   ],
   "id": "2f9dd784031157a"
  },
  {
   "metadata": {},
   "cell_type": "markdown",
   "source": [
    "## Exercise 3\n",
    "\n",
    " - (a) A is nominal, B is ordinal, C is interval, D is discrete [4,1,2,3] "
   ],
   "id": "8486b03144076c3e"
  },
  {
   "metadata": {},
   "cell_type": "markdown",
   "source": [
    "## Exercise 4\n",
    "\n",
    " - (c) but with a note of caution as that age can be rounded to a discrete variable, however precision is lost, and often age is converted to discrete bins. "
   ],
   "id": "30f020288709e80e"
  },
  {
   "metadata": {},
   "cell_type": "code",
   "outputs": [],
   "execution_count": null,
   "source": "",
   "id": "1bc6ed01d6b04c4e"
  }
 ],
 "metadata": {
  "kernelspec": {
   "display_name": "Python 3",
   "language": "python",
   "name": "python3"
  },
  "language_info": {
   "codemirror_mode": {
    "name": "ipython",
    "version": 2
   },
   "file_extension": ".py",
   "mimetype": "text/x-python",
   "name": "python",
   "nbconvert_exporter": "python",
   "pygments_lexer": "ipython2",
   "version": "2.7.6"
  }
 },
 "nbformat": 4,
 "nbformat_minor": 5
}
