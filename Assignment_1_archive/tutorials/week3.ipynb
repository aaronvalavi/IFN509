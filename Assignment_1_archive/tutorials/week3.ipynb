{
 "cells": [
  {
   "metadata": {},
   "cell_type": "markdown",
   "source": [
    "## Exercise 1\n",
    "\n",
    "\n",
    "   - a: Qualitative, ordinal (assumes University > Tafe > high school)\n",
    "   - b: Quantitative, interval (ordered, equal intervals, no true zero) - average and median are meaningless\n",
    "   - c: Qualitative, ordinal (assumes 1 > 2 > 3, mapped to excellent, good, poor etc.)\n",
    "   - d: Quantitative, continuous - average and median are meaningful\n",
    "   - e: Qualitative, nominal, binary\n",
    "   - f: Quantitative, (i) discrete (ii) continuous (iii) ordinal\n",
    "\n"
   ],
   "id": "86e12c6df92dff49"
  },
  {
   "metadata": {},
   "cell_type": "markdown",
   "source": [
    "## Exercise 2\n",
    "\n",
    " - e (however the context for statement 2 should be qualified, it depends on the research question)\n"
   ],
   "id": "2f9dd784031157a"
  },
  {
   "metadata": {},
   "cell_type": "markdown",
   "source": [
    "## Exercise 3\n",
    "\n",
    " - (a) A is nominal, B is ordinal, C is interval, D is discrete [4,1,2,3] "
   ],
   "id": "8486b03144076c3e"
  },
  {
   "metadata": {},
   "cell_type": "markdown",
   "source": [
    "## Exercise 4\n",
    "\n",
    " - (c) but with a note of caution as that age can be rounded to a discrete variable, however precision is lost, and often age is converted to discrete bins. "
   ],
   "id": "30f020288709e80e"
  },
  {
   "metadata": {},
   "cell_type": "markdown",
   "source": [
    "## Exercise 5\n",
    "\n",
    " - (a) the data should be encoded to numerical values using label encoding e.g. 1 for green, 2 for blue etc or one-hot encoding for each colour. The latter has the benefit of not implying an order to the colours.\n",
    "  - (b) the data should be grouped into bins using dimensionality reduction. For example, using PCA to capture the variance in the data and then grouping the data into bins."
   ],
   "id": "74d4c36a3633528"
  },
  {
   "metadata": {},
   "cell_type": "markdown",
   "source": [
    "## Exercise 6\n",
    "\n",
    " The similarity can be calculated using the cosine similarity. \n",
    " \n",
    "The cosine similarity is  calculated as the dot product of the two vectors divided by the product of the magnitudes of the two vectors:\n",
    "\n",
    "$$\n",
    "cos(\\theta) = \\frac{d1 \\cdot d3}{||d1|| \\cdot ||d3||}\n",
    "$$\n",
    "\n",
    "where d1 and d3 are the two vectors.\n",
    "\n"
   ],
   "id": "20c342929527b350"
  },
  {
   "metadata": {
    "ExecuteTime": {
     "end_time": "2024-08-05T09:13:41.680277Z",
     "start_time": "2024-08-05T09:13:41.673880Z"
    }
   },
   "cell_type": "code",
   "source": [
    "d1 = (1, 1, 1, 1, 0, 0,0, 0, 0)\n",
    "d3 = (0, 0, 0, 0, 1, 1, 1, 1, 1)"
   ],
   "id": "4dfd602e54d96e4c",
   "outputs": [],
   "execution_count": 1
  },
  {
   "metadata": {
    "ExecuteTime": {
     "end_time": "2024-08-05T09:13:42.365034Z",
     "start_time": "2024-08-05T09:13:41.681282Z"
    }
   },
   "cell_type": "code",
   "source": "import numpy as np",
   "id": "93780b9d744475d0",
   "outputs": [],
   "execution_count": 2
  },
  {
   "metadata": {
    "ExecuteTime": {
     "end_time": "2024-08-05T09:13:43.441424Z",
     "start_time": "2024-08-05T09:13:43.436756Z"
    }
   },
   "cell_type": "code",
   "source": "cosine_similarity = np.dot(d1, d3) / (np.linalg.norm(d1) * np.linalg.norm(d3))",
   "id": "3ce97ad9c1c8493f",
   "outputs": [],
   "execution_count": 3
  },
  {
   "metadata": {
    "ExecuteTime": {
     "end_time": "2024-08-05T09:13:46.051852Z",
     "start_time": "2024-08-05T09:13:46.044977Z"
    }
   },
   "cell_type": "code",
   "source": "cosine_similarity",
   "id": "b4c8b5487c7a4a26",
   "outputs": [
    {
     "data": {
      "text/plain": [
       "0.0"
      ]
     },
     "execution_count": 4,
     "metadata": {},
     "output_type": "execute_result"
    }
   ],
   "execution_count": 4
  },
  {
   "metadata": {},
   "cell_type": "markdown",
   "source": "Note, the easy way to solve this is realise that the dot product is zero, hence the cosine similarity is zero. This is because the two vectors are orthogonal to each other.",
   "id": "5594db2381f4a2f2"
  },
  {
   "metadata": {},
   "cell_type": "code",
   "outputs": [],
   "execution_count": null,
   "source": "",
   "id": "521272e744cccd0c"
  }
 ],
 "metadata": {
  "kernelspec": {
   "display_name": "Python 3",
   "language": "python",
   "name": "python3"
  },
  "language_info": {
   "codemirror_mode": {
    "name": "ipython",
    "version": 2
   },
   "file_extension": ".py",
   "mimetype": "text/x-python",
   "name": "python",
   "nbconvert_exporter": "python",
   "pygments_lexer": "ipython2",
   "version": "2.7.6"
  }
 },
 "nbformat": 4,
 "nbformat_minor": 5
}
