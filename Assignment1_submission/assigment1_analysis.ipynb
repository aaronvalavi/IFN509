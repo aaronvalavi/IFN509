{
 "cells": [
  {
   "cell_type": "markdown",
   "id": "2d0de09845b5741",
   "metadata": {},
   "source": [
    "### Import the required packages"
   ]
  },
  {
   "cell_type": "code",
   "id": "initial_id",
   "metadata": {
    "ExecuteTime": {
     "end_time": "2024-08-27T03:38:37.418588Z",
     "start_time": "2024-08-27T03:38:37.415506Z"
    }
   },
   "source": [
    "import matplotlib.pyplot as plt\n",
    "import numpy as np\n",
    "import pandas as pd\n",
    "import seaborn as sns"
   ],
   "outputs": [],
   "execution_count": 861
  },
  {
   "cell_type": "markdown",
   "id": "3f501d249aaa356",
   "metadata": {},
   "source": [
    "#### Themes and settings"
   ]
  },
  {
   "cell_type": "code",
   "id": "d31b28517e69448e",
   "metadata": {
    "ExecuteTime": {
     "end_time": "2024-08-27T03:38:41.038114Z",
     "start_time": "2024-08-27T03:38:41.033112Z"
    }
   },
   "source": [
    "sns.set_theme(style='ticks', palette='deep')"
   ],
   "outputs": [],
   "execution_count": 862
  },
  {
   "cell_type": "code",
   "id": "b202c201eeeb4e2",
   "metadata": {
    "ExecuteTime": {
     "end_time": "2024-08-27T03:38:41.148407Z",
     "start_time": "2024-08-27T03:38:41.144906Z"
    }
   },
   "source": [
    "pd.options.display.float_format = '{:.2f}'.format"
   ],
   "outputs": [],
   "execution_count": 863
  },
  {
   "cell_type": "markdown",
   "id": "3c49db9582fde345",
   "metadata": {},
   "source": [
    "#### Load and inspect the data"
   ]
  },
  {
   "cell_type": "code",
   "id": "374d410624fae72e",
   "metadata": {
    "ExecuteTime": {
     "end_time": "2024-08-27T03:38:41.498041Z",
     "start_time": "2024-08-27T03:38:41.290795Z"
    }
   },
   "source": [
    "d1 = pd.read_csv('../data/D1.csv', low_memory=False)"
   ],
   "outputs": [],
   "execution_count": 864
  },
  {
   "cell_type": "code",
   "id": "818c9a73909f5f6d",
   "metadata": {
    "ExecuteTime": {
     "end_time": "2024-08-27T03:38:41.533570Z",
     "start_time": "2024-08-27T03:38:41.498989Z"
    }
   },
   "source": [
    "d1"
   ],
   "outputs": [
    {
     "data": {
      "text/plain": [
       "       encounter_id  patient_nbr             race  gender       age weight  \\\n",
       "0             12522     48330783        Caucasian  Female   [80-90)      ?   \n",
       "1             15738     63555939        Caucasian  Female  [90-100)      ?   \n",
       "2             16680     42519267        Caucasian    Male   [40-50)      ?   \n",
       "3             28236     89869032  AfricanAmerican  Female   [40-50)      ?   \n",
       "4             35754     82637451        Caucasian    Male   [50-60)      ?   \n",
       "...             ...          ...              ...     ...       ...    ...   \n",
       "50026     150712854     54487647  AfricanAmerican    Male   [60-70)      ?   \n",
       "50027     150713208     99665856        Caucasian    Male   [70-80)      ?   \n",
       "50028     150715134     46894068        Caucasian    Male   [60-70)      ?   \n",
       "50029     150715788     86575536        Caucasian    Male   [70-80)      ?   \n",
       "50030     150722166     83582352        Caucasian    Male   [70-80)      ?   \n",
       "\n",
       "       admission_type_id  discharge_disposition_id  admission_source_id  \\\n",
       "0                      2                         1                    4   \n",
       "1                      3                         3                    4   \n",
       "2                      1                         1                    7   \n",
       "3                      1                         1                    7   \n",
       "4                      2                         1                    2   \n",
       "...                  ...                       ...                  ...   \n",
       "50026                  2                         1                    1   \n",
       "50027                  2                         1                    1   \n",
       "50028                  2                         1                    1   \n",
       "50029                  1                         3                    1   \n",
       "50030                  2                         1                    1   \n",
       "\n",
       "       length_of_stay  ... glimepiride acetohexamide  glipizide  glyburide  \\\n",
       "0                  13  ...          No            No     Steady         No   \n",
       "1                  12  ...          No            No         No         No   \n",
       "2                   1  ...          No            No     Steady         No   \n",
       "3                   9  ...          No            No         No         No   \n",
       "4                   3  ...          No            No         No         No   \n",
       "...               ...  ...         ...           ...        ...        ...   \n",
       "50026               8  ...          No            No         No         No   \n",
       "50027               1  ...          No            No         No         No   \n",
       "50028               5  ...          No            No         No         No   \n",
       "50029               5  ...          No            No         No     Steady   \n",
       "50030               2  ...      Steady            No         No         No   \n",
       "\n",
       "       tolbutamide insulin change diabetesMed readmitted single_day_admission  \n",
       "0               No  Steady     Ch         Yes         NO                   No  \n",
       "1               No  Steady     Ch         Yes         NO                   No  \n",
       "2               No  Steady     Ch         Yes         NO                  Yes  \n",
       "3               No  Steady     No         Yes        >30                   No  \n",
       "4               No  Steady     No         Yes        >30                   No  \n",
       "...            ...     ...    ...         ...        ...                  ...  \n",
       "50026           No  Steady     Ch         Yes        >30                   No  \n",
       "50027           No      No     No          No         NO                  Yes  \n",
       "50028           No      No     No          No         NO                   No  \n",
       "50029           No      No     No         Yes        <30                   No  \n",
       "50030           No      No     No         Yes         NO                   No  \n",
       "\n",
       "[50031 rows x 39 columns]"
      ],
      "text/html": [
       "<div>\n",
       "<style scoped>\n",
       "    .dataframe tbody tr th:only-of-type {\n",
       "        vertical-align: middle;\n",
       "    }\n",
       "\n",
       "    .dataframe tbody tr th {\n",
       "        vertical-align: top;\n",
       "    }\n",
       "\n",
       "    .dataframe thead th {\n",
       "        text-align: right;\n",
       "    }\n",
       "</style>\n",
       "<table border=\"1\" class=\"dataframe\">\n",
       "  <thead>\n",
       "    <tr style=\"text-align: right;\">\n",
       "      <th></th>\n",
       "      <th>encounter_id</th>\n",
       "      <th>patient_nbr</th>\n",
       "      <th>race</th>\n",
       "      <th>gender</th>\n",
       "      <th>age</th>\n",
       "      <th>weight</th>\n",
       "      <th>admission_type_id</th>\n",
       "      <th>discharge_disposition_id</th>\n",
       "      <th>admission_source_id</th>\n",
       "      <th>length_of_stay</th>\n",
       "      <th>...</th>\n",
       "      <th>glimepiride</th>\n",
       "      <th>acetohexamide</th>\n",
       "      <th>glipizide</th>\n",
       "      <th>glyburide</th>\n",
       "      <th>tolbutamide</th>\n",
       "      <th>insulin</th>\n",
       "      <th>change</th>\n",
       "      <th>diabetesMed</th>\n",
       "      <th>readmitted</th>\n",
       "      <th>single_day_admission</th>\n",
       "    </tr>\n",
       "  </thead>\n",
       "  <tbody>\n",
       "    <tr>\n",
       "      <th>0</th>\n",
       "      <td>12522</td>\n",
       "      <td>48330783</td>\n",
       "      <td>Caucasian</td>\n",
       "      <td>Female</td>\n",
       "      <td>[80-90)</td>\n",
       "      <td>?</td>\n",
       "      <td>2</td>\n",
       "      <td>1</td>\n",
       "      <td>4</td>\n",
       "      <td>13</td>\n",
       "      <td>...</td>\n",
       "      <td>No</td>\n",
       "      <td>No</td>\n",
       "      <td>Steady</td>\n",
       "      <td>No</td>\n",
       "      <td>No</td>\n",
       "      <td>Steady</td>\n",
       "      <td>Ch</td>\n",
       "      <td>Yes</td>\n",
       "      <td>NO</td>\n",
       "      <td>No</td>\n",
       "    </tr>\n",
       "    <tr>\n",
       "      <th>1</th>\n",
       "      <td>15738</td>\n",
       "      <td>63555939</td>\n",
       "      <td>Caucasian</td>\n",
       "      <td>Female</td>\n",
       "      <td>[90-100)</td>\n",
       "      <td>?</td>\n",
       "      <td>3</td>\n",
       "      <td>3</td>\n",
       "      <td>4</td>\n",
       "      <td>12</td>\n",
       "      <td>...</td>\n",
       "      <td>No</td>\n",
       "      <td>No</td>\n",
       "      <td>No</td>\n",
       "      <td>No</td>\n",
       "      <td>No</td>\n",
       "      <td>Steady</td>\n",
       "      <td>Ch</td>\n",
       "      <td>Yes</td>\n",
       "      <td>NO</td>\n",
       "      <td>No</td>\n",
       "    </tr>\n",
       "    <tr>\n",
       "      <th>2</th>\n",
       "      <td>16680</td>\n",
       "      <td>42519267</td>\n",
       "      <td>Caucasian</td>\n",
       "      <td>Male</td>\n",
       "      <td>[40-50)</td>\n",
       "      <td>?</td>\n",
       "      <td>1</td>\n",
       "      <td>1</td>\n",
       "      <td>7</td>\n",
       "      <td>1</td>\n",
       "      <td>...</td>\n",
       "      <td>No</td>\n",
       "      <td>No</td>\n",
       "      <td>Steady</td>\n",
       "      <td>No</td>\n",
       "      <td>No</td>\n",
       "      <td>Steady</td>\n",
       "      <td>Ch</td>\n",
       "      <td>Yes</td>\n",
       "      <td>NO</td>\n",
       "      <td>Yes</td>\n",
       "    </tr>\n",
       "    <tr>\n",
       "      <th>3</th>\n",
       "      <td>28236</td>\n",
       "      <td>89869032</td>\n",
       "      <td>AfricanAmerican</td>\n",
       "      <td>Female</td>\n",
       "      <td>[40-50)</td>\n",
       "      <td>?</td>\n",
       "      <td>1</td>\n",
       "      <td>1</td>\n",
       "      <td>7</td>\n",
       "      <td>9</td>\n",
       "      <td>...</td>\n",
       "      <td>No</td>\n",
       "      <td>No</td>\n",
       "      <td>No</td>\n",
       "      <td>No</td>\n",
       "      <td>No</td>\n",
       "      <td>Steady</td>\n",
       "      <td>No</td>\n",
       "      <td>Yes</td>\n",
       "      <td>&gt;30</td>\n",
       "      <td>No</td>\n",
       "    </tr>\n",
       "    <tr>\n",
       "      <th>4</th>\n",
       "      <td>35754</td>\n",
       "      <td>82637451</td>\n",
       "      <td>Caucasian</td>\n",
       "      <td>Male</td>\n",
       "      <td>[50-60)</td>\n",
       "      <td>?</td>\n",
       "      <td>2</td>\n",
       "      <td>1</td>\n",
       "      <td>2</td>\n",
       "      <td>3</td>\n",
       "      <td>...</td>\n",
       "      <td>No</td>\n",
       "      <td>No</td>\n",
       "      <td>No</td>\n",
       "      <td>No</td>\n",
       "      <td>No</td>\n",
       "      <td>Steady</td>\n",
       "      <td>No</td>\n",
       "      <td>Yes</td>\n",
       "      <td>&gt;30</td>\n",
       "      <td>No</td>\n",
       "    </tr>\n",
       "    <tr>\n",
       "      <th>...</th>\n",
       "      <td>...</td>\n",
       "      <td>...</td>\n",
       "      <td>...</td>\n",
       "      <td>...</td>\n",
       "      <td>...</td>\n",
       "      <td>...</td>\n",
       "      <td>...</td>\n",
       "      <td>...</td>\n",
       "      <td>...</td>\n",
       "      <td>...</td>\n",
       "      <td>...</td>\n",
       "      <td>...</td>\n",
       "      <td>...</td>\n",
       "      <td>...</td>\n",
       "      <td>...</td>\n",
       "      <td>...</td>\n",
       "      <td>...</td>\n",
       "      <td>...</td>\n",
       "      <td>...</td>\n",
       "      <td>...</td>\n",
       "      <td>...</td>\n",
       "    </tr>\n",
       "    <tr>\n",
       "      <th>50026</th>\n",
       "      <td>150712854</td>\n",
       "      <td>54487647</td>\n",
       "      <td>AfricanAmerican</td>\n",
       "      <td>Male</td>\n",
       "      <td>[60-70)</td>\n",
       "      <td>?</td>\n",
       "      <td>2</td>\n",
       "      <td>1</td>\n",
       "      <td>1</td>\n",
       "      <td>8</td>\n",
       "      <td>...</td>\n",
       "      <td>No</td>\n",
       "      <td>No</td>\n",
       "      <td>No</td>\n",
       "      <td>No</td>\n",
       "      <td>No</td>\n",
       "      <td>Steady</td>\n",
       "      <td>Ch</td>\n",
       "      <td>Yes</td>\n",
       "      <td>&gt;30</td>\n",
       "      <td>No</td>\n",
       "    </tr>\n",
       "    <tr>\n",
       "      <th>50027</th>\n",
       "      <td>150713208</td>\n",
       "      <td>99665856</td>\n",
       "      <td>Caucasian</td>\n",
       "      <td>Male</td>\n",
       "      <td>[70-80)</td>\n",
       "      <td>?</td>\n",
       "      <td>2</td>\n",
       "      <td>1</td>\n",
       "      <td>1</td>\n",
       "      <td>1</td>\n",
       "      <td>...</td>\n",
       "      <td>No</td>\n",
       "      <td>No</td>\n",
       "      <td>No</td>\n",
       "      <td>No</td>\n",
       "      <td>No</td>\n",
       "      <td>No</td>\n",
       "      <td>No</td>\n",
       "      <td>No</td>\n",
       "      <td>NO</td>\n",
       "      <td>Yes</td>\n",
       "    </tr>\n",
       "    <tr>\n",
       "      <th>50028</th>\n",
       "      <td>150715134</td>\n",
       "      <td>46894068</td>\n",
       "      <td>Caucasian</td>\n",
       "      <td>Male</td>\n",
       "      <td>[60-70)</td>\n",
       "      <td>?</td>\n",
       "      <td>2</td>\n",
       "      <td>1</td>\n",
       "      <td>1</td>\n",
       "      <td>5</td>\n",
       "      <td>...</td>\n",
       "      <td>No</td>\n",
       "      <td>No</td>\n",
       "      <td>No</td>\n",
       "      <td>No</td>\n",
       "      <td>No</td>\n",
       "      <td>No</td>\n",
       "      <td>No</td>\n",
       "      <td>No</td>\n",
       "      <td>NO</td>\n",
       "      <td>No</td>\n",
       "    </tr>\n",
       "    <tr>\n",
       "      <th>50029</th>\n",
       "      <td>150715788</td>\n",
       "      <td>86575536</td>\n",
       "      <td>Caucasian</td>\n",
       "      <td>Male</td>\n",
       "      <td>[70-80)</td>\n",
       "      <td>?</td>\n",
       "      <td>1</td>\n",
       "      <td>3</td>\n",
       "      <td>1</td>\n",
       "      <td>5</td>\n",
       "      <td>...</td>\n",
       "      <td>No</td>\n",
       "      <td>No</td>\n",
       "      <td>No</td>\n",
       "      <td>Steady</td>\n",
       "      <td>No</td>\n",
       "      <td>No</td>\n",
       "      <td>No</td>\n",
       "      <td>Yes</td>\n",
       "      <td>&lt;30</td>\n",
       "      <td>No</td>\n",
       "    </tr>\n",
       "    <tr>\n",
       "      <th>50030</th>\n",
       "      <td>150722166</td>\n",
       "      <td>83582352</td>\n",
       "      <td>Caucasian</td>\n",
       "      <td>Male</td>\n",
       "      <td>[70-80)</td>\n",
       "      <td>?</td>\n",
       "      <td>2</td>\n",
       "      <td>1</td>\n",
       "      <td>1</td>\n",
       "      <td>2</td>\n",
       "      <td>...</td>\n",
       "      <td>Steady</td>\n",
       "      <td>No</td>\n",
       "      <td>No</td>\n",
       "      <td>No</td>\n",
       "      <td>No</td>\n",
       "      <td>No</td>\n",
       "      <td>No</td>\n",
       "      <td>Yes</td>\n",
       "      <td>NO</td>\n",
       "      <td>No</td>\n",
       "    </tr>\n",
       "  </tbody>\n",
       "</table>\n",
       "<p>50031 rows × 39 columns</p>\n",
       "</div>"
      ]
     },
     "execution_count": 865,
     "metadata": {},
     "output_type": "execute_result"
    }
   ],
   "execution_count": 865
  },
  {
   "cell_type": "code",
   "id": "f5365369136997d6",
   "metadata": {
    "ExecuteTime": {
     "end_time": "2024-08-27T03:38:41.730087Z",
     "start_time": "2024-08-27T03:38:41.692638Z"
    }
   },
   "source": [
    "d1.info()"
   ],
   "outputs": [
    {
     "name": "stdout",
     "output_type": "stream",
     "text": [
      "<class 'pandas.core.frame.DataFrame'>\n",
      "RangeIndex: 50031 entries, 0 to 50030\n",
      "Data columns (total 39 columns):\n",
      " #   Column                    Non-Null Count  Dtype \n",
      "---  ------                    --------------  ----- \n",
      " 0   encounter_id              50031 non-null  int64 \n",
      " 1   patient_nbr               50031 non-null  int64 \n",
      " 2   race                      50031 non-null  object\n",
      " 3   gender                    50031 non-null  object\n",
      " 4   age                       50031 non-null  object\n",
      " 5   weight                    50031 non-null  object\n",
      " 6   admission_type_id         50031 non-null  int64 \n",
      " 7   discharge_disposition_id  50031 non-null  int64 \n",
      " 8   admission_source_id       50031 non-null  int64 \n",
      " 9   length_of_stay            50031 non-null  int64 \n",
      " 10  payer_code                50031 non-null  object\n",
      " 11  medical_specialty         50031 non-null  object\n",
      " 12  num_lab_procedures        50031 non-null  int64 \n",
      " 13  num_procedures            50031 non-null  int64 \n",
      " 14  num_medications           50031 non-null  int64 \n",
      " 15  number_outpatient         50031 non-null  object\n",
      " 16  number_emergency          50031 non-null  object\n",
      " 17  number_inpatient          50031 non-null  object\n",
      " 18  diag_1                    50031 non-null  object\n",
      " 19  diag_2                    50031 non-null  object\n",
      " 20  diag_3                    50031 non-null  object\n",
      " 21  number_diagnoses          50031 non-null  int64 \n",
      " 22  diabetes                  50031 non-null  object\n",
      " 23  max_glu_serum             4639 non-null   object\n",
      " 24  A1Cresult                 7613 non-null   object\n",
      " 25  metformin                 50031 non-null  object\n",
      " 26  repaglinide               50031 non-null  object\n",
      " 27  nateglinide               50031 non-null  object\n",
      " 28  chlorpropamide            50031 non-null  object\n",
      " 29  glimepiride               50031 non-null  object\n",
      " 30  acetohexamide             50031 non-null  object\n",
      " 31  glipizide                 50031 non-null  object\n",
      " 32  glyburide                 50031 non-null  object\n",
      " 33  tolbutamide               50031 non-null  object\n",
      " 34  insulin                   50031 non-null  object\n",
      " 35  change                    50031 non-null  object\n",
      " 36  diabetesMed               50031 non-null  object\n",
      " 37  readmitted                50031 non-null  object\n",
      " 38  single_day_admission      50031 non-null  object\n",
      "dtypes: int64(10), object(29)\n",
      "memory usage: 14.9+ MB\n"
     ]
    }
   ],
   "execution_count": 866
  },
  {
   "cell_type": "markdown",
   "id": "4d873492b1ea50ae",
   "metadata": {},
   "source": [
    "#### Create a function to convert all object columns to 'string' type\n",
    "\n",
    "This function converts all object columns to string type. "
   ]
  },
  {
   "cell_type": "code",
   "id": "f1e439dfe34f2a3a",
   "metadata": {
    "ExecuteTime": {
     "end_time": "2024-08-27T03:38:41.830653Z",
     "start_time": "2024-08-27T03:38:41.773237Z"
    }
   },
   "source": [
    "def convert_object_to_string(df):\n",
    "    for col in df.select_dtypes(include='object').columns:\n",
    "        df[col] = df[col].astype('string')\n",
    "    return df\n",
    "\n",
    "\n",
    "d1 = convert_object_to_string(d1)"
   ],
   "outputs": [],
   "execution_count": 867
  },
  {
   "cell_type": "code",
   "id": "2f0f6d3a728cc2f4",
   "metadata": {
    "ExecuteTime": {
     "end_time": "2024-08-27T03:38:42.065819Z",
     "start_time": "2024-08-27T03:38:42.028343Z"
    }
   },
   "source": [
    "d1.info()"
   ],
   "outputs": [
    {
     "name": "stdout",
     "output_type": "stream",
     "text": [
      "<class 'pandas.core.frame.DataFrame'>\n",
      "RangeIndex: 50031 entries, 0 to 50030\n",
      "Data columns (total 39 columns):\n",
      " #   Column                    Non-Null Count  Dtype \n",
      "---  ------                    --------------  ----- \n",
      " 0   encounter_id              50031 non-null  int64 \n",
      " 1   patient_nbr               50031 non-null  int64 \n",
      " 2   race                      50031 non-null  string\n",
      " 3   gender                    50031 non-null  string\n",
      " 4   age                       50031 non-null  string\n",
      " 5   weight                    50031 non-null  string\n",
      " 6   admission_type_id         50031 non-null  int64 \n",
      " 7   discharge_disposition_id  50031 non-null  int64 \n",
      " 8   admission_source_id       50031 non-null  int64 \n",
      " 9   length_of_stay            50031 non-null  int64 \n",
      " 10  payer_code                50031 non-null  string\n",
      " 11  medical_specialty         50031 non-null  string\n",
      " 12  num_lab_procedures        50031 non-null  int64 \n",
      " 13  num_procedures            50031 non-null  int64 \n",
      " 14  num_medications           50031 non-null  int64 \n",
      " 15  number_outpatient         50031 non-null  string\n",
      " 16  number_emergency          50031 non-null  string\n",
      " 17  number_inpatient          50031 non-null  string\n",
      " 18  diag_1                    50031 non-null  string\n",
      " 19  diag_2                    50031 non-null  string\n",
      " 20  diag_3                    50031 non-null  string\n",
      " 21  number_diagnoses          50031 non-null  int64 \n",
      " 22  diabetes                  50031 non-null  string\n",
      " 23  max_glu_serum             4639 non-null   string\n",
      " 24  A1Cresult                 7613 non-null   string\n",
      " 25  metformin                 50031 non-null  string\n",
      " 26  repaglinide               50031 non-null  string\n",
      " 27  nateglinide               50031 non-null  string\n",
      " 28  chlorpropamide            50031 non-null  string\n",
      " 29  glimepiride               50031 non-null  string\n",
      " 30  acetohexamide             50031 non-null  string\n",
      " 31  glipizide                 50031 non-null  string\n",
      " 32  glyburide                 50031 non-null  string\n",
      " 33  tolbutamide               50031 non-null  string\n",
      " 34  insulin                   50031 non-null  string\n",
      " 35  change                    50031 non-null  string\n",
      " 36  diabetesMed               50031 non-null  string\n",
      " 37  readmitted                50031 non-null  string\n",
      " 38  single_day_admission      50031 non-null  string\n",
      "dtypes: int64(10), string(29)\n",
      "memory usage: 14.9 MB\n"
     ]
    }
   ],
   "execution_count": 868
  },
  {
   "cell_type": "markdown",
   "id": "30ee424bda16cc30",
   "metadata": {},
   "source": [
    "#### Inspect all variables in the dataset using the value_counts() method"
   ]
  },
  {
   "cell_type": "code",
   "id": "1190bf0451064d4d",
   "metadata": {
    "ExecuteTime": {
     "end_time": "2024-08-27T03:38:42.320533Z",
     "start_time": "2024-08-27T03:38:42.313989Z"
    }
   },
   "source": [
    "d1.race.value_counts(dropna=False)"
   ],
   "outputs": [
    {
     "data": {
      "text/plain": [
       "race\n",
       "Caucasian          35732\n",
       "AfricanAmerican    11149\n",
       "?                   1257\n",
       "Hispanic            1020\n",
       "Other                610\n",
       "Asian                263\n",
       "Name: count, dtype: Int64"
      ]
     },
     "execution_count": 869,
     "metadata": {},
     "output_type": "execute_result"
    }
   ],
   "execution_count": 869
  },
  {
   "cell_type": "code",
   "id": "6c35c429c28dfb28",
   "metadata": {
    "ExecuteTime": {
     "end_time": "2024-08-27T03:38:42.536072Z",
     "start_time": "2024-08-27T03:38:42.529996Z"
    }
   },
   "source": [
    "d1.gender.value_counts(dropna=False)"
   ],
   "outputs": [
    {
     "data": {
      "text/plain": [
       "gender\n",
       "Female             27000\n",
       "Male               23030\n",
       "Unknown/Invalid        1\n",
       "Name: count, dtype: Int64"
      ]
     },
     "execution_count": 870,
     "metadata": {},
     "output_type": "execute_result"
    }
   ],
   "execution_count": 870
  },
  {
   "cell_type": "code",
   "id": "83b3fce8c3158765",
   "metadata": {
    "ExecuteTime": {
     "end_time": "2024-08-27T03:38:42.761813Z",
     "start_time": "2024-08-27T03:38:42.755682Z"
    }
   },
   "source": [
    "d1.age.value_counts(dropna=False)"
   ],
   "outputs": [
    {
     "data": {
      "text/plain": [
       "age\n",
       "[70-80)     13109\n",
       "[60-70)     10874\n",
       "[50-60)      8775\n",
       "[80-90)      7530\n",
       "[40-50)      5064\n",
       "[30-40)      2053\n",
       "[90-100)     1178\n",
       "[20-30)       842\n",
       "[10-20)       468\n",
       "[0-10)        138\n",
       "Name: count, dtype: Int64"
      ]
     },
     "execution_count": 871,
     "metadata": {},
     "output_type": "execute_result"
    }
   ],
   "execution_count": 871
  },
  {
   "cell_type": "code",
   "id": "200ede6df8de1efe",
   "metadata": {
    "ExecuteTime": {
     "end_time": "2024-08-27T03:38:42.932081Z",
     "start_time": "2024-08-27T03:38:42.926013Z"
    }
   },
   "source": [
    "d1.weight.value_counts(dropna=False)"
   ],
   "outputs": [
    {
     "data": {
      "text/plain": [
       "weight\n",
       "?            48169\n",
       "[75-100)       794\n",
       "[50-75)        550\n",
       "[100-125)      316\n",
       "[125-150)       73\n",
       "[25-50)         68\n",
       "[0-25)          37\n",
       "[150-175)       17\n",
       "[175-200)        6\n",
       ">200             1\n",
       "Name: count, dtype: Int64"
      ]
     },
     "execution_count": 872,
     "metadata": {},
     "output_type": "execute_result"
    }
   ],
   "execution_count": 872
  },
  {
   "cell_type": "code",
   "id": "8736b0544475c227",
   "metadata": {
    "ExecuteTime": {
     "end_time": "2024-08-27T03:38:43.121522Z",
     "start_time": "2024-08-27T03:38:43.115770Z"
    }
   },
   "source": [
    "# Use sort_index() to sort the values by the index, not by frequency\n",
    "\n",
    "d1.length_of_stay.value_counts(dropna=False).sort_index()"
   ],
   "outputs": [
    {
     "data": {
      "text/plain": [
       "length_of_stay\n",
       "1     6690\n",
       "2     8206\n",
       "3     8339\n",
       "4     6729\n",
       "5     4864\n",
       "6     3814\n",
       "7     2940\n",
       "8     2363\n",
       "9     1604\n",
       "10    1319\n",
       "11    1048\n",
       "12     839\n",
       "13     663\n",
       "14     613\n",
       "Name: count, dtype: int64"
      ]
     },
     "execution_count": 873,
     "metadata": {},
     "output_type": "execute_result"
    }
   ],
   "execution_count": 873
  },
  {
   "cell_type": "code",
   "id": "127cac99201520cb",
   "metadata": {
    "ExecuteTime": {
     "end_time": "2024-08-27T03:38:43.288522Z",
     "start_time": "2024-08-27T03:38:43.281505Z"
    }
   },
   "source": [
    "d1.payer_code.value_counts(dropna=False)"
   ],
   "outputs": [
    {
     "data": {
      "text/plain": [
       "payer_code\n",
       "?     32665\n",
       "MC     9405\n",
       "HM     1573\n",
       "BC     1492\n",
       "UN     1256\n",
       "SP     1200\n",
       "MD      999\n",
       "CP      733\n",
       "CM      241\n",
       "OG      154\n",
       "DM      137\n",
       "PO       81\n",
       "WC       35\n",
       "SI       29\n",
       "CH       19\n",
       "OT       12\n",
       "Name: count, dtype: Int64"
      ]
     },
     "execution_count": 874,
     "metadata": {},
     "output_type": "execute_result"
    }
   ],
   "execution_count": 874
  },
  {
   "cell_type": "code",
   "id": "bd759c550bd217f",
   "metadata": {
    "ExecuteTime": {
     "end_time": "2024-08-27T03:38:43.479539Z",
     "start_time": "2024-08-27T03:38:43.473035Z"
    }
   },
   "source": [
    "d1.medical_specialty.value_counts(dropna=False)"
   ],
   "outputs": [
    {
     "data": {
      "text/plain": [
       "medical_specialty\n",
       "?                                17755\n",
       "InternalMedicine                 10787\n",
       "Family/GeneralPractice            5494\n",
       "Cardiology                        3686\n",
       "Emergency/Trauma                  1955\n",
       "                                 ...  \n",
       "SurgicalSpecialty                    1\n",
       "Proctology                           1\n",
       "Psychiatry-Addictive                 1\n",
       "Pediatrics-InfectiousDiseases        1\n",
       "Cardiology-Pediatric                 1\n",
       "Name: count, Length: 68, dtype: Int64"
      ]
     },
     "execution_count": 875,
     "metadata": {},
     "output_type": "execute_result"
    }
   ],
   "execution_count": 875
  },
  {
   "cell_type": "code",
   "id": "8a057d2b9412c5bd",
   "metadata": {
    "ExecuteTime": {
     "end_time": "2024-08-27T03:38:43.616742Z",
     "start_time": "2024-08-27T03:38:43.609774Z"
    }
   },
   "source": [
    "d1.num_lab_procedures.value_counts(dropna=False).sort_index()"
   ],
   "outputs": [
    {
     "data": {
      "text/plain": [
       "num_lab_procedures\n",
       "1      1325\n",
       "2       457\n",
       "3       250\n",
       "4       140\n",
       "5       114\n",
       "       ... \n",
       "111       1\n",
       "113       1\n",
       "114       1\n",
       "120       1\n",
       "129       1\n",
       "Name: count, Length: 114, dtype: int64"
      ]
     },
     "execution_count": 876,
     "metadata": {},
     "output_type": "execute_result"
    }
   ],
   "execution_count": 876
  },
  {
   "cell_type": "code",
   "id": "622fbd7f7a76c6c3",
   "metadata": {
    "ExecuteTime": {
     "end_time": "2024-08-27T03:38:43.791083Z",
     "start_time": "2024-08-27T03:38:43.785806Z"
    }
   },
   "source": [
    "d1.num_procedures.value_counts(dropna=False).sort_index()"
   ],
   "outputs": [
    {
     "data": {
      "text/plain": [
       "num_procedures\n",
       "0    22066\n",
       "1    10486\n",
       "2     6344\n",
       "3     5098\n",
       "4     2079\n",
       "5     1875\n",
       "6     2083\n",
       "Name: count, dtype: int64"
      ]
     },
     "execution_count": 877,
     "metadata": {},
     "output_type": "execute_result"
    }
   ],
   "execution_count": 877
  },
  {
   "cell_type": "code",
   "id": "de529f144103a8f2",
   "metadata": {
    "ExecuteTime": {
     "end_time": "2024-08-27T03:38:44.009867Z",
     "start_time": "2024-08-27T03:38:44.003875Z"
    }
   },
   "source": [
    "d1.num_medications.value_counts(dropna=False).sort_index()"
   ],
   "outputs": [
    {
     "data": {
      "text/plain": [
       "num_medications\n",
       "1      160\n",
       "2      274\n",
       "3      530\n",
       "4      862\n",
       "5     1161\n",
       "      ... \n",
       "69       4\n",
       "70       2\n",
       "75       1\n",
       "79       1\n",
       "81       1\n",
       "Name: count, Length: 73, dtype: int64"
      ]
     },
     "execution_count": 878,
     "metadata": {},
     "output_type": "execute_result"
    }
   ],
   "execution_count": 878
  },
  {
   "cell_type": "code",
   "id": "720eef2942adc3ac",
   "metadata": {
    "ExecuteTime": {
     "end_time": "2024-08-27T03:38:44.193773Z",
     "start_time": "2024-08-27T03:38:44.187848Z"
    }
   },
   "source": [
    "d1.number_outpatient.value_counts(dropna=False)"
   ],
   "outputs": [
    {
     "data": {
      "text/plain": [
       "number_outpatient\n",
       "0     44457\n",
       "1      3127\n",
       "2      1091\n",
       "3       637\n",
       "4       335\n",
       "5       177\n",
       "6        67\n",
       "7        31\n",
       "8        28\n",
       "?        20\n",
       "9        16\n",
       "10       12\n",
       "11        9\n",
       "12        5\n",
       "13        4\n",
       "14        4\n",
       "16        3\n",
       "15        2\n",
       "20        1\n",
       "21        1\n",
       "35        1\n",
       "17        1\n",
       "29        1\n",
       "36        1\n",
       "Name: count, dtype: Int64"
      ]
     },
     "execution_count": 879,
     "metadata": {},
     "output_type": "execute_result"
    }
   ],
   "execution_count": 879
  },
  {
   "cell_type": "code",
   "id": "b6ab7f49d3509937",
   "metadata": {
    "ExecuteTime": {
     "end_time": "2024-08-27T03:38:44.332679Z",
     "start_time": "2024-08-27T03:38:44.326361Z"
    }
   },
   "source": [
    "d1.number_emergency.value_counts(dropna=False)"
   ],
   "outputs": [
    {
     "data": {
      "text/plain": [
       "number_emergency\n",
       "0     46185\n",
       "1      2629\n",
       "2       644\n",
       "3       232\n",
       "4       132\n",
       "?        69\n",
       "5        45\n",
       "6        27\n",
       "7        24\n",
       "8        16\n",
       "9        10\n",
       "10        8\n",
       "11        3\n",
       "22        2\n",
       "25        1\n",
       "13        1\n",
       "42        1\n",
       "16        1\n",
       "28        1\n",
       "Name: count, dtype: Int64"
      ]
     },
     "execution_count": 880,
     "metadata": {},
     "output_type": "execute_result"
    }
   ],
   "execution_count": 880
  },
  {
   "cell_type": "code",
   "id": "12c6f637989474cf",
   "metadata": {
    "ExecuteTime": {
     "end_time": "2024-08-27T03:38:44.515199Z",
     "start_time": "2024-08-27T03:38:44.508937Z"
    }
   },
   "source": [
    "d1.number_inpatient.value_counts(dropna=False)"
   ],
   "outputs": [
    {
     "data": {
      "text/plain": [
       "number_inpatient\n",
       "0     34270\n",
       "1      9225\n",
       "2      3428\n",
       "3      1508\n",
       "4       715\n",
       "5       357\n",
       "6       212\n",
       "7       121\n",
       "8        65\n",
       "9        43\n",
       "10       26\n",
       "?        15\n",
       "11       15\n",
       "12       11\n",
       "13        5\n",
       "15        4\n",
       "14        4\n",
       "16        4\n",
       "17        1\n",
       "21        1\n",
       "18        1\n",
       "Name: count, dtype: Int64"
      ]
     },
     "execution_count": 881,
     "metadata": {},
     "output_type": "execute_result"
    }
   ],
   "execution_count": 881
  },
  {
   "cell_type": "markdown",
   "id": "6f54366179fbb2f2",
   "metadata": {},
   "source": [
    "The number of inpatient, outpatient, and emergency visits should all be integer variables. However, the '?' values in the dataset are causing them to be read as the string type. This can be fixed by converting them to the 'Int64' type."
   ]
  },
  {
   "cell_type": "code",
   "id": "562514737540968d",
   "metadata": {
    "ExecuteTime": {
     "end_time": "2024-08-27T03:38:44.675891Z",
     "start_time": "2024-08-27T03:38:44.669705Z"
    }
   },
   "source": [
    "d1.diag_1.value_counts(dropna=False)"
   ],
   "outputs": [
    {
     "data": {
      "text/plain": [
       "diag_1\n",
       "414       3839\n",
       "428       3471\n",
       "786       2269\n",
       "410       1988\n",
       "486       1700\n",
       "          ... \n",
       "602          1\n",
       "250.91       1\n",
       "982          1\n",
       "706          1\n",
       "61           1\n",
       "Name: count, Length: 639, dtype: Int64"
      ]
     },
     "execution_count": 882,
     "metadata": {},
     "output_type": "execute_result"
    }
   ],
   "execution_count": 882
  },
  {
   "cell_type": "code",
   "id": "5b99176905de6cfc",
   "metadata": {
    "ExecuteTime": {
     "end_time": "2024-08-27T03:38:44.836064Z",
     "start_time": "2024-08-27T03:38:44.829484Z"
    }
   },
   "source": [
    "d1.diag_2.value_counts(dropna=False)"
   ],
   "outputs": [
    {
     "data": {
      "text/plain": [
       "diag_2\n",
       "428     3486\n",
       "250     3387\n",
       "276     3147\n",
       "427     2502\n",
       "401     2033\n",
       "        ... \n",
       "376        1\n",
       "846        1\n",
       "V16        1\n",
       "980        1\n",
       "E881       1\n",
       "Name: count, Length: 635, dtype: Int64"
      ]
     },
     "execution_count": 883,
     "metadata": {},
     "output_type": "execute_result"
    }
   ],
   "execution_count": 883
  },
  {
   "cell_type": "code",
   "id": "f8d0234ce0cd2c70",
   "metadata": {
    "ExecuteTime": {
     "end_time": "2024-08-27T03:38:45.006821Z",
     "start_time": "2024-08-27T03:38:45.000889Z"
    }
   },
   "source": [
    "d1.diag_3.value_counts(dropna=False)"
   ],
   "outputs": [
    {
     "data": {
      "text/plain": [
       "diag_3\n",
       "250    6234\n",
       "401    4430\n",
       "428    2210\n",
       "276    2208\n",
       "427    1941\n",
       "       ... \n",
       "916       1\n",
       "956       1\n",
       "987       1\n",
       "66        1\n",
       "868       1\n",
       "Name: count, Length: 671, dtype: Int64"
      ]
     },
     "execution_count": 884,
     "metadata": {},
     "output_type": "execute_result"
    }
   ],
   "execution_count": 884
  },
  {
   "cell_type": "markdown",
   "id": "2fea1a5aa4b12cbe",
   "metadata": {},
   "source": [
    "The diagnosis categories have many granular values. These should be recoded into broader categories for analysis. This will be done in a later step."
   ]
  },
  {
   "cell_type": "code",
   "id": "624df52e8a04da75",
   "metadata": {
    "ExecuteTime": {
     "end_time": "2024-08-27T03:38:45.202523Z",
     "start_time": "2024-08-27T03:38:45.196781Z"
    }
   },
   "source": [
    "d1.number_diagnoses.value_counts(dropna=False).sort_index()"
   ],
   "outputs": [
    {
     "data": {
      "text/plain": [
       "number_diagnoses\n",
       "1      170\n",
       "2      768\n",
       "3     1967\n",
       "4     3675\n",
       "5     8266\n",
       "6     5973\n",
       "7     5744\n",
       "8     5711\n",
       "9    17757\n",
       "Name: count, dtype: int64"
      ]
     },
     "execution_count": 885,
     "metadata": {},
     "output_type": "execute_result"
    }
   ],
   "execution_count": 885
  },
  {
   "cell_type": "code",
   "id": "c04bc2e72639df74",
   "metadata": {
    "ExecuteTime": {
     "end_time": "2024-08-27T03:38:45.338931Z",
     "start_time": "2024-08-27T03:38:45.332835Z"
    }
   },
   "source": [
    "d1.diabetes.value_counts(dropna=False)"
   ],
   "outputs": [
    {
     "data": {
      "text/plain": [
       "diabetes\n",
       "Yes    37369\n",
       "No     12662\n",
       "Name: count, dtype: Int64"
      ]
     },
     "execution_count": 886,
     "metadata": {},
     "output_type": "execute_result"
    }
   ],
   "execution_count": 886
  },
  {
   "cell_type": "code",
   "id": "52002410183a1bf3",
   "metadata": {
    "ExecuteTime": {
     "end_time": "2024-08-27T03:38:45.529308Z",
     "start_time": "2024-08-27T03:38:45.519713Z"
    }
   },
   "source": [
    "d1.max_glu_serum.value_counts(dropna=False)"
   ],
   "outputs": [
    {
     "data": {
      "text/plain": [
       "max_glu_serum\n",
       "<NA>    45392\n",
       "Norm     2356\n",
       ">200     1373\n",
       ">300      910\n",
       "Name: count, dtype: Int64"
      ]
     },
     "execution_count": 887,
     "metadata": {},
     "output_type": "execute_result"
    }
   ],
   "execution_count": 887
  },
  {
   "cell_type": "code",
   "id": "a9a05b0b5dd19eec",
   "metadata": {
    "ExecuteTime": {
     "end_time": "2024-08-27T03:38:45.697202Z",
     "start_time": "2024-08-27T03:38:45.689047Z"
    }
   },
   "source": [
    "d1.A1Cresult.value_counts(dropna=False)"
   ],
   "outputs": [
    {
     "data": {
      "text/plain": [
       "A1Cresult\n",
       "<NA>    42418\n",
       ">8       4360\n",
       "Norm     1692\n",
       ">7       1561\n",
       "Name: count, dtype: Int64"
      ]
     },
     "execution_count": 888,
     "metadata": {},
     "output_type": "execute_result"
    }
   ],
   "execution_count": 888
  },
  {
   "cell_type": "code",
   "id": "359b87fa715d33f",
   "metadata": {
    "ExecuteTime": {
     "end_time": "2024-08-27T03:38:45.899773Z",
     "start_time": "2024-08-27T03:38:45.894184Z"
    }
   },
   "source": [
    "d1.metformin.value_counts(dropna=False)"
   ],
   "outputs": [
    {
     "data": {
      "text/plain": [
       "metformin\n",
       "No        40951\n",
       "Steady     8224\n",
       "Up          572\n",
       "Down        284\n",
       "Name: count, dtype: Int64"
      ]
     },
     "execution_count": 889,
     "metadata": {},
     "output_type": "execute_result"
    }
   ],
   "execution_count": 889
  },
  {
   "cell_type": "code",
   "id": "28f9da86bc0cd69",
   "metadata": {
    "ExecuteTime": {
     "end_time": "2024-08-27T03:38:46.021033Z",
     "start_time": "2024-08-27T03:38:46.014881Z"
    }
   },
   "source": [
    "d1.repaglinide.value_counts(dropna=False)"
   ],
   "outputs": [
    {
     "data": {
      "text/plain": [
       "repaglinide\n",
       "No        49437\n",
       "Steady      522\n",
       "Up           48\n",
       "Down         24\n",
       "Name: count, dtype: Int64"
      ]
     },
     "execution_count": 890,
     "metadata": {},
     "output_type": "execute_result"
    }
   ],
   "execution_count": 890
  },
  {
   "cell_type": "code",
   "id": "f0ee43c426f06cb7",
   "metadata": {
    "ExecuteTime": {
     "end_time": "2024-08-27T03:38:46.192054Z",
     "start_time": "2024-08-27T03:38:46.185563Z"
    }
   },
   "source": [
    "d1.nateglinide.value_counts(dropna=False)"
   ],
   "outputs": [
    {
     "data": {
      "text/plain": [
       "nateglinide\n",
       "No        49769\n",
       "Steady      254\n",
       "Up            5\n",
       "Down          3\n",
       "Name: count, dtype: Int64"
      ]
     },
     "execution_count": 891,
     "metadata": {},
     "output_type": "execute_result"
    }
   ],
   "execution_count": 891
  },
  {
   "cell_type": "code",
   "id": "4484c3369290c4b",
   "metadata": {
    "ExecuteTime": {
     "end_time": "2024-08-27T03:38:46.348306Z",
     "start_time": "2024-08-27T03:38:46.342285Z"
    }
   },
   "source": [
    "d1.chlorpropamide.value_counts(dropna=False)"
   ],
   "outputs": [
    {
     "data": {
      "text/plain": [
       "chlorpropamide\n",
       "No        49963\n",
       "Steady       61\n",
       "Up            5\n",
       "Down          1\n",
       "?             1\n",
       "Name: count, dtype: Int64"
      ]
     },
     "execution_count": 892,
     "metadata": {},
     "output_type": "execute_result"
    }
   ],
   "execution_count": 892
  },
  {
   "cell_type": "code",
   "id": "43797968a73ce620",
   "metadata": {
    "ExecuteTime": {
     "end_time": "2024-08-27T03:38:46.521886Z",
     "start_time": "2024-08-27T03:38:46.515493Z"
    }
   },
   "source": [
    "d1.glimepiride.value_counts(dropna=False)"
   ],
   "outputs": [
    {
     "data": {
      "text/plain": [
       "glimepiride\n",
       "No        47777\n",
       "Steady     1989\n",
       "Up          175\n",
       "Down         90\n",
       "Name: count, dtype: Int64"
      ]
     },
     "execution_count": 893,
     "metadata": {},
     "output_type": "execute_result"
    }
   ],
   "execution_count": 893
  },
  {
   "cell_type": "code",
   "id": "5a154b2f34590816",
   "metadata": {
    "ExecuteTime": {
     "end_time": "2024-08-27T03:38:46.694200Z",
     "start_time": "2024-08-27T03:38:46.685161Z"
    }
   },
   "source": [
    "d1.acetohexamide.value_counts(dropna=False)"
   ],
   "outputs": [
    {
     "data": {
      "text/plain": [
       "acetohexamide\n",
       "No    50031\n",
       "Name: count, dtype: Int64"
      ]
     },
     "execution_count": 894,
     "metadata": {},
     "output_type": "execute_result"
    }
   ],
   "execution_count": 894
  },
  {
   "cell_type": "code",
   "id": "cb87dea225876f14",
   "metadata": {
    "ExecuteTime": {
     "end_time": "2024-08-27T03:38:46.891572Z",
     "start_time": "2024-08-27T03:38:46.884967Z"
    }
   },
   "source": [
    "d1.glipizide.value_counts(dropna=False)"
   ],
   "outputs": [
    {
     "data": {
      "text/plain": [
       "glipizide\n",
       "No        43570\n",
       "Steady     5686\n",
       "Up          469\n",
       "Down        306\n",
       "Name: count, dtype: Int64"
      ]
     },
     "execution_count": 895,
     "metadata": {},
     "output_type": "execute_result"
    }
   ],
   "execution_count": 895
  },
  {
   "cell_type": "code",
   "id": "1e92fb3afad91c6e",
   "metadata": {
    "ExecuteTime": {
     "end_time": "2024-08-27T03:38:47.007946Z",
     "start_time": "2024-08-27T03:38:47.001439Z"
    }
   },
   "source": [
    "d1.glyburide.value_counts(dropna=False)"
   ],
   "outputs": [
    {
     "data": {
      "text/plain": [
       "glyburide\n",
       "No        43836\n",
       "Steady     5318\n",
       "Up          527\n",
       "Down        350\n",
       "Name: count, dtype: Int64"
      ]
     },
     "execution_count": 896,
     "metadata": {},
     "output_type": "execute_result"
    }
   ],
   "execution_count": 896
  },
  {
   "cell_type": "code",
   "id": "d56fede5121580bd",
   "metadata": {
    "ExecuteTime": {
     "end_time": "2024-08-27T03:38:47.185250Z",
     "start_time": "2024-08-27T03:38:47.178902Z"
    }
   },
   "source": [
    "d1.tolbutamide.value_counts(dropna=False)"
   ],
   "outputs": [
    {
     "data": {
      "text/plain": [
       "tolbutamide\n",
       "No    50031\n",
       "Name: count, dtype: Int64"
      ]
     },
     "execution_count": 897,
     "metadata": {},
     "output_type": "execute_result"
    }
   ],
   "execution_count": 897
  },
  {
   "cell_type": "code",
   "id": "6beae9b4beec04e7",
   "metadata": {
    "ExecuteTime": {
     "end_time": "2024-08-27T03:38:47.326481Z",
     "start_time": "2024-08-27T03:38:47.319876Z"
    }
   },
   "source": [
    "d1.insulin.value_counts(dropna=False)"
   ],
   "outputs": [
    {
     "data": {
      "text/plain": [
       "insulin\n",
       "No        25754\n",
       "Steady    15992\n",
       "Down       4587\n",
       "Up         3698\n",
       "Name: count, dtype: Int64"
      ]
     },
     "execution_count": 898,
     "metadata": {},
     "output_type": "execute_result"
    }
   ],
   "execution_count": 898
  },
  {
   "cell_type": "markdown",
   "id": "bbb993083bc97f4",
   "metadata": {},
   "source": [
    "Tolbutamide and acetohexamide have not been prescibed. These can be dropped from the dataset."
   ]
  },
  {
   "cell_type": "code",
   "id": "b180df53508fabaf",
   "metadata": {
    "ExecuteTime": {
     "end_time": "2024-08-27T03:38:47.513124Z",
     "start_time": "2024-08-27T03:38:47.506845Z"
    }
   },
   "source": [
    "d1.change.value_counts(dropna=False)"
   ],
   "outputs": [
    {
     "data": {
      "text/plain": [
       "change\n",
       "No    29669\n",
       "Ch    20362\n",
       "Name: count, dtype: Int64"
      ]
     },
     "execution_count": 899,
     "metadata": {},
     "output_type": "execute_result"
    }
   ],
   "execution_count": 899
  },
  {
   "cell_type": "code",
   "id": "db24f0fed99c69f",
   "metadata": {
    "ExecuteTime": {
     "end_time": "2024-08-27T03:38:47.630817Z",
     "start_time": "2024-08-27T03:38:47.624975Z"
    }
   },
   "source": [
    "d1.diabetesMed.value_counts(dropna=False)"
   ],
   "outputs": [
    {
     "data": {
      "text/plain": [
       "diabetesMed\n",
       "Yes    37402\n",
       "No     12629\n",
       "Name: count, dtype: Int64"
      ]
     },
     "execution_count": 900,
     "metadata": {},
     "output_type": "execute_result"
    }
   ],
   "execution_count": 900
  },
  {
   "cell_type": "code",
   "id": "479a0af1b3843cba",
   "metadata": {
    "ExecuteTime": {
     "end_time": "2024-08-27T03:38:47.816703Z",
     "start_time": "2024-08-27T03:38:47.810937Z"
    }
   },
   "source": [
    "d1.readmitted.value_counts(dropna=False)"
   ],
   "outputs": [
    {
     "data": {
      "text/plain": [
       "readmitted\n",
       "NO     26941\n",
       ">30    17341\n",
       "<30     5749\n",
       "Name: count, dtype: Int64"
      ]
     },
     "execution_count": 901,
     "metadata": {},
     "output_type": "execute_result"
    }
   ],
   "execution_count": 901
  },
  {
   "cell_type": "code",
   "id": "9f39994a418e0066",
   "metadata": {
    "ExecuteTime": {
     "end_time": "2024-08-27T03:38:47.981572Z",
     "start_time": "2024-08-27T03:38:47.974994Z"
    }
   },
   "source": [
    "d1.single_day_admission.value_counts(dropna=False)"
   ],
   "outputs": [
    {
     "data": {
      "text/plain": [
       "single_day_admission\n",
       "No     43341\n",
       "Yes     6690\n",
       "Name: count, dtype: Int64"
      ]
     },
     "execution_count": 902,
     "metadata": {},
     "output_type": "execute_result"
    }
   ],
   "execution_count": 902
  },
  {
   "cell_type": "raw",
   "id": "728266ff-faba-4db5-93b7-f1b5691aa3f1",
   "metadata": {},
   "source": [
    "====================================================================================================================================================="
   ]
  },
  {
   "cell_type": "markdown",
   "id": "ae4764ff98183a8a",
   "metadata": {},
   "source": [
    "### Task 2 - Data exploration\n",
    "\n",
    "- Fix the missing values identified in the previous task\n",
    "- Split the numerical data into three groups representing different aspects of the patient's visit history, procedures/medications, and diagnosys/lenght of stay:\n",
    "- Make histograms and boxplots of the numerical variables\n",
    "- Calculate the percentages the frequency of the variables in each group\n",
    "- Comment on the distribution and skewness of the variables\n"
   ]
  },
  {
   "cell_type": "markdown",
   "id": "e9fc3c2e84b6b000",
   "metadata": {},
   "source": [
    "#### Replace the '?' values in the numeric columns with 'NaN'"
   ]
  },
  {
   "cell_type": "code",
   "id": "b607ead2fd8de93d",
   "metadata": {
    "ExecuteTime": {
     "end_time": "2024-08-27T03:38:48.206927Z",
     "start_time": "2024-08-27T03:38:48.182772Z"
    }
   },
   "source": [
    "d1['number_inpatient'] = d1['number_inpatient'].replace('?', np.nan).astype('Int64')\n",
    "d1['number_outpatient'] = d1['number_outpatient'].replace('?', np.nan).astype('Int64')\n",
    "d1['number_emergency'] = d1['number_emergency'].replace('?', np.nan).astype('Int64')\n",
    "\n"
   ],
   "outputs": [],
   "execution_count": 903
  },
  {
   "cell_type": "markdown",
   "id": "31f8f1a610c3770",
   "metadata": {},
   "source": [
    "#### Group 1 variables\n",
    "\n",
    "These relate to the number of visits the patient has had in the year preceding the encounter. "
   ]
  },
  {
   "cell_type": "code",
   "id": "ff079239ae3b8304",
   "metadata": {
    "ExecuteTime": {
     "end_time": "2024-08-27T03:38:49.252786Z",
     "start_time": "2024-08-27T03:38:48.296957Z"
    }
   },
   "source": [
    "# Set up the figure and axes in a 3 row by 2 column grid. Histograms will be on the left and boxplots on the right\n",
    "# Set the width ratio of the two columns as 2.5 and 1 to make the histogram wider than the boxplot\n",
    "fig, axes = plt.subplots(3, 2, figsize=(12, 9), gridspec_kw={'width_ratios': [2.5, 1]})\n",
    "\n",
    "# Histogram and boxplot of the number of inpatient visits \n",
    "sns.histplot(data=d1['number_inpatient'], ax=axes[0, 0], bins=20, color='skyblue', stat='density')\n",
    "axes[0, 0].set_title(f'Histogram of inpatient visits of the patient in the year preceding the encounter', loc='left')\n",
    "axes[0, 0].set_xlabel('Number of prior inpatient visits')\n",
    "axes[0, 0].set_ylabel('Frequency')\n",
    "\n",
    "sns.boxplot(data=d1['number_inpatient'], ax=axes[0, 1], color='skyblue')\n",
    "axes[0, 1].set_title(f'Boxplot of inpatients')\n",
    "axes[0, 1].set_ylabel('Number of admissions')\n",
    "\n",
    "# Histogram and boxplot of the number of outpatient visits\n",
    "sns.histplot(data=d1['number_outpatient'], ax=axes[1, 0], bins=20, color='orange', stat='density')\n",
    "axes[1, 0].set_title(f'Histogram of outpatient visits of the patient in the year preceding the encounter', loc='left')\n",
    "axes[1, 0].set_xlabel('Number of prior outpatient visits')\n",
    "axes[1, 0].set_ylabel('Frequency')\n",
    "\n",
    "sns.boxplot(data=d1['number_outpatient'], ax=axes[1, 1], color='orange')\n",
    "axes[1, 1].set_title(f'Boxplot of outpatients')\n",
    "axes[1, 1].set_ylabel('Number of admissions')\n",
    "\n",
    "# Histogram and boxplot of the number of emergency visits\n",
    "sns.histplot(data=d1['number_emergency'], ax=axes[2, 0], bins=20, color='lightgreen', stat='density')\n",
    "axes[2, 0].set_title(f'Histogram of emergency visits of the patient in the year preceding the encounter', loc='left')\n",
    "axes[2, 0].set_xlabel('Number of prior emergency visits')\n",
    "axes[2, 0].set_ylabel('Frequency')\n",
    "\n",
    "sns.boxplot(data=d1['number_emergency'], ax=axes[2, 1], color='lightgreen')\n",
    "axes[2, 1].set_title(f'Boxplot of emergency')\n",
    "axes[2, 1].set_ylabel('Number of admissions')\n",
    "\n",
    "# Add space between the plots to prevent overlap of titles and labels\n",
    "plt.subplots_adjust(hspace=0.5)\n"
   ],
   "outputs": [
    {
     "data": {
      "text/plain": [
       "<Figure size 1200x900 with 6 Axes>"
      ],
      "image/png": "[encoded data removed]"
     },
     "metadata": {},
     "output_type": "display_data"
    }
   ],
   "execution_count": 904
  },
  {
   "cell_type": "code",
   "id": "5a68bd8610480c82",
   "metadata": {
    "ExecuteTime": {
     "end_time": "2024-08-27T03:38:49.265774Z",
     "start_time": "2024-08-27T03:38:49.253791Z"
    }
   },
   "source": [
    "group1_stats = d1[['number_inpatient', 'number_outpatient', 'number_emergency']].describe()"
   ],
   "outputs": [],
   "execution_count": 905
  },
  {
   "cell_type": "code",
   "id": "41af8e303c3ac0e1",
   "metadata": {
    "ExecuteTime": {
     "end_time": "2024-08-27T03:38:49.273871Z",
     "start_time": "2024-08-27T03:38:49.266781Z"
    }
   },
   "source": [
    "group1_stats"
   ],
   "outputs": [
    {
     "data": {
      "text/plain": [
       "       number_inpatient  number_outpatient  number_emergency\n",
       "count          50016.00           50011.00          49962.00\n",
       "mean               0.58               0.22              0.12\n",
       "std                1.20               0.87              0.62\n",
       "min                0.00               0.00              0.00\n",
       "25%                0.00               0.00              0.00\n",
       "50%                0.00               0.00              0.00\n",
       "75%                1.00               0.00              0.00\n",
       "max               21.00              36.00             42.00"
      ],
      "text/html": [
       "<div>\n",
       "<style scoped>\n",
       "    .dataframe tbody tr th:only-of-type {\n",
       "        vertical-align: middle;\n",
       "    }\n",
       "\n",
       "    .dataframe tbody tr th {\n",
       "        vertical-align: top;\n",
       "    }\n",
       "\n",
       "    .dataframe thead th {\n",
       "        text-align: right;\n",
       "    }\n",
       "</style>\n",
       "<table border=\"1\" class=\"dataframe\">\n",
       "  <thead>\n",
       "    <tr style=\"text-align: right;\">\n",
       "      <th></th>\n",
       "      <th>number_inpatient</th>\n",
       "      <th>number_outpatient</th>\n",
       "      <th>number_emergency</th>\n",
       "    </tr>\n",
       "  </thead>\n",
       "  <tbody>\n",
       "    <tr>\n",
       "      <th>count</th>\n",
       "      <td>50016.00</td>\n",
       "      <td>50011.00</td>\n",
       "      <td>49962.00</td>\n",
       "    </tr>\n",
       "    <tr>\n",
       "      <th>mean</th>\n",
       "      <td>0.58</td>\n",
       "      <td>0.22</td>\n",
       "      <td>0.12</td>\n",
       "    </tr>\n",
       "    <tr>\n",
       "      <th>std</th>\n",
       "      <td>1.20</td>\n",
       "      <td>0.87</td>\n",
       "      <td>0.62</td>\n",
       "    </tr>\n",
       "    <tr>\n",
       "      <th>min</th>\n",
       "      <td>0.00</td>\n",
       "      <td>0.00</td>\n",
       "      <td>0.00</td>\n",
       "    </tr>\n",
       "    <tr>\n",
       "      <th>25%</th>\n",
       "      <td>0.00</td>\n",
       "      <td>0.00</td>\n",
       "      <td>0.00</td>\n",
       "    </tr>\n",
       "    <tr>\n",
       "      <th>50%</th>\n",
       "      <td>0.00</td>\n",
       "      <td>0.00</td>\n",
       "      <td>0.00</td>\n",
       "    </tr>\n",
       "    <tr>\n",
       "      <th>75%</th>\n",
       "      <td>1.00</td>\n",
       "      <td>0.00</td>\n",
       "      <td>0.00</td>\n",
       "    </tr>\n",
       "    <tr>\n",
       "      <th>max</th>\n",
       "      <td>21.00</td>\n",
       "      <td>36.00</td>\n",
       "      <td>42.00</td>\n",
       "    </tr>\n",
       "  </tbody>\n",
       "</table>\n",
       "</div>"
      ]
     },
     "execution_count": 906,
     "metadata": {},
     "output_type": "execute_result"
    }
   ],
   "execution_count": 906
  },
  {
   "cell_type": "markdown",
   "id": "e201164d74fe74cb",
   "metadata": {},
   "source": [
    "The histograms show that the number of inpatient, outpatient, and emergency visits are right-skewed, with most patients having few visits. The boxplots show that there are many outliers in each of the variables. This is expected given the right-skewed distribution of the data.\n",
    "\n",
    "This can be corroborated by calculating the skewness of the variables."
   ]
  },
  {
   "cell_type": "code",
   "id": "b112d099f522d4db",
   "metadata": {
    "ExecuteTime": {
     "end_time": "2024-08-27T03:38:49.283537Z",
     "start_time": "2024-08-27T03:38:49.274879Z"
    }
   },
   "source": [
    "group1_stats.loc['skew'] = d1[['number_inpatient', 'number_outpatient', 'number_emergency']].skew()"
   ],
   "outputs": [],
   "execution_count": 907
  },
  {
   "cell_type": "code",
   "id": "c482566509972b8e",
   "metadata": {
    "ExecuteTime": {
     "end_time": "2024-08-27T03:38:49.292013Z",
     "start_time": "2024-08-27T03:38:49.285548Z"
    }
   },
   "source": [
    "group1_stats.loc['skew'].to_frame()"
   ],
   "outputs": [
    {
     "data": {
      "text/plain": [
       "                   skew\n",
       "number_inpatient   3.74\n",
       "number_outpatient  9.31\n",
       "number_emergency  16.58"
      ],
      "text/html": [
       "<div>\n",
       "<style scoped>\n",
       "    .dataframe tbody tr th:only-of-type {\n",
       "        vertical-align: middle;\n",
       "    }\n",
       "\n",
       "    .dataframe tbody tr th {\n",
       "        vertical-align: top;\n",
       "    }\n",
       "\n",
       "    .dataframe thead th {\n",
       "        text-align: right;\n",
       "    }\n",
       "</style>\n",
       "<table border=\"1\" class=\"dataframe\">\n",
       "  <thead>\n",
       "    <tr style=\"text-align: right;\">\n",
       "      <th></th>\n",
       "      <th>skew</th>\n",
       "    </tr>\n",
       "  </thead>\n",
       "  <tbody>\n",
       "    <tr>\n",
       "      <th>number_inpatient</th>\n",
       "      <td>3.74</td>\n",
       "    </tr>\n",
       "    <tr>\n",
       "      <th>number_outpatient</th>\n",
       "      <td>9.31</td>\n",
       "    </tr>\n",
       "    <tr>\n",
       "      <th>number_emergency</th>\n",
       "      <td>16.58</td>\n",
       "    </tr>\n",
       "  </tbody>\n",
       "</table>\n",
       "</div>"
      ]
     },
     "execution_count": 908,
     "metadata": {},
     "output_type": "execute_result"
    }
   ],
   "execution_count": 908
  },
  {
   "cell_type": "markdown",
   "id": "449db83b673338a6",
   "metadata": {},
   "source": [
    "The skewness values are positive, confirming that the data is right-skewed which is consistent with the histograms and boxplots."
   ]
  },
  {
   "cell_type": "markdown",
   "id": "ec8cbe8f5bdc7454",
   "metadata": {},
   "source": [
    "The outliers can be detected using the Interquartile Range (IQR) method. This method defines an outlier as a value that is below Q1 - 1.5 * IQR or above Q3 + 1.5 * IQR. The percentage of outliers can be calculated as the number of outliers divided by the total number of observations in the column. This function detects outliers in a single column of a DataFrame using this method."
   ]
  },
  {
   "cell_type": "code",
   "id": "aaf2ba76adb83228",
   "metadata": {
    "ExecuteTime": {
     "end_time": "2024-08-27T03:38:49.298521Z",
     "start_time": "2024-08-27T03:38:49.293021Z"
    }
   },
   "source": [
    "def detect_outliers_in_column(column):\n",
    "    \"\"\"\n",
    "    Detects outliers in a single column of a DataFrame using the IQR method based on .describe() output.\n",
    "\n",
    "    \"\"\"\n",
    "    # Use .describe() to get summary statistics\n",
    "    desc = column.describe()\n",
    "\n",
    "    # Calculate IQR\n",
    "    Q1 = desc['25%']\n",
    "    Q3 = desc['75%']\n",
    "    IQR = Q3 - Q1\n",
    "\n",
    "    # Determine outliers\n",
    "    lower_bound = Q1 - 1.5 * IQR\n",
    "    upper_bound = Q3 + 1.5 * IQR\n",
    "    num_outliers = ((column < lower_bound) | (column > upper_bound)).sum()\n",
    "    percentage_outliers = (num_outliers / column.shape[0]) * 100\n",
    "\n",
    "    # Create a DataFrame with the results\n",
    "    outlier_stats_df = pd.DataFrame({\n",
    "        'Number of Outliers': [num_outliers],\n",
    "        'Percentage of Outliers': [percentage_outliers]\n",
    "    }, index=[column.name])\n",
    "\n",
    "    return outlier_stats_df\n"
   ],
   "outputs": [],
   "execution_count": 909
  },
  {
   "cell_type": "code",
   "id": "4bcbd3ecf4b48855",
   "metadata": {
    "ExecuteTime": {
     "end_time": "2024-08-27T03:38:49.318333Z",
     "start_time": "2024-08-27T03:38:49.299035Z"
    }
   },
   "source": [
    "# Apply the function to the number_inpatient column\n",
    "inpatient = detect_outliers_in_column(d1['number_inpatient'])\n",
    "outpatient = detect_outliers_in_column(d1['number_outpatient'])\n",
    "emergency = detect_outliers_in_column(d1['number_emergency'])\n",
    "\n",
    "# Concatenate the results into a single DataFrame\n",
    "group1_outliers = pd.concat([inpatient, outpatient, emergency])\n",
    "group1_outliers"
   ],
   "outputs": [
    {
     "data": {
      "text/plain": [
       "                   Number of Outliers  Percentage of Outliers\n",
       "number_inpatient                 3093                    6.18\n",
       "number_outpatient                5554                   11.10\n",
       "number_emergency                 3777                    7.55"
      ],
      "text/html": [
       "<div>\n",
       "<style scoped>\n",
       "    .dataframe tbody tr th:only-of-type {\n",
       "        vertical-align: middle;\n",
       "    }\n",
       "\n",
       "    .dataframe tbody tr th {\n",
       "        vertical-align: top;\n",
       "    }\n",
       "\n",
       "    .dataframe thead th {\n",
       "        text-align: right;\n",
       "    }\n",
       "</style>\n",
       "<table border=\"1\" class=\"dataframe\">\n",
       "  <thead>\n",
       "    <tr style=\"text-align: right;\">\n",
       "      <th></th>\n",
       "      <th>Number of Outliers</th>\n",
       "      <th>Percentage of Outliers</th>\n",
       "    </tr>\n",
       "  </thead>\n",
       "  <tbody>\n",
       "    <tr>\n",
       "      <th>number_inpatient</th>\n",
       "      <td>3093</td>\n",
       "      <td>6.18</td>\n",
       "    </tr>\n",
       "    <tr>\n",
       "      <th>number_outpatient</th>\n",
       "      <td>5554</td>\n",
       "      <td>11.10</td>\n",
       "    </tr>\n",
       "    <tr>\n",
       "      <th>number_emergency</th>\n",
       "      <td>3777</td>\n",
       "      <td>7.55</td>\n",
       "    </tr>\n",
       "  </tbody>\n",
       "</table>\n",
       "</div>"
      ]
     },
     "execution_count": 910,
     "metadata": {},
     "output_type": "execute_result"
    }
   ],
   "execution_count": 910
  },
  {
   "cell_type": "code",
   "id": "ea2b1c8caee6e96f",
   "metadata": {
    "ExecuteTime": {
     "end_time": "2024-08-27T03:38:49.325016Z",
     "start_time": "2024-08-27T03:38:49.318846Z"
    }
   },
   "source": [
    "d1['number_inpatient'].value_counts(dropna=False)"
   ],
   "outputs": [
    {
     "data": {
      "text/plain": [
       "number_inpatient\n",
       "0       34270\n",
       "1        9225\n",
       "2        3428\n",
       "3        1508\n",
       "4         715\n",
       "5         357\n",
       "6         212\n",
       "7         121\n",
       "8          65\n",
       "9          43\n",
       "10         26\n",
       "11         15\n",
       "<NA>       15\n",
       "12         11\n",
       "13          5\n",
       "14          4\n",
       "16          4\n",
       "15          4\n",
       "17          1\n",
       "21          1\n",
       "18          1\n",
       "Name: count, dtype: Int64"
      ]
     },
     "execution_count": 911,
     "metadata": {},
     "output_type": "execute_result"
    }
   ],
   "execution_count": 911
  },
  {
   "cell_type": "code",
   "id": "eb3ea5d491528dba",
   "metadata": {
    "ExecuteTime": {
     "end_time": "2024-08-27T03:38:49.339919Z",
     "start_time": "2024-08-27T03:38:49.326021Z"
    }
   },
   "source": [
    "# calculate the percentages of each of the variables. These can be grouped into a table as they all have similar distributions\n",
    "inpatient_percentage = d1['number_inpatient'].value_counts(normalize=True, dropna='False').rename('Inpatients %') * 100\n",
    "outpatient_percentage = d1['number_outpatient'].value_counts(normalize=True, dropna='False').rename(\n",
    "    'Outpatients %') * 100\n",
    "emergency_percentage = d1['number_emergency'].value_counts(normalize=True, dropna='False').rename('Emergency %') * 100\n",
    "\n",
    "# Combine them into one df\n",
    "group1_percentages_table = pd.concat([inpatient_percentage, outpatient_percentage, emergency_percentage], axis=1)\n",
    "\n",
    "# Give the axis a meaningful name\n",
    "group1_percentages_table.index.name = 'Number of visits'\n",
    "group1_percentages_table"
   ],
   "outputs": [
    {
     "data": {
      "text/plain": [
       "                  Inpatients %  Outpatients %  Emergency %\n",
       "Number of visits                                          \n",
       "0                        68.52          88.89        92.44\n",
       "1                        18.44           6.25         5.26\n",
       "2                         6.85           2.18         1.29\n",
       "3                         3.02           1.27         0.46\n",
       "4                         1.43           0.67         0.26\n",
       "5                         0.71           0.35         0.09\n",
       "6                         0.42           0.13         0.05\n",
       "7                         0.24           0.06         0.05\n",
       "8                         0.13           0.06         0.03\n",
       "9                         0.09           0.03         0.02\n",
       "10                        0.05           0.02         0.02\n",
       "11                        0.03           0.02         0.01\n",
       "12                        0.02           0.01         <NA>\n",
       "13                        0.01           0.01         0.00\n",
       "16                        0.01           0.01         0.00\n",
       "15                        0.01           0.00         <NA>\n",
       "14                        0.01           0.01         <NA>\n",
       "17                        0.00           0.00         <NA>\n",
       "21                        0.00           0.00         <NA>\n",
       "18                        0.00           <NA>         <NA>\n",
       "20                        <NA>           0.00         <NA>\n",
       "35                        <NA>           0.00         <NA>\n",
       "29                        <NA>           0.00         <NA>\n",
       "36                        <NA>           0.00         <NA>\n",
       "22                        <NA>           <NA>         0.00\n",
       "25                        <NA>           <NA>         0.00\n",
       "42                        <NA>           <NA>         0.00\n",
       "28                        <NA>           <NA>         0.00"
      ],
      "text/html": [
       "<div>\n",
       "<style scoped>\n",
       "    .dataframe tbody tr th:only-of-type {\n",
       "        vertical-align: middle;\n",
       "    }\n",
       "\n",
       "    .dataframe tbody tr th {\n",
       "        vertical-align: top;\n",
       "    }\n",
       "\n",
       "    .dataframe thead th {\n",
       "        text-align: right;\n",
       "    }\n",
       "</style>\n",
       "<table border=\"1\" class=\"dataframe\">\n",
       "  <thead>\n",
       "    <tr style=\"text-align: right;\">\n",
       "      <th></th>\n",
       "      <th>Inpatients %</th>\n",
       "      <th>Outpatients %</th>\n",
       "      <th>Emergency %</th>\n",
       "    </tr>\n",
       "    <tr>\n",
       "      <th>Number of visits</th>\n",
       "      <th></th>\n",
       "      <th></th>\n",
       "      <th></th>\n",
       "    </tr>\n",
       "  </thead>\n",
       "  <tbody>\n",
       "    <tr>\n",
       "      <th>0</th>\n",
       "      <td>68.52</td>\n",
       "      <td>88.89</td>\n",
       "      <td>92.44</td>\n",
       "    </tr>\n",
       "    <tr>\n",
       "      <th>1</th>\n",
       "      <td>18.44</td>\n",
       "      <td>6.25</td>\n",
       "      <td>5.26</td>\n",
       "    </tr>\n",
       "    <tr>\n",
       "      <th>2</th>\n",
       "      <td>6.85</td>\n",
       "      <td>2.18</td>\n",
       "      <td>1.29</td>\n",
       "    </tr>\n",
       "    <tr>\n",
       "      <th>3</th>\n",
       "      <td>3.02</td>\n",
       "      <td>1.27</td>\n",
       "      <td>0.46</td>\n",
       "    </tr>\n",
       "    <tr>\n",
       "      <th>4</th>\n",
       "      <td>1.43</td>\n",
       "      <td>0.67</td>\n",
       "      <td>0.26</td>\n",
       "    </tr>\n",
       "    <tr>\n",
       "      <th>5</th>\n",
       "      <td>0.71</td>\n",
       "      <td>0.35</td>\n",
       "      <td>0.09</td>\n",
       "    </tr>\n",
       "    <tr>\n",
       "      <th>6</th>\n",
       "      <td>0.42</td>\n",
       "      <td>0.13</td>\n",
       "      <td>0.05</td>\n",
       "    </tr>\n",
       "    <tr>\n",
       "      <th>7</th>\n",
       "      <td>0.24</td>\n",
       "      <td>0.06</td>\n",
       "      <td>0.05</td>\n",
       "    </tr>\n",
       "    <tr>\n",
       "      <th>8</th>\n",
       "      <td>0.13</td>\n",
       "      <td>0.06</td>\n",
       "      <td>0.03</td>\n",
       "    </tr>\n",
       "    <tr>\n",
       "      <th>9</th>\n",
       "      <td>0.09</td>\n",
       "      <td>0.03</td>\n",
       "      <td>0.02</td>\n",
       "    </tr>\n",
       "    <tr>\n",
       "      <th>10</th>\n",
       "      <td>0.05</td>\n",
       "      <td>0.02</td>\n",
       "      <td>0.02</td>\n",
       "    </tr>\n",
       "    <tr>\n",
       "      <th>11</th>\n",
       "      <td>0.03</td>\n",
       "      <td>0.02</td>\n",
       "      <td>0.01</td>\n",
       "    </tr>\n",
       "    <tr>\n",
       "      <th>12</th>\n",
       "      <td>0.02</td>\n",
       "      <td>0.01</td>\n",
       "      <td>&lt;NA&gt;</td>\n",
       "    </tr>\n",
       "    <tr>\n",
       "      <th>13</th>\n",
       "      <td>0.01</td>\n",
       "      <td>0.01</td>\n",
       "      <td>0.00</td>\n",
       "    </tr>\n",
       "    <tr>\n",
       "      <th>16</th>\n",
       "      <td>0.01</td>\n",
       "      <td>0.01</td>\n",
       "      <td>0.00</td>\n",
       "    </tr>\n",
       "    <tr>\n",
       "      <th>15</th>\n",
       "      <td>0.01</td>\n",
       "      <td>0.00</td>\n",
       "      <td>&lt;NA&gt;</td>\n",
       "    </tr>\n",
       "    <tr>\n",
       "      <th>14</th>\n",
       "      <td>0.01</td>\n",
       "      <td>0.01</td>\n",
       "      <td>&lt;NA&gt;</td>\n",
       "    </tr>\n",
       "    <tr>\n",
       "      <th>17</th>\n",
       "      <td>0.00</td>\n",
       "      <td>0.00</td>\n",
       "      <td>&lt;NA&gt;</td>\n",
       "    </tr>\n",
       "    <tr>\n",
       "      <th>21</th>\n",
       "      <td>0.00</td>\n",
       "      <td>0.00</td>\n",
       "      <td>&lt;NA&gt;</td>\n",
       "    </tr>\n",
       "    <tr>\n",
       "      <th>18</th>\n",
       "      <td>0.00</td>\n",
       "      <td>&lt;NA&gt;</td>\n",
       "      <td>&lt;NA&gt;</td>\n",
       "    </tr>\n",
       "    <tr>\n",
       "      <th>20</th>\n",
       "      <td>&lt;NA&gt;</td>\n",
       "      <td>0.00</td>\n",
       "      <td>&lt;NA&gt;</td>\n",
       "    </tr>\n",
       "    <tr>\n",
       "      <th>35</th>\n",
       "      <td>&lt;NA&gt;</td>\n",
       "      <td>0.00</td>\n",
       "      <td>&lt;NA&gt;</td>\n",
       "    </tr>\n",
       "    <tr>\n",
       "      <th>29</th>\n",
       "      <td>&lt;NA&gt;</td>\n",
       "      <td>0.00</td>\n",
       "      <td>&lt;NA&gt;</td>\n",
       "    </tr>\n",
       "    <tr>\n",
       "      <th>36</th>\n",
       "      <td>&lt;NA&gt;</td>\n",
       "      <td>0.00</td>\n",
       "      <td>&lt;NA&gt;</td>\n",
       "    </tr>\n",
       "    <tr>\n",
       "      <th>22</th>\n",
       "      <td>&lt;NA&gt;</td>\n",
       "      <td>&lt;NA&gt;</td>\n",
       "      <td>0.00</td>\n",
       "    </tr>\n",
       "    <tr>\n",
       "      <th>25</th>\n",
       "      <td>&lt;NA&gt;</td>\n",
       "      <td>&lt;NA&gt;</td>\n",
       "      <td>0.00</td>\n",
       "    </tr>\n",
       "    <tr>\n",
       "      <th>42</th>\n",
       "      <td>&lt;NA&gt;</td>\n",
       "      <td>&lt;NA&gt;</td>\n",
       "      <td>0.00</td>\n",
       "    </tr>\n",
       "    <tr>\n",
       "      <th>28</th>\n",
       "      <td>&lt;NA&gt;</td>\n",
       "      <td>&lt;NA&gt;</td>\n",
       "      <td>0.00</td>\n",
       "    </tr>\n",
       "  </tbody>\n",
       "</table>\n",
       "</div>"
      ]
     },
     "execution_count": 912,
     "metadata": {},
     "output_type": "execute_result"
    }
   ],
   "execution_count": 912
  },
  {
   "cell_type": "markdown",
   "id": "fe72558e04ae9b23",
   "metadata": {},
   "source": [
    "#### Group 2 variables"
   ]
  },
  {
   "cell_type": "code",
   "id": "1a935b6643ac2a59",
   "metadata": {
    "ExecuteTime": {
     "end_time": "2024-08-27T03:38:50.408210Z",
     "start_time": "2024-08-27T03:38:49.341928Z"
    }
   },
   "source": [
    "# Set up the figure and axes in a 3 rows, 2 columns grid, as was used for the group 1 variables\n",
    "\n",
    "fig, axes = plt.subplots(3, 2, figsize=(12, 9), gridspec_kw={'width_ratios': [2.5, 1]})\n",
    "\n",
    "# Histogram and boxplot of the number of procedures\n",
    "sns.histplot(data=d1['num_procedures'], ax=axes[0, 0], bins=6, color='skyblue', stat='density')\n",
    "axes[0, 0].set_title('Histogram of procedures (other than lab tests) performed during the encounter', loc='left')\n",
    "axes[0, 0].set_xlabel('Number of procedures')\n",
    "axes[0, 0].set_ylabel('Frequency')\n",
    "\n",
    "# Boxplot of the number of procedures\n",
    "sns.boxplot(data=d1['num_procedures'], ax=axes[0, 1], color='skyblue')\n",
    "axes[0, 1].set_title(f'Boxplot of procedures')\n",
    "axes[0, 1].set_ylabel('Number of procedures')\n",
    "\n",
    "# Histogram and boxplot of the number of lab procedures\n",
    "sns.histplot(data=d1['num_lab_procedures'], ax=axes[1, 0], bins=30, color='orange', stat='density')\n",
    "axes[1, 0].set_title('Histogram of lab tests performed during the encounter', loc='left')\n",
    "axes[1, 0].set_xlabel('Number of lab procedures')\n",
    "axes[1, 0].set_ylabel('Frequency')\n",
    "\n",
    "# Boxplot of the number of lab procedures\n",
    "sns.boxplot(data=d1['num_lab_procedures'], ax=axes[1, 1], color='orange')\n",
    "axes[1, 1].set_title(f'Boxplot of lab procedures')\n",
    "axes[1, 1].set_ylabel('Number of lab procedures')\n",
    "\n",
    "# Histogram and boxplot of the number of medications\n",
    "sns.histplot(data=d1['num_medications'], ax=axes[2, 0], bins=15, color='lightgreen', stat='density')\n",
    "axes[2, 0].set_title('Histogram of distinct medication names administered during the encounter', loc='left')\n",
    "axes[2, 0].set_xlabel('Number of medications')\n",
    "axes[2, 0].set_ylabel('Frequency')\n",
    "\n",
    "# Boxplot of the number of medications\n",
    "sns.boxplot(data=d1['num_medications'], ax=axes[2, 1], color='lightgreen')\n",
    "axes[2, 1].set_title(f'Boxplot of medications')\n",
    "axes[2, 1].set_ylabel('Number of medications')\n",
    "\n",
    "# Add space between the plots to prevent overlap of titles and labels\n",
    "plt.subplots_adjust(hspace=0.5)"
   ],
   "outputs": [
    {
     "data": {
      "text/plain": [
       "<Figure size 1200x900 with 6 Axes>"
      ],
      "image/png": "[encoded data removed]"
     },
     "metadata": {},
     "output_type": "display_data"
    }
   ],
   "execution_count": 913
  },
  {
   "cell_type": "code",
   "id": "e6ac5b63322c760e",
   "metadata": {
    "ExecuteTime": {
     "end_time": "2024-08-27T03:38:50.421562Z",
     "start_time": "2024-08-27T03:38:50.409729Z"
    }
   },
   "source": [
    "group2_stats = d1[['num_procedures', 'num_lab_procedures', 'num_medications']].describe()"
   ],
   "outputs": [],
   "execution_count": 914
  },
  {
   "cell_type": "code",
   "id": "8ba43330831840e5",
   "metadata": {
    "ExecuteTime": {
     "end_time": "2024-08-27T03:38:50.436649Z",
     "start_time": "2024-08-27T03:38:50.421562Z"
    }
   },
   "source": [
    "procedures = detect_outliers_in_column(d1['num_procedures'])\n",
    "lab_procedures = detect_outliers_in_column(d1['num_lab_procedures'])\n",
    "medications = detect_outliers_in_column(d1['num_medications'])\n",
    "\n",
    "# Concatenate the results into a single DataFrame\n",
    "group2_outliers = pd.concat([procedures, lab_procedures, medications])\n",
    "group2_outliers"
   ],
   "outputs": [
    {
     "data": {
      "text/plain": [
       "                    Number of Outliers  Percentage of Outliers\n",
       "num_procedures                    2083                    4.16\n",
       "num_lab_procedures                  86                    0.17\n",
       "num_medications                   1833                    3.66"
      ],
      "text/html": [
       "<div>\n",
       "<style scoped>\n",
       "    .dataframe tbody tr th:only-of-type {\n",
       "        vertical-align: middle;\n",
       "    }\n",
       "\n",
       "    .dataframe tbody tr th {\n",
       "        vertical-align: top;\n",
       "    }\n",
       "\n",
       "    .dataframe thead th {\n",
       "        text-align: right;\n",
       "    }\n",
       "</style>\n",
       "<table border=\"1\" class=\"dataframe\">\n",
       "  <thead>\n",
       "    <tr style=\"text-align: right;\">\n",
       "      <th></th>\n",
       "      <th>Number of Outliers</th>\n",
       "      <th>Percentage of Outliers</th>\n",
       "    </tr>\n",
       "  </thead>\n",
       "  <tbody>\n",
       "    <tr>\n",
       "      <th>num_procedures</th>\n",
       "      <td>2083</td>\n",
       "      <td>4.16</td>\n",
       "    </tr>\n",
       "    <tr>\n",
       "      <th>num_lab_procedures</th>\n",
       "      <td>86</td>\n",
       "      <td>0.17</td>\n",
       "    </tr>\n",
       "    <tr>\n",
       "      <th>num_medications</th>\n",
       "      <td>1833</td>\n",
       "      <td>3.66</td>\n",
       "    </tr>\n",
       "  </tbody>\n",
       "</table>\n",
       "</div>"
      ]
     },
     "execution_count": 915,
     "metadata": {},
     "output_type": "execute_result"
    }
   ],
   "execution_count": 915
  },
  {
   "cell_type": "code",
   "id": "b3964fb985aea02",
   "metadata": {
    "ExecuteTime": {
     "end_time": "2024-08-27T03:38:50.466074Z",
     "start_time": "2024-08-27T03:38:50.459695Z"
    }
   },
   "source": [
    "group2_stats"
   ],
   "outputs": [
    {
     "data": {
      "text/plain": [
       "       num_procedures  num_lab_procedures  num_medications\n",
       "count        50031.00            50031.00         50031.00\n",
       "mean             1.37               42.31            15.28\n",
       "std              1.69               19.36             8.13\n",
       "min              0.00                1.00             1.00\n",
       "25%              0.00               30.00            10.00\n",
       "50%              1.00               43.00            14.00\n",
       "75%              2.00               56.00            19.00\n",
       "max              6.00              129.00            81.00"
      ],
      "text/html": [
       "<div>\n",
       "<style scoped>\n",
       "    .dataframe tbody tr th:only-of-type {\n",
       "        vertical-align: middle;\n",
       "    }\n",
       "\n",
       "    .dataframe tbody tr th {\n",
       "        vertical-align: top;\n",
       "    }\n",
       "\n",
       "    .dataframe thead th {\n",
       "        text-align: right;\n",
       "    }\n",
       "</style>\n",
       "<table border=\"1\" class=\"dataframe\">\n",
       "  <thead>\n",
       "    <tr style=\"text-align: right;\">\n",
       "      <th></th>\n",
       "      <th>num_procedures</th>\n",
       "      <th>num_lab_procedures</th>\n",
       "      <th>num_medications</th>\n",
       "    </tr>\n",
       "  </thead>\n",
       "  <tbody>\n",
       "    <tr>\n",
       "      <th>count</th>\n",
       "      <td>50031.00</td>\n",
       "      <td>50031.00</td>\n",
       "      <td>50031.00</td>\n",
       "    </tr>\n",
       "    <tr>\n",
       "      <th>mean</th>\n",
       "      <td>1.37</td>\n",
       "      <td>42.31</td>\n",
       "      <td>15.28</td>\n",
       "    </tr>\n",
       "    <tr>\n",
       "      <th>std</th>\n",
       "      <td>1.69</td>\n",
       "      <td>19.36</td>\n",
       "      <td>8.13</td>\n",
       "    </tr>\n",
       "    <tr>\n",
       "      <th>min</th>\n",
       "      <td>0.00</td>\n",
       "      <td>1.00</td>\n",
       "      <td>1.00</td>\n",
       "    </tr>\n",
       "    <tr>\n",
       "      <th>25%</th>\n",
       "      <td>0.00</td>\n",
       "      <td>30.00</td>\n",
       "      <td>10.00</td>\n",
       "    </tr>\n",
       "    <tr>\n",
       "      <th>50%</th>\n",
       "      <td>1.00</td>\n",
       "      <td>43.00</td>\n",
       "      <td>14.00</td>\n",
       "    </tr>\n",
       "    <tr>\n",
       "      <th>75%</th>\n",
       "      <td>2.00</td>\n",
       "      <td>56.00</td>\n",
       "      <td>19.00</td>\n",
       "    </tr>\n",
       "    <tr>\n",
       "      <th>max</th>\n",
       "      <td>6.00</td>\n",
       "      <td>129.00</td>\n",
       "      <td>81.00</td>\n",
       "    </tr>\n",
       "  </tbody>\n",
       "</table>\n",
       "</div>"
      ]
     },
     "execution_count": 916,
     "metadata": {},
     "output_type": "execute_result"
    }
   ],
   "execution_count": 916
  },
  {
   "cell_type": "code",
   "id": "28bcfaa466aeb21a",
   "metadata": {
    "ExecuteTime": {
     "end_time": "2024-08-27T03:38:50.746581Z",
     "start_time": "2024-08-27T03:38:50.740176Z"
    }
   },
   "source": [
    "group2_stats.loc['skew'] = d1[['num_procedures', 'num_lab_procedures', 'num_medications']].skew()"
   ],
   "outputs": [],
   "execution_count": 917
  },
  {
   "cell_type": "code",
   "id": "70a85e1ec02f408b",
   "metadata": {
    "ExecuteTime": {
     "end_time": "2024-08-27T03:38:51.165793Z",
     "start_time": "2024-08-27T03:38:51.161141Z"
    }
   },
   "source": [
    "group2_stats.loc['skew']"
   ],
   "outputs": [
    {
     "data": {
      "text/plain": [
       "num_procedures        1.24\n",
       "num_lab_procedures   -0.12\n",
       "num_medications       1.50\n",
       "Name: skew, dtype: float64"
      ]
     },
     "execution_count": 918,
     "metadata": {},
     "output_type": "execute_result"
    }
   ],
   "execution_count": 918
  },
  {
   "cell_type": "markdown",
   "id": "99ca5505e3c7e578",
   "metadata": {},
   "source": [
    "The histograms show that the number of procedures and medications are positively skewed. With a smaller number of patients having large numbers of proceduresand medications.\n",
    "\n",
    "The number of lab procedures is more evenly interesting because it shows what appears to be a long tail, in the presence of a large number of zero values. The skewness variable indicates that this variable is in fact slightly negatively skewed.\n",
    "\n",
    "The boxplots show that there are many outliers in each of the variables. This needs to be interpreted in the context of the data. For example, the number of procedures and medications, while exceeding the IQR, may not be considered outliers in a medical context. \n",
    "\n",
    "Also, the number of outliers in the lab procedures is comparatively low, but this is due to the large number of zero values in the data. This is likely due to the fact that not all patients require lab procedures during their encounter."
   ]
  },
  {
   "cell_type": "markdown",
   "id": "9700035966486a58",
   "metadata": {},
   "source": [
    "#### Group 3 variables\n"
   ]
  },
  {
   "cell_type": "code",
   "id": "83e090dcc530365e",
   "metadata": {
    "ExecuteTime": {
     "end_time": "2024-08-27T03:38:52.078239Z",
     "start_time": "2024-08-27T03:38:51.411706Z"
    }
   },
   "source": [
    "# Set up the figure and axes in a 2 rows, 2 columns grid. Histograms will be on the left and boxplots on the right\n",
    "fig, axes = plt.subplots(2, 2, figsize=(12, 9), gridspec_kw={'width_ratios': [2.5, 1]})\n",
    "\n",
    "# Histogram and boxplot of the number of diagnoses\n",
    "sns.histplot(data=d1['number_diagnoses'], ax=axes[0, 0], bins=5, color='skyblue')\n",
    "axes[0, 0].set_title('Histogram of number of diagnoses entered into the EHR system', loc='left')\n",
    "axes[0, 0].set_xlabel('Number of diagnoses')\n",
    "axes[0, 0].set_ylabel('Frequency')\n",
    "\n",
    "# Boxplot of the number of diagnoses\n",
    "sns.boxplot(data=d1['number_diagnoses'], ax=axes[0, 1], color='skyblue')\n",
    "axes[0, 1].set_title(f'Boxplot of diagnoses')\n",
    "axes[0, 1].set_ylabel('Number of diagnoses')\n",
    "\n",
    "# Histogram and boxplot of the length of stay\n",
    "sns.histplot(data=d1['length_of_stay'], ax=axes[1, 0], bins=10, color='orange')\n",
    "axes[1, 0].set_title('Histogram of number of days between admission and discharge', loc='left')\n",
    "axes[1, 0].set_xlabel('Length of stay (days)')\n",
    "axes[1, 0].set_ylabel('Frequency')\n",
    "\n",
    "# Boxplot of the length of stay\n",
    "sns.boxplot(data=d1['length_of_stay'], ax=axes[1, 1], color='orange')\n",
    "axes[1, 1].set_title(f'Boxplot of length of stay')\n",
    "axes[1, 1].set_ylabel('Length of stay (days)')\n",
    "\n",
    "plt.subplots_adjust(hspace=0.5)"
   ],
   "outputs": [
    {
     "data": {
      "text/plain": [
       "<Figure size 1200x900 with 4 Axes>"
      ],
      "image/png": "[encoded data removed]"
     },
     "metadata": {},
     "output_type": "display_data"
    }
   ],
   "execution_count": 919
  },
  {
   "cell_type": "code",
   "id": "9f685594513eb053",
   "metadata": {
    "ExecuteTime": {
     "end_time": "2024-08-27T03:38:52.088325Z",
     "start_time": "2024-08-27T03:38:52.079817Z"
    }
   },
   "source": [
    "group3_stats = d1[['number_diagnoses', 'length_of_stay']].describe()"
   ],
   "outputs": [],
   "execution_count": 920
  },
  {
   "cell_type": "code",
   "id": "1a3ba6a7d48c763b",
   "metadata": {
    "ExecuteTime": {
     "end_time": "2024-08-27T03:38:52.100462Z",
     "start_time": "2024-08-27T03:38:52.088838Z"
    }
   },
   "source": [
    "diagnoses = detect_outliers_in_column(d1['number_diagnoses'])\n",
    "length_of_stay = detect_outliers_in_column(d1['length_of_stay'])\n",
    "\n",
    "# Concatenate the results into a single DataFrame\n",
    "group3_outliers = pd.concat([diagnoses, length_of_stay])\n",
    "group3_outliers"
   ],
   "outputs": [
    {
     "data": {
      "text/plain": [
       "                  Number of Outliers  Percentage of Outliers\n",
       "number_diagnoses                   0                    0.00\n",
       "length_of_stay                  1276                    2.55"
      ],
      "text/html": [
       "<div>\n",
       "<style scoped>\n",
       "    .dataframe tbody tr th:only-of-type {\n",
       "        vertical-align: middle;\n",
       "    }\n",
       "\n",
       "    .dataframe tbody tr th {\n",
       "        vertical-align: top;\n",
       "    }\n",
       "\n",
       "    .dataframe thead th {\n",
       "        text-align: right;\n",
       "    }\n",
       "</style>\n",
       "<table border=\"1\" class=\"dataframe\">\n",
       "  <thead>\n",
       "    <tr style=\"text-align: right;\">\n",
       "      <th></th>\n",
       "      <th>Number of Outliers</th>\n",
       "      <th>Percentage of Outliers</th>\n",
       "    </tr>\n",
       "  </thead>\n",
       "  <tbody>\n",
       "    <tr>\n",
       "      <th>number_diagnoses</th>\n",
       "      <td>0</td>\n",
       "      <td>0.00</td>\n",
       "    </tr>\n",
       "    <tr>\n",
       "      <th>length_of_stay</th>\n",
       "      <td>1276</td>\n",
       "      <td>2.55</td>\n",
       "    </tr>\n",
       "  </tbody>\n",
       "</table>\n",
       "</div>"
      ]
     },
     "execution_count": 921,
     "metadata": {},
     "output_type": "execute_result"
    }
   ],
   "execution_count": 921
  },
  {
   "cell_type": "code",
   "id": "e1d4c835d54d3612",
   "metadata": {
    "ExecuteTime": {
     "end_time": "2024-08-27T03:38:52.106795Z",
     "start_time": "2024-08-27T03:38:52.101467Z"
    }
   },
   "source": [
    "group3_stats.loc['skew'] = d1[['number_diagnoses', 'length_of_stay']].skew()"
   ],
   "outputs": [],
   "execution_count": 922
  },
  {
   "cell_type": "code",
   "id": "ad388e507d9d4b6a",
   "metadata": {
    "ExecuteTime": {
     "end_time": "2024-08-27T03:38:52.130733Z",
     "start_time": "2024-08-27T03:38:52.124372Z"
    }
   },
   "source": [
    "group3_stats.loc['skew'].to_frame()"
   ],
   "outputs": [
    {
     "data": {
      "text/plain": [
       "                  skew\n",
       "number_diagnoses -0.53\n",
       "length_of_stay    1.06"
      ],
      "text/html": [
       "<div>\n",
       "<style scoped>\n",
       "    .dataframe tbody tr th:only-of-type {\n",
       "        vertical-align: middle;\n",
       "    }\n",
       "\n",
       "    .dataframe tbody tr th {\n",
       "        vertical-align: top;\n",
       "    }\n",
       "\n",
       "    .dataframe thead th {\n",
       "        text-align: right;\n",
       "    }\n",
       "</style>\n",
       "<table border=\"1\" class=\"dataframe\">\n",
       "  <thead>\n",
       "    <tr style=\"text-align: right;\">\n",
       "      <th></th>\n",
       "      <th>skew</th>\n",
       "    </tr>\n",
       "  </thead>\n",
       "  <tbody>\n",
       "    <tr>\n",
       "      <th>number_diagnoses</th>\n",
       "      <td>-0.53</td>\n",
       "    </tr>\n",
       "    <tr>\n",
       "      <th>length_of_stay</th>\n",
       "      <td>1.06</td>\n",
       "    </tr>\n",
       "  </tbody>\n",
       "</table>\n",
       "</div>"
      ]
     },
     "execution_count": 923,
     "metadata": {},
     "output_type": "execute_result"
    }
   ],
   "execution_count": 923
  },
  {
   "cell_type": "markdown",
   "id": "3e654f1e7c296f2f",
   "metadata": {},
   "source": [
    "The histograms show that the number of diagnoses are negatively skewed whereas the length of stay is positively skewed. The boxplots show that there are no outliers for he number of diagnoses, but there are many outliers for the length of stay.\n",
    "\n",
    "These are corroborated by the skewness values which are negative for the number of diagnoses and positive for the length of stay."
   ]
  },
  {
   "cell_type": "markdown",
   "id": "650dd319e896e208",
   "metadata": {},
   "source": [
    "#### Identify and show variables with missing data"
   ]
  },
  {
   "cell_type": "markdown",
   "id": "5114b6bf6160809b",
   "metadata": {},
   "source": [
    "Missing data are represented by '?' in the dataset. For integer values that have already been replaced with 'NaN'.  This code allows us to detect them using the isna() method for NaNs, and the isin() method to search for '?' characters in qualitative variables."
   ]
  },
  {
   "cell_type": "markdown",
   "id": "f6c0880583e4ad64",
   "metadata": {},
   "source": [
    "\n",
    "The data in the admission_type_id, discharge_disposition_id, and admission_source_id columns are coded using reference codes. The missing values are represented by codes that are not in the reference list. These codes need to be identified and mapped to the correct missing value code."
   ]
  },
  {
   "cell_type": "code",
   "id": "8bf492428f074f55",
   "metadata": {
    "ExecuteTime": {
     "end_time": "2024-08-27T03:38:52.325461Z",
     "start_time": "2024-08-27T03:38:52.245426Z"
    }
   },
   "source": [
    "# Count the number of NA in each column\n",
    "na_counts = d1.isna().sum()\n",
    "# Count the number of '?' in each column\n",
    "q_mark_counts = d1.isin(['?']).sum()"
   ],
   "outputs": [],
   "execution_count": 924
  },
  {
   "cell_type": "code",
   "id": "fabd21ea90c3b746",
   "metadata": {
    "ExecuteTime": {
     "end_time": "2024-08-27T03:38:52.602008Z",
     "start_time": "2024-08-27T03:38:52.595793Z"
    }
   },
   "source": [
    "# Map the missing codes for the admission_type_id, discharge_disposition_id, and admission_source_id columns\n",
    "\n",
    "# Admission_type_id missing reference codes are 'Not Available', 'NULL', 'Not Mapped', represented by 5, 6, 8\n",
    "# Discharge_disposition_id missing reference codes are 'NULL', 'Not Mapped', and 'Unknown/Invalid' represented by 18, 25, 26\n",
    "# Admission_source_id missing reference codes are 'Not Available', 'NULL', 'Not Mapped', represented by 9, 15, 17, 20, and 21\n",
    "\n",
    "# counts the missing values in the columns\n",
    "missing_admission_type_id = d1['admission_type_id'].isin([5, 6, 8]).sum()\n",
    "missing_discharge_disposition_id = d1['discharge_disposition_id'].isin([7, 18, 25, 26]).sum()\n",
    "missing_admission_source_id = d1['admission_source_id'].isin([9, 15, 17, 20, 21]).sum()\n",
    "\n",
    "# Create a DataFrame with the results\n",
    "missing_references = pd.DataFrame({\n",
    "    'Missing admission_type_id': [missing_admission_type_id],\n",
    "    'Missing discharge_disposition_id': [missing_discharge_disposition_id],\n",
    "    'Missing admission_source_id': [missing_admission_source_id]\n",
    "}).T\n",
    "\n",
    "# Note - transposed data frame to make it the same shape as the other missing data frames"
   ],
   "outputs": [],
   "execution_count": 925
  },
  {
   "cell_type": "markdown",
   "id": "802f9e60f0f728b5",
   "metadata": {},
   "source": [
    "Combine into a single DataFrame and present as a nice table"
   ]
  },
  {
   "cell_type": "code",
   "id": "9065206fb51c45ee",
   "metadata": {
    "ExecuteTime": {
     "end_time": "2024-08-27T03:38:52.842276Z",
     "start_time": "2024-08-27T03:38:52.831261Z"
    }
   },
   "source": [
    "# Combine into a single DataFrame\n",
    "missing_data = pd.DataFrame({\n",
    "    'NaN Count': na_counts,\n",
    "    '? Count': q_mark_counts,\n",
    "    'Missing references': missing_references[0]\n",
    "})\n",
    "\n",
    "# Convert all the NaNs to 0 and change the data type to integer\n",
    "missing_data = missing_data.fillna(0).astype('int64')\n",
    "\n",
    "# Calculate the total number of missing values and the percentage of missing values\n",
    "missing_data['Total Missing'] = missing_data['NaN Count'] + missing_data['? Count'] + missing_data['Missing references']\n",
    "missing_data['Percentage Missing'] = (missing_data['Total Missing'] / len(d1)) * 100\n",
    "missing_data = missing_data[missing_data['Total Missing'] > 0]\n",
    "# \n",
    "missing_data"
   ],
   "outputs": [
    {
     "data": {
      "text/plain": [
       "                                  NaN Count  ? Count  Missing references  \\\n",
       "A1Cresult                             42418        0                   0   \n",
       "Missing admission_source_id               0        0                6354   \n",
       "Missing admission_type_id                 0        0                7646   \n",
       "Missing discharge_disposition_id          0        0                4911   \n",
       "chlorpropamide                            0        1                   0   \n",
       "diag_1                                    0       11                   0   \n",
       "diag_2                                    0      266                   0   \n",
       "diag_3                                    0     1083                   0   \n",
       "max_glu_serum                         45392        0                   0   \n",
       "medical_specialty                         0    17755                   0   \n",
       "number_emergency                         69        0                   0   \n",
       "number_inpatient                         15        0                   0   \n",
       "number_outpatient                        20        0                   0   \n",
       "payer_code                                0    32665                   0   \n",
       "race                                      0     1257                   0   \n",
       "weight                                    0    48169                   0   \n",
       "\n",
       "                                  Total Missing  Percentage Missing  \n",
       "A1Cresult                                 42418               84.78  \n",
       "Missing admission_source_id                6354               12.70  \n",
       "Missing admission_type_id                  7646               15.28  \n",
       "Missing discharge_disposition_id           4911                9.82  \n",
       "chlorpropamide                                1                0.00  \n",
       "diag_1                                       11                0.02  \n",
       "diag_2                                      266                0.53  \n",
       "diag_3                                     1083                2.16  \n",
       "max_glu_serum                             45392               90.73  \n",
       "medical_specialty                         17755               35.49  \n",
       "number_emergency                             69                0.14  \n",
       "number_inpatient                             15                0.03  \n",
       "number_outpatient                            20                0.04  \n",
       "payer_code                                32665               65.29  \n",
       "race                                       1257                2.51  \n",
       "weight                                    48169               96.28  "
      ],
      "text/html": [
       "<div>\n",
       "<style scoped>\n",
       "    .dataframe tbody tr th:only-of-type {\n",
       "        vertical-align: middle;\n",
       "    }\n",
       "\n",
       "    .dataframe tbody tr th {\n",
       "        vertical-align: top;\n",
       "    }\n",
       "\n",
       "    .dataframe thead th {\n",
       "        text-align: right;\n",
       "    }\n",
       "</style>\n",
       "<table border=\"1\" class=\"dataframe\">\n",
       "  <thead>\n",
       "    <tr style=\"text-align: right;\">\n",
       "      <th></th>\n",
       "      <th>NaN Count</th>\n",
       "      <th>? Count</th>\n",
       "      <th>Missing references</th>\n",
       "      <th>Total Missing</th>\n",
       "      <th>Percentage Missing</th>\n",
       "    </tr>\n",
       "  </thead>\n",
       "  <tbody>\n",
       "    <tr>\n",
       "      <th>A1Cresult</th>\n",
       "      <td>42418</td>\n",
       "      <td>0</td>\n",
       "      <td>0</td>\n",
       "      <td>42418</td>\n",
       "      <td>84.78</td>\n",
       "    </tr>\n",
       "    <tr>\n",
       "      <th>Missing admission_source_id</th>\n",
       "      <td>0</td>\n",
       "      <td>0</td>\n",
       "      <td>6354</td>\n",
       "      <td>6354</td>\n",
       "      <td>12.70</td>\n",
       "    </tr>\n",
       "    <tr>\n",
       "      <th>Missing admission_type_id</th>\n",
       "      <td>0</td>\n",
       "      <td>0</td>\n",
       "      <td>7646</td>\n",
       "      <td>7646</td>\n",
       "      <td>15.28</td>\n",
       "    </tr>\n",
       "    <tr>\n",
       "      <th>Missing discharge_disposition_id</th>\n",
       "      <td>0</td>\n",
       "      <td>0</td>\n",
       "      <td>4911</td>\n",
       "      <td>4911</td>\n",
       "      <td>9.82</td>\n",
       "    </tr>\n",
       "    <tr>\n",
       "      <th>chlorpropamide</th>\n",
       "      <td>0</td>\n",
       "      <td>1</td>\n",
       "      <td>0</td>\n",
       "      <td>1</td>\n",
       "      <td>0.00</td>\n",
       "    </tr>\n",
       "    <tr>\n",
       "      <th>diag_1</th>\n",
       "      <td>0</td>\n",
       "      <td>11</td>\n",
       "      <td>0</td>\n",
       "      <td>11</td>\n",
       "      <td>0.02</td>\n",
       "    </tr>\n",
       "    <tr>\n",
       "      <th>diag_2</th>\n",
       "      <td>0</td>\n",
       "      <td>266</td>\n",
       "      <td>0</td>\n",
       "      <td>266</td>\n",
       "      <td>0.53</td>\n",
       "    </tr>\n",
       "    <tr>\n",
       "      <th>diag_3</th>\n",
       "      <td>0</td>\n",
       "      <td>1083</td>\n",
       "      <td>0</td>\n",
       "      <td>1083</td>\n",
       "      <td>2.16</td>\n",
       "    </tr>\n",
       "    <tr>\n",
       "      <th>max_glu_serum</th>\n",
       "      <td>45392</td>\n",
       "      <td>0</td>\n",
       "      <td>0</td>\n",
       "      <td>45392</td>\n",
       "      <td>90.73</td>\n",
       "    </tr>\n",
       "    <tr>\n",
       "      <th>medical_specialty</th>\n",
       "      <td>0</td>\n",
       "      <td>17755</td>\n",
       "      <td>0</td>\n",
       "      <td>17755</td>\n",
       "      <td>35.49</td>\n",
       "    </tr>\n",
       "    <tr>\n",
       "      <th>number_emergency</th>\n",
       "      <td>69</td>\n",
       "      <td>0</td>\n",
       "      <td>0</td>\n",
       "      <td>69</td>\n",
       "      <td>0.14</td>\n",
       "    </tr>\n",
       "    <tr>\n",
       "      <th>number_inpatient</th>\n",
       "      <td>15</td>\n",
       "      <td>0</td>\n",
       "      <td>0</td>\n",
       "      <td>15</td>\n",
       "      <td>0.03</td>\n",
       "    </tr>\n",
       "    <tr>\n",
       "      <th>number_outpatient</th>\n",
       "      <td>20</td>\n",
       "      <td>0</td>\n",
       "      <td>0</td>\n",
       "      <td>20</td>\n",
       "      <td>0.04</td>\n",
       "    </tr>\n",
       "    <tr>\n",
       "      <th>payer_code</th>\n",
       "      <td>0</td>\n",
       "      <td>32665</td>\n",
       "      <td>0</td>\n",
       "      <td>32665</td>\n",
       "      <td>65.29</td>\n",
       "    </tr>\n",
       "    <tr>\n",
       "      <th>race</th>\n",
       "      <td>0</td>\n",
       "      <td>1257</td>\n",
       "      <td>0</td>\n",
       "      <td>1257</td>\n",
       "      <td>2.51</td>\n",
       "    </tr>\n",
       "    <tr>\n",
       "      <th>weight</th>\n",
       "      <td>0</td>\n",
       "      <td>48169</td>\n",
       "      <td>0</td>\n",
       "      <td>48169</td>\n",
       "      <td>96.28</td>\n",
       "    </tr>\n",
       "  </tbody>\n",
       "</table>\n",
       "</div>"
      ]
     },
     "execution_count": 926,
     "metadata": {},
     "output_type": "execute_result"
    }
   ],
   "execution_count": 926
  },
  {
   "cell_type": "markdown",
   "id": "5c3537614a4b1188",
   "metadata": {},
   "source": [
    "#### Convert the age variable to an ordered category\n",
    "\n",
    "Age loaded as strings with no ordering. This can be converted to ordered categories in case the ordering needs to be preserved for the modelling stage. \n",
    "\n",
    "Weight is also a string but there is no point ordering it as most of the data are missing and this variable will be dropped."
   ]
  },
  {
   "cell_type": "code",
   "id": "795a19a316ae89b2",
   "metadata": {
    "ExecuteTime": {
     "end_time": "2024-08-27T03:38:53.139132Z",
     "start_time": "2024-08-27T03:38:53.135103Z"
    }
   },
   "source": [
    "age_categories = ['[0-10)', '[10-20)', '[20-30)', '[30-40)', '[40-50)', '[50-60)', '[60-70)', '[70-80)', '[80-90)',\n",
    "                  '[90-100)']"
   ],
   "outputs": [],
   "execution_count": 927
  },
  {
   "cell_type": "code",
   "id": "f8fcc580f059fd29",
   "metadata": {
    "ExecuteTime": {
     "end_time": "2024-08-27T03:38:53.301264Z",
     "start_time": "2024-08-27T03:38:53.295247Z"
    }
   },
   "source": [
    "d1['age'] = pd.Categorical(d1['age'], categories=age_categories, ordered=True)"
   ],
   "outputs": [],
   "execution_count": 928
  },
  {
   "cell_type": "code",
   "id": "3c26fe81ea780232",
   "metadata": {
    "ExecuteTime": {
     "end_time": "2024-08-27T03:38:53.506069Z",
     "start_time": "2024-08-27T03:38:53.500108Z"
    }
   },
   "source": [
    "d1['age'].value_counts(dropna=False).sort_index()"
   ],
   "outputs": [
    {
     "data": {
      "text/plain": [
       "age\n",
       "[0-10)        138\n",
       "[10-20)       468\n",
       "[20-30)       842\n",
       "[30-40)      2053\n",
       "[40-50)      5064\n",
       "[50-60)      8775\n",
       "[60-70)     10874\n",
       "[70-80)     13109\n",
       "[80-90)      7530\n",
       "[90-100)     1178\n",
       "Name: count, dtype: int64"
      ]
     },
     "execution_count": 929,
     "metadata": {},
     "output_type": "execute_result"
    }
   ],
   "execution_count": 929
  },
  {
   "cell_type": "markdown",
   "id": "f862060a7cb2405d",
   "metadata": {},
   "source": [
    "### Fixing the missing values"
   ]
  },
  {
   "cell_type": "markdown",
   "id": "b3ec2acc3a9d42e6",
   "metadata": {},
   "source": [
    "The missing values will need to be corrected as follows\n",
    "- The race will need to be imputed it has 2.5% missing values. This can be done by replacing the missing values with the mode of the variable\n",
    "- The weight variable will be dropped as it has a large number of missing values\n",
    "- The payer_code variable will be dropped as it has a large number of missing values and is unlikley to be useful in the analysis\n"
   ]
  },
  {
   "cell_type": "markdown",
   "id": "4c3dd0a47782c0f7",
   "metadata": {},
   "source": [
    "There are a couple of options for this. Either impute based on the mode of the variable, or use a random sampling approach. All methods have their pros and cons. \n",
    " \n",
    " Given that the missing values represent 2.5% of the data, and that the variable has an 'other' category, it is not safe to assume that the missing data are due to the absence of a category that people belong to. Therefore, reduce the chance of introducing bias by recoding based on mode imputation, the imputation will use random sampling reflecting the underlying distribution.\n",
    " \n",
    " The steps are:\n",
    " - Replace the '?' with None\n",
    " - Calculate the proportions of each value category\n",
    " - Replace the missing values with a random sample from the value categories based on the proportions by applying the lambda function to the column\n",
    " \n"
   ]
  },
  {
   "cell_type": "code",
   "id": "a36bea5995418498",
   "metadata": {
    "ExecuteTime": {
     "end_time": "2024-08-27T03:38:53.688866Z",
     "start_time": "2024-08-27T03:38:53.682357Z"
    }
   },
   "source": [
    "# Convert the ? to None so it can be treated as a missing value\n",
    "d1['race'] = d1['race'].replace('?', None)"
   ],
   "outputs": [],
   "execution_count": 930
  },
  {
   "cell_type": "code",
   "id": "f3c89b4e49613e69",
   "metadata": {
    "ExecuteTime": {
     "end_time": "2024-08-27T03:38:53.958216Z",
     "start_time": "2024-08-27T03:38:53.952716Z"
    }
   },
   "source": [
    "race_proportions = d1.race.value_counts(normalize=True)"
   ],
   "outputs": [],
   "execution_count": 931
  },
  {
   "cell_type": "code",
   "id": "da8533b5dd261c01",
   "metadata": {
    "ExecuteTime": {
     "end_time": "2024-08-27T03:38:54.097807Z",
     "start_time": "2024-08-27T03:38:54.091305Z"
    }
   },
   "source": [
    "race_proportions.to_frame()"
   ],
   "outputs": [
    {
     "data": {
      "text/plain": [
       "                 proportion\n",
       "race                       \n",
       "Caucasian              0.73\n",
       "AfricanAmerican        0.23\n",
       "Hispanic               0.02\n",
       "Other                  0.01\n",
       "Asian                  0.01"
      ],
      "text/html": [
       "<div>\n",
       "<style scoped>\n",
       "    .dataframe tbody tr th:only-of-type {\n",
       "        vertical-align: middle;\n",
       "    }\n",
       "\n",
       "    .dataframe tbody tr th {\n",
       "        vertical-align: top;\n",
       "    }\n",
       "\n",
       "    .dataframe thead th {\n",
       "        text-align: right;\n",
       "    }\n",
       "</style>\n",
       "<table border=\"1\" class=\"dataframe\">\n",
       "  <thead>\n",
       "    <tr style=\"text-align: right;\">\n",
       "      <th></th>\n",
       "      <th>proportion</th>\n",
       "    </tr>\n",
       "    <tr>\n",
       "      <th>race</th>\n",
       "      <th></th>\n",
       "    </tr>\n",
       "  </thead>\n",
       "  <tbody>\n",
       "    <tr>\n",
       "      <th>Caucasian</th>\n",
       "      <td>0.73</td>\n",
       "    </tr>\n",
       "    <tr>\n",
       "      <th>AfricanAmerican</th>\n",
       "      <td>0.23</td>\n",
       "    </tr>\n",
       "    <tr>\n",
       "      <th>Hispanic</th>\n",
       "      <td>0.02</td>\n",
       "    </tr>\n",
       "    <tr>\n",
       "      <th>Other</th>\n",
       "      <td>0.01</td>\n",
       "    </tr>\n",
       "    <tr>\n",
       "      <th>Asian</th>\n",
       "      <td>0.01</td>\n",
       "    </tr>\n",
       "  </tbody>\n",
       "</table>\n",
       "</div>"
      ]
     },
     "execution_count": 932,
     "metadata": {},
     "output_type": "execute_result"
    }
   ],
   "execution_count": 932
  },
  {
   "cell_type": "code",
   "id": "4d9337fe831fc570",
   "metadata": {
    "ExecuteTime": {
     "end_time": "2024-08-27T03:38:54.313213Z",
     "start_time": "2024-08-27T03:38:54.247150Z"
    }
   },
   "source": [
    "d1['race'] = d1['race'].apply(lambda x: np.random.choice(race_proportions.index, p=race_proportions.values) if pd.isnull(x) else x)"
   ],
   "outputs": [],
   "execution_count": 933
  },
  {
   "cell_type": "code",
   "id": "7f317d6b3cff7d75",
   "metadata": {
    "ExecuteTime": {
     "end_time": "2024-08-27T03:38:54.361438Z",
     "start_time": "2024-08-27T03:38:54.354334Z"
    }
   },
   "source": [
    "d1['race'].value_counts(dropna=False).to_frame()"
   ],
   "outputs": [
    {
     "data": {
      "text/plain": [
       "                 count\n",
       "race                  \n",
       "Caucasian        36606\n",
       "AfricanAmerican  11474\n",
       "Hispanic          1046\n",
       "Other              631\n",
       "Asian              274"
      ],
      "text/html": [
       "<div>\n",
       "<style scoped>\n",
       "    .dataframe tbody tr th:only-of-type {\n",
       "        vertical-align: middle;\n",
       "    }\n",
       "\n",
       "    .dataframe tbody tr th {\n",
       "        vertical-align: top;\n",
       "    }\n",
       "\n",
       "    .dataframe thead th {\n",
       "        text-align: right;\n",
       "    }\n",
       "</style>\n",
       "<table border=\"1\" class=\"dataframe\">\n",
       "  <thead>\n",
       "    <tr style=\"text-align: right;\">\n",
       "      <th></th>\n",
       "      <th>count</th>\n",
       "    </tr>\n",
       "    <tr>\n",
       "      <th>race</th>\n",
       "      <th></th>\n",
       "    </tr>\n",
       "  </thead>\n",
       "  <tbody>\n",
       "    <tr>\n",
       "      <th>Caucasian</th>\n",
       "      <td>36606</td>\n",
       "    </tr>\n",
       "    <tr>\n",
       "      <th>AfricanAmerican</th>\n",
       "      <td>11474</td>\n",
       "    </tr>\n",
       "    <tr>\n",
       "      <th>Hispanic</th>\n",
       "      <td>1046</td>\n",
       "    </tr>\n",
       "    <tr>\n",
       "      <th>Other</th>\n",
       "      <td>631</td>\n",
       "    </tr>\n",
       "    <tr>\n",
       "      <th>Asian</th>\n",
       "      <td>274</td>\n",
       "    </tr>\n",
       "  </tbody>\n",
       "</table>\n",
       "</div>"
      ]
     },
     "execution_count": 934,
     "metadata": {},
     "output_type": "execute_result"
    }
   ],
   "execution_count": 934
  },
  {
   "cell_type": "markdown",
   "id": "44882d6c051e8f56",
   "metadata": {},
   "source": []
  },
  {
   "cell_type": "markdown",
   "id": "721cbe4daebbd39",
   "metadata": {},
   "source": [
    "#### Fixing missing values in the numeric columns (number_inpatient, number_outpatient, number_emergency)\n",
    "\n",
    "The missing values in the number_inpatient, number_outpatient, and number_emergency columns were replaced with the median of the respective columns. This was done to preserve the distribution of the data and avoid introducing bias. \n",
    "\n"
   ]
  },
  {
   "cell_type": "code",
   "id": "6fdb053f06cdb8dd",
   "metadata": {
    "ExecuteTime": {
     "end_time": "2024-08-27T03:38:54.541291Z",
     "start_time": "2024-08-27T03:38:54.535915Z"
    }
   },
   "source": [
    "# Replace the missing values in the numeric columns with the median\n",
    "d1['number_inpatient'] = d1['number_inpatient'].fillna(d1['number_inpatient'].median())\n",
    "d1['number_outpatient'] = d1['number_outpatient'].fillna(d1['number_outpatient'].median())\n",
    "d1['number_emergency'] = d1['number_emergency'].fillna(d1['number_emergency'].median())\n"
   ],
   "outputs": [],
   "execution_count": 935
  },
  {
   "cell_type": "code",
   "id": "25db6557d33b6b1f",
   "metadata": {
    "ExecuteTime": {
     "end_time": "2024-08-27T03:38:54.788482Z",
     "start_time": "2024-08-27T03:38:54.780981Z"
    }
   },
   "source": [
    "d1['number_outpatient'].value_counts(dropna=False).to_frame()"
   ],
   "outputs": [
    {
     "data": {
      "text/plain": [
       "                   count\n",
       "number_outpatient       \n",
       "0                  44477\n",
       "1                   3127\n",
       "2                   1091\n",
       "3                    637\n",
       "4                    335\n",
       "5                    177\n",
       "6                     67\n",
       "7                     31\n",
       "8                     28\n",
       "9                     16\n",
       "10                    12\n",
       "11                     9\n",
       "12                     5\n",
       "13                     4\n",
       "14                     4\n",
       "16                     3\n",
       "15                     2\n",
       "20                     1\n",
       "21                     1\n",
       "35                     1\n",
       "17                     1\n",
       "29                     1\n",
       "36                     1"
      ],
      "text/html": [
       "<div>\n",
       "<style scoped>\n",
       "    .dataframe tbody tr th:only-of-type {\n",
       "        vertical-align: middle;\n",
       "    }\n",
       "\n",
       "    .dataframe tbody tr th {\n",
       "        vertical-align: top;\n",
       "    }\n",
       "\n",
       "    .dataframe thead th {\n",
       "        text-align: right;\n",
       "    }\n",
       "</style>\n",
       "<table border=\"1\" class=\"dataframe\">\n",
       "  <thead>\n",
       "    <tr style=\"text-align: right;\">\n",
       "      <th></th>\n",
       "      <th>count</th>\n",
       "    </tr>\n",
       "    <tr>\n",
       "      <th>number_outpatient</th>\n",
       "      <th></th>\n",
       "    </tr>\n",
       "  </thead>\n",
       "  <tbody>\n",
       "    <tr>\n",
       "      <th>0</th>\n",
       "      <td>44477</td>\n",
       "    </tr>\n",
       "    <tr>\n",
       "      <th>1</th>\n",
       "      <td>3127</td>\n",
       "    </tr>\n",
       "    <tr>\n",
       "      <th>2</th>\n",
       "      <td>1091</td>\n",
       "    </tr>\n",
       "    <tr>\n",
       "      <th>3</th>\n",
       "      <td>637</td>\n",
       "    </tr>\n",
       "    <tr>\n",
       "      <th>4</th>\n",
       "      <td>335</td>\n",
       "    </tr>\n",
       "    <tr>\n",
       "      <th>5</th>\n",
       "      <td>177</td>\n",
       "    </tr>\n",
       "    <tr>\n",
       "      <th>6</th>\n",
       "      <td>67</td>\n",
       "    </tr>\n",
       "    <tr>\n",
       "      <th>7</th>\n",
       "      <td>31</td>\n",
       "    </tr>\n",
       "    <tr>\n",
       "      <th>8</th>\n",
       "      <td>28</td>\n",
       "    </tr>\n",
       "    <tr>\n",
       "      <th>9</th>\n",
       "      <td>16</td>\n",
       "    </tr>\n",
       "    <tr>\n",
       "      <th>10</th>\n",
       "      <td>12</td>\n",
       "    </tr>\n",
       "    <tr>\n",
       "      <th>11</th>\n",
       "      <td>9</td>\n",
       "    </tr>\n",
       "    <tr>\n",
       "      <th>12</th>\n",
       "      <td>5</td>\n",
       "    </tr>\n",
       "    <tr>\n",
       "      <th>13</th>\n",
       "      <td>4</td>\n",
       "    </tr>\n",
       "    <tr>\n",
       "      <th>14</th>\n",
       "      <td>4</td>\n",
       "    </tr>\n",
       "    <tr>\n",
       "      <th>16</th>\n",
       "      <td>3</td>\n",
       "    </tr>\n",
       "    <tr>\n",
       "      <th>15</th>\n",
       "      <td>2</td>\n",
       "    </tr>\n",
       "    <tr>\n",
       "      <th>20</th>\n",
       "      <td>1</td>\n",
       "    </tr>\n",
       "    <tr>\n",
       "      <th>21</th>\n",
       "      <td>1</td>\n",
       "    </tr>\n",
       "    <tr>\n",
       "      <th>35</th>\n",
       "      <td>1</td>\n",
       "    </tr>\n",
       "    <tr>\n",
       "      <th>17</th>\n",
       "      <td>1</td>\n",
       "    </tr>\n",
       "    <tr>\n",
       "      <th>29</th>\n",
       "      <td>1</td>\n",
       "    </tr>\n",
       "    <tr>\n",
       "      <th>36</th>\n",
       "      <td>1</td>\n",
       "    </tr>\n",
       "  </tbody>\n",
       "</table>\n",
       "</div>"
      ]
     },
     "execution_count": 936,
     "metadata": {},
     "output_type": "execute_result"
    }
   ],
   "execution_count": 936
  },
  {
   "cell_type": "markdown",
   "id": "3aa656d6101dd49d",
   "metadata": {},
   "source": [
    "#### Fixing missing values in the medical_specialty column\n",
    "\n",
    "The medical_specialty column has a large number of missing values and a large number of distinct value categories. Therefore a different approach was taken, instead of imputation. The values were recoded into broader categories based on the text in the column to limit the amount of features created furing one-hot encoding. The categories were based on the following:\n",
    "- Surgical - based on the presence of 'Surg' or 'Anesth' in the text\n",
    "- Paediatric - based on the presence of 'Pedia' in the text\n",
    "- General Practice - based on the presence of 'Family' in the text\n",
    "- Mental Health - based on the presence of 'Psyc', 'Neur' in the text\n",
    "- Orthopedic - based on the presence of 'Ortho' in the text\n",
    "- OBGYN - based on the presence of 'Obs' or 'Gyn' in the text\n",
    "- Internal Medicine - based on the presence of 'Internal', 'Neph', 'Urol', 'Cardi', 'nfect', 'Pulmo', 'Endoc', 'Gastro' in the text. These are related to internal medicine diciplines as they are all related to internal organ systems.\n",
    "- Oncology - based on the presence of 'Hem' or 'Onc' in the text\n",
    "- Emergency - based on the presence of 'Emerg' or 'Trauma' in the text\n",
    "- Diagnostic - based on the presence of 'Pathol' or 'Radio' in the text\n",
    "- Other - for all other values\n",
    "\n",
    "The missing identifer '?' was replaced with 'Unknown' as it was not possible to determine the category based on the text.\n",
    "\n",
    "The remaining values were replaced with 'Other' as they did not fit into any of the categories above.\n"
   ]
  },
  {
   "cell_type": "markdown",
   "id": "2c0c4c18c3abc962",
   "metadata": {},
   "source": [
    "Use `numpy.select()` to assign values to ids using conditions and choices. The conditions are defined by `str.contains()` lookups. This is a vectorized approach that is more efficient than using loops or `apply()`. "
   ]
  },
  {
   "cell_type": "code",
   "id": "6254645fb9deb0ad",
   "metadata": {
    "ExecuteTime": {
     "end_time": "2024-08-27T03:38:55.032815Z",
     "start_time": "2024-08-27T03:38:55.028848Z"
    }
   },
   "source": [
    "# Make a copy of the medical_specialty column\n",
    "specialty = d1['medical_specialty'].copy()"
   ],
   "outputs": [],
   "execution_count": 937
  },
  {
   "cell_type": "code",
   "id": "7e44ba21ac998021",
   "metadata": {
    "ExecuteTime": {
     "end_time": "2024-08-27T03:38:55.536953Z",
     "start_time": "2024-08-27T03:38:55.323618Z"
    }
   },
   "source": [
    "# Set the condtions\n",
    "conditions = [\n",
    "    specialty.str.contains('Surg|Anesth', case=False, regex=True),\n",
    "    specialty.str.contains('Pedia', case=False, regex=True),\n",
    "    specialty.str.contains('Family', case=False, regex=True),\n",
    "    specialty.str.contains('Psyc|Neur', case=False, regex=True),\n",
    "    specialty.str.contains('Ortho', case=False, regex=True),\n",
    "    specialty.str.contains('Obs|Gyn', case=False, regex=True),\n",
    "    specialty.str.contains('Internal|Neph|Urol|Cardi|nfect|Pulmo|Endoc|Gastro', case=False, regex=True),\n",
    "    specialty.str.contains('Hem|Onc', case=False, regex=True),\n",
    "    specialty.str.contains('Emerg|Trauma', case=False, regex=True),\n",
    "    specialty.str.contains('Pathol|Radio', case=False, regex=True),\n",
    "    specialty == '?'\n",
    "]\n",
    "\n",
    "# Set the choices\n",
    "choices = ['Surgical', 'Paediatric', 'General Practice', 'Mental Health', 'Orthopedic', 'OBGYN', 'Internal Medicine',\n",
    "           'Oncology', 'Emergency', 'Diagnostic', 'Unknown']\n",
    "\n",
    "    "
   ],
   "outputs": [],
   "execution_count": 938
  },
  {
   "cell_type": "code",
   "id": "71cfe83222c28b68",
   "metadata": {
    "ExecuteTime": {
     "end_time": "2024-08-27T03:38:55.549641Z",
     "start_time": "2024-08-27T03:38:55.538462Z"
    }
   },
   "source": [
    "d1['medical_specialty'] = np.select(conditions, choices, default='Other')"
   ],
   "outputs": [],
   "execution_count": 939
  },
  {
   "cell_type": "code",
   "id": "287cf07c74a8fd34",
   "metadata": {
    "ExecuteTime": {
     "end_time": "2024-08-27T03:38:55.770932Z",
     "start_time": "2024-08-27T03:38:55.761953Z"
    }
   },
   "source": [
    "d1['medical_specialty'].value_counts(dropna=False).to_frame()"
   ],
   "outputs": [
    {
     "data": {
      "text/plain": [
       "                   count\n",
       "medical_specialty       \n",
       "Unknown            17755\n",
       "Internal Medicine  17164\n",
       "General Practice    5494\n",
       "Surgical            3117\n",
       "Emergency           1955\n",
       "Orthopedic          1666\n",
       "Mental Health        749\n",
       "Other                543\n",
       "OBGYN                539\n",
       "Paediatric           488\n",
       "Oncology             432\n",
       "Diagnostic           129"
      ],
      "text/html": [
       "<div>\n",
       "<style scoped>\n",
       "    .dataframe tbody tr th:only-of-type {\n",
       "        vertical-align: middle;\n",
       "    }\n",
       "\n",
       "    .dataframe tbody tr th {\n",
       "        vertical-align: top;\n",
       "    }\n",
       "\n",
       "    .dataframe thead th {\n",
       "        text-align: right;\n",
       "    }\n",
       "</style>\n",
       "<table border=\"1\" class=\"dataframe\">\n",
       "  <thead>\n",
       "    <tr style=\"text-align: right;\">\n",
       "      <th></th>\n",
       "      <th>count</th>\n",
       "    </tr>\n",
       "    <tr>\n",
       "      <th>medical_specialty</th>\n",
       "      <th></th>\n",
       "    </tr>\n",
       "  </thead>\n",
       "  <tbody>\n",
       "    <tr>\n",
       "      <th>Unknown</th>\n",
       "      <td>17755</td>\n",
       "    </tr>\n",
       "    <tr>\n",
       "      <th>Internal Medicine</th>\n",
       "      <td>17164</td>\n",
       "    </tr>\n",
       "    <tr>\n",
       "      <th>General Practice</th>\n",
       "      <td>5494</td>\n",
       "    </tr>\n",
       "    <tr>\n",
       "      <th>Surgical</th>\n",
       "      <td>3117</td>\n",
       "    </tr>\n",
       "    <tr>\n",
       "      <th>Emergency</th>\n",
       "      <td>1955</td>\n",
       "    </tr>\n",
       "    <tr>\n",
       "      <th>Orthopedic</th>\n",
       "      <td>1666</td>\n",
       "    </tr>\n",
       "    <tr>\n",
       "      <th>Mental Health</th>\n",
       "      <td>749</td>\n",
       "    </tr>\n",
       "    <tr>\n",
       "      <th>Other</th>\n",
       "      <td>543</td>\n",
       "    </tr>\n",
       "    <tr>\n",
       "      <th>OBGYN</th>\n",
       "      <td>539</td>\n",
       "    </tr>\n",
       "    <tr>\n",
       "      <th>Paediatric</th>\n",
       "      <td>488</td>\n",
       "    </tr>\n",
       "    <tr>\n",
       "      <th>Oncology</th>\n",
       "      <td>432</td>\n",
       "    </tr>\n",
       "    <tr>\n",
       "      <th>Diagnostic</th>\n",
       "      <td>129</td>\n",
       "    </tr>\n",
       "  </tbody>\n",
       "</table>\n",
       "</div>"
      ]
     },
     "execution_count": 940,
     "metadata": {},
     "output_type": "execute_result"
    }
   ],
   "execution_count": 940
  },
  {
   "cell_type": "markdown",
   "id": "beba3eaf81e2199a",
   "metadata": {},
   "source": [
    "#### Missing values in the diag_1, diag_2, and diag_3 columns\n",
    "\n",
    "Similar to the medical_specialty column, the diag_1, diag_2, and diag_3 columns have missing values represented by '?'. These will be replaced with 'Unknown' as it is not possible to determine the category based on the text.\n",
    "\n",
    "The remaining values were recoded into broader categories based on the ICD9 codes. The categories were sources from the following link: https://icd.codes/icd9cm\n",
    "\n",
    "A function was used to conditonally assign the categories based on the ICD9 codes. The function was then applied to the diag_1, diag_2, and diag_3 columns to create new columns with the categories."
   ]
  },
  {
   "cell_type": "code",
   "id": "4d2258e1be9d2007",
   "metadata": {
    "ExecuteTime": {
     "end_time": "2024-08-27T03:38:55.842739Z",
     "start_time": "2024-08-27T03:38:55.836403Z"
    }
   },
   "source": [
    "def categorize_diagnosis(code):\n",
    "    code_str = str(code)\n",
    "\n",
    "    # Check for specific prefixes 'V' and 'E'. These are supplementary factors\n",
    "    if 'V' in code_str or 'E' in code_str:\n",
    "        return 'Supplementary factors'\n",
    "\n",
    "    # Handle the missing values\n",
    "    if code_str == '?':\n",
    "        return 'Unknown'\n",
    "\n",
    "    # Convert the code to a numeric value for the lookup\n",
    "    try:\n",
    "        code_num = int(float(code_str))\n",
    "    except ValueError:\n",
    "        return 'Unknown'\n",
    "\n",
    "    # Categorize based on the numeric value\n",
    "    if 1 <= code_num <= 139:\n",
    "        return 'Infectious'\n",
    "    elif 140 <= code_num <= 239:\n",
    "        return 'Neoplasms'\n",
    "    elif 240 <= code_num <= 279:\n",
    "        return 'Endocrine'\n",
    "    elif 280 <= code_num <= 289:\n",
    "        return 'Blood disorders'\n",
    "    elif 290 <= code_num <= 319:\n",
    "        return 'mental health'\n",
    "    elif 320 <= code_num <= 389:\n",
    "        return 'Nervous system'\n",
    "    elif 390 <= code_num <= 459:\n",
    "        return 'Circulatory system'\n",
    "    elif 460 <= code_num <= 519:\n",
    "        return 'Respiratory system'\n",
    "    elif 520 <= code_num <= 579:\n",
    "        return 'Digestive system'\n",
    "    elif 580 <= code_num <= 629:\n",
    "        return 'Genitourinary system'\n",
    "    elif 630 <= code_num <= 679:\n",
    "        return 'Pregnancy/Childbirth'\n",
    "    elif 680 <= code_num <= 709:\n",
    "        return 'Skin conditions'\n",
    "    elif 710 <= code_num <= 739:\n",
    "        return 'Musculoskeletal system'\n",
    "    elif 740 <= code_num <= 759:\n",
    "        return 'Congenital anomalies'\n",
    "    elif 760 <= code_num <= 779:\n",
    "        return 'Perinatal conditions'\n",
    "    elif 780 <= code_num <= 799:\n",
    "        return 'Ill-defined conditions'\n",
    "    elif 800 <= code_num <= 999:\n",
    "        return 'Injury/Poisoning'\n",
    "    else:\n",
    "        return 'Other'\n"
   ],
   "outputs": [],
   "execution_count": 941
  },
  {
   "cell_type": "code",
   "id": "79603ff04c858e33",
   "metadata": {
    "ExecuteTime": {
     "end_time": "2024-08-27T03:38:56.148237Z",
     "start_time": "2024-08-27T03:38:56.054660Z"
    }
   },
   "source": [
    "# Apply the function to the 'diag_1' column in the DataFrame\n",
    "d1['diag_1_icd'] = d1['diag_1'].apply(categorize_diagnosis)\n",
    "d1['diag_2_icd'] = d1['diag_2'].apply(categorize_diagnosis)\n",
    "d1['diag_3_icd'] = d1['diag_3'].apply(categorize_diagnosis)"
   ],
   "outputs": [],
   "execution_count": 942
  },
  {
   "cell_type": "markdown",
   "id": "4ffed5404fb1cb68",
   "metadata": {},
   "source": [
    "### Rationale to drop diag_2 and diag_3 variables\n",
    "\n",
    "Closer inspection of the diag_1, diag_2, and diag_3 columns revealed that there are many values the same  in corresponding records. Given that each variable would produce 18 dummy variables each with one-hot encoding. This would result in 54 new features. This would be a large number of features to add to the dataset. That, taken intoo consideration with the duplicate values it seems sensible to focus on diag_1 only.\n",
    "\n",
    "\n",
    "The unknown values in diag_1_icd will be filled with their corresponding values from diag_2_icd "
   ]
  },
  {
   "cell_type": "code",
   "id": "2eba57506aa9ac94",
   "metadata": {
    "ExecuteTime": {
     "end_time": "2024-08-27T03:38:56.242386Z",
     "start_time": "2024-08-27T03:38:56.235703Z"
    }
   },
   "source": [
    "(d1['diag_1_icd'] == d1['diag_2_icd']).sum()"
   ],
   "outputs": [
    {
     "data": {
      "text/plain": [
       "14358"
      ]
     },
     "execution_count": 943,
     "metadata": {},
     "output_type": "execute_result"
    }
   ],
   "execution_count": 943
  },
  {
   "cell_type": "code",
   "id": "8d194bd860afab1f",
   "metadata": {
    "ExecuteTime": {
     "end_time": "2024-08-27T03:38:56.537151Z",
     "start_time": "2024-08-27T03:38:56.530689Z"
    }
   },
   "source": [
    "(d1['diag_1_icd'] == d1['diag_3_icd']).sum()"
   ],
   "outputs": [
    {
     "data": {
      "text/plain": [
       "10444"
      ]
     },
     "execution_count": 944,
     "metadata": {},
     "output_type": "execute_result"
    }
   ],
   "execution_count": 944
  },
  {
   "cell_type": "code",
   "id": "1e8e44675b838d14",
   "metadata": {
    "ExecuteTime": {
     "end_time": "2024-08-27T03:38:56.749116Z",
     "start_time": "2024-08-27T03:38:56.743609Z"
    }
   },
   "source": [
    "d1['diag_1_icd'] = d1['diag_1_icd'].fillna(d1['diag_2_icd'])"
   ],
   "outputs": [],
   "execution_count": 945
  },
  {
   "cell_type": "markdown",
   "id": "1fd9ee342a15a52f",
   "metadata": {},
   "source": [
    "#### Missing values in the admission_type_id, discharge_disposition_id, and admission_source_id columns\n",
    "\n",
    "The same process was applied to the admission_type_id, discharge_disposition_id, and admission_source_id columns. The variables were transformed to reduce the number of categories and therefore limit the number of features created during one-hot encoding. These variables had a broder range of missing or unknown values that need to be recoded.\n",
    "\n"
   ]
  },
  {
   "cell_type": "markdown",
   "id": "b0a988bc2f788d0b",
   "metadata": {},
   "source": [
    "The admission_type_id were condensed to fewer categories as follows:\n",
    "- Emergency, urgent, and trauma center can be combined into the Emergency category based on their acuity\n",
    "- Not Available, NULL, and Not Mapped can be combined into the Not available category based on the lack of mapping, or unavailability\n",
    "- Newborn can be left as a separate category\n",
    "\n",
    "The discharge_disposition_id can be condensed to four distinct categories as the cover discharged home, transferred for additional care, deceased, or unknown.\n",
    "- Discharged to home can be categorised as 'Discharged home'\n",
    "- Discharged/transferred to another short term hospital, SNF, ICF etc can be categorised as 'Ongong care'. This is because they are all forms of additional care in this or other facility.\n",
    "- Any variable with Expired will be recoded to 'Deceased'\n",
    "- All Not mapped, NULL, Unknown will be recoded to 'Unknown'\n",
    "\n",
    "The admission_source_id can be condensed to fewer categories as follows:\n",
    "- Referral\n",
    "- Transfer\n",
    "- Emergency\n",
    "- Not Available\n",
    "\n",
    "On inspection of the variables, there were a small number that were related to childbirth/newborns and some that were court order. Given the small number (less than 10) these were considered as a referral.\n",
    "\n"
   ]
  },
  {
   "cell_type": "markdown",
   "id": "1cc3d9e16a143ba2",
   "metadata": {},
   "source": [
    "Use `numpy.select()` again to assign values to ids using conditions and choices "
   ]
  },
  {
   "cell_type": "code",
   "id": "c3630b1821c2a9ea",
   "metadata": {
    "ExecuteTime": {
     "end_time": "2024-08-27T03:38:56.859741Z",
     "start_time": "2024-08-27T03:38:56.854080Z"
    }
   },
   "source": [
    "# Set conditions based on admission_type_id\n",
    "conditions = [\n",
    "    d1['admission_type_id'].isin([1, 2, 7]),\n",
    "    d1['admission_type_id'] == 3,\n",
    "    d1['admission_type_id'] == 4,\n",
    "    d1['admission_type_id'].isin([5, 6, 8])\n",
    "]\n",
    "\n",
    "# Set the choices\n",
    "choices = [\n",
    "    'Emergency',\n",
    "    'Elective',\n",
    "    'Newborn',\n",
    "    'Not Available'\n",
    "]\n"
   ],
   "outputs": [],
   "execution_count": 946
  },
  {
   "cell_type": "code",
   "id": "cb8f7ba5c9ea10f7",
   "metadata": {
    "ExecuteTime": {
     "end_time": "2024-08-27T03:38:57.111628Z",
     "start_time": "2024-08-27T03:38:57.100909Z"
    }
   },
   "source": [
    "d1['admission_type'] = np.select(conditions, choices, default='Not available')"
   ],
   "outputs": [],
   "execution_count": 947
  },
  {
   "cell_type": "code",
   "id": "d36fcaea20968e58",
   "metadata": {
    "ExecuteTime": {
     "end_time": "2024-08-27T03:38:57.186719Z",
     "start_time": "2024-08-27T03:38:57.180695Z"
    }
   },
   "source": [
    "# Define conditions and choices\n",
    "conditions = [\n",
    "    d1['discharge_disposition_id'].isin([2, 3, 4, 5, 6, 8, 9, 10, 12, 13, 14, 15, 16, 17, 22, 23, 24, 27, 28, 29, 30]),\n",
    "    d1['discharge_disposition_id'].isin([1]),\n",
    "    d1['discharge_disposition_id'].isin([7, 18, 25, 26]),\n",
    "    d1['discharge_disposition_id'].isin([11, 19, 20, 21])\n",
    "]\n",
    "\n",
    "choices = [\n",
    "    'Additional care',\n",
    "    'Discharged home',\n",
    "    'Unknown',\n",
    "    'Deceased'\n",
    "]\n",
    "\n"
   ],
   "outputs": [],
   "execution_count": 948
  },
  {
   "cell_type": "code",
   "id": "83e60dbb3a8755dc",
   "metadata": {
    "ExecuteTime": {
     "end_time": "2024-08-27T03:38:57.357887Z",
     "start_time": "2024-08-27T03:38:57.346222Z"
    }
   },
   "source": [
    "# Apply the conditions to create the new column\n",
    "d1['discharge_disposition'] = np.select(conditions, choices, default='Unknown')"
   ],
   "outputs": [],
   "execution_count": 949
  },
  {
   "cell_type": "code",
   "id": "2241db9befaf27af",
   "metadata": {
    "ExecuteTime": {
     "end_time": "2024-08-27T03:38:57.458585Z",
     "start_time": "2024-08-27T03:38:57.450567Z"
    }
   },
   "source": [
    "d1['discharge_disposition'].value_counts(dropna=False)"
   ],
   "outputs": [
    {
     "data": {
      "text/plain": [
       "discharge_disposition\n",
       "Discharged home    29385\n",
       "Additional care    14885\n",
       "Unknown             4911\n",
       "Deceased             850\n",
       "Name: count, dtype: int64"
      ]
     },
     "execution_count": 950,
     "metadata": {},
     "output_type": "execute_result"
    }
   ],
   "execution_count": 950
  },
  {
   "cell_type": "code",
   "id": "5c347a65157da27c",
   "metadata": {
    "ExecuteTime": {
     "end_time": "2024-08-27T03:38:57.624022Z",
     "start_time": "2024-08-27T03:38:57.621718Z"
    }
   },
   "source": [],
   "outputs": [],
   "execution_count": 950
  },
  {
   "cell_type": "code",
   "id": "b85001c47fc1d5da",
   "metadata": {
    "ExecuteTime": {
     "end_time": "2024-08-27T03:38:57.739501Z",
     "start_time": "2024-08-27T03:38:57.733702Z"
    }
   },
   "source": [
    "# Define conditions and choices\n",
    "conditions = [\n",
    "    d1['admission_source_id'].isin([1, 2, 3]),\n",
    "    d1['admission_source_id'].isin([4, 5, 6, 10, 22, 25]),\n",
    "    d1['admission_source_id'].isin([7, 8]),\n",
    "    d1['admission_source_id'].isin([9, 15, 17, 20, 21])\n",
    "]\n",
    "\n",
    "choices = [\n",
    "    'Referral',\n",
    "    'Transfer',\n",
    "    'Emergency',\n",
    "    'Not Available'\n",
    "]"
   ],
   "outputs": [],
   "execution_count": 951
  },
  {
   "cell_type": "code",
   "id": "255b9ff98f12a4ee",
   "metadata": {
    "ExecuteTime": {
     "end_time": "2024-08-27T03:38:57.948589Z",
     "start_time": "2024-08-27T03:38:57.937009Z"
    }
   },
   "source": [
    "# Apply the conditions to create the new column\n",
    "d1['admission_source'] = np.select(conditions, choices, default='Not Available')"
   ],
   "outputs": [],
   "execution_count": 952
  },
  {
   "cell_type": "code",
   "id": "2aa2be6187db3f9c",
   "metadata": {
    "ExecuteTime": {
     "end_time": "2024-08-27T03:38:58.049458Z",
     "start_time": "2024-08-27T03:38:58.040778Z"
    }
   },
   "source": [
    "d1['admission_source'].value_counts(dropna=False).to_frame()"
   ],
   "outputs": [
    {
     "data": {
      "text/plain": [
       "                  count\n",
       "admission_source       \n",
       "Emergency         24045\n",
       "Referral          14606\n",
       "Not Available      6355\n",
       "Transfer           5025"
      ],
      "text/html": [
       "<div>\n",
       "<style scoped>\n",
       "    .dataframe tbody tr th:only-of-type {\n",
       "        vertical-align: middle;\n",
       "    }\n",
       "\n",
       "    .dataframe tbody tr th {\n",
       "        vertical-align: top;\n",
       "    }\n",
       "\n",
       "    .dataframe thead th {\n",
       "        text-align: right;\n",
       "    }\n",
       "</style>\n",
       "<table border=\"1\" class=\"dataframe\">\n",
       "  <thead>\n",
       "    <tr style=\"text-align: right;\">\n",
       "      <th></th>\n",
       "      <th>count</th>\n",
       "    </tr>\n",
       "    <tr>\n",
       "      <th>admission_source</th>\n",
       "      <th></th>\n",
       "    </tr>\n",
       "  </thead>\n",
       "  <tbody>\n",
       "    <tr>\n",
       "      <th>Emergency</th>\n",
       "      <td>24045</td>\n",
       "    </tr>\n",
       "    <tr>\n",
       "      <th>Referral</th>\n",
       "      <td>14606</td>\n",
       "    </tr>\n",
       "    <tr>\n",
       "      <th>Not Available</th>\n",
       "      <td>6355</td>\n",
       "    </tr>\n",
       "    <tr>\n",
       "      <th>Transfer</th>\n",
       "      <td>5025</td>\n",
       "    </tr>\n",
       "  </tbody>\n",
       "</table>\n",
       "</div>"
      ]
     },
     "execution_count": 953,
     "metadata": {},
     "output_type": "execute_result"
    }
   ],
   "execution_count": 953
  },
  {
   "cell_type": "markdown",
   "id": "7c60a97f5fcd54a7",
   "metadata": {},
   "source": [
    "#### Other missing values\n",
    "\n",
    " - max_glu_serum and A1Cresult were 91% and 85% missing repsectively. These will be dropped as they are unlikely to be useful in the analysis.\n",
    " - The single missing chlorpropamide value will be replaced with 'No' as it is the most common value in the column.\n",
    " \n",
    " - The other anomaly in the data was in the gender variable. There was one value that was 'Unknown/Invalid'. This will be replaced with 'Male' as it the model value in the column.\n",
    "\n"
   ]
  },
  {
   "cell_type": "markdown",
   "id": "e486045d20fe4665",
   "metadata": {},
   "source": [
    "### Task 3 - data preparation"
   ]
  },
  {
   "cell_type": "markdown",
   "id": "229254cdd7823235",
   "metadata": {},
   "source": []
  },
  {
   "cell_type": "code",
   "id": "1adef5ca21064fb6",
   "metadata": {
    "ExecuteTime": {
     "end_time": "2024-08-27T03:38:58.223375Z",
     "start_time": "2024-08-27T03:38:58.220979Z"
    }
   },
   "source": [],
   "outputs": [],
   "execution_count": 953
  },
  {
   "cell_type": "code",
   "id": "a81613beb950040a",
   "metadata": {
    "ExecuteTime": {
     "end_time": "2024-08-27T03:38:58.336957Z",
     "start_time": "2024-08-27T03:38:58.334976Z"
    }
   },
   "source": [],
   "outputs": [],
   "execution_count": 953
  },
  {
   "cell_type": "code",
   "id": "3585ae89c8257c1e",
   "metadata": {
    "ExecuteTime": {
     "end_time": "2024-08-27T03:38:58.547428Z",
     "start_time": "2024-08-27T03:38:58.544922Z"
    }
   },
   "source": [],
   "outputs": [],
   "execution_count": 953
  },
  {
   "cell_type": "markdown",
   "id": "15a8db466e86f7cd",
   "metadata": {},
   "source": []
  },
  {
   "cell_type": "code",
   "id": "b8310635ebcc46e8",
   "metadata": {
    "ExecuteTime": {
     "end_time": "2024-08-27T03:38:58.698190Z",
     "start_time": "2024-08-27T03:38:58.695189Z"
    }
   },
   "source": [],
   "outputs": [],
   "execution_count": 953
  },
  {
   "cell_type": "code",
   "id": "b2e366f938dd12d3",
   "metadata": {
    "ExecuteTime": {
     "end_time": "2024-08-27T03:38:58.977160Z",
     "start_time": "2024-08-27T03:38:58.969880Z"
    }
   },
   "source": [
    "d1['chlorpropamide'] = d1['chlorpropamide'].replace('?', 'No')"
   ],
   "outputs": [],
   "execution_count": 954
  },
  {
   "cell_type": "code",
   "id": "a8758b3a5e61497b",
   "metadata": {
    "ExecuteTime": {
     "end_time": "2024-08-27T03:38:59.051958Z",
     "start_time": "2024-08-27T03:38:59.045175Z"
    }
   },
   "source": [
    "d1['gender'] = d1['gender'].replace('Unknown/Invalid', 'Female')"
   ],
   "outputs": [],
   "execution_count": 955
  },
  {
   "cell_type": "code",
   "id": "8ab48e7cbba4ec73",
   "metadata": {
    "ExecuteTime": {
     "end_time": "2024-08-27T03:38:59.204791Z",
     "start_time": "2024-08-27T03:38:59.198706Z"
    }
   },
   "source": [
    "d1.number_inpatient.value_counts(dropna=False)"
   ],
   "outputs": [
    {
     "data": {
      "text/plain": [
       "number_inpatient\n",
       "0     34285\n",
       "1      9225\n",
       "2      3428\n",
       "3      1508\n",
       "4       715\n",
       "5       357\n",
       "6       212\n",
       "7       121\n",
       "8        65\n",
       "9        43\n",
       "10       26\n",
       "11       15\n",
       "12       11\n",
       "13        5\n",
       "16        4\n",
       "15        4\n",
       "14        4\n",
       "17        1\n",
       "21        1\n",
       "18        1\n",
       "Name: count, dtype: Int64"
      ]
     },
     "execution_count": 956,
     "metadata": {},
     "output_type": "execute_result"
    }
   ],
   "execution_count": 956
  },
  {
   "cell_type": "code",
   "id": "10db850cee4d6163",
   "metadata": {
    "ExecuteTime": {
     "end_time": "2024-08-27T03:38:59.317842Z",
     "start_time": "2024-08-27T03:38:59.310844Z"
    }
   },
   "source": [
    "d1['metformin'].value_counts(dropna=False)"
   ],
   "outputs": [
    {
     "data": {
      "text/plain": [
       "metformin\n",
       "No        40951\n",
       "Steady     8224\n",
       "Up          572\n",
       "Down        284\n",
       "Name: count, dtype: Int64"
      ]
     },
     "execution_count": 957,
     "metadata": {},
     "output_type": "execute_result"
    }
   ],
   "execution_count": 957
  },
  {
   "cell_type": "markdown",
   "id": "b047521b8f199ec4",
   "metadata": {},
   "source": [
    "### Change binary categorical variables to numeric\n",
    "\n",
    "The binary categorical variables, 'change' and 'diabetesMed', 'gender', 'readmitted', 'diabetes', 'single_day_admission' were converted to numeric variables by mapping 'No' to 0 and 'Ch' to 1. This will allow the variables to be used in the analysis and modelling stages.\n",
    " "
   ]
  },
  {
   "cell_type": "code",
   "id": "c02891eef299686a",
   "metadata": {
    "ExecuteTime": {
     "end_time": "2024-08-27T03:38:59.491853Z",
     "start_time": "2024-08-27T03:38:59.486011Z"
    }
   },
   "source": [
    "# convert change to 1 and 0\n",
    "d1['change'] = d1['change'].map({'No': 0, 'Ch': 1})"
   ],
   "outputs": [],
   "execution_count": 958
  },
  {
   "cell_type": "code",
   "id": "59b78f1a6ad32b03",
   "metadata": {
    "ExecuteTime": {
     "end_time": "2024-08-27T03:38:59.605392Z",
     "start_time": "2024-08-27T03:38:59.600224Z"
    }
   },
   "source": [
    "# convert diabetesMed to 1 and 0\n",
    "d1['diabetesMed'] = d1['diabetesMed'].map({'No': 0, 'Yes': 1})"
   ],
   "outputs": [],
   "execution_count": 959
  },
  {
   "cell_type": "code",
   "id": "a0b3c8a51333205",
   "metadata": {
    "ExecuteTime": {
     "end_time": "2024-08-27T03:38:59.857089Z",
     "start_time": "2024-08-27T03:38:59.852047Z"
    }
   },
   "source": [
    "# convert gender to 1 for female and 0 for male\n",
    "d1['gender'] = d1['gender'].map({'Male': 0, 'Female': 1})"
   ],
   "outputs": [],
   "execution_count": 960
  },
  {
   "cell_type": "code",
   "id": "b30492b46d55a252",
   "metadata": {
    "ExecuteTime": {
     "end_time": "2024-08-27T03:38:59.936158Z",
     "start_time": "2024-08-27T03:38:59.931315Z"
    }
   },
   "source": [
    "# Convert readmitted to binary, 0 for NO else 1\n",
    "d1['readmitted'] = d1['readmitted'].map({'NO': 0, '>30': 1, '<30': 1})"
   ],
   "outputs": [],
   "execution_count": 961
  },
  {
   "cell_type": "code",
   "id": "ded8e0a5c43d1e46",
   "metadata": {
    "ExecuteTime": {
     "end_time": "2024-08-27T03:39:00.120748Z",
     "start_time": "2024-08-27T03:39:00.115154Z"
    }
   },
   "source": [
    "d1['diabetes'] = d1['diabetes'].map({'No': 0, 'Yes': 1})"
   ],
   "outputs": [],
   "execution_count": 962
  },
  {
   "cell_type": "code",
   "id": "451a4825bb9b4ef0",
   "metadata": {
    "ExecuteTime": {
     "end_time": "2024-08-27T03:39:00.216055Z",
     "start_time": "2024-08-27T03:39:00.210889Z"
    }
   },
   "source": [
    "d1['single_day_admission'] = d1['single_day_admission'].map({'No': 0, 'Yes': 1})"
   ],
   "outputs": [],
   "execution_count": 963
  },
  {
   "cell_type": "code",
   "id": "5e1360942451fe64",
   "metadata": {
    "ExecuteTime": {
     "end_time": "2024-08-27T03:39:00.476386Z",
     "start_time": "2024-08-27T03:39:00.424594Z"
    }
   },
   "source": [
    "d1"
   ],
   "outputs": [
    {
     "data": {
      "text/plain": [
       "       encounter_id  patient_nbr             race  gender       age weight  \\\n",
       "0             12522     48330783        Caucasian       1   [80-90)      ?   \n",
       "1             15738     63555939        Caucasian       1  [90-100)      ?   \n",
       "2             16680     42519267        Caucasian       0   [40-50)      ?   \n",
       "3             28236     89869032  AfricanAmerican       1   [40-50)      ?   \n",
       "4             35754     82637451        Caucasian       0   [50-60)      ?   \n",
       "...             ...          ...              ...     ...       ...    ...   \n",
       "50026     150712854     54487647  AfricanAmerican       0   [60-70)      ?   \n",
       "50027     150713208     99665856        Caucasian       0   [70-80)      ?   \n",
       "50028     150715134     46894068        Caucasian       0   [60-70)      ?   \n",
       "50029     150715788     86575536        Caucasian       0   [70-80)      ?   \n",
       "50030     150722166     83582352        Caucasian       0   [70-80)      ?   \n",
       "\n",
       "       admission_type_id  discharge_disposition_id  admission_source_id  \\\n",
       "0                      2                         1                    4   \n",
       "1                      3                         3                    4   \n",
       "2                      1                         1                    7   \n",
       "3                      1                         1                    7   \n",
       "4                      2                         1                    2   \n",
       "...                  ...                       ...                  ...   \n",
       "50026                  2                         1                    1   \n",
       "50027                  2                         1                    1   \n",
       "50028                  2                         1                    1   \n",
       "50029                  1                         3                    1   \n",
       "50030                  2                         1                    1   \n",
       "\n",
       "       length_of_stay  ... change diabetesMed  readmitted  \\\n",
       "0                  13  ...      1           1           0   \n",
       "1                  12  ...      1           1           0   \n",
       "2                   1  ...      1           1           0   \n",
       "3                   9  ...      0           1           1   \n",
       "4                   3  ...      0           1           1   \n",
       "...               ...  ...    ...         ...         ...   \n",
       "50026               8  ...      1           1           1   \n",
       "50027               1  ...      0           0           0   \n",
       "50028               5  ...      0           0           0   \n",
       "50029               5  ...      0           1           1   \n",
       "50030               2  ...      0           1           0   \n",
       "\n",
       "       single_day_admission          diag_1_icd              diag_2_icd  \\\n",
       "0                         0  Circulatory system      Circulatory system   \n",
       "1                         0  Circulatory system               Neoplasms   \n",
       "2                         1           Neoplasms               Neoplasms   \n",
       "3                         0           Endocrine      Circulatory system   \n",
       "4                         0  Circulatory system      Circulatory system   \n",
       "...                     ...                 ...                     ...   \n",
       "50026                     0           Neoplasms   Supplementary factors   \n",
       "50027                     1           Neoplasms               Neoplasms   \n",
       "50028                     0           Endocrine  Musculoskeletal system   \n",
       "50029                     0    Injury/Poisoning      Circulatory system   \n",
       "50030                     0           Endocrine               Endocrine   \n",
       "\n",
       "                   diag_3_icd  admission_type discharge_disposition  \\\n",
       "0                  Infectious       Emergency       Discharged home   \n",
       "1          Respiratory system        Elective       Additional care   \n",
       "2                   Endocrine       Emergency       Discharged home   \n",
       "3            Injury/Poisoning       Emergency       Discharged home   \n",
       "4                   Endocrine       Emergency       Discharged home   \n",
       "...                       ...             ...                   ...   \n",
       "50026               Endocrine       Emergency       Discharged home   \n",
       "50027   Supplementary factors       Emergency       Discharged home   \n",
       "50028  Musculoskeletal system       Emergency       Discharged home   \n",
       "50029   Supplementary factors       Emergency       Additional care   \n",
       "50030      Circulatory system       Emergency       Discharged home   \n",
       "\n",
       "      admission_source  \n",
       "0             Transfer  \n",
       "1             Transfer  \n",
       "2            Emergency  \n",
       "3            Emergency  \n",
       "4             Referral  \n",
       "...                ...  \n",
       "50026         Referral  \n",
       "50027         Referral  \n",
       "50028         Referral  \n",
       "50029         Referral  \n",
       "50030         Referral  \n",
       "\n",
       "[50031 rows x 45 columns]"
      ],
      "text/html": [
       "<div>\n",
       "<style scoped>\n",
       "    .dataframe tbody tr th:only-of-type {\n",
       "        vertical-align: middle;\n",
       "    }\n",
       "\n",
       "    .dataframe tbody tr th {\n",
       "        vertical-align: top;\n",
       "    }\n",
       "\n",
       "    .dataframe thead th {\n",
       "        text-align: right;\n",
       "    }\n",
       "</style>\n",
       "<table border=\"1\" class=\"dataframe\">\n",
       "  <thead>\n",
       "    <tr style=\"text-align: right;\">\n",
       "      <th></th>\n",
       "      <th>encounter_id</th>\n",
       "      <th>patient_nbr</th>\n",
       "      <th>race</th>\n",
       "      <th>gender</th>\n",
       "      <th>age</th>\n",
       "      <th>weight</th>\n",
       "      <th>admission_type_id</th>\n",
       "      <th>discharge_disposition_id</th>\n",
       "      <th>admission_source_id</th>\n",
       "      <th>length_of_stay</th>\n",
       "      <th>...</th>\n",
       "      <th>change</th>\n",
       "      <th>diabetesMed</th>\n",
       "      <th>readmitted</th>\n",
       "      <th>single_day_admission</th>\n",
       "      <th>diag_1_icd</th>\n",
       "      <th>diag_2_icd</th>\n",
       "      <th>diag_3_icd</th>\n",
       "      <th>admission_type</th>\n",
       "      <th>discharge_disposition</th>\n",
       "      <th>admission_source</th>\n",
       "    </tr>\n",
       "  </thead>\n",
       "  <tbody>\n",
       "    <tr>\n",
       "      <th>0</th>\n",
       "      <td>12522</td>\n",
       "      <td>48330783</td>\n",
       "      <td>Caucasian</td>\n",
       "      <td>1</td>\n",
       "      <td>[80-90)</td>\n",
       "      <td>?</td>\n",
       "      <td>2</td>\n",
       "      <td>1</td>\n",
       "      <td>4</td>\n",
       "      <td>13</td>\n",
       "      <td>...</td>\n",
       "      <td>1</td>\n",
       "      <td>1</td>\n",
       "      <td>0</td>\n",
       "      <td>0</td>\n",
       "      <td>Circulatory system</td>\n",
       "      <td>Circulatory system</td>\n",
       "      <td>Infectious</td>\n",
       "      <td>Emergency</td>\n",
       "      <td>Discharged home</td>\n",
       "      <td>Transfer</td>\n",
       "    </tr>\n",
       "    <tr>\n",
       "      <th>1</th>\n",
       "      <td>15738</td>\n",
       "      <td>63555939</td>\n",
       "      <td>Caucasian</td>\n",
       "      <td>1</td>\n",
       "      <td>[90-100)</td>\n",
       "      <td>?</td>\n",
       "      <td>3</td>\n",
       "      <td>3</td>\n",
       "      <td>4</td>\n",
       "      <td>12</td>\n",
       "      <td>...</td>\n",
       "      <td>1</td>\n",
       "      <td>1</td>\n",
       "      <td>0</td>\n",
       "      <td>0</td>\n",
       "      <td>Circulatory system</td>\n",
       "      <td>Neoplasms</td>\n",
       "      <td>Respiratory system</td>\n",
       "      <td>Elective</td>\n",
       "      <td>Additional care</td>\n",
       "      <td>Transfer</td>\n",
       "    </tr>\n",
       "    <tr>\n",
       "      <th>2</th>\n",
       "      <td>16680</td>\n",
       "      <td>42519267</td>\n",
       "      <td>Caucasian</td>\n",
       "      <td>0</td>\n",
       "      <td>[40-50)</td>\n",
       "      <td>?</td>\n",
       "      <td>1</td>\n",
       "      <td>1</td>\n",
       "      <td>7</td>\n",
       "      <td>1</td>\n",
       "      <td>...</td>\n",
       "      <td>1</td>\n",
       "      <td>1</td>\n",
       "      <td>0</td>\n",
       "      <td>1</td>\n",
       "      <td>Neoplasms</td>\n",
       "      <td>Neoplasms</td>\n",
       "      <td>Endocrine</td>\n",
       "      <td>Emergency</td>\n",
       "      <td>Discharged home</td>\n",
       "      <td>Emergency</td>\n",
       "    </tr>\n",
       "    <tr>\n",
       "      <th>3</th>\n",
       "      <td>28236</td>\n",
       "      <td>89869032</td>\n",
       "      <td>AfricanAmerican</td>\n",
       "      <td>1</td>\n",
       "      <td>[40-50)</td>\n",
       "      <td>?</td>\n",
       "      <td>1</td>\n",
       "      <td>1</td>\n",
       "      <td>7</td>\n",
       "      <td>9</td>\n",
       "      <td>...</td>\n",
       "      <td>0</td>\n",
       "      <td>1</td>\n",
       "      <td>1</td>\n",
       "      <td>0</td>\n",
       "      <td>Endocrine</td>\n",
       "      <td>Circulatory system</td>\n",
       "      <td>Injury/Poisoning</td>\n",
       "      <td>Emergency</td>\n",
       "      <td>Discharged home</td>\n",
       "      <td>Emergency</td>\n",
       "    </tr>\n",
       "    <tr>\n",
       "      <th>4</th>\n",
       "      <td>35754</td>\n",
       "      <td>82637451</td>\n",
       "      <td>Caucasian</td>\n",
       "      <td>0</td>\n",
       "      <td>[50-60)</td>\n",
       "      <td>?</td>\n",
       "      <td>2</td>\n",
       "      <td>1</td>\n",
       "      <td>2</td>\n",
       "      <td>3</td>\n",
       "      <td>...</td>\n",
       "      <td>0</td>\n",
       "      <td>1</td>\n",
       "      <td>1</td>\n",
       "      <td>0</td>\n",
       "      <td>Circulatory system</td>\n",
       "      <td>Circulatory system</td>\n",
       "      <td>Endocrine</td>\n",
       "      <td>Emergency</td>\n",
       "      <td>Discharged home</td>\n",
       "      <td>Referral</td>\n",
       "    </tr>\n",
       "    <tr>\n",
       "      <th>...</th>\n",
       "      <td>...</td>\n",
       "      <td>...</td>\n",
       "      <td>...</td>\n",
       "      <td>...</td>\n",
       "      <td>...</td>\n",
       "      <td>...</td>\n",
       "      <td>...</td>\n",
       "      <td>...</td>\n",
       "      <td>...</td>\n",
       "      <td>...</td>\n",
       "      <td>...</td>\n",
       "      <td>...</td>\n",
       "      <td>...</td>\n",
       "      <td>...</td>\n",
       "      <td>...</td>\n",
       "      <td>...</td>\n",
       "      <td>...</td>\n",
       "      <td>...</td>\n",
       "      <td>...</td>\n",
       "      <td>...</td>\n",
       "      <td>...</td>\n",
       "    </tr>\n",
       "    <tr>\n",
       "      <th>50026</th>\n",
       "      <td>150712854</td>\n",
       "      <td>54487647</td>\n",
       "      <td>AfricanAmerican</td>\n",
       "      <td>0</td>\n",
       "      <td>[60-70)</td>\n",
       "      <td>?</td>\n",
       "      <td>2</td>\n",
       "      <td>1</td>\n",
       "      <td>1</td>\n",
       "      <td>8</td>\n",
       "      <td>...</td>\n",
       "      <td>1</td>\n",
       "      <td>1</td>\n",
       "      <td>1</td>\n",
       "      <td>0</td>\n",
       "      <td>Neoplasms</td>\n",
       "      <td>Supplementary factors</td>\n",
       "      <td>Endocrine</td>\n",
       "      <td>Emergency</td>\n",
       "      <td>Discharged home</td>\n",
       "      <td>Referral</td>\n",
       "    </tr>\n",
       "    <tr>\n",
       "      <th>50027</th>\n",
       "      <td>150713208</td>\n",
       "      <td>99665856</td>\n",
       "      <td>Caucasian</td>\n",
       "      <td>0</td>\n",
       "      <td>[70-80)</td>\n",
       "      <td>?</td>\n",
       "      <td>2</td>\n",
       "      <td>1</td>\n",
       "      <td>1</td>\n",
       "      <td>1</td>\n",
       "      <td>...</td>\n",
       "      <td>0</td>\n",
       "      <td>0</td>\n",
       "      <td>0</td>\n",
       "      <td>1</td>\n",
       "      <td>Neoplasms</td>\n",
       "      <td>Neoplasms</td>\n",
       "      <td>Supplementary factors</td>\n",
       "      <td>Emergency</td>\n",
       "      <td>Discharged home</td>\n",
       "      <td>Referral</td>\n",
       "    </tr>\n",
       "    <tr>\n",
       "      <th>50028</th>\n",
       "      <td>150715134</td>\n",
       "      <td>46894068</td>\n",
       "      <td>Caucasian</td>\n",
       "      <td>0</td>\n",
       "      <td>[60-70)</td>\n",
       "      <td>?</td>\n",
       "      <td>2</td>\n",
       "      <td>1</td>\n",
       "      <td>1</td>\n",
       "      <td>5</td>\n",
       "      <td>...</td>\n",
       "      <td>0</td>\n",
       "      <td>0</td>\n",
       "      <td>0</td>\n",
       "      <td>0</td>\n",
       "      <td>Endocrine</td>\n",
       "      <td>Musculoskeletal system</td>\n",
       "      <td>Musculoskeletal system</td>\n",
       "      <td>Emergency</td>\n",
       "      <td>Discharged home</td>\n",
       "      <td>Referral</td>\n",
       "    </tr>\n",
       "    <tr>\n",
       "      <th>50029</th>\n",
       "      <td>150715788</td>\n",
       "      <td>86575536</td>\n",
       "      <td>Caucasian</td>\n",
       "      <td>0</td>\n",
       "      <td>[70-80)</td>\n",
       "      <td>?</td>\n",
       "      <td>1</td>\n",
       "      <td>3</td>\n",
       "      <td>1</td>\n",
       "      <td>5</td>\n",
       "      <td>...</td>\n",
       "      <td>0</td>\n",
       "      <td>1</td>\n",
       "      <td>1</td>\n",
       "      <td>0</td>\n",
       "      <td>Injury/Poisoning</td>\n",
       "      <td>Circulatory system</td>\n",
       "      <td>Supplementary factors</td>\n",
       "      <td>Emergency</td>\n",
       "      <td>Additional care</td>\n",
       "      <td>Referral</td>\n",
       "    </tr>\n",
       "    <tr>\n",
       "      <th>50030</th>\n",
       "      <td>150722166</td>\n",
       "      <td>83582352</td>\n",
       "      <td>Caucasian</td>\n",
       "      <td>0</td>\n",
       "      <td>[70-80)</td>\n",
       "      <td>?</td>\n",
       "      <td>2</td>\n",
       "      <td>1</td>\n",
       "      <td>1</td>\n",
       "      <td>2</td>\n",
       "      <td>...</td>\n",
       "      <td>0</td>\n",
       "      <td>1</td>\n",
       "      <td>0</td>\n",
       "      <td>0</td>\n",
       "      <td>Endocrine</td>\n",
       "      <td>Endocrine</td>\n",
       "      <td>Circulatory system</td>\n",
       "      <td>Emergency</td>\n",
       "      <td>Discharged home</td>\n",
       "      <td>Referral</td>\n",
       "    </tr>\n",
       "  </tbody>\n",
       "</table>\n",
       "<p>50031 rows × 45 columns</p>\n",
       "</div>"
      ]
     },
     "execution_count": 964,
     "metadata": {},
     "output_type": "execute_result"
    }
   ],
   "execution_count": 964
  },
  {
   "cell_type": "code",
   "id": "9ae7692b4781f432",
   "metadata": {
    "ExecuteTime": {
     "end_time": "2024-08-27T03:39:00.510676Z",
     "start_time": "2024-08-27T03:39:00.508671Z"
    }
   },
   "source": [],
   "outputs": [],
   "execution_count": 964
  },
  {
   "cell_type": "code",
   "id": "471383a96aca4b7a",
   "metadata": {
    "ExecuteTime": {
     "end_time": "2024-08-27T03:39:00.750848Z",
     "start_time": "2024-08-27T03:39:00.747958Z"
    }
   },
   "source": [],
   "outputs": [],
   "execution_count": 964
  },
  {
   "cell_type": "markdown",
   "id": "e1564395ee04c1e0",
   "metadata": {},
   "source": [
    "#### Convert age variable to fewer levels\n",
    "\n",
    "The age vaiariable is binned into 10 discrete groups. This will be converted to 3 groups to reduce the number of features created during one-hot encoding. The groups will be reactored and converted to an integer representation as follows:\n",
    "- 0-30 representing children and younger adults, with 0 as the group\n",
    "- 30-60 representing adults to middle aged+, with 1 as the group\n",
    "- 60-100 representing older persons, with 2 as the group\n"
   ]
  },
  {
   "cell_type": "code",
   "id": "cbe0607b4202e7d8",
   "metadata": {
    "ExecuteTime": {
     "end_time": "2024-08-27T03:39:00.960610Z",
     "start_time": "2024-08-27T03:39:00.956407Z"
    }
   },
   "source": [
    "# function to convert age bins\n",
    "\n",
    "def convert_age_groups(age):\n",
    "    if age in ['[0-10)', '[10-20)', '[20-30)']:\n",
    "        return 0\n",
    "    elif age in ['[30-40)', '[40-50)', '[50-60)']:\n",
    "        return 1\n",
    "    else:\n",
    "        return 2\n"
   ],
   "outputs": [],
   "execution_count": 965
  },
  {
   "cell_type": "code",
   "id": "760ac3fe1647319d",
   "metadata": {
    "ExecuteTime": {
     "end_time": "2024-08-27T03:39:01.077607Z",
     "start_time": "2024-08-27T03:39:01.074100Z"
    }
   },
   "source": [
    "d1['age'] = d1['age'].apply(convert_age_groups)"
   ],
   "outputs": [],
   "execution_count": 966
  },
  {
   "cell_type": "code",
   "id": "d67f288cdc17844e",
   "metadata": {
    "ExecuteTime": {
     "end_time": "2024-08-27T03:39:01.384204Z",
     "start_time": "2024-08-27T03:39:01.375986Z"
    }
   },
   "source": [
    "d1['age'].value_counts(dropna=False).to_frame().sort_index()"
   ],
   "outputs": [
    {
     "data": {
      "text/plain": [
       "     count\n",
       "age       \n",
       "0     1448\n",
       "1    15892\n",
       "2    32691"
      ],
      "text/html": [
       "<div>\n",
       "<style scoped>\n",
       "    .dataframe tbody tr th:only-of-type {\n",
       "        vertical-align: middle;\n",
       "    }\n",
       "\n",
       "    .dataframe tbody tr th {\n",
       "        vertical-align: top;\n",
       "    }\n",
       "\n",
       "    .dataframe thead th {\n",
       "        text-align: right;\n",
       "    }\n",
       "</style>\n",
       "<table border=\"1\" class=\"dataframe\">\n",
       "  <thead>\n",
       "    <tr style=\"text-align: right;\">\n",
       "      <th></th>\n",
       "      <th>count</th>\n",
       "    </tr>\n",
       "    <tr>\n",
       "      <th>age</th>\n",
       "      <th></th>\n",
       "    </tr>\n",
       "  </thead>\n",
       "  <tbody>\n",
       "    <tr>\n",
       "      <th>0</th>\n",
       "      <td>1448</td>\n",
       "    </tr>\n",
       "    <tr>\n",
       "      <th>1</th>\n",
       "      <td>15892</td>\n",
       "    </tr>\n",
       "    <tr>\n",
       "      <th>2</th>\n",
       "      <td>32691</td>\n",
       "    </tr>\n",
       "  </tbody>\n",
       "</table>\n",
       "</div>"
      ]
     },
     "execution_count": 967,
     "metadata": {},
     "output_type": "execute_result"
    }
   ],
   "execution_count": 967
  },
  {
   "cell_type": "markdown",
   "id": "511481b6fe082f9c",
   "metadata": {},
   "source": [
    "#### The drug columns should be changed to numeric variables for future modelling."
   ]
  },
  {
   "cell_type": "code",
   "id": "807a3d45a5809518",
   "metadata": {
    "ExecuteTime": {
     "end_time": "2024-08-27T03:39:01.487547Z",
     "start_time": "2024-08-27T03:39:01.472993Z"
    }
   },
   "source": [
    "# select the drug columns only\n",
    "d1[['metformin', 'repaglinide', 'nateglinide', 'chlorpropamide', 'glimepiride', 'glipizide','glyburide','insulin']]"
   ],
   "outputs": [
    {
     "data": {
      "text/plain": [
       "      metformin repaglinide nateglinide chlorpropamide glimepiride glipizide  \\\n",
       "0            No          No          No             No          No    Steady   \n",
       "1            No          No          No             No          No        No   \n",
       "2            No          No          No             No          No    Steady   \n",
       "3            No          No          No             No          No        No   \n",
       "4            No          No          No             No          No        No   \n",
       "...         ...         ...         ...            ...         ...       ...   \n",
       "50026    Steady          No          No             No          No        No   \n",
       "50027        No          No          No             No          No        No   \n",
       "50028        No          No          No             No          No        No   \n",
       "50029        No          No          No             No          No        No   \n",
       "50030        No          No          No             No      Steady        No   \n",
       "\n",
       "      glyburide insulin  \n",
       "0            No  Steady  \n",
       "1            No  Steady  \n",
       "2            No  Steady  \n",
       "3            No  Steady  \n",
       "4            No  Steady  \n",
       "...         ...     ...  \n",
       "50026        No  Steady  \n",
       "50027        No      No  \n",
       "50028        No      No  \n",
       "50029    Steady      No  \n",
       "50030        No      No  \n",
       "\n",
       "[50031 rows x 8 columns]"
      ],
      "text/html": [
       "<div>\n",
       "<style scoped>\n",
       "    .dataframe tbody tr th:only-of-type {\n",
       "        vertical-align: middle;\n",
       "    }\n",
       "\n",
       "    .dataframe tbody tr th {\n",
       "        vertical-align: top;\n",
       "    }\n",
       "\n",
       "    .dataframe thead th {\n",
       "        text-align: right;\n",
       "    }\n",
       "</style>\n",
       "<table border=\"1\" class=\"dataframe\">\n",
       "  <thead>\n",
       "    <tr style=\"text-align: right;\">\n",
       "      <th></th>\n",
       "      <th>metformin</th>\n",
       "      <th>repaglinide</th>\n",
       "      <th>nateglinide</th>\n",
       "      <th>chlorpropamide</th>\n",
       "      <th>glimepiride</th>\n",
       "      <th>glipizide</th>\n",
       "      <th>glyburide</th>\n",
       "      <th>insulin</th>\n",
       "    </tr>\n",
       "  </thead>\n",
       "  <tbody>\n",
       "    <tr>\n",
       "      <th>0</th>\n",
       "      <td>No</td>\n",
       "      <td>No</td>\n",
       "      <td>No</td>\n",
       "      <td>No</td>\n",
       "      <td>No</td>\n",
       "      <td>Steady</td>\n",
       "      <td>No</td>\n",
       "      <td>Steady</td>\n",
       "    </tr>\n",
       "    <tr>\n",
       "      <th>1</th>\n",
       "      <td>No</td>\n",
       "      <td>No</td>\n",
       "      <td>No</td>\n",
       "      <td>No</td>\n",
       "      <td>No</td>\n",
       "      <td>No</td>\n",
       "      <td>No</td>\n",
       "      <td>Steady</td>\n",
       "    </tr>\n",
       "    <tr>\n",
       "      <th>2</th>\n",
       "      <td>No</td>\n",
       "      <td>No</td>\n",
       "      <td>No</td>\n",
       "      <td>No</td>\n",
       "      <td>No</td>\n",
       "      <td>Steady</td>\n",
       "      <td>No</td>\n",
       "      <td>Steady</td>\n",
       "    </tr>\n",
       "    <tr>\n",
       "      <th>3</th>\n",
       "      <td>No</td>\n",
       "      <td>No</td>\n",
       "      <td>No</td>\n",
       "      <td>No</td>\n",
       "      <td>No</td>\n",
       "      <td>No</td>\n",
       "      <td>No</td>\n",
       "      <td>Steady</td>\n",
       "    </tr>\n",
       "    <tr>\n",
       "      <th>4</th>\n",
       "      <td>No</td>\n",
       "      <td>No</td>\n",
       "      <td>No</td>\n",
       "      <td>No</td>\n",
       "      <td>No</td>\n",
       "      <td>No</td>\n",
       "      <td>No</td>\n",
       "      <td>Steady</td>\n",
       "    </tr>\n",
       "    <tr>\n",
       "      <th>...</th>\n",
       "      <td>...</td>\n",
       "      <td>...</td>\n",
       "      <td>...</td>\n",
       "      <td>...</td>\n",
       "      <td>...</td>\n",
       "      <td>...</td>\n",
       "      <td>...</td>\n",
       "      <td>...</td>\n",
       "    </tr>\n",
       "    <tr>\n",
       "      <th>50026</th>\n",
       "      <td>Steady</td>\n",
       "      <td>No</td>\n",
       "      <td>No</td>\n",
       "      <td>No</td>\n",
       "      <td>No</td>\n",
       "      <td>No</td>\n",
       "      <td>No</td>\n",
       "      <td>Steady</td>\n",
       "    </tr>\n",
       "    <tr>\n",
       "      <th>50027</th>\n",
       "      <td>No</td>\n",
       "      <td>No</td>\n",
       "      <td>No</td>\n",
       "      <td>No</td>\n",
       "      <td>No</td>\n",
       "      <td>No</td>\n",
       "      <td>No</td>\n",
       "      <td>No</td>\n",
       "    </tr>\n",
       "    <tr>\n",
       "      <th>50028</th>\n",
       "      <td>No</td>\n",
       "      <td>No</td>\n",
       "      <td>No</td>\n",
       "      <td>No</td>\n",
       "      <td>No</td>\n",
       "      <td>No</td>\n",
       "      <td>No</td>\n",
       "      <td>No</td>\n",
       "    </tr>\n",
       "    <tr>\n",
       "      <th>50029</th>\n",
       "      <td>No</td>\n",
       "      <td>No</td>\n",
       "      <td>No</td>\n",
       "      <td>No</td>\n",
       "      <td>No</td>\n",
       "      <td>No</td>\n",
       "      <td>Steady</td>\n",
       "      <td>No</td>\n",
       "    </tr>\n",
       "    <tr>\n",
       "      <th>50030</th>\n",
       "      <td>No</td>\n",
       "      <td>No</td>\n",
       "      <td>No</td>\n",
       "      <td>No</td>\n",
       "      <td>Steady</td>\n",
       "      <td>No</td>\n",
       "      <td>No</td>\n",
       "      <td>No</td>\n",
       "    </tr>\n",
       "  </tbody>\n",
       "</table>\n",
       "<p>50031 rows × 8 columns</p>\n",
       "</div>"
      ]
     },
     "execution_count": 968,
     "metadata": {},
     "output_type": "execute_result"
    }
   ],
   "execution_count": 968
  },
  {
   "cell_type": "code",
   "id": "680964c153dfbc0c",
   "metadata": {
    "ExecuteTime": {
     "end_time": "2024-08-27T03:39:01.702795Z",
     "start_time": "2024-08-27T03:39:01.649421Z"
    }
   },
   "source": [
    "# Map the values to numeric values to test variance\n",
    "# This will is done as a separate dataframe so that the drug mapping can be changed later to a more amenable format\n",
    "drug_mapping = {'No': 0, 'Steady': 1, 'Up': 3, 'Down': 2}\n",
    "\n",
    "def map_drug_changes_to_values(df, drug_columns):\n",
    "    for col in drug_columns:\n",
    "        df[col] = df[col].map(drug_mapping)\n",
    "    return df\n",
    "\n",
    "drug_columns = ['metformin', 'repaglinide', 'nateglinide', 'chlorpropamide',\n",
    "                'glimepiride', 'glipizide', 'glyburide', 'insulin']\n",
    "d1_drug_changes = d1.copy(deep=True)\n",
    "d1_drug_changes = map_drug_changes_to_values(d1_drug_changes, drug_columns)\n",
    "\n"
   ],
   "outputs": [],
   "execution_count": 969
  },
  {
   "cell_type": "code",
   "id": "5c685898340df9cd",
   "metadata": {
    "ExecuteTime": {
     "end_time": "2024-08-27T03:39:01.868540Z",
     "start_time": "2024-08-27T03:39:01.845749Z"
    }
   },
   "source": [
    "d1_drug_changes[drug_columns].describe()"
   ],
   "outputs": [
    {
     "data": {
      "text/plain": [
       "       metformin  repaglinide  nateglinide  chlorpropamide  glimepiride  \\\n",
       "count   50031.00     50031.00     50031.00        50031.00     50031.00   \n",
       "mean        0.21         0.01         0.01            0.00         0.05   \n",
       "std         0.50         0.14         0.08            0.05         0.27   \n",
       "min         0.00         0.00         0.00            0.00         0.00   \n",
       "25%         0.00         0.00         0.00            0.00         0.00   \n",
       "50%         0.00         0.00         0.00            0.00         0.00   \n",
       "75%         0.00         0.00         0.00            0.00         0.00   \n",
       "max         3.00         3.00         3.00            3.00         3.00   \n",
       "\n",
       "       glipizide  glyburide  insulin  \n",
       "count   50031.00   50031.00 50031.00  \n",
       "mean        0.15       0.15     0.72  \n",
       "std         0.45       0.45     0.91  \n",
       "min         0.00       0.00     0.00  \n",
       "25%         0.00       0.00     0.00  \n",
       "50%         0.00       0.00     0.00  \n",
       "75%         0.00       0.00     1.00  \n",
       "max         3.00       3.00     3.00  "
      ],
      "text/html": [
       "<div>\n",
       "<style scoped>\n",
       "    .dataframe tbody tr th:only-of-type {\n",
       "        vertical-align: middle;\n",
       "    }\n",
       "\n",
       "    .dataframe tbody tr th {\n",
       "        vertical-align: top;\n",
       "    }\n",
       "\n",
       "    .dataframe thead th {\n",
       "        text-align: right;\n",
       "    }\n",
       "</style>\n",
       "<table border=\"1\" class=\"dataframe\">\n",
       "  <thead>\n",
       "    <tr style=\"text-align: right;\">\n",
       "      <th></th>\n",
       "      <th>metformin</th>\n",
       "      <th>repaglinide</th>\n",
       "      <th>nateglinide</th>\n",
       "      <th>chlorpropamide</th>\n",
       "      <th>glimepiride</th>\n",
       "      <th>glipizide</th>\n",
       "      <th>glyburide</th>\n",
       "      <th>insulin</th>\n",
       "    </tr>\n",
       "  </thead>\n",
       "  <tbody>\n",
       "    <tr>\n",
       "      <th>count</th>\n",
       "      <td>50031.00</td>\n",
       "      <td>50031.00</td>\n",
       "      <td>50031.00</td>\n",
       "      <td>50031.00</td>\n",
       "      <td>50031.00</td>\n",
       "      <td>50031.00</td>\n",
       "      <td>50031.00</td>\n",
       "      <td>50031.00</td>\n",
       "    </tr>\n",
       "    <tr>\n",
       "      <th>mean</th>\n",
       "      <td>0.21</td>\n",
       "      <td>0.01</td>\n",
       "      <td>0.01</td>\n",
       "      <td>0.00</td>\n",
       "      <td>0.05</td>\n",
       "      <td>0.15</td>\n",
       "      <td>0.15</td>\n",
       "      <td>0.72</td>\n",
       "    </tr>\n",
       "    <tr>\n",
       "      <th>std</th>\n",
       "      <td>0.50</td>\n",
       "      <td>0.14</td>\n",
       "      <td>0.08</td>\n",
       "      <td>0.05</td>\n",
       "      <td>0.27</td>\n",
       "      <td>0.45</td>\n",
       "      <td>0.45</td>\n",
       "      <td>0.91</td>\n",
       "    </tr>\n",
       "    <tr>\n",
       "      <th>min</th>\n",
       "      <td>0.00</td>\n",
       "      <td>0.00</td>\n",
       "      <td>0.00</td>\n",
       "      <td>0.00</td>\n",
       "      <td>0.00</td>\n",
       "      <td>0.00</td>\n",
       "      <td>0.00</td>\n",
       "      <td>0.00</td>\n",
       "    </tr>\n",
       "    <tr>\n",
       "      <th>25%</th>\n",
       "      <td>0.00</td>\n",
       "      <td>0.00</td>\n",
       "      <td>0.00</td>\n",
       "      <td>0.00</td>\n",
       "      <td>0.00</td>\n",
       "      <td>0.00</td>\n",
       "      <td>0.00</td>\n",
       "      <td>0.00</td>\n",
       "    </tr>\n",
       "    <tr>\n",
       "      <th>50%</th>\n",
       "      <td>0.00</td>\n",
       "      <td>0.00</td>\n",
       "      <td>0.00</td>\n",
       "      <td>0.00</td>\n",
       "      <td>0.00</td>\n",
       "      <td>0.00</td>\n",
       "      <td>0.00</td>\n",
       "      <td>0.00</td>\n",
       "    </tr>\n",
       "    <tr>\n",
       "      <th>75%</th>\n",
       "      <td>0.00</td>\n",
       "      <td>0.00</td>\n",
       "      <td>0.00</td>\n",
       "      <td>0.00</td>\n",
       "      <td>0.00</td>\n",
       "      <td>0.00</td>\n",
       "      <td>0.00</td>\n",
       "      <td>1.00</td>\n",
       "    </tr>\n",
       "    <tr>\n",
       "      <th>max</th>\n",
       "      <td>3.00</td>\n",
       "      <td>3.00</td>\n",
       "      <td>3.00</td>\n",
       "      <td>3.00</td>\n",
       "      <td>3.00</td>\n",
       "      <td>3.00</td>\n",
       "      <td>3.00</td>\n",
       "      <td>3.00</td>\n",
       "    </tr>\n",
       "  </tbody>\n",
       "</table>\n",
       "</div>"
      ]
     },
     "execution_count": 970,
     "metadata": {},
     "output_type": "execute_result"
    }
   ],
   "execution_count": 970
  },
  {
   "cell_type": "code",
   "id": "c6a90f44f1e04cf9",
   "metadata": {
    "ExecuteTime": {
     "end_time": "2024-08-27T03:39:02.755373Z",
     "start_time": "2024-08-27T03:39:02.747812Z"
    }
   },
   "source": [
    "np.var(d1_drug_changes[drug_columns])"
   ],
   "outputs": [
    {
     "name": "stderr",
     "output_type": "stream",
     "text": [
      "C:\\Users\\JohnMarquess\\.conda\\envs\\IFN509\\Lib\\site-packages\\numpy\\core\\fromnumeric.py:3785: FutureWarning: The behavior of DataFrame.var with axis=None is deprecated, in a future version this will reduce over both axes and return a scalar. To retain the old behavior, pass axis=0 (or do not pass axis)\n",
      "  return var(axis=axis, dtype=dtype, out=out, ddof=ddof, **kwargs)\n"
     ]
    },
    {
     "data": {
      "text/plain": [
       "metformin        0.25\n",
       "repaglinide      0.02\n",
       "nateglinide      0.01\n",
       "chlorpropamide   0.00\n",
       "glimepiride      0.08\n",
       "glipizide        0.20\n",
       "glyburide        0.21\n",
       "insulin          0.83\n",
       "dtype: float64"
      ]
     },
     "execution_count": 971,
     "metadata": {},
     "output_type": "execute_result"
    }
   ],
   "execution_count": 971
  },
  {
   "cell_type": "markdown",
   "id": "aef10916570b1e0f",
   "metadata": {},
   "source": [
    "#### Combine the drug columns into a single variable\n",
    "\n",
    "- The new column, 'sum_drug_changes', will be created by summing the values of the drug columns for each patient. This will give a single variable that represents the total number of changes in medication for each patient.\n",
    "- This is more meaningful than having multiple drug columns with individual change, and more quantitatiev than a binary changes column.\n",
    "- The principle is that the higher the number, given none and steady sum to zero, then more amendments that will have been made to the diabetes drugs"
   ]
  },
  {
   "cell_type": "code",
   "id": "6092d1ed79f72ae5",
   "metadata": {
    "ExecuteTime": {
     "end_time": "2024-08-27T03:39:03.015296Z",
     "start_time": "2024-08-27T03:39:02.995247Z"
    }
   },
   "source": [
    "# drug mapping to refactor the drug columns for the sum_drug_changes variable\n",
    "# The mapping represents 0 for No drug or steady, and 1 for a change in dose (up or down)\n",
    "drug_mapping = {'No': 0, 'Steady': 0, 'Up': 1, 'Down': 1}\n",
    "\n",
    "d1 = map_drug_changes_to_values(d1, drug_columns)"
   ],
   "outputs": [],
   "execution_count": 972
  },
  {
   "cell_type": "code",
   "id": "eb1d753e702e33fc",
   "metadata": {
    "ExecuteTime": {
     "end_time": "2024-08-27T03:39:03.342627Z",
     "start_time": "2024-08-27T03:39:03.333124Z"
    }
   },
   "source": [
    "d1['sum_drug_changes'] = d1[drug_columns].sum(axis=1)"
   ],
   "outputs": [],
   "execution_count": 973
  },
  {
   "cell_type": "code",
   "id": "4d23fff2dd86beee",
   "metadata": {
    "ExecuteTime": {
     "end_time": "2024-08-27T03:39:03.655617Z",
     "start_time": "2024-08-27T03:39:03.648908Z"
    }
   },
   "source": [
    "d1['sum_drug_changes'].value_counts(dropna=False).astype('Int64').to_frame()"
   ],
   "outputs": [
    {
     "data": {
      "text/plain": [
       "                  count\n",
       "sum_drug_changes       \n",
       "0                 39367\n",
       "1                 10207\n",
       "2                   434\n",
       "3                    23"
      ],
      "text/html": [
       "<div>\n",
       "<style scoped>\n",
       "    .dataframe tbody tr th:only-of-type {\n",
       "        vertical-align: middle;\n",
       "    }\n",
       "\n",
       "    .dataframe tbody tr th {\n",
       "        vertical-align: top;\n",
       "    }\n",
       "\n",
       "    .dataframe thead th {\n",
       "        text-align: right;\n",
       "    }\n",
       "</style>\n",
       "<table border=\"1\" class=\"dataframe\">\n",
       "  <thead>\n",
       "    <tr style=\"text-align: right;\">\n",
       "      <th></th>\n",
       "      <th>count</th>\n",
       "    </tr>\n",
       "    <tr>\n",
       "      <th>sum_drug_changes</th>\n",
       "      <th></th>\n",
       "    </tr>\n",
       "  </thead>\n",
       "  <tbody>\n",
       "    <tr>\n",
       "      <th>0</th>\n",
       "      <td>39367</td>\n",
       "    </tr>\n",
       "    <tr>\n",
       "      <th>1</th>\n",
       "      <td>10207</td>\n",
       "    </tr>\n",
       "    <tr>\n",
       "      <th>2</th>\n",
       "      <td>434</td>\n",
       "    </tr>\n",
       "    <tr>\n",
       "      <th>3</th>\n",
       "      <td>23</td>\n",
       "    </tr>\n",
       "  </tbody>\n",
       "</table>\n",
       "</div>"
      ]
     },
     "execution_count": 974,
     "metadata": {},
     "output_type": "execute_result"
    }
   ],
   "execution_count": 974
  },
  {
   "cell_type": "markdown",
   "id": "eb032c69d0022dcd",
   "metadata": {},
   "source": [
    "#### Drop the unused variables"
   ]
  },
  {
   "cell_type": "code",
   "id": "bbccc938bf996cfe",
   "metadata": {
    "ExecuteTime": {
     "end_time": "2024-08-27T03:39:03.779159Z",
     "start_time": "2024-08-27T03:39:03.770170Z"
    }
   },
   "source": [
    "columns_to_drop = ['encounter_id', 'patient_nbr','max_glu_serum', 'A1Cresult', 'acetohexamide', 'tolbutamide', 'payer_code', 'weight', 'diag_1', 'diag_2', 'diag_3', 'diag_2_icd', 'diag_3_icd', 'metformin', 'repaglinide', 'nateglinide', 'chlorpropamide','glimepiride', 'glipizide', 'glyburide', 'insulin']\n",
    "d1 = d1.drop(columns_to_drop, axis=1)"
   ],
   "outputs": [],
   "execution_count": 975
  },
  {
   "cell_type": "code",
   "id": "def31711233867c7",
   "metadata": {
    "ExecuteTime": {
     "end_time": "2024-08-27T03:39:04.002178Z",
     "start_time": "2024-08-27T03:39:03.985822Z"
    }
   },
   "source": "d1.info()",
   "outputs": [
    {
     "name": "stdout",
     "output_type": "stream",
     "text": [
      "<class 'pandas.core.frame.DataFrame'>\n",
      "RangeIndex: 50031 entries, 0 to 50030\n",
      "Data columns (total 25 columns):\n",
      " #   Column                    Non-Null Count  Dtype \n",
      "---  ------                    --------------  ----- \n",
      " 0   race                      50031 non-null  object\n",
      " 1   gender                    50031 non-null  int64 \n",
      " 2   age                       50031 non-null  int64 \n",
      " 3   admission_type_id         50031 non-null  int64 \n",
      " 4   discharge_disposition_id  50031 non-null  int64 \n",
      " 5   admission_source_id       50031 non-null  int64 \n",
      " 6   length_of_stay            50031 non-null  int64 \n",
      " 7   medical_specialty         50031 non-null  object\n",
      " 8   num_lab_procedures        50031 non-null  int64 \n",
      " 9   num_procedures            50031 non-null  int64 \n",
      " 10  num_medications           50031 non-null  int64 \n",
      " 11  number_outpatient         50031 non-null  Int64 \n",
      " 12  number_emergency          50031 non-null  Int64 \n",
      " 13  number_inpatient          50031 non-null  Int64 \n",
      " 14  number_diagnoses          50031 non-null  int64 \n",
      " 15  diabetes                  50031 non-null  int64 \n",
      " 16  change                    50031 non-null  int64 \n",
      " 17  diabetesMed               50031 non-null  int64 \n",
      " 18  readmitted                50031 non-null  int64 \n",
      " 19  single_day_admission      50031 non-null  int64 \n",
      " 20  diag_1_icd                50031 non-null  object\n",
      " 21  admission_type            50031 non-null  object\n",
      " 22  discharge_disposition     50031 non-null  object\n",
      " 23  admission_source          50031 non-null  object\n",
      " 24  sum_drug_changes          50031 non-null  int64 \n",
      "dtypes: Int64(3), int64(16), object(6)\n",
      "memory usage: 9.7+ MB\n"
     ]
    }
   ],
   "execution_count": 976
  },
  {
   "cell_type": "markdown",
   "id": "82ab36f2d6c3a3b9",
   "metadata": {},
   "source": [
    "### Create dummy variables\n",
    "\n",
    "The qualitative variables were converted to dummy variables using the get_dummies() function. This will allow the variables to be used in the analysis and modelling stages."
   ]
  },
  {
   "cell_type": "code",
   "id": "50853fc9127dd772",
   "metadata": {
    "ExecuteTime": {
     "end_time": "2024-08-27T03:39:04.145964Z",
     "start_time": "2024-08-27T03:39:04.142837Z"
    }
   },
   "source": [
    "# dummy_columns = d1[['race', 'medical_specialty', 'admission_type_id', 'discharge_disposition_id', 'admission_source_id', 'diag_1_icd']]\n",
    "# \n",
    "# # Create the dummy variables\n",
    "# d1 = pd.get_dummies(d1, columns=dummy_columns.columns, drop_first=False, dtype=int)"
   ],
   "outputs": [],
   "execution_count": 977
  },
  {
   "cell_type": "code",
   "id": "eb61856f39819a23",
   "metadata": {
    "ExecuteTime": {
     "end_time": "2024-08-27T03:39:04.464756Z",
     "start_time": "2024-08-27T03:39:04.412555Z"
    }
   },
   "source": [
    "d1"
   ],
   "outputs": [
    {
     "data": {
      "text/plain": [
       "                  race  gender  age  admission_type_id  \\\n",
       "0            Caucasian       1    2                  2   \n",
       "1            Caucasian       1    2                  3   \n",
       "2            Caucasian       0    1                  1   \n",
       "3      AfricanAmerican       1    1                  1   \n",
       "4            Caucasian       0    1                  2   \n",
       "...                ...     ...  ...                ...   \n",
       "50026  AfricanAmerican       0    2                  2   \n",
       "50027        Caucasian       0    2                  2   \n",
       "50028        Caucasian       0    2                  2   \n",
       "50029        Caucasian       0    2                  1   \n",
       "50030        Caucasian       0    2                  2   \n",
       "\n",
       "       discharge_disposition_id  admission_source_id  length_of_stay  \\\n",
       "0                             1                    4              13   \n",
       "1                             3                    4              12   \n",
       "2                             1                    7               1   \n",
       "3                             1                    7               9   \n",
       "4                             1                    2               3   \n",
       "...                         ...                  ...             ...   \n",
       "50026                         1                    1               8   \n",
       "50027                         1                    1               1   \n",
       "50028                         1                    1               5   \n",
       "50029                         3                    1               5   \n",
       "50030                         1                    1               2   \n",
       "\n",
       "       medical_specialty  num_lab_procedures  num_procedures  ...  diabetes  \\\n",
       "0                Unknown                  68               2  ...         1   \n",
       "1      Internal Medicine                  33               3  ...         1   \n",
       "2                Unknown                  51               0  ...         0   \n",
       "3                Unknown                  47               2  ...         1   \n",
       "4                Unknown                  31               6  ...         1   \n",
       "...                  ...                 ...             ...  ...       ...   \n",
       "50026  Internal Medicine                  52               2  ...         1   \n",
       "50027           Oncology                  42               0  ...         0   \n",
       "50028            Unknown                  26               1  ...         0   \n",
       "50029            Unknown                  31               2  ...         1   \n",
       "50030  Internal Medicine                  16               0  ...         1   \n",
       "\n",
       "       change  diabetesMed  readmitted  single_day_admission  \\\n",
       "0           1            1           0                     0   \n",
       "1           1            1           0                     0   \n",
       "2           1            1           0                     1   \n",
       "3           0            1           1                     0   \n",
       "4           0            1           1                     0   \n",
       "...       ...          ...         ...                   ...   \n",
       "50026       1            1           1                     0   \n",
       "50027       0            0           0                     1   \n",
       "50028       0            0           0                     0   \n",
       "50029       0            1           1                     0   \n",
       "50030       0            1           0                     0   \n",
       "\n",
       "               diag_1_icd  admission_type  discharge_disposition  \\\n",
       "0      Circulatory system       Emergency        Discharged home   \n",
       "1      Circulatory system        Elective        Additional care   \n",
       "2               Neoplasms       Emergency        Discharged home   \n",
       "3               Endocrine       Emergency        Discharged home   \n",
       "4      Circulatory system       Emergency        Discharged home   \n",
       "...                   ...             ...                    ...   \n",
       "50026           Neoplasms       Emergency        Discharged home   \n",
       "50027           Neoplasms       Emergency        Discharged home   \n",
       "50028           Endocrine       Emergency        Discharged home   \n",
       "50029    Injury/Poisoning       Emergency        Additional care   \n",
       "50030           Endocrine       Emergency        Discharged home   \n",
       "\n",
       "       admission_source  sum_drug_changes  \n",
       "0              Transfer                 0  \n",
       "1              Transfer                 0  \n",
       "2             Emergency                 0  \n",
       "3             Emergency                 0  \n",
       "4              Referral                 0  \n",
       "...                 ...               ...  \n",
       "50026          Referral                 0  \n",
       "50027          Referral                 0  \n",
       "50028          Referral                 0  \n",
       "50029          Referral                 0  \n",
       "50030          Referral                 0  \n",
       "\n",
       "[50031 rows x 25 columns]"
      ],
      "text/html": [
       "<div>\n",
       "<style scoped>\n",
       "    .dataframe tbody tr th:only-of-type {\n",
       "        vertical-align: middle;\n",
       "    }\n",
       "\n",
       "    .dataframe tbody tr th {\n",
       "        vertical-align: top;\n",
       "    }\n",
       "\n",
       "    .dataframe thead th {\n",
       "        text-align: right;\n",
       "    }\n",
       "</style>\n",
       "<table border=\"1\" class=\"dataframe\">\n",
       "  <thead>\n",
       "    <tr style=\"text-align: right;\">\n",
       "      <th></th>\n",
       "      <th>race</th>\n",
       "      <th>gender</th>\n",
       "      <th>age</th>\n",
       "      <th>admission_type_id</th>\n",
       "      <th>discharge_disposition_id</th>\n",
       "      <th>admission_source_id</th>\n",
       "      <th>length_of_stay</th>\n",
       "      <th>medical_specialty</th>\n",
       "      <th>num_lab_procedures</th>\n",
       "      <th>num_procedures</th>\n",
       "      <th>...</th>\n",
       "      <th>diabetes</th>\n",
       "      <th>change</th>\n",
       "      <th>diabetesMed</th>\n",
       "      <th>readmitted</th>\n",
       "      <th>single_day_admission</th>\n",
       "      <th>diag_1_icd</th>\n",
       "      <th>admission_type</th>\n",
       "      <th>discharge_disposition</th>\n",
       "      <th>admission_source</th>\n",
       "      <th>sum_drug_changes</th>\n",
       "    </tr>\n",
       "  </thead>\n",
       "  <tbody>\n",
       "    <tr>\n",
       "      <th>0</th>\n",
       "      <td>Caucasian</td>\n",
       "      <td>1</td>\n",
       "      <td>2</td>\n",
       "      <td>2</td>\n",
       "      <td>1</td>\n",
       "      <td>4</td>\n",
       "      <td>13</td>\n",
       "      <td>Unknown</td>\n",
       "      <td>68</td>\n",
       "      <td>2</td>\n",
       "      <td>...</td>\n",
       "      <td>1</td>\n",
       "      <td>1</td>\n",
       "      <td>1</td>\n",
       "      <td>0</td>\n",
       "      <td>0</td>\n",
       "      <td>Circulatory system</td>\n",
       "      <td>Emergency</td>\n",
       "      <td>Discharged home</td>\n",
       "      <td>Transfer</td>\n",
       "      <td>0</td>\n",
       "    </tr>\n",
       "    <tr>\n",
       "      <th>1</th>\n",
       "      <td>Caucasian</td>\n",
       "      <td>1</td>\n",
       "      <td>2</td>\n",
       "      <td>3</td>\n",
       "      <td>3</td>\n",
       "      <td>4</td>\n",
       "      <td>12</td>\n",
       "      <td>Internal Medicine</td>\n",
       "      <td>33</td>\n",
       "      <td>3</td>\n",
       "      <td>...</td>\n",
       "      <td>1</td>\n",
       "      <td>1</td>\n",
       "      <td>1</td>\n",
       "      <td>0</td>\n",
       "      <td>0</td>\n",
       "      <td>Circulatory system</td>\n",
       "      <td>Elective</td>\n",
       "      <td>Additional care</td>\n",
       "      <td>Transfer</td>\n",
       "      <td>0</td>\n",
       "    </tr>\n",
       "    <tr>\n",
       "      <th>2</th>\n",
       "      <td>Caucasian</td>\n",
       "      <td>0</td>\n",
       "      <td>1</td>\n",
       "      <td>1</td>\n",
       "      <td>1</td>\n",
       "      <td>7</td>\n",
       "      <td>1</td>\n",
       "      <td>Unknown</td>\n",
       "      <td>51</td>\n",
       "      <td>0</td>\n",
       "      <td>...</td>\n",
       "      <td>0</td>\n",
       "      <td>1</td>\n",
       "      <td>1</td>\n",
       "      <td>0</td>\n",
       "      <td>1</td>\n",
       "      <td>Neoplasms</td>\n",
       "      <td>Emergency</td>\n",
       "      <td>Discharged home</td>\n",
       "      <td>Emergency</td>\n",
       "      <td>0</td>\n",
       "    </tr>\n",
       "    <tr>\n",
       "      <th>3</th>\n",
       "      <td>AfricanAmerican</td>\n",
       "      <td>1</td>\n",
       "      <td>1</td>\n",
       "      <td>1</td>\n",
       "      <td>1</td>\n",
       "      <td>7</td>\n",
       "      <td>9</td>\n",
       "      <td>Unknown</td>\n",
       "      <td>47</td>\n",
       "      <td>2</td>\n",
       "      <td>...</td>\n",
       "      <td>1</td>\n",
       "      <td>0</td>\n",
       "      <td>1</td>\n",
       "      <td>1</td>\n",
       "      <td>0</td>\n",
       "      <td>Endocrine</td>\n",
       "      <td>Emergency</td>\n",
       "      <td>Discharged home</td>\n",
       "      <td>Emergency</td>\n",
       "      <td>0</td>\n",
       "    </tr>\n",
       "    <tr>\n",
       "      <th>4</th>\n",
       "      <td>Caucasian</td>\n",
       "      <td>0</td>\n",
       "      <td>1</td>\n",
       "      <td>2</td>\n",
       "      <td>1</td>\n",
       "      <td>2</td>\n",
       "      <td>3</td>\n",
       "      <td>Unknown</td>\n",
       "      <td>31</td>\n",
       "      <td>6</td>\n",
       "      <td>...</td>\n",
       "      <td>1</td>\n",
       "      <td>0</td>\n",
       "      <td>1</td>\n",
       "      <td>1</td>\n",
       "      <td>0</td>\n",
       "      <td>Circulatory system</td>\n",
       "      <td>Emergency</td>\n",
       "      <td>Discharged home</td>\n",
       "      <td>Referral</td>\n",
       "      <td>0</td>\n",
       "    </tr>\n",
       "    <tr>\n",
       "      <th>...</th>\n",
       "      <td>...</td>\n",
       "      <td>...</td>\n",
       "      <td>...</td>\n",
       "      <td>...</td>\n",
       "      <td>...</td>\n",
       "      <td>...</td>\n",
       "      <td>...</td>\n",
       "      <td>...</td>\n",
       "      <td>...</td>\n",
       "      <td>...</td>\n",
       "      <td>...</td>\n",
       "      <td>...</td>\n",
       "      <td>...</td>\n",
       "      <td>...</td>\n",
       "      <td>...</td>\n",
       "      <td>...</td>\n",
       "      <td>...</td>\n",
       "      <td>...</td>\n",
       "      <td>...</td>\n",
       "      <td>...</td>\n",
       "      <td>...</td>\n",
       "    </tr>\n",
       "    <tr>\n",
       "      <th>50026</th>\n",
       "      <td>AfricanAmerican</td>\n",
       "      <td>0</td>\n",
       "      <td>2</td>\n",
       "      <td>2</td>\n",
       "      <td>1</td>\n",
       "      <td>1</td>\n",
       "      <td>8</td>\n",
       "      <td>Internal Medicine</td>\n",
       "      <td>52</td>\n",
       "      <td>2</td>\n",
       "      <td>...</td>\n",
       "      <td>1</td>\n",
       "      <td>1</td>\n",
       "      <td>1</td>\n",
       "      <td>1</td>\n",
       "      <td>0</td>\n",
       "      <td>Neoplasms</td>\n",
       "      <td>Emergency</td>\n",
       "      <td>Discharged home</td>\n",
       "      <td>Referral</td>\n",
       "      <td>0</td>\n",
       "    </tr>\n",
       "    <tr>\n",
       "      <th>50027</th>\n",
       "      <td>Caucasian</td>\n",
       "      <td>0</td>\n",
       "      <td>2</td>\n",
       "      <td>2</td>\n",
       "      <td>1</td>\n",
       "      <td>1</td>\n",
       "      <td>1</td>\n",
       "      <td>Oncology</td>\n",
       "      <td>42</td>\n",
       "      <td>0</td>\n",
       "      <td>...</td>\n",
       "      <td>0</td>\n",
       "      <td>0</td>\n",
       "      <td>0</td>\n",
       "      <td>0</td>\n",
       "      <td>1</td>\n",
       "      <td>Neoplasms</td>\n",
       "      <td>Emergency</td>\n",
       "      <td>Discharged home</td>\n",
       "      <td>Referral</td>\n",
       "      <td>0</td>\n",
       "    </tr>\n",
       "    <tr>\n",
       "      <th>50028</th>\n",
       "      <td>Caucasian</td>\n",
       "      <td>0</td>\n",
       "      <td>2</td>\n",
       "      <td>2</td>\n",
       "      <td>1</td>\n",
       "      <td>1</td>\n",
       "      <td>5</td>\n",
       "      <td>Unknown</td>\n",
       "      <td>26</td>\n",
       "      <td>1</td>\n",
       "      <td>...</td>\n",
       "      <td>0</td>\n",
       "      <td>0</td>\n",
       "      <td>0</td>\n",
       "      <td>0</td>\n",
       "      <td>0</td>\n",
       "      <td>Endocrine</td>\n",
       "      <td>Emergency</td>\n",
       "      <td>Discharged home</td>\n",
       "      <td>Referral</td>\n",
       "      <td>0</td>\n",
       "    </tr>\n",
       "    <tr>\n",
       "      <th>50029</th>\n",
       "      <td>Caucasian</td>\n",
       "      <td>0</td>\n",
       "      <td>2</td>\n",
       "      <td>1</td>\n",
       "      <td>3</td>\n",
       "      <td>1</td>\n",
       "      <td>5</td>\n",
       "      <td>Unknown</td>\n",
       "      <td>31</td>\n",
       "      <td>2</td>\n",
       "      <td>...</td>\n",
       "      <td>1</td>\n",
       "      <td>0</td>\n",
       "      <td>1</td>\n",
       "      <td>1</td>\n",
       "      <td>0</td>\n",
       "      <td>Injury/Poisoning</td>\n",
       "      <td>Emergency</td>\n",
       "      <td>Additional care</td>\n",
       "      <td>Referral</td>\n",
       "      <td>0</td>\n",
       "    </tr>\n",
       "    <tr>\n",
       "      <th>50030</th>\n",
       "      <td>Caucasian</td>\n",
       "      <td>0</td>\n",
       "      <td>2</td>\n",
       "      <td>2</td>\n",
       "      <td>1</td>\n",
       "      <td>1</td>\n",
       "      <td>2</td>\n",
       "      <td>Internal Medicine</td>\n",
       "      <td>16</td>\n",
       "      <td>0</td>\n",
       "      <td>...</td>\n",
       "      <td>1</td>\n",
       "      <td>0</td>\n",
       "      <td>1</td>\n",
       "      <td>0</td>\n",
       "      <td>0</td>\n",
       "      <td>Endocrine</td>\n",
       "      <td>Emergency</td>\n",
       "      <td>Discharged home</td>\n",
       "      <td>Referral</td>\n",
       "      <td>0</td>\n",
       "    </tr>\n",
       "  </tbody>\n",
       "</table>\n",
       "<p>50031 rows × 25 columns</p>\n",
       "</div>"
      ]
     },
     "execution_count": 978,
     "metadata": {},
     "output_type": "execute_result"
    }
   ],
   "execution_count": 978
  },
  {
   "cell_type": "code",
   "id": "79730ae61e85a90f",
   "metadata": {
    "ExecuteTime": {
     "end_time": "2024-08-27T03:40:04.329687Z",
     "start_time": "2024-08-27T03:40:04.318742Z"
    }
   },
   "source": [
    "# select non-object columns\n",
    "correlation_vars = d1[d1.select_dtypes(exclude='object').columns]"
   ],
   "outputs": [],
   "execution_count": 982
  },
  {
   "metadata": {
    "ExecuteTime": {
     "end_time": "2024-08-27T03:40:21.331085Z",
     "start_time": "2024-08-27T03:40:21.291489Z"
    }
   },
   "cell_type": "code",
   "source": "correlation_matrix = correlation_vars.corr()",
   "id": "8eac12c011a7bf3",
   "outputs": [],
   "execution_count": 983
  },
  {
   "metadata": {
    "ExecuteTime": {
     "end_time": "2024-08-27T03:49:39.099953Z",
     "start_time": "2024-08-27T03:49:38.125019Z"
    }
   },
   "cell_type": "code",
   "source": [
    "plt.figure(figsize=(14, 10))\n",
    "sns.heatmap(correlation_matrix, annot=True, fmt=\".2f\", cmap='RdYlGn_r', linewidths=0.5)"
   ],
   "id": "17e189dd1e45ce77",
   "outputs": [
    {
     "data": {
      "text/plain": [
       "<Axes: >"
      ]
     },
     "execution_count": 1009,
     "metadata": {},
     "output_type": "execute_result"
    },
    {
     "data": {
      "text/plain": [
       "<Figure size 1400x1000 with 2 Axes>"
      ],
      "image/png": "[encoded data removed]"
     },
     "metadata": {},
     "output_type": "display_data"
    }
   ],
   "execution_count": 1009
  },
  {
   "metadata": {},
   "cell_type": "code",
   "outputs": [],
   "execution_count": null,
   "source": "",
   "id": "39a3fe87dd9ce55a"
  }
 ],
 "metadata": {
  "kernelspec": {
   "display_name": "Python 3 (ipykernel)",
   "language": "python",
   "name": "python3"
  },
  "language_info": {
   "codemirror_mode": {
    "name": "ipython",
    "version": 3
   },
   "file_extension": ".py",
   "mimetype": "text/x-python",
   "name": "python",
   "nbconvert_exporter": "python",
   "pygments_lexer": "ipython3",
   "version": "3.11.5"
  }
 },
 "nbformat": 4,
 "nbformat_minor": 5
}
