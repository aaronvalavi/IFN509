{
 "cells": [
  {
   "cell_type": "code",
   "id": "initial_id",
   "metadata": {
    "ExecuteTime": {
     "end_time": "2024-08-14T04:00:48.080096Z",
     "start_time": "2024-08-14T04:00:48.076045Z"
    }
   },
   "source": [
    "import pandas as pd\n",
    "import numpy as np"
   ],
   "outputs": [],
   "execution_count": 1
  },
  {
   "cell_type": "code",
   "id": "374d410624fae72e",
   "metadata": {
    "ExecuteTime": {
     "end_time": "2024-08-14T04:00:48.413316Z",
     "start_time": "2024-08-14T04:00:48.193473Z"
    }
   },
   "source": [
    "d1  = pd.read_csv('../data/D1.csv', low_memory=False)"
   ],
   "outputs": [],
   "execution_count": 2
  },
  {
   "cell_type": "code",
   "id": "f5365369136997d6",
   "metadata": {
    "ExecuteTime": {
     "end_time": "2024-08-14T04:00:48.554140Z",
     "start_time": "2024-08-14T04:00:48.515306Z"
    }
   },
   "source": [
    "d1.info()"
   ],
   "outputs": [
    {
     "name": "stdout",
     "output_type": "stream",
     "text": [
      "<class 'pandas.core.frame.DataFrame'>\n",
      "RangeIndex: 50031 entries, 0 to 50030\n",
      "Data columns (total 39 columns):\n",
      " #   Column                    Non-Null Count  Dtype \n",
      "---  ------                    --------------  ----- \n",
      " 0   encounter_id              50031 non-null  int64 \n",
      " 1   patient_nbr               50031 non-null  int64 \n",
      " 2   race                      50031 non-null  object\n",
      " 3   gender                    50031 non-null  object\n",
      " 4   age                       50031 non-null  object\n",
      " 5   weight                    50031 non-null  object\n",
      " 6   admission_type_id         50031 non-null  int64 \n",
      " 7   discharge_disposition_id  50031 non-null  int64 \n",
      " 8   admission_source_id       50031 non-null  int64 \n",
      " 9   length_of_stay            50031 non-null  int64 \n",
      " 10  payer_code                50031 non-null  object\n",
      " 11  medical_specialty         50031 non-null  object\n",
      " 12  num_lab_procedures        50031 non-null  int64 \n",
      " 13  num_procedures            50031 non-null  int64 \n",
      " 14  num_medications           50031 non-null  int64 \n",
      " 15  number_outpatient         50031 non-null  object\n",
      " 16  number_emergency          50031 non-null  object\n",
      " 17  number_inpatient          50031 non-null  object\n",
      " 18  diag_1                    50031 non-null  object\n",
      " 19  diag_2                    50031 non-null  object\n",
      " 20  diag_3                    50031 non-null  object\n",
      " 21  number_diagnoses          50031 non-null  int64 \n",
      " 22  diabetes                  50031 non-null  object\n",
      " 23  max_glu_serum             4639 non-null   object\n",
      " 24  A1Cresult                 7613 non-null   object\n",
      " 25  metformin                 50031 non-null  object\n",
      " 26  repaglinide               50031 non-null  object\n",
      " 27  nateglinide               50031 non-null  object\n",
      " 28  chlorpropamide            50031 non-null  object\n",
      " 29  glimepiride               50031 non-null  object\n",
      " 30  acetohexamide             50031 non-null  object\n",
      " 31  glipizide                 50031 non-null  object\n",
      " 32  glyburide                 50031 non-null  object\n",
      " 33  tolbutamide               50031 non-null  object\n",
      " 34  insulin                   50031 non-null  object\n",
      " 35  change                    50031 non-null  object\n",
      " 36  diabetesMed               50031 non-null  object\n",
      " 37  readmitted                50031 non-null  object\n",
      " 38  single_day_admission      50031 non-null  object\n",
      "dtypes: int64(10), object(29)\n",
      "memory usage: 14.9+ MB\n"
     ]
    }
   ],
   "execution_count": 3
  },
  {
   "cell_type": "code",
   "id": "baabbd6d74491ba0",
   "metadata": {
    "ExecuteTime": {
     "end_time": "2024-08-14T04:00:48.656379Z",
     "start_time": "2024-08-14T04:00:48.648314Z"
    }
   },
   "source": [
    "d1.gender.value_counts(dropna=False)"
   ],
   "outputs": [
    {
     "data": {
      "text/plain": [
       "gender\n",
       "Female             27000\n",
       "Male               23030\n",
       "Unknown/Invalid        1\n",
       "Name: count, dtype: int64"
      ]
     },
     "execution_count": 4,
     "metadata": {},
     "output_type": "execute_result"
    }
   ],
   "execution_count": 4
  },
  {
   "cell_type": "code",
   "id": "2552ff64-5f99-40e2-914b-a0dfff2c867d",
   "metadata": {
    "ExecuteTime": {
     "end_time": "2024-08-14T04:00:48.778356Z",
     "start_time": "2024-08-14T04:00:48.771850Z"
    }
   },
   "source": [
    "d1.weight.value_counts(dropna=False)"
   ],
   "outputs": [
    {
     "data": {
      "text/plain": [
       "weight\n",
       "?            48169\n",
       "[75-100)       794\n",
       "[50-75)        550\n",
       "[100-125)      316\n",
       "[125-150)       73\n",
       "[25-50)         68\n",
       "[0-25)          37\n",
       "[150-175)       17\n",
       "[175-200)        6\n",
       ">200             1\n",
       "Name: count, dtype: int64"
      ]
     },
     "execution_count": 5,
     "metadata": {},
     "output_type": "execute_result"
    }
   ],
   "execution_count": 5
  },
  {
   "cell_type": "code",
   "id": "a660c6a5-0757-41cf-8127-b1eae6ce5c56",
   "metadata": {
    "ExecuteTime": {
     "end_time": "2024-08-14T04:00:48.861428Z",
     "start_time": "2024-08-14T04:00:48.852967Z"
    }
   },
   "source": [
    "d1.number_emergency.value_counts(dropna=False)"
   ],
   "outputs": [
    {
     "data": {
      "text/plain": [
       "number_emergency\n",
       "0     46185\n",
       "1      2629\n",
       "2       644\n",
       "3       232\n",
       "4       132\n",
       "?        69\n",
       "5        45\n",
       "6        27\n",
       "7        24\n",
       "8        16\n",
       "9        10\n",
       "10        8\n",
       "11        3\n",
       "22        2\n",
       "25        1\n",
       "13        1\n",
       "42        1\n",
       "16        1\n",
       "28        1\n",
       "Name: count, dtype: int64"
      ]
     },
     "execution_count": 6,
     "metadata": {},
     "output_type": "execute_result"
    }
   ],
   "execution_count": 6
  },
  {
   "cell_type": "markdown",
   "id": "d6e0d3c2338165f9",
   "metadata": {},
   "source": [
    "Make a copy of the original dataframe to correct the mismatched variables"
   ]
  },
  {
   "metadata": {
    "ExecuteTime": {
     "end_time": "2024-08-14T04:00:49.157372Z",
     "start_time": "2024-08-14T04:00:49.148455Z"
    }
   },
   "cell_type": "code",
   "source": "d1_copy = d1.copy(deep=True)",
   "id": "2268a4bc10606cb6",
   "outputs": [],
   "execution_count": 7
  },
  {
   "metadata": {},
   "cell_type": "markdown",
   "source": "Fix up the mismatched data",
   "id": "eb387dad106de401"
  },
  {
   "metadata": {
    "ExecuteTime": {
     "end_time": "2024-08-14T04:00:49.451103Z",
     "start_time": "2024-08-14T04:00:49.428426Z"
    }
   },
   "cell_type": "code",
   "source": [
    "d1_copy['number_outpatient'] = d1_copy['number_outpatient'].replace('?', np.nan).astype('Int64')\n",
    "d1_copy['number_emergency'] = d1_copy['number_emergency'].replace('?', np.nan).astype('Int64')\n",
    "d1_copy['number_inpatient'] = d1_copy['number_emergency'].replace('?', np.nan).astype('Int64')\n"
   ],
   "id": "b607ead2fd8de93d",
   "outputs": [],
   "execution_count": 8
  },
  {
   "metadata": {
    "ExecuteTime": {
     "end_time": "2024-08-14T04:00:49.569984Z",
     "start_time": "2024-08-14T04:00:49.561968Z"
    }
   },
   "cell_type": "code",
   "source": "d1_copy[['number_outpatient', 'number_emergency', 'number_inpatient']].info()",
   "id": "b19d25a635f696e0",
   "outputs": [
    {
     "name": "stdout",
     "output_type": "stream",
     "text": [
      "<class 'pandas.core.frame.DataFrame'>\n",
      "RangeIndex: 50031 entries, 0 to 50030\n",
      "Data columns (total 3 columns):\n",
      " #   Column             Non-Null Count  Dtype\n",
      "---  ------             --------------  -----\n",
      " 0   number_outpatient  50011 non-null  Int64\n",
      " 1   number_emergency   49962 non-null  Int64\n",
      " 2   number_inpatient   49962 non-null  Int64\n",
      "dtypes: Int64(3)\n",
      "memory usage: 1.3 MB\n"
     ]
    }
   ],
   "execution_count": 9
  },
  {
   "metadata": {
    "ExecuteTime": {
     "end_time": "2024-08-14T04:00:49.794140Z",
     "start_time": "2024-08-14T04:00:49.791342Z"
    }
   },
   "cell_type": "code",
   "source": "",
   "id": "fefc04214bd90416",
   "outputs": [],
   "execution_count": null
  },
  {
   "metadata": {},
   "cell_type": "markdown",
   "source": "### Task 2 - EDA",
   "id": "3a5f645c7b1f3063"
  },
  {
   "metadata": {
    "ExecuteTime": {
     "end_time": "2024-08-14T04:00:49.900189Z",
     "start_time": "2024-08-14T04:00:49.896518Z"
    }
   },
   "cell_type": "code",
   "source": [
    "import seaborn as sns\n",
    "import matplotlib.pyplot as plt"
   ],
   "id": "7aa95c5e3defd6d3",
   "outputs": [],
   "execution_count": 10
  },
  {
   "metadata": {
    "ExecuteTime": {
     "end_time": "2024-08-14T04:00:50.122066Z",
     "start_time": "2024-08-14T04:00:50.079156Z"
    }
   },
   "cell_type": "code",
   "source": "d1.isna().sum()",
   "id": "d2c3984e7dc85843",
   "outputs": [
    {
     "data": {
      "text/plain": [
       "encounter_id                    0\n",
       "patient_nbr                     0\n",
       "race                            0\n",
       "gender                          0\n",
       "age                             0\n",
       "weight                          0\n",
       "admission_type_id               0\n",
       "discharge_disposition_id        0\n",
       "admission_source_id             0\n",
       "length_of_stay                  0\n",
       "payer_code                      0\n",
       "medical_specialty               0\n",
       "num_lab_procedures              0\n",
       "num_procedures                  0\n",
       "num_medications                 0\n",
       "number_outpatient               0\n",
       "number_emergency                0\n",
       "number_inpatient                0\n",
       "diag_1                          0\n",
       "diag_2                          0\n",
       "diag_3                          0\n",
       "number_diagnoses                0\n",
       "diabetes                        0\n",
       "max_glu_serum               45392\n",
       "A1Cresult                   42418\n",
       "metformin                       0\n",
       "repaglinide                     0\n",
       "nateglinide                     0\n",
       "chlorpropamide                  0\n",
       "glimepiride                     0\n",
       "acetohexamide                   0\n",
       "glipizide                       0\n",
       "glyburide                       0\n",
       "tolbutamide                     0\n",
       "insulin                         0\n",
       "change                          0\n",
       "diabetesMed                     0\n",
       "readmitted                      0\n",
       "single_day_admission            0\n",
       "dtype: int64"
      ]
     },
     "execution_count": 11,
     "metadata": {},
     "output_type": "execute_result"
    }
   ],
   "execution_count": 11
  },
  {
   "metadata": {
    "ExecuteTime": {
     "end_time": "2024-08-14T04:00:50.260642Z",
     "start_time": "2024-08-14T04:00:50.255396Z"
    }
   },
   "cell_type": "code",
   "source": "numeric_cols = d1_copy.select_dtypes(include=['Int64'])",
   "id": "303e2671b02728e7",
   "outputs": [],
   "execution_count": 12
  },
  {
   "metadata": {},
   "cell_type": "markdown",
   "source": "Ignore the encounter_id and patient_nbr columns. Also the admission_type_id, discharge_disposition_id, and admission_source_id as these are reference keys for categorical variables in lookup tables \n",
   "id": "c6c33e8c88160374"
  },
  {
   "metadata": {
    "ExecuteTime": {
     "end_time": "2024-08-14T04:00:50.371583Z",
     "start_time": "2024-08-14T04:00:50.362690Z"
    }
   },
   "cell_type": "code",
   "source": "numeric_cols.info()",
   "id": "19cd57aa1e18a7b7",
   "outputs": [
    {
     "name": "stdout",
     "output_type": "stream",
     "text": [
      "<class 'pandas.core.frame.DataFrame'>\n",
      "RangeIndex: 50031 entries, 0 to 50030\n",
      "Data columns (total 13 columns):\n",
      " #   Column                    Non-Null Count  Dtype\n",
      "---  ------                    --------------  -----\n",
      " 0   encounter_id              50031 non-null  int64\n",
      " 1   patient_nbr               50031 non-null  int64\n",
      " 2   admission_type_id         50031 non-null  int64\n",
      " 3   discharge_disposition_id  50031 non-null  int64\n",
      " 4   admission_source_id       50031 non-null  int64\n",
      " 5   length_of_stay            50031 non-null  int64\n",
      " 6   num_lab_procedures        50031 non-null  int64\n",
      " 7   num_procedures            50031 non-null  int64\n",
      " 8   num_medications           50031 non-null  int64\n",
      " 9   number_outpatient         50011 non-null  Int64\n",
      " 10  number_emergency          49962 non-null  Int64\n",
      " 11  number_inpatient          49962 non-null  Int64\n",
      " 12  number_diagnoses          50031 non-null  int64\n",
      "dtypes: Int64(3), int64(10)\n",
      "memory usage: 5.1 MB\n"
     ]
    }
   ],
   "execution_count": 13
  },
  {
   "metadata": {
    "ExecuteTime": {
     "end_time": "2024-08-14T04:00:50.582151Z",
     "start_time": "2024-08-14T04:00:50.577748Z"
    }
   },
   "cell_type": "code",
   "source": "d1_numeric = d1_copy[['length_of_stay', 'num_lab_procedures', 'num_procedures', 'num_medications', 'number_diagnoses']]",
   "id": "f2447a9321b689d2",
   "outputs": [],
   "execution_count": 14
  },
  {
   "metadata": {
    "ExecuteTime": {
     "end_time": "2024-08-14T04:00:51.071262Z",
     "start_time": "2024-08-14T04:00:50.801528Z"
    }
   },
   "cell_type": "code",
   "source": "sns.histplot(d1['length_of_stay'], bins=6)",
   "id": "6cacacc03e54c207",
   "outputs": [
    {
     "data": {
      "text/plain": [
       "<Axes: xlabel='length_of_stay', ylabel='Count'>"
      ]
     },
     "execution_count": 15,
     "metadata": {},
     "output_type": "execute_result"
    },
    {
     "data": {
      "text/plain": [
       "<Figure size 640x480 with 1 Axes>"
      ],
      "image/png": "[encoded data removed]"
     },
     "metadata": {},
     "output_type": "display_data"
    }
   ],
   "execution_count": 15
  },
  {
   "metadata": {
    "ExecuteTime": {
     "end_time": "2024-08-14T04:01:47.979596Z",
     "start_time": "2024-08-14T04:01:47.359315Z"
    }
   },
   "cell_type": "code",
   "source": [
    "# make an IQR with sns using the d1_numeric dataframe\n",
    "plt.figure(figsize=(10, 5))\n",
    "sns.boxplot(data=d1_numeric)\n",
    "plt.xticks(rotation=45)\n",
    "plt.show()\n"
   ],
   "id": "6b09aa2479e82b88",
   "outputs": [
    {
     "data": {
      "text/plain": [
       "<Figure size 1000x500 with 1 Axes>"
      ],
      "image/png": "[encoded data removed]"
     },
     "metadata": {},
     "output_type": "display_data"
    }
   ],
   "execution_count": 19
  },
  {
   "metadata": {},
   "cell_type": "code",
   "outputs": [],
   "execution_count": null,
   "source": "",
   "id": "e67cf4be095ad49a"
  }
 ],
 "metadata": {
  "kernelspec": {
   "display_name": "Python 3 (ipykernel)",
   "language": "python",
   "name": "python3"
  },
  "language_info": {
   "codemirror_mode": {
    "name": "ipython",
    "version": 3
   },
   "file_extension": ".py",
   "mimetype": "text/x-python",
   "name": "python",
   "nbconvert_exporter": "python",
   "pygments_lexer": "ipython3",
   "version": "3.11.9"
  }
 },
 "nbformat": 4,
 "nbformat_minor": 5
}
