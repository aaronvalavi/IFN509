{
 "cells": [
  {
   "cell_type": "code",
   "id": "initial_id",
   "metadata": {
    "ExecuteTime": {
     "end_time": "2024-08-16T04:07:13.597335Z",
     "start_time": "2024-08-16T04:07:13.212294Z"
    }
   },
   "source": [
    "import pandas as pd\n",
    "import numpy as np"
   ],
   "outputs": [],
   "execution_count": 1
  },
  {
   "cell_type": "code",
   "id": "374d410624fae72e",
   "metadata": {
    "ExecuteTime": {
     "end_time": "2024-08-16T04:07:13.713456Z",
     "start_time": "2024-08-16T04:07:13.598471Z"
    }
   },
   "source": [
    "d1  = pd.read_csv('../data/D1.csv', low_memory=False)"
   ],
   "outputs": [],
   "execution_count": 2
  },
  {
   "cell_type": "code",
   "id": "f5365369136997d6",
   "metadata": {
    "ExecuteTime": {
     "end_time": "2024-08-16T04:07:13.748814Z",
     "start_time": "2024-08-16T04:07:13.714461Z"
    }
   },
   "source": [
    "d1.info()"
   ],
   "outputs": [
    {
     "name": "stdout",
     "output_type": "stream",
     "text": [
      "<class 'pandas.core.frame.DataFrame'>\n",
      "RangeIndex: 50031 entries, 0 to 50030\n",
      "Data columns (total 39 columns):\n",
      " #   Column                    Non-Null Count  Dtype \n",
      "---  ------                    --------------  ----- \n",
      " 0   encounter_id              50031 non-null  int64 \n",
      " 1   patient_nbr               50031 non-null  int64 \n",
      " 2   race                      50031 non-null  object\n",
      " 3   gender                    50031 non-null  object\n",
      " 4   age                       50031 non-null  object\n",
      " 5   weight                    50031 non-null  object\n",
      " 6   admission_type_id         50031 non-null  int64 \n",
      " 7   discharge_disposition_id  50031 non-null  int64 \n",
      " 8   admission_source_id       50031 non-null  int64 \n",
      " 9   length_of_stay            50031 non-null  int64 \n",
      " 10  payer_code                50031 non-null  object\n",
      " 11  medical_specialty         50031 non-null  object\n",
      " 12  num_lab_procedures        50031 non-null  int64 \n",
      " 13  num_procedures            50031 non-null  int64 \n",
      " 14  num_medications           50031 non-null  int64 \n",
      " 15  number_outpatient         50031 non-null  object\n",
      " 16  number_emergency          50031 non-null  object\n",
      " 17  number_inpatient          50031 non-null  object\n",
      " 18  diag_1                    50031 non-null  object\n",
      " 19  diag_2                    50031 non-null  object\n",
      " 20  diag_3                    50031 non-null  object\n",
      " 21  number_diagnoses          50031 non-null  int64 \n",
      " 22  diabetes                  50031 non-null  object\n",
      " 23  max_glu_serum             4639 non-null   object\n",
      " 24  A1Cresult                 7613 non-null   object\n",
      " 25  metformin                 50031 non-null  object\n",
      " 26  repaglinide               50031 non-null  object\n",
      " 27  nateglinide               50031 non-null  object\n",
      " 28  chlorpropamide            50031 non-null  object\n",
      " 29  glimepiride               50031 non-null  object\n",
      " 30  acetohexamide             50031 non-null  object\n",
      " 31  glipizide                 50031 non-null  object\n",
      " 32  glyburide                 50031 non-null  object\n",
      " 33  tolbutamide               50031 non-null  object\n",
      " 34  insulin                   50031 non-null  object\n",
      " 35  change                    50031 non-null  object\n",
      " 36  diabetesMed               50031 non-null  object\n",
      " 37  readmitted                50031 non-null  object\n",
      " 38  single_day_admission      50031 non-null  object\n",
      "dtypes: int64(10), object(29)\n",
      "memory usage: 14.9+ MB\n"
     ]
    }
   ],
   "execution_count": 3
  },
  {
   "cell_type": "code",
   "id": "baabbd6d74491ba0",
   "metadata": {
    "ExecuteTime": {
     "end_time": "2024-08-16T04:07:13.762665Z",
     "start_time": "2024-08-16T04:07:13.750042Z"
    }
   },
   "source": [
    "d1.gender.value_counts(dropna=False)"
   ],
   "outputs": [
    {
     "data": {
      "text/plain": [
       "gender\n",
       "Female             27000\n",
       "Male               23030\n",
       "Unknown/Invalid        1\n",
       "Name: count, dtype: int64"
      ]
     },
     "execution_count": 4,
     "metadata": {},
     "output_type": "execute_result"
    }
   ],
   "execution_count": 4
  },
  {
   "cell_type": "code",
   "id": "2552ff64-5f99-40e2-914b-a0dfff2c867d",
   "metadata": {
    "ExecuteTime": {
     "end_time": "2024-08-16T04:07:13.777921Z",
     "start_time": "2024-08-16T04:07:13.763670Z"
    }
   },
   "source": [
    "d1.weight.value_counts(dropna=False)"
   ],
   "outputs": [
    {
     "data": {
      "text/plain": [
       "weight\n",
       "?            48169\n",
       "[75-100)       794\n",
       "[50-75)        550\n",
       "[100-125)      316\n",
       "[125-150)       73\n",
       "[25-50)         68\n",
       "[0-25)          37\n",
       "[150-175)       17\n",
       "[175-200)        6\n",
       ">200             1\n",
       "Name: count, dtype: int64"
      ]
     },
     "execution_count": 5,
     "metadata": {},
     "output_type": "execute_result"
    }
   ],
   "execution_count": 5
  },
  {
   "cell_type": "code",
   "id": "a660c6a5-0757-41cf-8127-b1eae6ce5c56",
   "metadata": {
    "ExecuteTime": {
     "end_time": "2024-08-16T04:07:13.798902Z",
     "start_time": "2024-08-16T04:07:13.779456Z"
    }
   },
   "source": [
    "d1.number_emergency.value_counts(dropna=False)"
   ],
   "outputs": [
    {
     "data": {
      "text/plain": [
       "number_emergency\n",
       "0     46185\n",
       "1      2629\n",
       "2       644\n",
       "3       232\n",
       "4       132\n",
       "?        69\n",
       "5        45\n",
       "6        27\n",
       "7        24\n",
       "8        16\n",
       "9        10\n",
       "10        8\n",
       "11        3\n",
       "22        2\n",
       "25        1\n",
       "13        1\n",
       "42        1\n",
       "16        1\n",
       "28        1\n",
       "Name: count, dtype: int64"
      ]
     },
     "execution_count": 6,
     "metadata": {},
     "output_type": "execute_result"
    }
   ],
   "execution_count": 6
  },
  {
   "cell_type": "markdown",
   "id": "d6e0d3c2338165f9",
   "metadata": {},
   "source": [
    "Make a copy of the original dataframe to correct the mismatched variables"
   ]
  },
  {
   "metadata": {
    "ExecuteTime": {
     "end_time": "2024-08-16T04:07:13.815160Z",
     "start_time": "2024-08-16T04:07:13.800960Z"
    }
   },
   "cell_type": "code",
   "source": "d1_copy = d1.copy(deep=True)",
   "id": "2268a4bc10606cb6",
   "outputs": [],
   "execution_count": 7
  },
  {
   "metadata": {},
   "cell_type": "markdown",
   "source": "Fix up the mismatched data",
   "id": "eb387dad106de401"
  },
  {
   "metadata": {
    "ExecuteTime": {
     "end_time": "2024-08-16T04:07:13.837559Z",
     "start_time": "2024-08-16T04:07:13.816507Z"
    }
   },
   "cell_type": "code",
   "source": [
    "d1_copy['number_outpatient'] = d1_copy['number_outpatient'].replace('?', np.nan).astype('Int64')\n",
    "d1_copy['number_emergency'] = d1_copy['number_emergency'].replace('?', np.nan).astype('Int64')\n",
    "d1_copy['number_inpatient'] = d1_copy['number_emergency'].replace('?', np.nan).astype('Int64')\n"
   ],
   "id": "b607ead2fd8de93d",
   "outputs": [],
   "execution_count": 8
  },
  {
   "metadata": {
    "ExecuteTime": {
     "end_time": "2024-08-16T04:07:13.848597Z",
     "start_time": "2024-08-16T04:07:13.838650Z"
    }
   },
   "cell_type": "code",
   "source": "d1_copy[['number_outpatient', 'number_emergency', 'number_inpatient']].info()",
   "id": "b19d25a635f696e0",
   "outputs": [
    {
     "name": "stdout",
     "output_type": "stream",
     "text": [
      "<class 'pandas.core.frame.DataFrame'>\n",
      "RangeIndex: 50031 entries, 0 to 50030\n",
      "Data columns (total 3 columns):\n",
      " #   Column             Non-Null Count  Dtype\n",
      "---  ------             --------------  -----\n",
      " 0   number_outpatient  50011 non-null  Int64\n",
      " 1   number_emergency   49962 non-null  Int64\n",
      " 2   number_inpatient   49962 non-null  Int64\n",
      "dtypes: Int64(3)\n",
      "memory usage: 1.3 MB\n"
     ]
    }
   ],
   "execution_count": 9
  },
  {
   "metadata": {
    "ExecuteTime": {
     "end_time": "2024-08-16T04:07:13.852489Z",
     "start_time": "2024-08-16T04:07:13.849804Z"
    }
   },
   "cell_type": "code",
   "source": "",
   "id": "fefc04214bd90416",
   "outputs": [],
   "execution_count": 9
  },
  {
   "metadata": {},
   "cell_type": "markdown",
   "source": "### Task 2 - EDA",
   "id": "3a5f645c7b1f3063"
  },
  {
   "metadata": {
    "ExecuteTime": {
     "end_time": "2024-08-16T04:07:13.913026Z",
     "start_time": "2024-08-16T04:07:13.853562Z"
    }
   },
   "cell_type": "code",
   "source": [
    "import seaborn as sns\n",
    "import matplotlib.pyplot as plt"
   ],
   "id": "7aa95c5e3defd6d3",
   "outputs": [
    {
     "ename": "ModuleNotFoundError",
     "evalue": "No module named 'seaborn'",
     "output_type": "error",
     "traceback": [
      "\u001B[1;31m---------------------------------------------------------------------------\u001B[0m",
      "\u001B[1;31mModuleNotFoundError\u001B[0m                       Traceback (most recent call last)",
      "Cell \u001B[1;32mIn[10], line 1\u001B[0m\n\u001B[1;32m----> 1\u001B[0m \u001B[38;5;28;01mimport\u001B[39;00m \u001B[38;5;21;01mseaborn\u001B[39;00m \u001B[38;5;28;01mas\u001B[39;00m \u001B[38;5;21;01msns\u001B[39;00m\n\u001B[0;32m      2\u001B[0m \u001B[38;5;28;01mimport\u001B[39;00m \u001B[38;5;21;01mmatplotlib\u001B[39;00m\u001B[38;5;21;01m.\u001B[39;00m\u001B[38;5;21;01mpyplot\u001B[39;00m \u001B[38;5;28;01mas\u001B[39;00m \u001B[38;5;21;01mplt\u001B[39;00m\n",
      "\u001B[1;31mModuleNotFoundError\u001B[0m: No module named 'seaborn'"
     ]
    }
   ],
   "execution_count": 10
  },
  {
   "metadata": {},
   "cell_type": "code",
   "source": "d1.isna().sum()",
   "id": "d2c3984e7dc85843",
   "outputs": [],
   "execution_count": null
  },
  {
   "metadata": {},
   "cell_type": "code",
   "source": "numeric_cols = d1_copy.select_dtypes(include=['Int64'])",
   "id": "303e2671b02728e7",
   "outputs": [],
   "execution_count": null
  },
  {
   "metadata": {},
   "cell_type": "markdown",
   "source": "Ignore the encounter_id and patient_nbr columns. Also the admission_type_id, discharge_disposition_id, and admission_source_id as these are reference keys for categorical variables in lookup tables \n",
   "id": "c6c33e8c88160374"
  },
  {
   "metadata": {},
   "cell_type": "code",
   "source": "",
   "id": "ad8d6a8937c2b5a",
   "outputs": [],
   "execution_count": null
  },
  {
   "metadata": {},
   "cell_type": "code",
   "source": "",
   "id": "e2d34f2d09c2e81b",
   "outputs": [],
   "execution_count": null
  },
  {
   "metadata": {},
   "cell_type": "code",
   "source": "",
   "id": "daa0b230e7ef50e0",
   "outputs": [],
   "execution_count": null
  },
  {
   "metadata": {},
   "cell_type": "code",
   "source": "",
   "id": "aaeb197c4fb26ece",
   "outputs": [],
   "execution_count": null
  },
  {
   "metadata": {},
   "cell_type": "code",
   "source": "",
   "id": "d82c1fbb7bc3fc60",
   "outputs": [],
   "execution_count": null
  },
  {
   "metadata": {},
   "cell_type": "code",
   "source": "",
   "id": "18f8abee62b8ea0e",
   "outputs": [],
   "execution_count": null
  },
  {
   "metadata": {},
   "cell_type": "code",
   "source": "",
   "id": "6b52d945a01461a5",
   "outputs": [],
   "execution_count": null
  },
  {
   "metadata": {},
   "cell_type": "code",
   "source": "numeric_cols.info()",
   "id": "19cd57aa1e18a7b7",
   "outputs": [],
   "execution_count": null
  },
  {
   "metadata": {},
   "cell_type": "code",
   "source": "d1_numeric = d1_copy[['length_of_stay', 'num_lab_procedures', 'num_procedures', 'num_medications', 'number_diagnoses']]",
   "id": "f2447a9321b689d2",
   "outputs": [],
   "execution_count": null
  },
  {
   "metadata": {},
   "cell_type": "code",
   "source": "sns.histplot(d1['length_of_stay'], bins=6)",
   "id": "6cacacc03e54c207",
   "outputs": [],
   "execution_count": null
  },
  {
   "metadata": {},
   "cell_type": "code",
   "source": [
    "# make an IQR with sns using the d1_numeric dataframe\n",
    "plt.figure(figsize=(10, 5))\n",
    "sns.boxplot(data=d1_numeric)\n",
    "plt.xticks(rotation=45)\n",
    "plt.show()\n"
   ],
   "id": "6b09aa2479e82b88",
   "outputs": [],
   "execution_count": null
  },
  {
   "metadata": {},
   "cell_type": "code",
   "source": "",
   "id": "e67cf4be095ad49a",
   "outputs": [],
   "execution_count": null
  }
 ],
 "metadata": {
  "kernelspec": {
   "display_name": "Python 3 (ipykernel)",
   "language": "python",
   "name": "python3"
  },
  "language_info": {
   "codemirror_mode": {
    "name": "ipython",
    "version": 3
   },
   "file_extension": ".py",
   "mimetype": "text/x-python",
   "name": "python",
   "nbconvert_exporter": "python",
   "pygments_lexer": "ipython3",
   "version": "3.11.9"
  }
 },
 "nbformat": 4,
 "nbformat_minor": 5
}
