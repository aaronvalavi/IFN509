{
 "cells": [
  {
   "cell_type": "code",
   "id": "initial_id",
   "metadata": {
    "ExecuteTime": {
     "end_time": "2024-08-18T07:12:20.995123Z",
     "start_time": "2024-08-18T07:12:20.991864Z"
    }
   },
   "source": [
    "import pandas as pd\n",
    "import numpy as np\n",
    "import matplotlib.pyplot as plt"
   ],
   "outputs": [],
   "execution_count": 135
  },
  {
   "metadata": {
    "ExecuteTime": {
     "end_time": "2024-08-18T07:12:21.260431Z",
     "start_time": "2024-08-18T07:12:21.067859Z"
    }
   },
   "cell_type": "code",
   "source": "d1  = pd.read_csv('../data/D1.csv', low_memory=False)",
   "id": "374d410624fae72e",
   "outputs": [],
   "execution_count": 136
  },
  {
   "metadata": {
    "ExecuteTime": {
     "end_time": "2024-08-18T07:12:21.334448Z",
     "start_time": "2024-08-18T07:12:21.296960Z"
    }
   },
   "cell_type": "code",
   "source": "d1.info()",
   "id": "f5365369136997d6",
   "outputs": [
    {
     "name": "stdout",
     "output_type": "stream",
     "text": [
      "<class 'pandas.core.frame.DataFrame'>\n",
      "RangeIndex: 50031 entries, 0 to 50030\n",
      "Data columns (total 39 columns):\n",
      " #   Column                    Non-Null Count  Dtype \n",
      "---  ------                    --------------  ----- \n",
      " 0   encounter_id              50031 non-null  int64 \n",
      " 1   patient_nbr               50031 non-null  int64 \n",
      " 2   race                      50031 non-null  object\n",
      " 3   gender                    50031 non-null  object\n",
      " 4   age                       50031 non-null  object\n",
      " 5   weight                    50031 non-null  object\n",
      " 6   admission_type_id         50031 non-null  int64 \n",
      " 7   discharge_disposition_id  50031 non-null  int64 \n",
      " 8   admission_source_id       50031 non-null  int64 \n",
      " 9   length_of_stay            50031 non-null  int64 \n",
      " 10  payer_code                50031 non-null  object\n",
      " 11  medical_specialty         50031 non-null  object\n",
      " 12  num_lab_procedures        50031 non-null  int64 \n",
      " 13  num_procedures            50031 non-null  int64 \n",
      " 14  num_medications           50031 non-null  int64 \n",
      " 15  number_outpatient         50031 non-null  object\n",
      " 16  number_emergency          50031 non-null  object\n",
      " 17  number_inpatient          50031 non-null  object\n",
      " 18  diag_1                    50031 non-null  object\n",
      " 19  diag_2                    50031 non-null  object\n",
      " 20  diag_3                    50031 non-null  object\n",
      " 21  number_diagnoses          50031 non-null  int64 \n",
      " 22  diabetes                  50031 non-null  object\n",
      " 23  max_glu_serum             4639 non-null   object\n",
      " 24  A1Cresult                 7613 non-null   object\n",
      " 25  metformin                 50031 non-null  object\n",
      " 26  repaglinide               50031 non-null  object\n",
      " 27  nateglinide               50031 non-null  object\n",
      " 28  chlorpropamide            50031 non-null  object\n",
      " 29  glimepiride               50031 non-null  object\n",
      " 30  acetohexamide             50031 non-null  object\n",
      " 31  glipizide                 50031 non-null  object\n",
      " 32  glyburide                 50031 non-null  object\n",
      " 33  tolbutamide               50031 non-null  object\n",
      " 34  insulin                   50031 non-null  object\n",
      " 35  change                    50031 non-null  object\n",
      " 36  diabetesMed               50031 non-null  object\n",
      " 37  readmitted                50031 non-null  object\n",
      " 38  single_day_admission      50031 non-null  object\n",
      "dtypes: int64(10), object(29)\n",
      "memory usage: 14.9+ MB\n"
     ]
    }
   ],
   "execution_count": 137
  },
  {
   "metadata": {
    "ExecuteTime": {
     "end_time": "2024-08-18T07:12:21.411492Z",
     "start_time": "2024-08-18T07:12:21.404263Z"
    }
   },
   "cell_type": "code",
   "source": "d1.gender.value_counts(dropna=False)",
   "id": "baabbd6d74491ba0",
   "outputs": [
    {
     "data": {
      "text/plain": [
       "gender\n",
       "Female             27000\n",
       "Male               23030\n",
       "Unknown/Invalid        1\n",
       "Name: count, dtype: int64"
      ]
     },
     "execution_count": 138,
     "metadata": {},
     "output_type": "execute_result"
    }
   ],
   "execution_count": 138
  },
  {
   "metadata": {
    "ExecuteTime": {
     "end_time": "2024-08-18T07:12:21.484570Z",
     "start_time": "2024-08-18T07:12:21.477573Z"
    }
   },
   "cell_type": "code",
   "source": "d1.age.value_counts(dropna=False)",
   "id": "ad5ec893c126bfb0",
   "outputs": [
    {
     "data": {
      "text/plain": [
       "age\n",
       "[70-80)     13109\n",
       "[60-70)     10874\n",
       "[50-60)      8775\n",
       "[80-90)      7530\n",
       "[40-50)      5064\n",
       "[30-40)      2053\n",
       "[90-100)     1178\n",
       "[20-30)       842\n",
       "[10-20)       468\n",
       "[0-10)        138\n",
       "Name: count, dtype: int64"
      ]
     },
     "execution_count": 139,
     "metadata": {},
     "output_type": "execute_result"
    }
   ],
   "execution_count": 139
  },
  {
   "metadata": {
    "ExecuteTime": {
     "end_time": "2024-08-18T07:12:21.630173Z",
     "start_time": "2024-08-18T07:12:21.616859Z"
    }
   },
   "cell_type": "code",
   "source": "d1_copy = d1.copy(deep=True)",
   "id": "2268a4bc10606cb6",
   "outputs": [],
   "execution_count": 140
  },
  {
   "metadata": {},
   "cell_type": "markdown",
   "source": [
    "### Task 1 - Data Cleaning\n",
    "\n",
    "Categorise the age variable as a ordinal variable"
   ],
   "id": "1eb996ee7d2cc990"
  },
  {
   "metadata": {
    "ExecuteTime": {
     "end_time": "2024-08-18T07:14:41.509706Z",
     "start_time": "2024-08-18T07:14:41.506428Z"
    }
   },
   "cell_type": "code",
   "source": "age_categories = ['[0-10)', '[10-20)', '[20-30)', '[30-40)', '[40-50)', '[50-60)', '[60-70)', '[70-80)', '[80-90)', '[90-100)']",
   "id": "795a19a316ae89b2",
   "outputs": [],
   "execution_count": 173
  },
  {
   "metadata": {
    "ExecuteTime": {
     "end_time": "2024-08-18T07:14:41.694823Z",
     "start_time": "2024-08-18T07:14:41.690671Z"
    }
   },
   "cell_type": "code",
   "source": "d1_copy['age'] = pd.Categorical(d1_copy['age'], categories=age_categories, ordered=True)",
   "id": "f8fcc580f059fd29",
   "outputs": [],
   "execution_count": 174
  },
  {
   "metadata": {
    "ExecuteTime": {
     "end_time": "2024-08-18T07:17:17.833915Z",
     "start_time": "2024-08-18T07:17:17.827154Z"
    }
   },
   "cell_type": "code",
   "source": "d1_copy['age'].value_counts(dropna=False).sort_index()",
   "id": "3c26fe81ea780232",
   "outputs": [
    {
     "data": {
      "text/plain": [
       "age\n",
       "[0-10)        138\n",
       "[10-20)       468\n",
       "[20-30)       842\n",
       "[30-40)      2053\n",
       "[40-50)      5064\n",
       "[50-60)      8775\n",
       "[60-70)     10874\n",
       "[70-80)     13109\n",
       "[80-90)      7530\n",
       "[90-100)     1178\n",
       "Name: count, dtype: int64"
      ]
     },
     "execution_count": 182,
     "metadata": {},
     "output_type": "execute_result"
    }
   ],
   "execution_count": 182
  },
  {
   "metadata": {
    "ExecuteTime": {
     "end_time": "2024-08-18T07:17:27.796034Z",
     "start_time": "2024-08-18T07:17:27.792659Z"
    }
   },
   "cell_type": "code",
   "source": "weight_categories = ['?', '[0-25)', '[25-50)', '[50-75)', '[75-100)', '[100-125)', '[125-150)', '[150-175)', '[175-200)', '>200']",
   "id": "aee3b479f0705389",
   "outputs": [],
   "execution_count": 183
  },
  {
   "metadata": {
    "ExecuteTime": {
     "end_time": "2024-08-18T07:17:28.070659Z",
     "start_time": "2024-08-18T07:17:28.064438Z"
    }
   },
   "cell_type": "code",
   "source": "d1_copy['weight'] = pd.Categorical(d1_copy['weight'], categories=weight_categories, ordered=True)",
   "id": "bd3a3c4449d67792",
   "outputs": [],
   "execution_count": 184
  },
  {
   "metadata": {
    "ExecuteTime": {
     "end_time": "2024-08-18T07:17:28.597841Z",
     "start_time": "2024-08-18T07:17:28.589777Z"
    }
   },
   "cell_type": "code",
   "source": "d1_copy['weight'].value_counts(dropna=False).sort_index()",
   "id": "71e54b6b3e1af145",
   "outputs": [
    {
     "data": {
      "text/plain": [
       "weight\n",
       "?                0\n",
       "[0-25)          37\n",
       "[25-50)         68\n",
       "[50-75)        550\n",
       "[75-100)       794\n",
       "[100-125)      316\n",
       "[125-150)       73\n",
       "[150-175)       17\n",
       "[175-200)        6\n",
       ">200             1\n",
       "NaN          48169\n",
       "Name: count, dtype: int64"
      ]
     },
     "execution_count": 185,
     "metadata": {},
     "output_type": "execute_result"
    }
   ],
   "execution_count": 185
  },
  {
   "metadata": {
    "ExecuteTime": {
     "end_time": "2024-08-18T07:12:23.162759Z",
     "start_time": "2024-08-18T07:12:23.157439Z"
    }
   },
   "cell_type": "code",
   "source": "d1.number_emergency.value_counts(dropna=False)",
   "id": "a660c6a5-0757-41cf-8127-b1eae6ce5c56",
   "outputs": [
    {
     "data": {
      "text/plain": [
       "number_emergency\n",
       "0     46185\n",
       "1      2629\n",
       "2       644\n",
       "3       232\n",
       "4       132\n",
       "?        69\n",
       "5        45\n",
       "6        27\n",
       "7        24\n",
       "8        16\n",
       "9        10\n",
       "10        8\n",
       "11        3\n",
       "22        2\n",
       "25        1\n",
       "13        1\n",
       "42        1\n",
       "16        1\n",
       "28        1\n",
       "Name: count, dtype: int64"
      ]
     },
     "execution_count": 150,
     "metadata": {},
     "output_type": "execute_result"
    }
   ],
   "execution_count": 150
  },
  {
   "metadata": {},
   "cell_type": "markdown",
   "source": "Make a copy of the original dataframe to correct the mismatched variables",
   "id": "d6e0d3c2338165f9"
  },
  {
   "metadata": {},
   "cell_type": "markdown",
   "source": "Fix up the mismatched data",
   "id": "eb387dad106de401"
  },
  {
   "metadata": {
    "ExecuteTime": {
     "end_time": "2024-08-18T07:12:23.290522Z",
     "start_time": "2024-08-18T07:12:23.267593Z"
    }
   },
   "cell_type": "code",
   "source": [
    "d1_copy['number_outpatient'] = d1_copy['number_outpatient'].replace('?', np.nan).astype('Int64')\n",
    "d1_copy['number_emergency'] = d1_copy['number_emergency'].replace('?', np.nan).astype('Int64')\n",
    "d1_copy['number_inpatient'] = d1_copy['number_emergency'].replace('?', np.nan).astype('Int64')\n"
   ],
   "id": "b607ead2fd8de93d",
   "outputs": [],
   "execution_count": 151
  },
  {
   "metadata": {
    "ExecuteTime": {
     "end_time": "2024-08-18T07:12:23.376174Z",
     "start_time": "2024-08-18T07:12:23.368743Z"
    }
   },
   "cell_type": "code",
   "source": "d1_copy[['number_outpatient', 'number_emergency', 'number_inpatient']].info()",
   "id": "b19d25a635f696e0",
   "outputs": [
    {
     "name": "stdout",
     "output_type": "stream",
     "text": [
      "<class 'pandas.core.frame.DataFrame'>\n",
      "RangeIndex: 50031 entries, 0 to 50030\n",
      "Data columns (total 3 columns):\n",
      " #   Column             Non-Null Count  Dtype\n",
      "---  ------             --------------  -----\n",
      " 0   number_outpatient  50011 non-null  Int64\n",
      " 1   number_emergency   49962 non-null  Int64\n",
      " 2   number_inpatient   49962 non-null  Int64\n",
      "dtypes: Int64(3)\n",
      "memory usage: 1.3 MB\n"
     ]
    }
   ],
   "execution_count": 152
  },
  {
   "metadata": {
    "ExecuteTime": {
     "end_time": "2024-08-18T07:15:32.060529Z",
     "start_time": "2024-08-18T07:15:32.057785Z"
    }
   },
   "cell_type": "code",
   "source": "import seaborn as sns",
   "id": "fefc04214bd90416",
   "outputs": [],
   "execution_count": 179
  },
  {
   "metadata": {},
   "cell_type": "markdown",
   "source": "### Task 2 - EDA",
   "id": "3a5f645c7b1f3063"
  },
  {
   "metadata": {
    "ExecuteTime": {
     "end_time": "2024-08-18T07:15:33.711440Z",
     "start_time": "2024-08-18T07:15:33.498921Z"
    }
   },
   "cell_type": "code",
   "source": "sns.histplot(d1_copy['weight'], bins=6)",
   "id": "c666127f1aba7614",
   "outputs": [
    {
     "data": {
      "text/plain": [
       "<Axes: xlabel='weight', ylabel='Count'>"
      ]
     },
     "execution_count": 180,
     "metadata": {},
     "output_type": "execute_result"
    },
    {
     "data": {
      "text/plain": [
       "<Figure size 640x480 with 1 Axes>"
      ],
      "image/png": "[encoded data removed]"
     },
     "metadata": {},
     "output_type": "display_data"
    }
   ],
   "execution_count": 180
  },
  {
   "metadata": {
    "ExecuteTime": {
     "end_time": "2024-08-18T07:12:25.638443Z",
     "start_time": "2024-08-18T07:12:25.635125Z"
    }
   },
   "cell_type": "code",
   "source": [
    "# how can I change the order of the weight values\n",
    "\n",
    "\n"
   ],
   "id": "ff2ecd84f81dc881",
   "outputs": [],
   "execution_count": 166
  },
  {
   "metadata": {
    "ExecuteTime": {
     "end_time": "2024-08-18T07:16:08.941430Z",
     "start_time": "2024-08-18T07:16:08.717882Z"
    }
   },
   "cell_type": "code",
   "source": "sns.histplot(d1_copy['age'], bins=6)",
   "id": "e65f8980375c8d68",
   "outputs": [
    {
     "data": {
      "text/plain": [
       "<Axes: xlabel='age', ylabel='Count'>"
      ]
     },
     "execution_count": 181,
     "metadata": {},
     "output_type": "execute_result"
    },
    {
     "data": {
      "text/plain": [
       "<Figure size 640x480 with 1 Axes>"
      ],
      "image/png": "[encoded data removed]"
     },
     "metadata": {},
     "output_type": "display_data"
    }
   ],
   "execution_count": 181
  },
  {
   "metadata": {
    "ExecuteTime": {
     "end_time": "2024-08-18T07:12:26.353261Z",
     "start_time": "2024-08-18T07:12:26.057330Z"
    }
   },
   "cell_type": "code",
   "source": "sns.histplot(d1_copy['payer_code'], bins=6)",
   "id": "dc7c06413f00d66d",
   "outputs": [
    {
     "data": {
      "text/plain": [
       "<Axes: xlabel='payer_code', ylabel='Count'>"
      ]
     },
     "execution_count": 171,
     "metadata": {},
     "output_type": "execute_result"
    },
    {
     "data": {
      "text/plain": [
       "<Figure size 640x480 with 1 Axes>"
      ],
      "image/png": "[encoded data removed]"
     },
     "metadata": {},
     "output_type": "display_data"
    }
   ],
   "execution_count": 171
  },
  {
   "metadata": {
    "ExecuteTime": {
     "end_time": "2024-08-18T07:12:26.441168Z",
     "start_time": "2024-08-18T07:12:26.438879Z"
    }
   },
   "cell_type": "code",
   "source": "",
   "id": "c6522b7d30ddb1c7",
   "outputs": [],
   "execution_count": null
  }
 ],
 "metadata": {
  "kernelspec": {
   "display_name": "Python 3 (ipykernel)",
   "language": "python",
   "name": "python3"
  },
  "language_info": {
   "codemirror_mode": {
    "name": "ipython",
    "version": 3
   },
   "file_extension": ".py",
   "mimetype": "text/x-python",
   "name": "python",
   "nbconvert_exporter": "python",
   "pygments_lexer": "ipython3",
   "version": "3.11.9"
  }
 },
 "nbformat": 4,
 "nbformat_minor": 5
}
