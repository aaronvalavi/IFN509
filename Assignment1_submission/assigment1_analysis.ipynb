{
 "cells": [
  {
   "cell_type": "code",
   "id": "initial_id",
   "metadata": {
    "ExecuteTime": {
     "end_time": "2024-08-20T06:16:57.219108Z",
     "start_time": "2024-08-20T06:16:57.215485Z"
    }
   },
   "source": [
    "import pandas as pd\n",
    "import numpy as np\n",
    "import matplotlib.pyplot as plt\n",
    "import seaborn as sns"
   ],
   "outputs": [],
   "execution_count": 2
  },
  {
   "cell_type": "code",
   "id": "374d410624fae72e",
   "metadata": {
    "ExecuteTime": {
     "end_time": "2024-08-20T06:16:57.508477Z",
     "start_time": "2024-08-20T06:16:57.259920Z"
    }
   },
   "source": [
    "d1 = pd.read_csv('../data/D1.csv', low_memory=False)"
   ],
   "outputs": [],
   "execution_count": 3
  },
  {
   "cell_type": "code",
   "id": "818c9a73909f5f6d",
   "metadata": {
    "ExecuteTime": {
     "end_time": "2024-08-20T06:16:57.590635Z",
     "start_time": "2024-08-20T06:16:57.552407Z"
    }
   },
   "source": [
    "d1"
   ],
   "outputs": [
    {
     "data": {
      "text/plain": [
       "       encounter_id  patient_nbr             race  gender       age weight  \\\n",
       "0             12522     48330783        Caucasian  Female   [80-90)      ?   \n",
       "1             15738     63555939        Caucasian  Female  [90-100)      ?   \n",
       "2             16680     42519267        Caucasian    Male   [40-50)      ?   \n",
       "3             28236     89869032  AfricanAmerican  Female   [40-50)      ?   \n",
       "4             35754     82637451        Caucasian    Male   [50-60)      ?   \n",
       "...             ...          ...              ...     ...       ...    ...   \n",
       "50026     150712854     54487647  AfricanAmerican    Male   [60-70)      ?   \n",
       "50027     150713208     99665856        Caucasian    Male   [70-80)      ?   \n",
       "50028     150715134     46894068        Caucasian    Male   [60-70)      ?   \n",
       "50029     150715788     86575536        Caucasian    Male   [70-80)      ?   \n",
       "50030     150722166     83582352        Caucasian    Male   [70-80)      ?   \n",
       "\n",
       "       admission_type_id  discharge_disposition_id  admission_source_id  \\\n",
       "0                      2                         1                    4   \n",
       "1                      3                         3                    4   \n",
       "2                      1                         1                    7   \n",
       "3                      1                         1                    7   \n",
       "4                      2                         1                    2   \n",
       "...                  ...                       ...                  ...   \n",
       "50026                  2                         1                    1   \n",
       "50027                  2                         1                    1   \n",
       "50028                  2                         1                    1   \n",
       "50029                  1                         3                    1   \n",
       "50030                  2                         1                    1   \n",
       "\n",
       "       length_of_stay  ... glimepiride acetohexamide  glipizide  glyburide  \\\n",
       "0                  13  ...          No            No     Steady         No   \n",
       "1                  12  ...          No            No         No         No   \n",
       "2                   1  ...          No            No     Steady         No   \n",
       "3                   9  ...          No            No         No         No   \n",
       "4                   3  ...          No            No         No         No   \n",
       "...               ...  ...         ...           ...        ...        ...   \n",
       "50026               8  ...          No            No         No         No   \n",
       "50027               1  ...          No            No         No         No   \n",
       "50028               5  ...          No            No         No         No   \n",
       "50029               5  ...          No            No         No     Steady   \n",
       "50030               2  ...      Steady            No         No         No   \n",
       "\n",
       "       tolbutamide insulin change diabetesMed readmitted single_day_admission  \n",
       "0               No  Steady     Ch         Yes         NO                   No  \n",
       "1               No  Steady     Ch         Yes         NO                   No  \n",
       "2               No  Steady     Ch         Yes         NO                  Yes  \n",
       "3               No  Steady     No         Yes        >30                   No  \n",
       "4               No  Steady     No         Yes        >30                   No  \n",
       "...            ...     ...    ...         ...        ...                  ...  \n",
       "50026           No  Steady     Ch         Yes        >30                   No  \n",
       "50027           No      No     No          No         NO                  Yes  \n",
       "50028           No      No     No          No         NO                   No  \n",
       "50029           No      No     No         Yes        <30                   No  \n",
       "50030           No      No     No         Yes         NO                   No  \n",
       "\n",
       "[50031 rows x 39 columns]"
      ],
      "text/html": [
       "<div>\n",
       "<style scoped>\n",
       "    .dataframe tbody tr th:only-of-type {\n",
       "        vertical-align: middle;\n",
       "    }\n",
       "\n",
       "    .dataframe tbody tr th {\n",
       "        vertical-align: top;\n",
       "    }\n",
       "\n",
       "    .dataframe thead th {\n",
       "        text-align: right;\n",
       "    }\n",
       "</style>\n",
       "<table border=\"1\" class=\"dataframe\">\n",
       "  <thead>\n",
       "    <tr style=\"text-align: right;\">\n",
       "      <th></th>\n",
       "      <th>encounter_id</th>\n",
       "      <th>patient_nbr</th>\n",
       "      <th>race</th>\n",
       "      <th>gender</th>\n",
       "      <th>age</th>\n",
       "      <th>weight</th>\n",
       "      <th>admission_type_id</th>\n",
       "      <th>discharge_disposition_id</th>\n",
       "      <th>admission_source_id</th>\n",
       "      <th>length_of_stay</th>\n",
       "      <th>...</th>\n",
       "      <th>glimepiride</th>\n",
       "      <th>acetohexamide</th>\n",
       "      <th>glipizide</th>\n",
       "      <th>glyburide</th>\n",
       "      <th>tolbutamide</th>\n",
       "      <th>insulin</th>\n",
       "      <th>change</th>\n",
       "      <th>diabetesMed</th>\n",
       "      <th>readmitted</th>\n",
       "      <th>single_day_admission</th>\n",
       "    </tr>\n",
       "  </thead>\n",
       "  <tbody>\n",
       "    <tr>\n",
       "      <th>0</th>\n",
       "      <td>12522</td>\n",
       "      <td>48330783</td>\n",
       "      <td>Caucasian</td>\n",
       "      <td>Female</td>\n",
       "      <td>[80-90)</td>\n",
       "      <td>?</td>\n",
       "      <td>2</td>\n",
       "      <td>1</td>\n",
       "      <td>4</td>\n",
       "      <td>13</td>\n",
       "      <td>...</td>\n",
       "      <td>No</td>\n",
       "      <td>No</td>\n",
       "      <td>Steady</td>\n",
       "      <td>No</td>\n",
       "      <td>No</td>\n",
       "      <td>Steady</td>\n",
       "      <td>Ch</td>\n",
       "      <td>Yes</td>\n",
       "      <td>NO</td>\n",
       "      <td>No</td>\n",
       "    </tr>\n",
       "    <tr>\n",
       "      <th>1</th>\n",
       "      <td>15738</td>\n",
       "      <td>63555939</td>\n",
       "      <td>Caucasian</td>\n",
       "      <td>Female</td>\n",
       "      <td>[90-100)</td>\n",
       "      <td>?</td>\n",
       "      <td>3</td>\n",
       "      <td>3</td>\n",
       "      <td>4</td>\n",
       "      <td>12</td>\n",
       "      <td>...</td>\n",
       "      <td>No</td>\n",
       "      <td>No</td>\n",
       "      <td>No</td>\n",
       "      <td>No</td>\n",
       "      <td>No</td>\n",
       "      <td>Steady</td>\n",
       "      <td>Ch</td>\n",
       "      <td>Yes</td>\n",
       "      <td>NO</td>\n",
       "      <td>No</td>\n",
       "    </tr>\n",
       "    <tr>\n",
       "      <th>2</th>\n",
       "      <td>16680</td>\n",
       "      <td>42519267</td>\n",
       "      <td>Caucasian</td>\n",
       "      <td>Male</td>\n",
       "      <td>[40-50)</td>\n",
       "      <td>?</td>\n",
       "      <td>1</td>\n",
       "      <td>1</td>\n",
       "      <td>7</td>\n",
       "      <td>1</td>\n",
       "      <td>...</td>\n",
       "      <td>No</td>\n",
       "      <td>No</td>\n",
       "      <td>Steady</td>\n",
       "      <td>No</td>\n",
       "      <td>No</td>\n",
       "      <td>Steady</td>\n",
       "      <td>Ch</td>\n",
       "      <td>Yes</td>\n",
       "      <td>NO</td>\n",
       "      <td>Yes</td>\n",
       "    </tr>\n",
       "    <tr>\n",
       "      <th>3</th>\n",
       "      <td>28236</td>\n",
       "      <td>89869032</td>\n",
       "      <td>AfricanAmerican</td>\n",
       "      <td>Female</td>\n",
       "      <td>[40-50)</td>\n",
       "      <td>?</td>\n",
       "      <td>1</td>\n",
       "      <td>1</td>\n",
       "      <td>7</td>\n",
       "      <td>9</td>\n",
       "      <td>...</td>\n",
       "      <td>No</td>\n",
       "      <td>No</td>\n",
       "      <td>No</td>\n",
       "      <td>No</td>\n",
       "      <td>No</td>\n",
       "      <td>Steady</td>\n",
       "      <td>No</td>\n",
       "      <td>Yes</td>\n",
       "      <td>&gt;30</td>\n",
       "      <td>No</td>\n",
       "    </tr>\n",
       "    <tr>\n",
       "      <th>4</th>\n",
       "      <td>35754</td>\n",
       "      <td>82637451</td>\n",
       "      <td>Caucasian</td>\n",
       "      <td>Male</td>\n",
       "      <td>[50-60)</td>\n",
       "      <td>?</td>\n",
       "      <td>2</td>\n",
       "      <td>1</td>\n",
       "      <td>2</td>\n",
       "      <td>3</td>\n",
       "      <td>...</td>\n",
       "      <td>No</td>\n",
       "      <td>No</td>\n",
       "      <td>No</td>\n",
       "      <td>No</td>\n",
       "      <td>No</td>\n",
       "      <td>Steady</td>\n",
       "      <td>No</td>\n",
       "      <td>Yes</td>\n",
       "      <td>&gt;30</td>\n",
       "      <td>No</td>\n",
       "    </tr>\n",
       "    <tr>\n",
       "      <th>...</th>\n",
       "      <td>...</td>\n",
       "      <td>...</td>\n",
       "      <td>...</td>\n",
       "      <td>...</td>\n",
       "      <td>...</td>\n",
       "      <td>...</td>\n",
       "      <td>...</td>\n",
       "      <td>...</td>\n",
       "      <td>...</td>\n",
       "      <td>...</td>\n",
       "      <td>...</td>\n",
       "      <td>...</td>\n",
       "      <td>...</td>\n",
       "      <td>...</td>\n",
       "      <td>...</td>\n",
       "      <td>...</td>\n",
       "      <td>...</td>\n",
       "      <td>...</td>\n",
       "      <td>...</td>\n",
       "      <td>...</td>\n",
       "      <td>...</td>\n",
       "    </tr>\n",
       "    <tr>\n",
       "      <th>50026</th>\n",
       "      <td>150712854</td>\n",
       "      <td>54487647</td>\n",
       "      <td>AfricanAmerican</td>\n",
       "      <td>Male</td>\n",
       "      <td>[60-70)</td>\n",
       "      <td>?</td>\n",
       "      <td>2</td>\n",
       "      <td>1</td>\n",
       "      <td>1</td>\n",
       "      <td>8</td>\n",
       "      <td>...</td>\n",
       "      <td>No</td>\n",
       "      <td>No</td>\n",
       "      <td>No</td>\n",
       "      <td>No</td>\n",
       "      <td>No</td>\n",
       "      <td>Steady</td>\n",
       "      <td>Ch</td>\n",
       "      <td>Yes</td>\n",
       "      <td>&gt;30</td>\n",
       "      <td>No</td>\n",
       "    </tr>\n",
       "    <tr>\n",
       "      <th>50027</th>\n",
       "      <td>150713208</td>\n",
       "      <td>99665856</td>\n",
       "      <td>Caucasian</td>\n",
       "      <td>Male</td>\n",
       "      <td>[70-80)</td>\n",
       "      <td>?</td>\n",
       "      <td>2</td>\n",
       "      <td>1</td>\n",
       "      <td>1</td>\n",
       "      <td>1</td>\n",
       "      <td>...</td>\n",
       "      <td>No</td>\n",
       "      <td>No</td>\n",
       "      <td>No</td>\n",
       "      <td>No</td>\n",
       "      <td>No</td>\n",
       "      <td>No</td>\n",
       "      <td>No</td>\n",
       "      <td>No</td>\n",
       "      <td>NO</td>\n",
       "      <td>Yes</td>\n",
       "    </tr>\n",
       "    <tr>\n",
       "      <th>50028</th>\n",
       "      <td>150715134</td>\n",
       "      <td>46894068</td>\n",
       "      <td>Caucasian</td>\n",
       "      <td>Male</td>\n",
       "      <td>[60-70)</td>\n",
       "      <td>?</td>\n",
       "      <td>2</td>\n",
       "      <td>1</td>\n",
       "      <td>1</td>\n",
       "      <td>5</td>\n",
       "      <td>...</td>\n",
       "      <td>No</td>\n",
       "      <td>No</td>\n",
       "      <td>No</td>\n",
       "      <td>No</td>\n",
       "      <td>No</td>\n",
       "      <td>No</td>\n",
       "      <td>No</td>\n",
       "      <td>No</td>\n",
       "      <td>NO</td>\n",
       "      <td>No</td>\n",
       "    </tr>\n",
       "    <tr>\n",
       "      <th>50029</th>\n",
       "      <td>150715788</td>\n",
       "      <td>86575536</td>\n",
       "      <td>Caucasian</td>\n",
       "      <td>Male</td>\n",
       "      <td>[70-80)</td>\n",
       "      <td>?</td>\n",
       "      <td>1</td>\n",
       "      <td>3</td>\n",
       "      <td>1</td>\n",
       "      <td>5</td>\n",
       "      <td>...</td>\n",
       "      <td>No</td>\n",
       "      <td>No</td>\n",
       "      <td>No</td>\n",
       "      <td>Steady</td>\n",
       "      <td>No</td>\n",
       "      <td>No</td>\n",
       "      <td>No</td>\n",
       "      <td>Yes</td>\n",
       "      <td>&lt;30</td>\n",
       "      <td>No</td>\n",
       "    </tr>\n",
       "    <tr>\n",
       "      <th>50030</th>\n",
       "      <td>150722166</td>\n",
       "      <td>83582352</td>\n",
       "      <td>Caucasian</td>\n",
       "      <td>Male</td>\n",
       "      <td>[70-80)</td>\n",
       "      <td>?</td>\n",
       "      <td>2</td>\n",
       "      <td>1</td>\n",
       "      <td>1</td>\n",
       "      <td>2</td>\n",
       "      <td>...</td>\n",
       "      <td>Steady</td>\n",
       "      <td>No</td>\n",
       "      <td>No</td>\n",
       "      <td>No</td>\n",
       "      <td>No</td>\n",
       "      <td>No</td>\n",
       "      <td>No</td>\n",
       "      <td>Yes</td>\n",
       "      <td>NO</td>\n",
       "      <td>No</td>\n",
       "    </tr>\n",
       "  </tbody>\n",
       "</table>\n",
       "<p>50031 rows × 39 columns</p>\n",
       "</div>"
      ]
     },
     "execution_count": 4,
     "metadata": {},
     "output_type": "execute_result"
    }
   ],
   "execution_count": 4
  },
  {
   "cell_type": "code",
   "id": "f5365369136997d6",
   "metadata": {
    "ExecuteTime": {
     "end_time": "2024-08-20T06:16:57.725241Z",
     "start_time": "2024-08-20T06:16:57.683975Z"
    }
   },
   "source": [
    "d1.info()"
   ],
   "outputs": [
    {
     "name": "stdout",
     "output_type": "stream",
     "text": [
      "<class 'pandas.core.frame.DataFrame'>\n",
      "RangeIndex: 50031 entries, 0 to 50030\n",
      "Data columns (total 39 columns):\n",
      " #   Column                    Non-Null Count  Dtype \n",
      "---  ------                    --------------  ----- \n",
      " 0   encounter_id              50031 non-null  int64 \n",
      " 1   patient_nbr               50031 non-null  int64 \n",
      " 2   race                      50031 non-null  object\n",
      " 3   gender                    50031 non-null  object\n",
      " 4   age                       50031 non-null  object\n",
      " 5   weight                    50031 non-null  object\n",
      " 6   admission_type_id         50031 non-null  int64 \n",
      " 7   discharge_disposition_id  50031 non-null  int64 \n",
      " 8   admission_source_id       50031 non-null  int64 \n",
      " 9   length_of_stay            50031 non-null  int64 \n",
      " 10  payer_code                50031 non-null  object\n",
      " 11  medical_specialty         50031 non-null  object\n",
      " 12  num_lab_procedures        50031 non-null  int64 \n",
      " 13  num_procedures            50031 non-null  int64 \n",
      " 14  num_medications           50031 non-null  int64 \n",
      " 15  number_outpatient         50031 non-null  object\n",
      " 16  number_emergency          50031 non-null  object\n",
      " 17  number_inpatient          50031 non-null  object\n",
      " 18  diag_1                    50031 non-null  object\n",
      " 19  diag_2                    50031 non-null  object\n",
      " 20  diag_3                    50031 non-null  object\n",
      " 21  number_diagnoses          50031 non-null  int64 \n",
      " 22  diabetes                  50031 non-null  object\n",
      " 23  max_glu_serum             4639 non-null   object\n",
      " 24  A1Cresult                 7613 non-null   object\n",
      " 25  metformin                 50031 non-null  object\n",
      " 26  repaglinide               50031 non-null  object\n",
      " 27  nateglinide               50031 non-null  object\n",
      " 28  chlorpropamide            50031 non-null  object\n",
      " 29  glimepiride               50031 non-null  object\n",
      " 30  acetohexamide             50031 non-null  object\n",
      " 31  glipizide                 50031 non-null  object\n",
      " 32  glyburide                 50031 non-null  object\n",
      " 33  tolbutamide               50031 non-null  object\n",
      " 34  insulin                   50031 non-null  object\n",
      " 35  change                    50031 non-null  object\n",
      " 36  diabetesMed               50031 non-null  object\n",
      " 37  readmitted                50031 non-null  object\n",
      " 38  single_day_admission      50031 non-null  object\n",
      "dtypes: int64(10), object(29)\n",
      "memory usage: 14.9+ MB\n"
     ]
    }
   ],
   "execution_count": 5
  },
  {
   "cell_type": "markdown",
   "id": "4d873492b1ea50ae",
   "metadata": {},
   "source": [
    "#### Create a function to convert all object columns to 'string' type"
   ]
  },
  {
   "cell_type": "code",
   "id": "f1e439dfe34f2a3a",
   "metadata": {
    "ExecuteTime": {
     "end_time": "2024-08-20T06:16:58.025157Z",
     "start_time": "2024-08-20T06:16:57.946312Z"
    }
   },
   "source": [
    "def convert_object_to_string(df):\n",
    "    for col in df.select_dtypes(include='object').columns:\n",
    "        df[col] = df[col].astype('string')\n",
    "    return df\n",
    "\n",
    "\n",
    "d1 = convert_object_to_string(d1)"
   ],
   "outputs": [],
   "execution_count": 6
  },
  {
   "cell_type": "code",
   "id": "2f0f6d3a728cc2f4",
   "metadata": {
    "ExecuteTime": {
     "end_time": "2024-08-20T06:16:58.451143Z",
     "start_time": "2024-08-20T06:16:58.412898Z"
    }
   },
   "source": [
    "d1.info()"
   ],
   "outputs": [
    {
     "name": "stdout",
     "output_type": "stream",
     "text": [
      "<class 'pandas.core.frame.DataFrame'>\n",
      "RangeIndex: 50031 entries, 0 to 50030\n",
      "Data columns (total 39 columns):\n",
      " #   Column                    Non-Null Count  Dtype \n",
      "---  ------                    --------------  ----- \n",
      " 0   encounter_id              50031 non-null  int64 \n",
      " 1   patient_nbr               50031 non-null  int64 \n",
      " 2   race                      50031 non-null  string\n",
      " 3   gender                    50031 non-null  string\n",
      " 4   age                       50031 non-null  string\n",
      " 5   weight                    50031 non-null  string\n",
      " 6   admission_type_id         50031 non-null  int64 \n",
      " 7   discharge_disposition_id  50031 non-null  int64 \n",
      " 8   admission_source_id       50031 non-null  int64 \n",
      " 9   length_of_stay            50031 non-null  int64 \n",
      " 10  payer_code                50031 non-null  string\n",
      " 11  medical_specialty         50031 non-null  string\n",
      " 12  num_lab_procedures        50031 non-null  int64 \n",
      " 13  num_procedures            50031 non-null  int64 \n",
      " 14  num_medications           50031 non-null  int64 \n",
      " 15  number_outpatient         50031 non-null  string\n",
      " 16  number_emergency          50031 non-null  string\n",
      " 17  number_inpatient          50031 non-null  string\n",
      " 18  diag_1                    50031 non-null  string\n",
      " 19  diag_2                    50031 non-null  string\n",
      " 20  diag_3                    50031 non-null  string\n",
      " 21  number_diagnoses          50031 non-null  int64 \n",
      " 22  diabetes                  50031 non-null  string\n",
      " 23  max_glu_serum             4639 non-null   string\n",
      " 24  A1Cresult                 7613 non-null   string\n",
      " 25  metformin                 50031 non-null  string\n",
      " 26  repaglinide               50031 non-null  string\n",
      " 27  nateglinide               50031 non-null  string\n",
      " 28  chlorpropamide            50031 non-null  string\n",
      " 29  glimepiride               50031 non-null  string\n",
      " 30  acetohexamide             50031 non-null  string\n",
      " 31  glipizide                 50031 non-null  string\n",
      " 32  glyburide                 50031 non-null  string\n",
      " 33  tolbutamide               50031 non-null  string\n",
      " 34  insulin                   50031 non-null  string\n",
      " 35  change                    50031 non-null  string\n",
      " 36  diabetesMed               50031 non-null  string\n",
      " 37  readmitted                50031 non-null  string\n",
      " 38  single_day_admission      50031 non-null  string\n",
      "dtypes: int64(10), string(29)\n",
      "memory usage: 14.9 MB\n"
     ]
    }
   ],
   "execution_count": 7
  },
  {
   "metadata": {
    "ExecuteTime": {
     "end_time": "2024-08-20T06:16:58.766372Z",
     "start_time": "2024-08-20T06:16:58.759564Z"
    }
   },
   "cell_type": "code",
   "outputs": [
    {
     "data": {
      "text/plain": [
       "race\n",
       "Caucasian          35732\n",
       "AfricanAmerican    11149\n",
       "?                   1257\n",
       "Hispanic            1020\n",
       "Other                610\n",
       "Asian                263\n",
       "Name: count, dtype: Int64"
      ]
     },
     "execution_count": 8,
     "metadata": {},
     "output_type": "execute_result"
    }
   ],
   "execution_count": 8,
   "source": "d1.race.value_counts(dropna=False)",
   "id": "1190bf0451064d4d"
  },
  {
   "metadata": {},
   "cell_type": "markdown",
   "source": "#### Replace the '?' values in the numeric columns with 'NaN'",
   "id": "e9fc3c2e84b6b000"
  },
  {
   "metadata": {
    "ExecuteTime": {
     "end_time": "2024-08-20T06:25:49.478113Z",
     "start_time": "2024-08-20T06:25:49.458441Z"
    }
   },
   "cell_type": "code",
   "source": [
    "d1['number_outpatient'] = d1['number_outpatient'].replace('?', np.nan).astype('Int64')\n",
    "d1['number_emergency'] = d1['number_emergency'].replace('?', np.nan).astype('Int64')\n",
    "d1['number_inpatient'] = d1['number_emergency'].replace('?', np.nan).astype('Int64')\n"
   ],
   "id": "b607ead2fd8de93d",
   "outputs": [],
   "execution_count": 37
  },
  {
   "metadata": {
    "ExecuteTime": {
     "end_time": "2024-08-20T06:25:50.172021Z",
     "start_time": "2024-08-20T06:25:50.161503Z"
    }
   },
   "cell_type": "code",
   "source": [
    "# This code shows the patient_nbr with the highest number of encounters. This will be important for data handling at the modelling stage. \n",
    "d1.patient_nbr.value_counts(dropna=False)"
   ],
   "id": "baabbd6d74491ba0",
   "outputs": [
    {
     "data": {
      "text/plain": [
       "patient_nbr\n",
       "1660293     23\n",
       "23643405    22\n",
       "3401055     18\n",
       "3481272     18\n",
       "23199021    18\n",
       "            ..\n",
       "25023510     1\n",
       "15082812     1\n",
       "3282282      1\n",
       "20331072     1\n",
       "83582352     1\n",
       "Name: count, Length: 38257, dtype: int64"
      ]
     },
     "execution_count": 38,
     "metadata": {},
     "output_type": "execute_result"
    }
   ],
   "execution_count": 38
  },
  {
   "metadata": {
    "ExecuteTime": {
     "end_time": "2024-08-20T06:25:50.532936Z",
     "start_time": "2024-08-20T06:25:50.514216Z"
    }
   },
   "cell_type": "code",
   "source": [
    "# This is an example of a patient with multiple encounters in the dataset. Note that the number of encounters is not the same as the sum of the number_inpatient, number_outpatient, and number_emergency columns. You test this by running: \n",
    "\n",
    "# d1.loc[d1.patient_nbr == 1660293, ['number_inpatient', 'number_outpatient', 'number_emergency']].sum()\n",
    "d1.loc[d1.patient_nbr == 1660293]"
   ],
   "id": "b40187984803cd0c",
   "outputs": [
    {
     "data": {
      "text/plain": [
       "       encounter_id  patient_nbr       race  gender      age weight  \\\n",
       "269         2967810      1660293  Caucasian  Female  [60-70)      ?   \n",
       "944         7216812      1660293  Caucasian  Female  [60-70)      ?   \n",
       "1077        7977342      1660293  Caucasian  Female  [60-70)      ?   \n",
       "1349        9358128      1660293  Caucasian  Female  [60-70)      ?   \n",
       "2954       18844260      1660293  Caucasian  Female  [60-70)      ?   \n",
       "3510       21616398      1660293  Caucasian  Female  [60-70)      ?   \n",
       "6780       33120744      1660293  Caucasian  Female  [60-70)      ?   \n",
       "7704       36030504      1660293  Caucasian  Female  [60-70)      ?   \n",
       "8547       38486058      1660293  Caucasian  Female  [60-70)      ?   \n",
       "8972       39749172      1660293  Caucasian  Female  [60-70)      ?   \n",
       "12206      49882548      1660293  Caucasian  Female  [60-70)      ?   \n",
       "12955      52130958      1660293  Caucasian  Female  [60-70)      ?   \n",
       "14085      55295502      1660293  Caucasian  Female  [60-70)      ?   \n",
       "15442      59272632      1660293  Caucasian  Female  [60-70)      ?   \n",
       "16005      60568416      1660293  Caucasian  Female  [60-70)      ?   \n",
       "17079      63275892      1660293  Caucasian  Female  [60-70)      ?   \n",
       "19463      69324756      1660293  Caucasian  Female  [60-70)      ?   \n",
       "21360      74450130      1660293  Caucasian  Female  [60-70)      ?   \n",
       "23447      80082870      1660293  Caucasian  Female  [60-70)      ?   \n",
       "24042      81790986      1660293  Caucasian  Female  [70-80)      ?   \n",
       "24847      83790342      1660293  Caucasian  Female  [70-80)      ?   \n",
       "25344      84790116      1660293  Caucasian  Female  [70-80)      ?   \n",
       "25767      85616136      1660293  Caucasian  Female  [70-80)      ?   \n",
       "\n",
       "       admission_type_id  discharge_disposition_id  admission_source_id  \\\n",
       "269                    6                        25                    7   \n",
       "944                    6                        25                    7   \n",
       "1077                   1                         1                    7   \n",
       "1349                   1                         1                    7   \n",
       "2954                   1                         1                    7   \n",
       "3510                   1                         1                    7   \n",
       "6780                   2                         1                    1   \n",
       "7704                   2                         1                    1   \n",
       "8547                   1                         1                    7   \n",
       "8972                   2                         1                    1   \n",
       "12206                  2                         1                    1   \n",
       "12955                  1                         1                    7   \n",
       "14085                  1                         1                    7   \n",
       "15442                  2                         1                    1   \n",
       "16005                  1                         6                    7   \n",
       "17079                  2                         6                    1   \n",
       "19463                  1                         6                    7   \n",
       "21360                  2                         4                    1   \n",
       "23447                  1                         1                    7   \n",
       "24042                  3                         1                    1   \n",
       "24847                  3                         1                    1   \n",
       "25344                  2                         1                    1   \n",
       "25767                  1                         1                    7   \n",
       "\n",
       "       length_of_stay  ... glimepiride acetohexamide  glipizide  glyburide  \\\n",
       "269                10  ...          No            No         No         No   \n",
       "944                 4  ...          No            No         No         No   \n",
       "1077               12  ...          No            No         No         No   \n",
       "1349                8  ...          No            No         No         No   \n",
       "2954                3  ...          No            No         No         No   \n",
       "3510                3  ...          No            No         No         No   \n",
       "6780                9  ...          No            No         No         No   \n",
       "7704                5  ...          No            No         No         No   \n",
       "8547                2  ...          No            No         No         No   \n",
       "8972                4  ...          No            No         No         No   \n",
       "12206               2  ...          No            No         No         No   \n",
       "12955               5  ...          No            No         No         No   \n",
       "14085               6  ...          No            No         No         No   \n",
       "15442               4  ...          No            No         No         No   \n",
       "16005              10  ...          No            No         No         No   \n",
       "17079              10  ...          No            No         No         No   \n",
       "19463               2  ...          No            No         No         No   \n",
       "21360              14  ...          No            No         No         No   \n",
       "23447               5  ...          No            No         No         No   \n",
       "24042               4  ...          No            No         No         No   \n",
       "24847               8  ...          No            No         No         No   \n",
       "25344               8  ...          No            No         No         No   \n",
       "25767               6  ...          No            No         No         No   \n",
       "\n",
       "       tolbutamide  insulin  change  diabetesMed readmitted  \\\n",
       "269             No   Steady      No          Yes        >30   \n",
       "944             No   Steady      No          Yes        <30   \n",
       "1077            No     Down      Ch          Yes        <30   \n",
       "1349            No   Steady      No          Yes        >30   \n",
       "2954            No       Up      Ch          Yes        >30   \n",
       "3510            No     Down      Ch          Yes        >30   \n",
       "6780            No       Up      Ch          Yes        <30   \n",
       "7704            No   Steady      No          Yes        <30   \n",
       "8547            No       Up      Ch          Yes        <30   \n",
       "8972            No   Steady      No          Yes        >30   \n",
       "12206           No   Steady      No          Yes        <30   \n",
       "12955           No   Steady      No          Yes        >30   \n",
       "14085           No       Up      Ch          Yes        >30   \n",
       "15442           No       Up      Ch          Yes        <30   \n",
       "16005           No   Steady      No          Yes        >30   \n",
       "17079           No       Up      Ch          Yes        >30   \n",
       "19463           No   Steady      No          Yes        >30   \n",
       "21360           No     Down      Ch          Yes        >30   \n",
       "23447           No   Steady      No          Yes        <30   \n",
       "24042           No   Steady      No          Yes        <30   \n",
       "24847           No   Steady      No          Yes        <30   \n",
       "25344           No     Down      Ch          Yes        <30   \n",
       "25767           No       Up      Ch          Yes         NO   \n",
       "\n",
       "      single_day_admission  \n",
       "269                     No  \n",
       "944                     No  \n",
       "1077                    No  \n",
       "1349                    No  \n",
       "2954                    No  \n",
       "3510                    No  \n",
       "6780                    No  \n",
       "7704                    No  \n",
       "8547                    No  \n",
       "8972                    No  \n",
       "12206                   No  \n",
       "12955                   No  \n",
       "14085                   No  \n",
       "15442                   No  \n",
       "16005                   No  \n",
       "17079                   No  \n",
       "19463                   No  \n",
       "21360                   No  \n",
       "23447                   No  \n",
       "24042                   No  \n",
       "24847                   No  \n",
       "25344                   No  \n",
       "25767                   No  \n",
       "\n",
       "[23 rows x 39 columns]"
      ],
      "text/html": [
       "<div>\n",
       "<style scoped>\n",
       "    .dataframe tbody tr th:only-of-type {\n",
       "        vertical-align: middle;\n",
       "    }\n",
       "\n",
       "    .dataframe tbody tr th {\n",
       "        vertical-align: top;\n",
       "    }\n",
       "\n",
       "    .dataframe thead th {\n",
       "        text-align: right;\n",
       "    }\n",
       "</style>\n",
       "<table border=\"1\" class=\"dataframe\">\n",
       "  <thead>\n",
       "    <tr style=\"text-align: right;\">\n",
       "      <th></th>\n",
       "      <th>encounter_id</th>\n",
       "      <th>patient_nbr</th>\n",
       "      <th>race</th>\n",
       "      <th>gender</th>\n",
       "      <th>age</th>\n",
       "      <th>weight</th>\n",
       "      <th>admission_type_id</th>\n",
       "      <th>discharge_disposition_id</th>\n",
       "      <th>admission_source_id</th>\n",
       "      <th>length_of_stay</th>\n",
       "      <th>...</th>\n",
       "      <th>glimepiride</th>\n",
       "      <th>acetohexamide</th>\n",
       "      <th>glipizide</th>\n",
       "      <th>glyburide</th>\n",
       "      <th>tolbutamide</th>\n",
       "      <th>insulin</th>\n",
       "      <th>change</th>\n",
       "      <th>diabetesMed</th>\n",
       "      <th>readmitted</th>\n",
       "      <th>single_day_admission</th>\n",
       "    </tr>\n",
       "  </thead>\n",
       "  <tbody>\n",
       "    <tr>\n",
       "      <th>269</th>\n",
       "      <td>2967810</td>\n",
       "      <td>1660293</td>\n",
       "      <td>Caucasian</td>\n",
       "      <td>Female</td>\n",
       "      <td>[60-70)</td>\n",
       "      <td>?</td>\n",
       "      <td>6</td>\n",
       "      <td>25</td>\n",
       "      <td>7</td>\n",
       "      <td>10</td>\n",
       "      <td>...</td>\n",
       "      <td>No</td>\n",
       "      <td>No</td>\n",
       "      <td>No</td>\n",
       "      <td>No</td>\n",
       "      <td>No</td>\n",
       "      <td>Steady</td>\n",
       "      <td>No</td>\n",
       "      <td>Yes</td>\n",
       "      <td>&gt;30</td>\n",
       "      <td>No</td>\n",
       "    </tr>\n",
       "    <tr>\n",
       "      <th>944</th>\n",
       "      <td>7216812</td>\n",
       "      <td>1660293</td>\n",
       "      <td>Caucasian</td>\n",
       "      <td>Female</td>\n",
       "      <td>[60-70)</td>\n",
       "      <td>?</td>\n",
       "      <td>6</td>\n",
       "      <td>25</td>\n",
       "      <td>7</td>\n",
       "      <td>4</td>\n",
       "      <td>...</td>\n",
       "      <td>No</td>\n",
       "      <td>No</td>\n",
       "      <td>No</td>\n",
       "      <td>No</td>\n",
       "      <td>No</td>\n",
       "      <td>Steady</td>\n",
       "      <td>No</td>\n",
       "      <td>Yes</td>\n",
       "      <td>&lt;30</td>\n",
       "      <td>No</td>\n",
       "    </tr>\n",
       "    <tr>\n",
       "      <th>1077</th>\n",
       "      <td>7977342</td>\n",
       "      <td>1660293</td>\n",
       "      <td>Caucasian</td>\n",
       "      <td>Female</td>\n",
       "      <td>[60-70)</td>\n",
       "      <td>?</td>\n",
       "      <td>1</td>\n",
       "      <td>1</td>\n",
       "      <td>7</td>\n",
       "      <td>12</td>\n",
       "      <td>...</td>\n",
       "      <td>No</td>\n",
       "      <td>No</td>\n",
       "      <td>No</td>\n",
       "      <td>No</td>\n",
       "      <td>No</td>\n",
       "      <td>Down</td>\n",
       "      <td>Ch</td>\n",
       "      <td>Yes</td>\n",
       "      <td>&lt;30</td>\n",
       "      <td>No</td>\n",
       "    </tr>\n",
       "    <tr>\n",
       "      <th>1349</th>\n",
       "      <td>9358128</td>\n",
       "      <td>1660293</td>\n",
       "      <td>Caucasian</td>\n",
       "      <td>Female</td>\n",
       "      <td>[60-70)</td>\n",
       "      <td>?</td>\n",
       "      <td>1</td>\n",
       "      <td>1</td>\n",
       "      <td>7</td>\n",
       "      <td>8</td>\n",
       "      <td>...</td>\n",
       "      <td>No</td>\n",
       "      <td>No</td>\n",
       "      <td>No</td>\n",
       "      <td>No</td>\n",
       "      <td>No</td>\n",
       "      <td>Steady</td>\n",
       "      <td>No</td>\n",
       "      <td>Yes</td>\n",
       "      <td>&gt;30</td>\n",
       "      <td>No</td>\n",
       "    </tr>\n",
       "    <tr>\n",
       "      <th>2954</th>\n",
       "      <td>18844260</td>\n",
       "      <td>1660293</td>\n",
       "      <td>Caucasian</td>\n",
       "      <td>Female</td>\n",
       "      <td>[60-70)</td>\n",
       "      <td>?</td>\n",
       "      <td>1</td>\n",
       "      <td>1</td>\n",
       "      <td>7</td>\n",
       "      <td>3</td>\n",
       "      <td>...</td>\n",
       "      <td>No</td>\n",
       "      <td>No</td>\n",
       "      <td>No</td>\n",
       "      <td>No</td>\n",
       "      <td>No</td>\n",
       "      <td>Up</td>\n",
       "      <td>Ch</td>\n",
       "      <td>Yes</td>\n",
       "      <td>&gt;30</td>\n",
       "      <td>No</td>\n",
       "    </tr>\n",
       "    <tr>\n",
       "      <th>3510</th>\n",
       "      <td>21616398</td>\n",
       "      <td>1660293</td>\n",
       "      <td>Caucasian</td>\n",
       "      <td>Female</td>\n",
       "      <td>[60-70)</td>\n",
       "      <td>?</td>\n",
       "      <td>1</td>\n",
       "      <td>1</td>\n",
       "      <td>7</td>\n",
       "      <td>3</td>\n",
       "      <td>...</td>\n",
       "      <td>No</td>\n",
       "      <td>No</td>\n",
       "      <td>No</td>\n",
       "      <td>No</td>\n",
       "      <td>No</td>\n",
       "      <td>Down</td>\n",
       "      <td>Ch</td>\n",
       "      <td>Yes</td>\n",
       "      <td>&gt;30</td>\n",
       "      <td>No</td>\n",
       "    </tr>\n",
       "    <tr>\n",
       "      <th>6780</th>\n",
       "      <td>33120744</td>\n",
       "      <td>1660293</td>\n",
       "      <td>Caucasian</td>\n",
       "      <td>Female</td>\n",
       "      <td>[60-70)</td>\n",
       "      <td>?</td>\n",
       "      <td>2</td>\n",
       "      <td>1</td>\n",
       "      <td>1</td>\n",
       "      <td>9</td>\n",
       "      <td>...</td>\n",
       "      <td>No</td>\n",
       "      <td>No</td>\n",
       "      <td>No</td>\n",
       "      <td>No</td>\n",
       "      <td>No</td>\n",
       "      <td>Up</td>\n",
       "      <td>Ch</td>\n",
       "      <td>Yes</td>\n",
       "      <td>&lt;30</td>\n",
       "      <td>No</td>\n",
       "    </tr>\n",
       "    <tr>\n",
       "      <th>7704</th>\n",
       "      <td>36030504</td>\n",
       "      <td>1660293</td>\n",
       "      <td>Caucasian</td>\n",
       "      <td>Female</td>\n",
       "      <td>[60-70)</td>\n",
       "      <td>?</td>\n",
       "      <td>2</td>\n",
       "      <td>1</td>\n",
       "      <td>1</td>\n",
       "      <td>5</td>\n",
       "      <td>...</td>\n",
       "      <td>No</td>\n",
       "      <td>No</td>\n",
       "      <td>No</td>\n",
       "      <td>No</td>\n",
       "      <td>No</td>\n",
       "      <td>Steady</td>\n",
       "      <td>No</td>\n",
       "      <td>Yes</td>\n",
       "      <td>&lt;30</td>\n",
       "      <td>No</td>\n",
       "    </tr>\n",
       "    <tr>\n",
       "      <th>8547</th>\n",
       "      <td>38486058</td>\n",
       "      <td>1660293</td>\n",
       "      <td>Caucasian</td>\n",
       "      <td>Female</td>\n",
       "      <td>[60-70)</td>\n",
       "      <td>?</td>\n",
       "      <td>1</td>\n",
       "      <td>1</td>\n",
       "      <td>7</td>\n",
       "      <td>2</td>\n",
       "      <td>...</td>\n",
       "      <td>No</td>\n",
       "      <td>No</td>\n",
       "      <td>No</td>\n",
       "      <td>No</td>\n",
       "      <td>No</td>\n",
       "      <td>Up</td>\n",
       "      <td>Ch</td>\n",
       "      <td>Yes</td>\n",
       "      <td>&lt;30</td>\n",
       "      <td>No</td>\n",
       "    </tr>\n",
       "    <tr>\n",
       "      <th>8972</th>\n",
       "      <td>39749172</td>\n",
       "      <td>1660293</td>\n",
       "      <td>Caucasian</td>\n",
       "      <td>Female</td>\n",
       "      <td>[60-70)</td>\n",
       "      <td>?</td>\n",
       "      <td>2</td>\n",
       "      <td>1</td>\n",
       "      <td>1</td>\n",
       "      <td>4</td>\n",
       "      <td>...</td>\n",
       "      <td>No</td>\n",
       "      <td>No</td>\n",
       "      <td>No</td>\n",
       "      <td>No</td>\n",
       "      <td>No</td>\n",
       "      <td>Steady</td>\n",
       "      <td>No</td>\n",
       "      <td>Yes</td>\n",
       "      <td>&gt;30</td>\n",
       "      <td>No</td>\n",
       "    </tr>\n",
       "    <tr>\n",
       "      <th>12206</th>\n",
       "      <td>49882548</td>\n",
       "      <td>1660293</td>\n",
       "      <td>Caucasian</td>\n",
       "      <td>Female</td>\n",
       "      <td>[60-70)</td>\n",
       "      <td>?</td>\n",
       "      <td>2</td>\n",
       "      <td>1</td>\n",
       "      <td>1</td>\n",
       "      <td>2</td>\n",
       "      <td>...</td>\n",
       "      <td>No</td>\n",
       "      <td>No</td>\n",
       "      <td>No</td>\n",
       "      <td>No</td>\n",
       "      <td>No</td>\n",
       "      <td>Steady</td>\n",
       "      <td>No</td>\n",
       "      <td>Yes</td>\n",
       "      <td>&lt;30</td>\n",
       "      <td>No</td>\n",
       "    </tr>\n",
       "    <tr>\n",
       "      <th>12955</th>\n",
       "      <td>52130958</td>\n",
       "      <td>1660293</td>\n",
       "      <td>Caucasian</td>\n",
       "      <td>Female</td>\n",
       "      <td>[60-70)</td>\n",
       "      <td>?</td>\n",
       "      <td>1</td>\n",
       "      <td>1</td>\n",
       "      <td>7</td>\n",
       "      <td>5</td>\n",
       "      <td>...</td>\n",
       "      <td>No</td>\n",
       "      <td>No</td>\n",
       "      <td>No</td>\n",
       "      <td>No</td>\n",
       "      <td>No</td>\n",
       "      <td>Steady</td>\n",
       "      <td>No</td>\n",
       "      <td>Yes</td>\n",
       "      <td>&gt;30</td>\n",
       "      <td>No</td>\n",
       "    </tr>\n",
       "    <tr>\n",
       "      <th>14085</th>\n",
       "      <td>55295502</td>\n",
       "      <td>1660293</td>\n",
       "      <td>Caucasian</td>\n",
       "      <td>Female</td>\n",
       "      <td>[60-70)</td>\n",
       "      <td>?</td>\n",
       "      <td>1</td>\n",
       "      <td>1</td>\n",
       "      <td>7</td>\n",
       "      <td>6</td>\n",
       "      <td>...</td>\n",
       "      <td>No</td>\n",
       "      <td>No</td>\n",
       "      <td>No</td>\n",
       "      <td>No</td>\n",
       "      <td>No</td>\n",
       "      <td>Up</td>\n",
       "      <td>Ch</td>\n",
       "      <td>Yes</td>\n",
       "      <td>&gt;30</td>\n",
       "      <td>No</td>\n",
       "    </tr>\n",
       "    <tr>\n",
       "      <th>15442</th>\n",
       "      <td>59272632</td>\n",
       "      <td>1660293</td>\n",
       "      <td>Caucasian</td>\n",
       "      <td>Female</td>\n",
       "      <td>[60-70)</td>\n",
       "      <td>?</td>\n",
       "      <td>2</td>\n",
       "      <td>1</td>\n",
       "      <td>1</td>\n",
       "      <td>4</td>\n",
       "      <td>...</td>\n",
       "      <td>No</td>\n",
       "      <td>No</td>\n",
       "      <td>No</td>\n",
       "      <td>No</td>\n",
       "      <td>No</td>\n",
       "      <td>Up</td>\n",
       "      <td>Ch</td>\n",
       "      <td>Yes</td>\n",
       "      <td>&lt;30</td>\n",
       "      <td>No</td>\n",
       "    </tr>\n",
       "    <tr>\n",
       "      <th>16005</th>\n",
       "      <td>60568416</td>\n",
       "      <td>1660293</td>\n",
       "      <td>Caucasian</td>\n",
       "      <td>Female</td>\n",
       "      <td>[60-70)</td>\n",
       "      <td>?</td>\n",
       "      <td>1</td>\n",
       "      <td>6</td>\n",
       "      <td>7</td>\n",
       "      <td>10</td>\n",
       "      <td>...</td>\n",
       "      <td>No</td>\n",
       "      <td>No</td>\n",
       "      <td>No</td>\n",
       "      <td>No</td>\n",
       "      <td>No</td>\n",
       "      <td>Steady</td>\n",
       "      <td>No</td>\n",
       "      <td>Yes</td>\n",
       "      <td>&gt;30</td>\n",
       "      <td>No</td>\n",
       "    </tr>\n",
       "    <tr>\n",
       "      <th>17079</th>\n",
       "      <td>63275892</td>\n",
       "      <td>1660293</td>\n",
       "      <td>Caucasian</td>\n",
       "      <td>Female</td>\n",
       "      <td>[60-70)</td>\n",
       "      <td>?</td>\n",
       "      <td>2</td>\n",
       "      <td>6</td>\n",
       "      <td>1</td>\n",
       "      <td>10</td>\n",
       "      <td>...</td>\n",
       "      <td>No</td>\n",
       "      <td>No</td>\n",
       "      <td>No</td>\n",
       "      <td>No</td>\n",
       "      <td>No</td>\n",
       "      <td>Up</td>\n",
       "      <td>Ch</td>\n",
       "      <td>Yes</td>\n",
       "      <td>&gt;30</td>\n",
       "      <td>No</td>\n",
       "    </tr>\n",
       "    <tr>\n",
       "      <th>19463</th>\n",
       "      <td>69324756</td>\n",
       "      <td>1660293</td>\n",
       "      <td>Caucasian</td>\n",
       "      <td>Female</td>\n",
       "      <td>[60-70)</td>\n",
       "      <td>?</td>\n",
       "      <td>1</td>\n",
       "      <td>6</td>\n",
       "      <td>7</td>\n",
       "      <td>2</td>\n",
       "      <td>...</td>\n",
       "      <td>No</td>\n",
       "      <td>No</td>\n",
       "      <td>No</td>\n",
       "      <td>No</td>\n",
       "      <td>No</td>\n",
       "      <td>Steady</td>\n",
       "      <td>No</td>\n",
       "      <td>Yes</td>\n",
       "      <td>&gt;30</td>\n",
       "      <td>No</td>\n",
       "    </tr>\n",
       "    <tr>\n",
       "      <th>21360</th>\n",
       "      <td>74450130</td>\n",
       "      <td>1660293</td>\n",
       "      <td>Caucasian</td>\n",
       "      <td>Female</td>\n",
       "      <td>[60-70)</td>\n",
       "      <td>?</td>\n",
       "      <td>2</td>\n",
       "      <td>4</td>\n",
       "      <td>1</td>\n",
       "      <td>14</td>\n",
       "      <td>...</td>\n",
       "      <td>No</td>\n",
       "      <td>No</td>\n",
       "      <td>No</td>\n",
       "      <td>No</td>\n",
       "      <td>No</td>\n",
       "      <td>Down</td>\n",
       "      <td>Ch</td>\n",
       "      <td>Yes</td>\n",
       "      <td>&gt;30</td>\n",
       "      <td>No</td>\n",
       "    </tr>\n",
       "    <tr>\n",
       "      <th>23447</th>\n",
       "      <td>80082870</td>\n",
       "      <td>1660293</td>\n",
       "      <td>Caucasian</td>\n",
       "      <td>Female</td>\n",
       "      <td>[60-70)</td>\n",
       "      <td>?</td>\n",
       "      <td>1</td>\n",
       "      <td>1</td>\n",
       "      <td>7</td>\n",
       "      <td>5</td>\n",
       "      <td>...</td>\n",
       "      <td>No</td>\n",
       "      <td>No</td>\n",
       "      <td>No</td>\n",
       "      <td>No</td>\n",
       "      <td>No</td>\n",
       "      <td>Steady</td>\n",
       "      <td>No</td>\n",
       "      <td>Yes</td>\n",
       "      <td>&lt;30</td>\n",
       "      <td>No</td>\n",
       "    </tr>\n",
       "    <tr>\n",
       "      <th>24042</th>\n",
       "      <td>81790986</td>\n",
       "      <td>1660293</td>\n",
       "      <td>Caucasian</td>\n",
       "      <td>Female</td>\n",
       "      <td>[70-80)</td>\n",
       "      <td>?</td>\n",
       "      <td>3</td>\n",
       "      <td>1</td>\n",
       "      <td>1</td>\n",
       "      <td>4</td>\n",
       "      <td>...</td>\n",
       "      <td>No</td>\n",
       "      <td>No</td>\n",
       "      <td>No</td>\n",
       "      <td>No</td>\n",
       "      <td>No</td>\n",
       "      <td>Steady</td>\n",
       "      <td>No</td>\n",
       "      <td>Yes</td>\n",
       "      <td>&lt;30</td>\n",
       "      <td>No</td>\n",
       "    </tr>\n",
       "    <tr>\n",
       "      <th>24847</th>\n",
       "      <td>83790342</td>\n",
       "      <td>1660293</td>\n",
       "      <td>Caucasian</td>\n",
       "      <td>Female</td>\n",
       "      <td>[70-80)</td>\n",
       "      <td>?</td>\n",
       "      <td>3</td>\n",
       "      <td>1</td>\n",
       "      <td>1</td>\n",
       "      <td>8</td>\n",
       "      <td>...</td>\n",
       "      <td>No</td>\n",
       "      <td>No</td>\n",
       "      <td>No</td>\n",
       "      <td>No</td>\n",
       "      <td>No</td>\n",
       "      <td>Steady</td>\n",
       "      <td>No</td>\n",
       "      <td>Yes</td>\n",
       "      <td>&lt;30</td>\n",
       "      <td>No</td>\n",
       "    </tr>\n",
       "    <tr>\n",
       "      <th>25344</th>\n",
       "      <td>84790116</td>\n",
       "      <td>1660293</td>\n",
       "      <td>Caucasian</td>\n",
       "      <td>Female</td>\n",
       "      <td>[70-80)</td>\n",
       "      <td>?</td>\n",
       "      <td>2</td>\n",
       "      <td>1</td>\n",
       "      <td>1</td>\n",
       "      <td>8</td>\n",
       "      <td>...</td>\n",
       "      <td>No</td>\n",
       "      <td>No</td>\n",
       "      <td>No</td>\n",
       "      <td>No</td>\n",
       "      <td>No</td>\n",
       "      <td>Down</td>\n",
       "      <td>Ch</td>\n",
       "      <td>Yes</td>\n",
       "      <td>&lt;30</td>\n",
       "      <td>No</td>\n",
       "    </tr>\n",
       "    <tr>\n",
       "      <th>25767</th>\n",
       "      <td>85616136</td>\n",
       "      <td>1660293</td>\n",
       "      <td>Caucasian</td>\n",
       "      <td>Female</td>\n",
       "      <td>[70-80)</td>\n",
       "      <td>?</td>\n",
       "      <td>1</td>\n",
       "      <td>1</td>\n",
       "      <td>7</td>\n",
       "      <td>6</td>\n",
       "      <td>...</td>\n",
       "      <td>No</td>\n",
       "      <td>No</td>\n",
       "      <td>No</td>\n",
       "      <td>No</td>\n",
       "      <td>No</td>\n",
       "      <td>Up</td>\n",
       "      <td>Ch</td>\n",
       "      <td>Yes</td>\n",
       "      <td>NO</td>\n",
       "      <td>No</td>\n",
       "    </tr>\n",
       "  </tbody>\n",
       "</table>\n",
       "<p>23 rows × 39 columns</p>\n",
       "</div>"
      ]
     },
     "execution_count": 39,
     "metadata": {},
     "output_type": "execute_result"
    }
   ],
   "execution_count": 39
  },
  {
   "metadata": {},
   "cell_type": "raw",
   "source": "_______________________________________________________________________________________________________________________________________________________",
   "id": "728266ff-faba-4db5-93b7-f1b5691aa3f1",
   "outputs": null,
   "execution_count": null
  },
  {
   "metadata": {},
   "cell_type": "markdown",
   "source": [
    "### Task 2 - Data exploration\n",
    "\n",
    "- Make histograms of the numerical variables"
   ],
   "id": "ae4764ff98183a8a"
  },
  {
   "metadata": {
    "ExecuteTime": {
     "end_time": "2024-08-20T06:25:52.143209Z",
     "start_time": "2024-08-20T06:25:51.727546Z"
    }
   },
   "cell_type": "code",
   "source": [
    "# make boxplots of the numerical variables\n",
    "plt.figure(figsize=(12, 6))\n",
    "sns.histplot(data=d1['num_lab_procedures'], kde=True, color='skyblue', bins=20)\n"
   ],
   "id": "b2e2a54e88ed9623",
   "outputs": [
    {
     "data": {
      "text/plain": [
       "<Axes: xlabel='num_lab_procedures', ylabel='Count'>"
      ]
     },
     "execution_count": 40,
     "metadata": {},
     "output_type": "execute_result"
    },
    {
     "data": {
      "text/plain": [
       "<Figure size 1200x600 with 1 Axes>"
      ],
      "image/png": "[encoded data removed]"
     },
     "metadata": {},
     "output_type": "display_data"
    }
   ],
   "execution_count": 40
  },
  {
   "metadata": {
    "ExecuteTime": {
     "end_time": "2024-08-20T06:34:54.462306Z",
     "start_time": "2024-08-20T06:34:54.064359Z"
    }
   },
   "cell_type": "code",
   "source": [
    "fig, axes = plt.subplots(1, 2, figsize=(12, 6), gridspec_kw={'width_ratios': [2, 1]})\n",
    "plt.figure(figsize=(12, 6))\n",
    "sns.histplot(data=d1['number_inpatient' ], ax=axes[0] ,color='skyblue')\n",
    "axes[0].set_title(f'Histogram of inpatients')\n",
    "axes[0].set_xlabel('number_inpatient')\n",
    "axes[0].set_ylabel('Frequency')\n",
    "\n",
    "sns.boxplot(data=d1['number_inpatient'], ax=axes[1] ,color='orange')\n",
    "axes[1].set_title(f'Boxplot of inpatients')\n",
    "axes[1].set_xlabel('some text')\n"
   ],
   "id": "fc8d77e551c62197",
   "outputs": [
    {
     "data": {
      "text/plain": [
       "Text(0.5, 0, 'some text')"
      ]
     },
     "execution_count": 55,
     "metadata": {},
     "output_type": "execute_result"
    },
    {
     "data": {
      "text/plain": [
       "<Figure size 1200x600 with 2 Axes>"
      ],
      "image/png": "[encoded data removed]"
     },
     "metadata": {},
     "output_type": "display_data"
    },
    {
     "data": {
      "text/plain": [
       "<Figure size 1200x600 with 0 Axes>"
      ]
     },
     "metadata": {},
     "output_type": "display_data"
    }
   ],
   "execution_count": 55
  },
  {
   "metadata": {
    "ExecuteTime": {
     "end_time": "2024-08-20T06:44:26.525229Z",
     "start_time": "2024-08-20T06:44:25.858226Z"
    }
   },
   "cell_type": "code",
   "source": [
    "fig, axes = plt.subplots(3, 1, figsize=(6, 10))\n",
    "\n",
    "sns.histplot(data=d1['number_inpatient' ], ax=axes[0] ,bins = 20, color='skyblue')\n",
    "axes[0].set_title(f'Histogram of inpatients')\n",
    "axes[0].set_xlabel('number_inpatient')\n",
    "axes[0].set_ylabel('Frequency')\n",
    "\n",
    "sns.histplot(data=d1['number_outpatient' ], ax=axes[1] ,bins = 20, color='orange')\n",
    "axes[1].set_title(f'Histogram of outpatients')\n",
    "axes[1].set_xlabel('number_inpatient')\n",
    "axes[1].set_ylabel('Frequency')\n",
    "\n",
    "sns.histplot(data=d1['number_emergency' ], ax=axes[2] ,bins = 20,  color='lightgreen')\n",
    "axes[2].set_title(f'Histogram of emergency')\n",
    "axes[2].set_xlabel('number_inpatient')\n",
    "axes[2].set_ylabel('Frequency')\\\n",
    "    \n",
    "plt.subplots_adjust(hspace=0.3)"
   ],
   "id": "ff079239ae3b8304",
   "outputs": [
    {
     "data": {
      "text/plain": [
       "<Figure size 600x1000 with 3 Axes>"
      ],
      "image/png": "[encoded data removed]"
     },
     "metadata": {},
     "output_type": "display_data"
    }
   ],
   "execution_count": 76
  },
  {
   "metadata": {
    "ExecuteTime": {
     "end_time": "2024-08-20T06:35:22.759189Z",
     "start_time": "2024-08-20T06:35:22.296684Z"
    }
   },
   "cell_type": "code",
   "source": "sns.boxplot(data=d1[['number_inpatient', 'number_outpatient', 'number_emergency']])",
   "id": "4d4618f9e54f179b",
   "outputs": [
    {
     "data": {
      "text/plain": [
       "<Axes: >"
      ]
     },
     "execution_count": 56,
     "metadata": {},
     "output_type": "execute_result"
    },
    {
     "data": {
      "text/plain": [
       "<Figure size 640x480 with 1 Axes>"
      ],
      "image/png": "[encoded data removed]"
     },
     "metadata": {},
     "output_type": "display_data"
    }
   ],
   "execution_count": 56
  },
  {
   "metadata": {},
   "cell_type": "code",
   "outputs": [],
   "execution_count": null,
   "source": "",
   "id": "e4d34c3f13967302"
  },
  {
   "metadata": {},
   "cell_type": "code",
   "outputs": [],
   "execution_count": null,
   "source": "",
   "id": "30f893e48569e767"
  },
  {
   "metadata": {
    "ExecuteTime": {
     "end_time": "2024-08-20T06:17:00.199018300Z",
     "start_time": "2024-08-20T03:46:57.532111Z"
    }
   },
   "cell_type": "code",
   "outputs": [
    {
     "data": {
      "text/plain": [
       "age\n",
       "[70-80)     13109\n",
       "[60-70)     10874\n",
       "[50-60)      8775\n",
       "[80-90)      7530\n",
       "[40-50)      5064\n",
       "[30-40)      2053\n",
       "[90-100)     1178\n",
       "[20-30)       842\n",
       "[10-20)       468\n",
       "[0-10)        138\n",
       "Name: count, dtype: Int64"
      ]
     },
     "execution_count": 23,
     "metadata": {},
     "output_type": "execute_result"
    }
   ],
   "execution_count": 23,
   "source": "d1.age.value_counts(dropna=False)",
   "id": "ad5ec893c126bfb0"
  },
  {
   "metadata": {
    "ExecuteTime": {
     "end_time": "2024-08-20T06:17:00.199018300Z",
     "start_time": "2024-08-18T08:50:15.115888Z"
    }
   },
   "cell_type": "code",
   "outputs": [],
   "execution_count": 278,
   "source": "d1_copy = d1.copy(deep=True)",
   "id": "2268a4bc10606cb6"
  },
  {
   "metadata": {
    "ExecuteTime": {
     "end_time": "2024-08-20T06:17:00.200020600Z",
     "start_time": "2024-08-18T08:50:15.272593Z"
    }
   },
   "cell_type": "code",
   "outputs": [],
   "execution_count": 279,
   "source": [
    "age_categories = ['[0-10)', '[10-20)', '[20-30)', '[30-40)', '[40-50)', '[50-60)', '[60-70)', '[70-80)', '[80-90)',\n",
    "                  '[90-100)']"
   ],
   "id": "795a19a316ae89b2"
  },
  {
   "metadata": {
    "ExecuteTime": {
     "end_time": "2024-08-20T06:17:00.200020600Z",
     "start_time": "2024-08-18T08:50:15.376020Z"
    }
   },
   "cell_type": "code",
   "outputs": [],
   "execution_count": 280,
   "source": "d1_copy['age'] = pd.Categorical(d1_copy['age'], categories=age_categories, ordered=True)",
   "id": "f8fcc580f059fd29"
  },
  {
   "metadata": {
    "ExecuteTime": {
     "end_time": "2024-08-20T06:17:00.200020600Z",
     "start_time": "2024-08-18T08:50:15.475134Z"
    }
   },
   "cell_type": "code",
   "outputs": [
    {
     "data": {
      "text/plain": [
       "age\n",
       "[0-10)        138\n",
       "[10-20)       468\n",
       "[20-30)       842\n",
       "[30-40)      2053\n",
       "[40-50)      5064\n",
       "[50-60)      8775\n",
       "[60-70)     10874\n",
       "[70-80)     13109\n",
       "[80-90)      7530\n",
       "[90-100)     1178\n",
       "Name: count, dtype: int64"
      ]
     },
     "execution_count": 281,
     "metadata": {},
     "output_type": "execute_result"
    }
   ],
   "execution_count": 281,
   "source": "d1_copy['age'].value_counts(dropna=False).sort_index()",
   "id": "3c26fe81ea780232"
  },
  {
   "metadata": {
    "ExecuteTime": {
     "end_time": "2024-08-20T06:17:00.316278100Z",
     "start_time": "2024-08-18T08:50:15.549801Z"
    }
   },
   "cell_type": "code",
   "outputs": [],
   "execution_count": 282,
   "source": [
    "weight_categories = ['?', '[0-25)', '[25-50)', '[50-75)', '[75-100)', '[100-125)', '[125-150)', '[150-175)',\n",
    "                     '[175-200)', '>200']"
   ],
   "id": "aee3b479f0705389"
  },
  {
   "metadata": {
    "ExecuteTime": {
     "end_time": "2024-08-20T06:17:00.316278100Z",
     "start_time": "2024-08-18T08:50:15.680662Z"
    }
   },
   "cell_type": "code",
   "outputs": [],
   "execution_count": 283,
   "source": "d1_copy['weight'] = pd.Categorical(d1_copy['weight'], categories=weight_categories, ordered=True)",
   "id": "bd3a3c4449d67792"
  },
  {
   "metadata": {
    "ExecuteTime": {
     "end_time": "2024-08-20T06:17:00.317277600Z",
     "start_time": "2024-08-18T08:50:15.814312Z"
    }
   },
   "cell_type": "code",
   "outputs": [
    {
     "data": {
      "text/plain": [
       "weight\n",
       "?            48169\n",
       "[0-25)          37\n",
       "[25-50)         68\n",
       "[50-75)        550\n",
       "[75-100)       794\n",
       "[100-125)      316\n",
       "[125-150)       73\n",
       "[150-175)       17\n",
       "[175-200)        6\n",
       ">200             1\n",
       "Name: count, dtype: int64"
      ]
     },
     "execution_count": 284,
     "metadata": {},
     "output_type": "execute_result"
    }
   ],
   "execution_count": 284,
   "source": "d1_copy['weight'].value_counts(dropna=False).sort_index()",
   "id": "71e54b6b3e1af145"
  },
  {
   "metadata": {
    "ExecuteTime": {
     "end_time": "2024-08-20T06:17:00.318282500Z",
     "start_time": "2024-08-18T08:50:15.935715Z"
    }
   },
   "cell_type": "code",
   "outputs": [
    {
     "data": {
      "text/plain": [
       "number_emergency\n",
       "0     46185\n",
       "1      2629\n",
       "2       644\n",
       "3       232\n",
       "4       132\n",
       "?        69\n",
       "5        45\n",
       "6        27\n",
       "7        24\n",
       "8        16\n",
       "9        10\n",
       "10        8\n",
       "11        3\n",
       "22        2\n",
       "25        1\n",
       "13        1\n",
       "42        1\n",
       "16        1\n",
       "28        1\n",
       "Name: count, dtype: int64"
      ]
     },
     "execution_count": 285,
     "metadata": {},
     "output_type": "execute_result"
    }
   ],
   "execution_count": 285,
   "source": "d1.number_emergency.value_counts(dropna=False)",
   "id": "a660c6a5-0757-41cf-8127-b1eae6ce5c56"
  },
  {
   "metadata": {},
   "cell_type": "markdown",
   "source": "Make a copy of the original dataframe to correct the mismatched variables",
   "id": "d6e0d3c2338165f9"
  },
  {
   "metadata": {},
   "cell_type": "markdown",
   "source": "Fix up the mismatched data",
   "id": "eb387dad106de401"
  },
  {
   "cell_type": "code",
   "execution_count": 6,
   "id": "27cb8813b5dc85c8",
   "metadata": {
    "ExecuteTime": {
     "end_time": "2024-08-20T06:17:00.318282500Z",
     "start_time": "2024-08-20T04:30:04.426979Z"
    }
   },
   "outputs": [
    {
     "name": "stdout",
     "output_type": "stream",
     "text": [
      "<class 'pandas.core.frame.DataFrame'>\n",
      "RangeIndex: 50031 entries, 0 to 50030\n",
      "Data columns (total 3 columns):\n",
      " #   Column             Non-Null Count  Dtype\n",
      "---  ------             --------------  -----\n",
      " 0   number_outpatient  50011 non-null  Int64\n",
      " 1   number_emergency   49962 non-null  Int64\n",
      " 2   number_inpatient   49962 non-null  Int64\n",
      "dtypes: Int64(3)\n",
      "memory usage: 1.3 MB\n"
     ]
    }
   ],
   "source": [
    "d1[['number_outpatient', 'number_emergency', 'number_inpatient']].info()"
   ]
  },
  {
   "cell_type": "markdown",
   "id": "c9fe790e5121e088",
   "metadata": {},
   "source": [
    "### Skewness of integer variables"
   ]
  },
  {
   "cell_type": "code",
   "execution_count": null,
   "id": "c9d856a1d5c25d56",
   "metadata": {
    "ExecuteTime": {
     "end_time": "2024-08-20T06:17:00.319282400Z",
     "start_time": "2024-08-18T08:50:16.303387Z"
    }
   },
   "outputs": [],
   "source": []
  },
  {
   "cell_type": "code",
   "execution_count": 288,
   "id": "812680f563000d48",
   "metadata": {
    "ExecuteTime": {
     "end_time": "2024-08-20T06:17:00.319282400Z",
     "start_time": "2024-08-18T08:50:16.396519Z"
    }
   },
   "outputs": [
    {
     "data": {
      "text/plain": [
       "number_outpatient    9.314813\n",
       "number_emergency     16.58132\n",
       "number_inpatient     16.58132\n",
       "dtype: Float64"
      ]
     },
     "execution_count": 288,
     "metadata": {},
     "output_type": "execute_result"
    }
   ],
   "source": [
    "d1_copy[['number_outpatient', 'number_emergency', 'number_inpatient']].skew()"
   ]
  },
  {
   "cell_type": "code",
   "execution_count": 289,
   "id": "84a46406758c0c79",
   "metadata": {
    "ExecuteTime": {
     "end_time": "2024-08-20T06:17:00.320282500Z",
     "start_time": "2024-08-18T08:50:16.508676Z"
    }
   },
   "outputs": [
    {
     "data": {
      "text/plain": [
       "number_inpatient\n",
       "0       92.312766\n",
       "1        5.254742\n",
       "2        1.287202\n",
       "3        0.463712\n",
       "4        0.263836\n",
       "<NA>     0.137914\n",
       "5        0.089944\n",
       "6        0.053967\n",
       "7         0.04797\n",
       "8         0.03198\n",
       "9        0.019988\n",
       "10        0.01599\n",
       "11       0.005996\n",
       "22       0.003998\n",
       "25       0.001999\n",
       "13       0.001999\n",
       "42       0.001999\n",
       "16       0.001999\n",
       "28       0.001999\n",
       "Name: proportion, dtype: Float64"
      ]
     },
     "execution_count": 289,
     "metadata": {},
     "output_type": "execute_result"
    }
   ],
   "source": [
    "d1_copy['number_inpatient'].value_counts(normalize=True, dropna=False) * 100"
   ]
  },
  {
   "cell_type": "code",
   "execution_count": 290,
   "id": "b5a80a45ba433b47",
   "metadata": {
    "ExecuteTime": {
     "end_time": "2024-08-20T06:17:00.320282500Z",
     "start_time": "2024-08-18T08:50:16.618773Z"
    }
   },
   "outputs": [
    {
     "data": {
      "text/plain": [
       "number_diagnoses\n",
       "9    35.491995\n",
       "5    16.521757\n",
       "6    11.938598\n",
       "7    11.480882\n",
       "8    11.414923\n",
       "4     7.345446\n",
       "3     3.931562\n",
       "2     1.535048\n",
       "1     0.339789\n",
       "Name: proportion, dtype: float64"
      ]
     },
     "execution_count": 290,
     "metadata": {},
     "output_type": "execute_result"
    }
   ],
   "source": [
    "d1_copy['number_diagnoses'].value_counts(normalize=True, dropna=False) * 100"
   ]
  },
  {
   "cell_type": "code",
   "execution_count": 291,
   "id": "84128861fe2e2377",
   "metadata": {
    "ExecuteTime": {
     "end_time": "2024-08-20T06:17:00.320282500Z",
     "start_time": "2024-08-18T08:50:16.833603Z"
    }
   },
   "outputs": [
    {
     "data": {
      "text/plain": [
       "num_lab_procedures\n",
       "43     2.960165\n",
       "1      2.648358\n",
       "44     2.602387\n",
       "45     2.398513\n",
       "46     2.260598\n",
       "         ...   \n",
       "129    0.001999\n",
       "107    0.001999\n",
       "108    0.001999\n",
       "109    0.001999\n",
       "120    0.001999\n",
       "Name: proportion, Length: 114, dtype: float64"
      ]
     },
     "execution_count": 291,
     "metadata": {},
     "output_type": "execute_result"
    }
   ],
   "source": [
    "d1_copy['num_lab_procedures'].value_counts(normalize=True, dropna=False) * 100"
   ]
  },
  {
   "cell_type": "code",
   "execution_count": 292,
   "id": "a66e522fdcd21029",
   "metadata": {
    "ExecuteTime": {
     "end_time": "2024-08-20T06:17:00.321282800Z",
     "start_time": "2024-08-18T08:50:17.018382Z"
    }
   },
   "outputs": [
    {
     "data": {
      "text/plain": [
       "num_medications\n",
       "1     0.003198\n",
       "2     0.005477\n",
       "3     0.010593\n",
       "4     0.017229\n",
       "5     0.023206\n",
       "        ...   \n",
       "69    0.000080\n",
       "70    0.000040\n",
       "75    0.000020\n",
       "79    0.000020\n",
       "81    0.000020\n",
       "Name: proportion, Length: 73, dtype: float64"
      ]
     },
     "execution_count": 292,
     "metadata": {},
     "output_type": "execute_result"
    }
   ],
   "source": [
    "d1_copy['num_medications'].value_counts(normalize=True, dropna=False).sort_index()"
   ]
  },
  {
   "cell_type": "code",
   "execution_count": 293,
   "id": "ab2cb40e0520bad",
   "metadata": {
    "ExecuteTime": {
     "end_time": "2024-08-20T06:17:00.321282800Z",
     "start_time": "2024-08-18T08:50:17.200339Z"
    }
   },
   "outputs": [
    {
     "data": {
      "text/plain": [
       "num_medications\n",
       "[0-10)     29.243869\n",
       "[10-20)    50.672583\n",
       "[>30)      20.083548\n",
       "Name: proportion, dtype: float64"
      ]
     },
     "execution_count": 293,
     "metadata": {},
     "output_type": "execute_result"
    }
   ],
   "source": [
    "# cut the num_medications variable into bins with labesl [0 - 10), [10 - 20), [20 - 30), [30 - 40), [>40))\n",
    "pd.cut(d1_copy['num_medications'], bins=[0, 10, 20, np.inf], labels=['[0-10)', '[10-20)', '[>30)']).value_counts(\n",
    "    normalize=True, dropna=False).sort_index() * 100"
   ]
  },
  {
   "cell_type": "code",
   "execution_count": null,
   "id": "d6622fe6f4d7eebc",
   "metadata": {
    "ExecuteTime": {
     "end_time": "2024-08-20T06:17:00.327281800Z",
     "start_time": "2024-08-18T08:50:17.394885Z"
    }
   },
   "outputs": [],
   "source": []
  },
  {
   "cell_type": "code",
   "execution_count": 294,
   "id": "1c5149adbfe03643",
   "metadata": {
    "ExecuteTime": {
     "end_time": "2024-08-20T06:17:00.327281800Z",
     "start_time": "2024-08-18T08:50:17.570527Z"
    }
   },
   "outputs": [
    {
     "data": {
      "text/plain": [
       "<Axes: xlabel='number_inpatient', ylabel='Count'>"
      ]
     },
     "execution_count": 294,
     "metadata": {},
     "output_type": "execute_result"
    },
    {
     "data": {
      "image/png": "[encoded data removed]",
      "text/plain": [
       "<Figure size 640x480 with 1 Axes>"
      ]
     },
     "metadata": {},
     "output_type": "display_data"
    }
   ],
   "source": [
    "# make a frequency histogram of the number_outpatient variable using seaborn\n",
    "sns.histplot(d1_copy['number_inpatient'])\n"
   ]
  },
  {
   "cell_type": "code",
   "execution_count": 295,
   "id": "f237d68fd36a83a6",
   "metadata": {
    "ExecuteTime": {
     "end_time": "2024-08-20T06:17:00.328282300Z",
     "start_time": "2024-08-18T08:50:17.873159Z"
    }
   },
   "outputs": [
    {
     "data": {
      "text/plain": [
       "38257"
      ]
     },
     "execution_count": 295,
     "metadata": {},
     "output_type": "execute_result"
    }
   ],
   "source": [
    "len(np.unique(d1[['patient_nbr']]))"
   ]
  },
  {
   "cell_type": "code",
   "execution_count": 296,
   "id": "f610e24bf24dc8db",
   "metadata": {
    "ExecuteTime": {
     "end_time": "2024-08-20T06:17:00.328282300Z",
     "start_time": "2024-08-18T08:50:17.993470Z"
    }
   },
   "outputs": [
    {
     "data": {
      "text/plain": [
       "50031"
      ]
     },
     "execution_count": 296,
     "metadata": {},
     "output_type": "execute_result"
    }
   ],
   "source": [
    "len(d1)"
   ]
  },
  {
   "cell_type": "code",
   "execution_count": null,
   "id": "25a26afbd526ec39",
   "metadata": {
    "ExecuteTime": {
     "end_time": "2024-08-20T06:17:00.329282400Z",
     "start_time": "2024-08-18T08:50:18.077233Z"
    }
   },
   "outputs": [],
   "source": []
  },
  {
   "cell_type": "code",
   "execution_count": null,
   "id": "4272fb2939e3501f",
   "metadata": {
    "ExecuteTime": {
     "end_time": "2024-08-20T06:17:00.329282400Z",
     "start_time": "2024-08-18T08:50:18.162122Z"
    }
   },
   "outputs": [],
   "source": []
  },
  {
   "cell_type": "code",
   "execution_count": 297,
   "id": "fefc04214bd90416",
   "metadata": {
    "ExecuteTime": {
     "end_time": "2024-08-20T06:17:00.329282400Z",
     "start_time": "2024-08-18T08:50:18.254089Z"
    }
   },
   "outputs": [],
   "source": [
    "import seaborn as sns"
   ]
  },
  {
   "cell_type": "markdown",
   "id": "3a5f645c7b1f3063",
   "metadata": {},
   "source": [
    "### Task 2 - EDA"
   ]
  },
  {
   "cell_type": "code",
   "execution_count": 298,
   "id": "c666127f1aba7614",
   "metadata": {
    "ExecuteTime": {
     "end_time": "2024-08-20T06:17:00.330283700Z",
     "start_time": "2024-08-18T08:50:18.338682Z"
    }
   },
   "outputs": [
    {
     "data": {
      "image/png": "[encoded data removed]",
      "text/plain": [
       "<Figure size 640x480 with 1 Axes>"
      ]
     },
     "metadata": {},
     "output_type": "display_data"
    }
   ],
   "source": [
    "sns.histplot(d1_copy['weight'])\n",
    "plt.title('Weight distribution')\n",
    "plt.xlabel('Weight groups')\n",
    "plt.ylabel('Frequency')\n",
    "\n",
    "plt.xticks(rotation=90);\n"
   ]
  },
  {
   "cell_type": "code",
   "execution_count": 299,
   "id": "e65f8980375c8d68",
   "metadata": {
    "ExecuteTime": {
     "end_time": "2024-08-20T06:17:00.330283700Z",
     "start_time": "2024-08-18T08:50:18.587626Z"
    }
   },
   "outputs": [
    {
     "data": {
      "image/png": "[encoded data removed]",
      "text/plain": [
       "<Figure size 640x480 with 1 Axes>"
      ]
     },
     "metadata": {},
     "output_type": "display_data"
    }
   ],
   "source": [
    "sns.histplot(d1_copy['age'])\n",
    "plt.xticks(rotation=90);"
   ]
  },
  {
   "cell_type": "code",
   "execution_count": 300,
   "id": "dc7c06413f00d66d",
   "metadata": {
    "ExecuteTime": {
     "end_time": "2024-08-20T06:17:00.331282100Z",
     "start_time": "2024-08-18T08:50:18.986606Z"
    }
   },
   "outputs": [
    {
     "data": {
      "text/plain": [
       "<Axes: xlabel='payer_code', ylabel='Count'>"
      ]
     },
     "execution_count": 300,
     "metadata": {},
     "output_type": "execute_result"
    },
    {
     "data": {
      "image/png": "[encoded data removed]",
      "text/plain": [
       "<Figure size 640x480 with 1 Axes>"
      ]
     },
     "metadata": {},
     "output_type": "display_data"
    }
   ],
   "source": [
    "sns.histplot(d1_copy['payer_code'], bins=6)"
   ]
  },
  {
   "cell_type": "code",
   "execution_count": 301,
   "id": "c6522b7d30ddb1c7",
   "metadata": {
    "ExecuteTime": {
     "end_time": "2024-08-20T06:17:00.331282100Z",
     "start_time": "2024-08-18T08:50:19.299169Z"
    }
   },
   "outputs": [
    {
     "data": {
      "text/plain": [
       "<Axes: xlabel='weight', ylabel='Count'>"
      ]
     },
     "execution_count": 301,
     "metadata": {},
     "output_type": "execute_result"
    },
    {
     "data": {
      "image/png": "[encoded data removed]",
      "text/plain": [
       "<Figure size 640x480 with 1 Axes>"
      ]
     },
     "metadata": {},
     "output_type": "display_data"
    }
   ],
   "source": [
    "sns.histplot(data=d1_copy, x='weight', hue='gender', multiple='dodge', shrink=0.8)"
   ]
  },
  {
   "cell_type": "code",
   "execution_count": 306,
   "id": "4d2258e1be9d2007",
   "metadata": {
    "ExecuteTime": {
     "end_time": "2024-08-20T06:17:00.331282100Z",
     "start_time": "2024-08-18T09:32:55.470455Z"
    }
   },
   "outputs": [],
   "source": [
    "def categorize_diagnosis(code):\n",
    "    code_str = str(code)\n",
    "\n",
    "    # Check for specific prefixes 'V' and 'E'\n",
    "    if 'V' in code_str or 'E' in code_str:\n",
    "        return 'other'\n",
    "\n",
    "    # Convert the code to a numeric value\n",
    "    try:\n",
    "        code_num = int(float(code_str))\n",
    "    except ValueError:\n",
    "        return 'other'\n",
    "\n",
    "    # Categorize based on the numeric value\n",
    "    if 390 <= code_num < 460:\n",
    "        return 'circulatory'\n",
    "    elif 460 <= code_num < 520:\n",
    "        return 'respiratory'\n",
    "    elif 520 <= code_num < 580:\n",
    "        return 'digestive'\n",
    "    elif code_num == 250:\n",
    "        return 'diabetes'\n",
    "    elif 800 <= code_num < 1000:\n",
    "        return 'injury'\n",
    "    elif 710 <= code_num < 740:\n",
    "        return 'musculoskeletal'\n",
    "    elif 580 <= code_num < 630:\n",
    "        return 'genitourinary'\n",
    "    elif 140 <= code_num < 240:\n",
    "        return 'neoplasms'\n",
    "    elif 630 <= code_num < 680:\n",
    "        return 'pregnancy'\n",
    "    else:\n",
    "        return 'other'\n",
    "\n",
    "\n",
    "# Apply the function to the 'diag_1' column in the DataFrame\n",
    "d1_copy['diag1_cats'] = d1_copy['diag_1'].apply(categorize_diagnosis)\n",
    "\n"
   ]
  },
  {
   "cell_type": "code",
   "execution_count": 307,
   "id": "ed5ea72ad1501a8e",
   "metadata": {
    "ExecuteTime": {
     "end_time": "2024-08-20T06:17:00.332280100Z",
     "start_time": "2024-08-18T09:33:03.952128Z"
    }
   },
   "outputs": [
    {
     "data": {
      "text/plain": [
       "diag1_cats\n",
       "circulatory        16087\n",
       "other               8295\n",
       "respiratory         6796\n",
       "diabetes            4558\n",
       "digestive           4506\n",
       "injury              3205\n",
       "musculoskeletal     2419\n",
       "genitourinary       2129\n",
       "neoplasms           1702\n",
       "pregnancy            334\n",
       "Name: count, dtype: int64"
      ]
     },
     "execution_count": 307,
     "metadata": {},
     "output_type": "execute_result"
    }
   ],
   "source": [
    "d1_copy['diag1_cats'].value_counts()"
   ]
  },
  {
   "cell_type": "code",
   "execution_count": 308,
   "id": "dd3bbaea9e0411d7",
   "metadata": {
    "ExecuteTime": {
     "end_time": "2024-08-20T06:17:00.332280100Z",
     "start_time": "2024-08-18T10:14:58.902165Z"
    }
   },
   "outputs": [],
   "source": [
    "categories = [\n",
    "    (range(1, 139), 'infectious and parasitic diseases'),\n",
    "    (range(140, 239), 'neoplasms'),\n",
    "    (range(240, 279), 'endocrine, nutritional and metabolic diseases, and immunity disorders'),\n",
    "    (range(280, 289), 'diseases of the blood and blood-forming organs'),\n",
    "    (range(290, 319), 'mental disorders'),\n",
    "    (range(320, 389), 'diseases of the nervous system and sense organs'),\n",
    "    (range(390, 459), 'diseases of the circulatory system'),\n",
    "    (range(460, 519), 'diseases of the respiratory system'),\n",
    "    (range(520, 579), 'diseases of the digestive system'),\n",
    "    (range(580, 629), 'diseases of the genitourinary system'),\n",
    "    (range(630, 679), 'complications of pregnancy, childbirth, and the puerperium'),\n",
    "    (range(680, 709), 'diseases of the skin and subcutaneous tissue'),\n",
    "    (range(710, 739), 'diseases of the musculoskeletal system and connective tissue'),\n",
    "    (range(740, 759), 'congenital anomalies'),\n",
    "    (range(760, 779), 'certain conditions originating in the perinatal period'),\n",
    "    (range(780, 799), 'symptoms, signs, and ill-defined conditions'),\n",
    "    (range(800, 999), 'injury and poisoning')\n",
    "]"
   ]
  },
  {
   "cell_type": "code",
   "execution_count": 321,
   "id": "5cc1e52b1004ca67",
   "metadata": {
    "ExecuteTime": {
     "end_time": "2024-08-20T06:17:00.336818400Z",
     "start_time": "2024-08-18T10:19:03.260759Z"
    }
   },
   "outputs": [],
   "source": [
    "def diagnosis_categories(code):\n",
    "    if not isinstance(code, str):\n",
    "        return\n",
    "    if 'V' in code or 'E' in code:\n",
    "        return 'Supplementary'\n",
    "    if code == 'Unknown' or code == '?':\n",
    "        return 'Unknown'\n",
    "\n",
    "    code = float(code)\n",
    "    for code_range, description in categories:\n",
    "        if code in code_range:\n",
    "            return description\n",
    "        else:\n",
    "            return 'Unknown'"
   ]
  },
  {
   "cell_type": "code",
   "execution_count": null,
   "id": "873ce5f289b579c6",
   "metadata": {
    "ExecuteTime": {
     "end_time": "2024-08-20T06:17:00.337789600Z",
     "start_time": "2024-08-18T10:19:04.202666Z"
    }
   },
   "outputs": [],
   "source": []
  },
  {
   "cell_type": "code",
   "execution_count": null,
   "id": "f81b28ac21f9c74d",
   "metadata": {
    "ExecuteTime": {
     "end_time": "2024-08-20T06:17:00.337789600Z",
     "start_time": "2024-08-18T10:19:04.522021Z"
    }
   },
   "outputs": [],
   "source": []
  },
  {
   "cell_type": "code",
   "execution_count": 323,
   "id": "755556995b133eca",
   "metadata": {
    "ExecuteTime": {
     "end_time": "2024-08-20T06:17:00.337789600Z",
     "start_time": "2024-08-18T10:20:15.923695Z"
    }
   },
   "outputs": [
    {
     "data": {
      "text/plain": [
       "0        Unknown\n",
       "1        Unknown\n",
       "2        Unknown\n",
       "3        Unknown\n",
       "4        Unknown\n",
       "          ...   \n",
       "50026    Unknown\n",
       "50027    Unknown\n",
       "50028    Unknown\n",
       "50029    Unknown\n",
       "50030    Unknown\n",
       "Name: diag_1, Length: 50031, dtype: object"
      ]
     },
     "execution_count": 323,
     "metadata": {},
     "output_type": "execute_result"
    }
   ],
   "source": [
    "d1_copy['diag_1'].apply(diagnosis_categories)"
   ]
  },
  {
   "cell_type": "code",
   "execution_count": null,
   "id": "18c81ff9f8d21422",
   "metadata": {},
   "outputs": [],
   "source": [
    "d1"
   ]
  }
 ],
 "metadata": {
  "kernelspec": {
   "display_name": "Python 3 (ipykernel)",
   "language": "python",
   "name": "python3"
  },
  "language_info": {
   "codemirror_mode": {
    "name": "ipython",
    "version": 3
   },
   "file_extension": ".py",
   "mimetype": "text/x-python",
   "name": "python",
   "nbconvert_exporter": "python",
   "pygments_lexer": "ipython3",
   "version": "3.11.9"
  }
 },
 "nbformat": 4,
 "nbformat_minor": 5
}
