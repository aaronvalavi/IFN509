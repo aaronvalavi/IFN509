{
 "cells": [
  {
   "metadata": {},
   "cell_type": "markdown",
   "source": "# Exploratory data analysis",
   "id": "8a77807f92f26ee"
  },
  {
   "metadata": {
    "ExecuteTime": {
     "end_time": "2024-08-12T23:18:48.201349Z",
     "start_time": "2024-08-12T23:18:47.737530Z"
    }
   },
   "cell_type": "code",
   "source": [
    "# Import libraries\n",
    "import pandas as pd\n",
    "import numpy as np"
   ],
   "id": "7df9140457caed5e",
   "outputs": [],
   "execution_count": 1
  },
  {
   "metadata": {
    "ExecuteTime": {
     "end_time": "2024-08-12T23:18:48.366123Z",
     "start_time": "2024-08-12T23:18:48.203353Z"
    }
   },
   "cell_type": "code",
   "source": "data  = pd.read_csv('data/D1.csv', low_memory=False)",
   "id": "701cd15ae3c3fd8",
   "outputs": [],
   "execution_count": 2
  },
  {
   "metadata": {
    "ExecuteTime": {
     "end_time": "2024-08-12T23:18:48.406201Z",
     "start_time": "2024-08-12T23:18:48.367128Z"
    }
   },
   "cell_type": "code",
   "source": "data.info()",
   "id": "2c5a6768b7dacf70",
   "outputs": [
    {
     "name": "stdout",
     "output_type": "stream",
     "text": [
      "<class 'pandas.core.frame.DataFrame'>\n",
      "RangeIndex: 50031 entries, 0 to 50030\n",
      "Data columns (total 39 columns):\n",
      " #   Column                    Non-Null Count  Dtype \n",
      "---  ------                    --------------  ----- \n",
      " 0   encounter_id              50031 non-null  int64 \n",
      " 1   patient_nbr               50031 non-null  int64 \n",
      " 2   race                      50031 non-null  object\n",
      " 3   gender                    50031 non-null  object\n",
      " 4   age                       50031 non-null  object\n",
      " 5   weight                    50031 non-null  object\n",
      " 6   admission_type_id         50031 non-null  int64 \n",
      " 7   discharge_disposition_id  50031 non-null  int64 \n",
      " 8   admission_source_id       50031 non-null  int64 \n",
      " 9   length_of_stay            50031 non-null  int64 \n",
      " 10  payer_code                50031 non-null  object\n",
      " 11  medical_specialty         50031 non-null  object\n",
      " 12  num_lab_procedures        50031 non-null  int64 \n",
      " 13  num_procedures            50031 non-null  int64 \n",
      " 14  num_medications           50031 non-null  int64 \n",
      " 15  number_outpatient         50031 non-null  object\n",
      " 16  number_emergency          50031 non-null  object\n",
      " 17  number_inpatient          50031 non-null  object\n",
      " 18  diag_1                    50031 non-null  object\n",
      " 19  diag_2                    50031 non-null  object\n",
      " 20  diag_3                    50031 non-null  object\n",
      " 21  number_diagnoses          50031 non-null  int64 \n",
      " 22  diabetes                  50031 non-null  object\n",
      " 23  max_glu_serum             4639 non-null   object\n",
      " 24  A1Cresult                 7613 non-null   object\n",
      " 25  metformin                 50031 non-null  object\n",
      " 26  repaglinide               50031 non-null  object\n",
      " 27  nateglinide               50031 non-null  object\n",
      " 28  chlorpropamide            50031 non-null  object\n",
      " 29  glimepiride               50031 non-null  object\n",
      " 30  acetohexamide             50031 non-null  object\n",
      " 31  glipizide                 50031 non-null  object\n",
      " 32  glyburide                 50031 non-null  object\n",
      " 33  tolbutamide               50031 non-null  object\n",
      " 34  insulin                   50031 non-null  object\n",
      " 35  change                    50031 non-null  object\n",
      " 36  diabetesMed               50031 non-null  object\n",
      " 37  readmitted                50031 non-null  object\n",
      " 38  single_day_admission      50031 non-null  object\n",
      "dtypes: int64(10), object(29)\n",
      "memory usage: 14.9+ MB\n"
     ]
    }
   ],
   "execution_count": 3
  },
  {
   "metadata": {
    "ExecuteTime": {
     "end_time": "2024-08-12T23:18:48.411132Z",
     "start_time": "2024-08-12T23:18:48.407205Z"
    }
   },
   "cell_type": "code",
   "source": [
    "def value_counts(df):\n",
    "    \"\"\"\n",
    "    Count the occurrences of each unique value in the object columns of a DataFrame.\n",
    "    Present proportions of each unique value.\n",
    "\n",
    "    :param df: A pandas DataFrame object.\n",
    "    :return: None\n",
    "    \"\"\"\n",
    "    for column in df.columns:\n",
    "        if df[column].dtype == 'object':\n",
    "            print(df[column].value_counts(normalize=True))\n",
    "            print('-' * 50)\n"
   ],
   "id": "80c7b932dc204684",
   "outputs": [],
   "execution_count": 4
  },
  {
   "metadata": {
    "ExecuteTime": {
     "end_time": "2024-08-12T23:18:48.418647Z",
     "start_time": "2024-08-12T23:18:48.413138Z"
    }
   },
   "cell_type": "code",
   "source": "# value_counts(data)",
   "id": "bb27939c676c4d70",
   "outputs": [],
   "execution_count": 5
  },
  {
   "metadata": {
    "ExecuteTime": {
     "end_time": "2024-08-12T23:18:48.434877Z",
     "start_time": "2024-08-12T23:18:48.419651Z"
    }
   },
   "cell_type": "code",
   "source": "data[['number_outpatient', 'number_inpatient', 'number_emergency']]",
   "id": "8b91203f9bbc4f2f",
   "outputs": [
    {
     "data": {
      "text/plain": [
       "      number_outpatient number_inpatient number_emergency\n",
       "0                     0                0                0\n",
       "1                     0                0                0\n",
       "2                     0                0                0\n",
       "3                     0                0                0\n",
       "4                     0                0                0\n",
       "...                 ...              ...              ...\n",
       "50026                 0                0                0\n",
       "50027                 1                0                0\n",
       "50028                 0                0                0\n",
       "50029                 0                0                0\n",
       "50030                 2                0                0\n",
       "\n",
       "[50031 rows x 3 columns]"
      ],
      "text/html": [
       "<div>\n",
       "<style scoped>\n",
       "    .dataframe tbody tr th:only-of-type {\n",
       "        vertical-align: middle;\n",
       "    }\n",
       "\n",
       "    .dataframe tbody tr th {\n",
       "        vertical-align: top;\n",
       "    }\n",
       "\n",
       "    .dataframe thead th {\n",
       "        text-align: right;\n",
       "    }\n",
       "</style>\n",
       "<table border=\"1\" class=\"dataframe\">\n",
       "  <thead>\n",
       "    <tr style=\"text-align: right;\">\n",
       "      <th></th>\n",
       "      <th>number_outpatient</th>\n",
       "      <th>number_inpatient</th>\n",
       "      <th>number_emergency</th>\n",
       "    </tr>\n",
       "  </thead>\n",
       "  <tbody>\n",
       "    <tr>\n",
       "      <th>0</th>\n",
       "      <td>0</td>\n",
       "      <td>0</td>\n",
       "      <td>0</td>\n",
       "    </tr>\n",
       "    <tr>\n",
       "      <th>1</th>\n",
       "      <td>0</td>\n",
       "      <td>0</td>\n",
       "      <td>0</td>\n",
       "    </tr>\n",
       "    <tr>\n",
       "      <th>2</th>\n",
       "      <td>0</td>\n",
       "      <td>0</td>\n",
       "      <td>0</td>\n",
       "    </tr>\n",
       "    <tr>\n",
       "      <th>3</th>\n",
       "      <td>0</td>\n",
       "      <td>0</td>\n",
       "      <td>0</td>\n",
       "    </tr>\n",
       "    <tr>\n",
       "      <th>4</th>\n",
       "      <td>0</td>\n",
       "      <td>0</td>\n",
       "      <td>0</td>\n",
       "    </tr>\n",
       "    <tr>\n",
       "      <th>...</th>\n",
       "      <td>...</td>\n",
       "      <td>...</td>\n",
       "      <td>...</td>\n",
       "    </tr>\n",
       "    <tr>\n",
       "      <th>50026</th>\n",
       "      <td>0</td>\n",
       "      <td>0</td>\n",
       "      <td>0</td>\n",
       "    </tr>\n",
       "    <tr>\n",
       "      <th>50027</th>\n",
       "      <td>1</td>\n",
       "      <td>0</td>\n",
       "      <td>0</td>\n",
       "    </tr>\n",
       "    <tr>\n",
       "      <th>50028</th>\n",
       "      <td>0</td>\n",
       "      <td>0</td>\n",
       "      <td>0</td>\n",
       "    </tr>\n",
       "    <tr>\n",
       "      <th>50029</th>\n",
       "      <td>0</td>\n",
       "      <td>0</td>\n",
       "      <td>0</td>\n",
       "    </tr>\n",
       "    <tr>\n",
       "      <th>50030</th>\n",
       "      <td>2</td>\n",
       "      <td>0</td>\n",
       "      <td>0</td>\n",
       "    </tr>\n",
       "  </tbody>\n",
       "</table>\n",
       "<p>50031 rows × 3 columns</p>\n",
       "</div>"
      ]
     },
     "execution_count": 6,
     "metadata": {},
     "output_type": "execute_result"
    }
   ],
   "execution_count": 6
  },
  {
   "metadata": {
    "ExecuteTime": {
     "end_time": "2024-08-12T23:18:48.442896Z",
     "start_time": "2024-08-12T23:18:48.435883Z"
    }
   },
   "cell_type": "code",
   "source": "data['number_inpatient'].value_counts(normalize=True)",
   "id": "1bb66c19975f5a36",
   "outputs": [
    {
     "data": {
      "text/plain": [
       "number_inpatient\n",
       "0     0.684975\n",
       "1     0.184386\n",
       "2     0.068518\n",
       "3     0.030141\n",
       "4     0.014291\n",
       "5     0.007136\n",
       "6     0.004237\n",
       "7     0.002419\n",
       "8     0.001299\n",
       "9     0.000859\n",
       "10    0.000520\n",
       "?     0.000300\n",
       "11    0.000300\n",
       "12    0.000220\n",
       "13    0.000100\n",
       "15    0.000080\n",
       "14    0.000080\n",
       "16    0.000080\n",
       "17    0.000020\n",
       "21    0.000020\n",
       "18    0.000020\n",
       "Name: proportion, dtype: float64"
      ]
     },
     "execution_count": 7,
     "metadata": {},
     "output_type": "execute_result"
    }
   ],
   "execution_count": 7
  },
  {
   "metadata": {
    "ExecuteTime": {
     "end_time": "2024-08-12T23:18:48.452913Z",
     "start_time": "2024-08-12T23:18:48.443900Z"
    }
   },
   "cell_type": "code",
   "source": "data['number_outpatient'].value_counts(normalize=True)",
   "id": "bea66117d58d0486",
   "outputs": [
    {
     "data": {
      "text/plain": [
       "number_outpatient\n",
       "0     0.888589\n",
       "1     0.062501\n",
       "2     0.021806\n",
       "3     0.012732\n",
       "4     0.006696\n",
       "5     0.003538\n",
       "6     0.001339\n",
       "7     0.000620\n",
       "8     0.000560\n",
       "?     0.000400\n",
       "9     0.000320\n",
       "10    0.000240\n",
       "11    0.000180\n",
       "12    0.000100\n",
       "13    0.000080\n",
       "14    0.000080\n",
       "16    0.000060\n",
       "15    0.000040\n",
       "20    0.000020\n",
       "21    0.000020\n",
       "35    0.000020\n",
       "17    0.000020\n",
       "29    0.000020\n",
       "36    0.000020\n",
       "Name: proportion, dtype: float64"
      ]
     },
     "execution_count": 8,
     "metadata": {},
     "output_type": "execute_result"
    }
   ],
   "execution_count": 8
  },
  {
   "metadata": {
    "ExecuteTime": {
     "end_time": "2024-08-12T23:18:48.462575Z",
     "start_time": "2024-08-12T23:18:48.453918Z"
    }
   },
   "cell_type": "code",
   "source": "data['number_emergency'].value_counts(normalize=True)",
   "id": "86d565d21ee0d3d",
   "outputs": [
    {
     "data": {
      "text/plain": [
       "number_emergency\n",
       "0     0.923128\n",
       "1     0.052547\n",
       "2     0.012872\n",
       "3     0.004637\n",
       "4     0.002638\n",
       "?     0.001379\n",
       "5     0.000899\n",
       "6     0.000540\n",
       "7     0.000480\n",
       "8     0.000320\n",
       "9     0.000200\n",
       "10    0.000160\n",
       "11    0.000060\n",
       "22    0.000040\n",
       "25    0.000020\n",
       "13    0.000020\n",
       "42    0.000020\n",
       "16    0.000020\n",
       "28    0.000020\n",
       "Name: proportion, dtype: float64"
      ]
     },
     "execution_count": 9,
     "metadata": {},
     "output_type": "execute_result"
    }
   ],
   "execution_count": 9
  },
  {
   "metadata": {
    "ExecuteTime": {
     "end_time": "2024-08-12T23:18:48.472517Z",
     "start_time": "2024-08-12T23:18:48.463580Z"
    }
   },
   "cell_type": "code",
   "source": "data['weight'].value_counts(normalize=True)",
   "id": "fe5b877da35176",
   "outputs": [
    {
     "data": {
      "text/plain": [
       "weight\n",
       "?            0.962783\n",
       "[75-100)     0.015870\n",
       "[50-75)      0.010993\n",
       "[100-125)    0.006316\n",
       "[125-150)    0.001459\n",
       "[25-50)      0.001359\n",
       "[0-25)       0.000740\n",
       "[150-175)    0.000340\n",
       "[175-200)    0.000120\n",
       ">200         0.000020\n",
       "Name: proportion, dtype: float64"
      ]
     },
     "execution_count": 10,
     "metadata": {},
     "output_type": "execute_result"
    }
   ],
   "execution_count": 10
  },
  {
   "metadata": {},
   "cell_type": "markdown",
   "source": [
    "## Comments about the data types\n",
    "\n",
    "- The `id` columns are integers, which is fine.\n",
    "- The `race` and `gender` look fine, just some missing values. We should convert them to categorical data type.\n",
    "- The `age` column is a string based on the formatting of the intervals. We should convert it to an interval data type.\n",
    "- The `weight` column has 97% missing values. I suggest drop this column.\n",
    "- The `payer_code` column has 40% missing values. We should discuss if it is necessary to keep this column. We might be able to assume that the emply payer code means that the patient does not have insurance. If not, I suggest drop this column.\n",
    "- \n",
    "- "
   ],
   "id": "56d968d3990cfd03"
  },
  {
   "metadata": {},
   "cell_type": "markdown",
   "source": [
    "## Comments about the goal of the data mining\n",
    "\n",
    "This looks like a 'length of stay' prediction problem. The goal is to predict the length of stay of a patient in the hospital. The `length_of_stay` column is the target variable. It has no missing values and the data are in a manageable range. We should convert this column to a numeric data type. \n",
    "\n",
    "The `readmitted` column could be secondary target variable. It is a categorical variable with three classes. We should convert this column to a categorical data type.\n",
    "\n",
    "The `discharge_disposition_id` could also be used as a secondary target variable. It is a categorical variable with 26 classes. It might be worth reducing the number of classes to binary outcome variable (all cause mortality), or categorical variable with fewer classes (e.g. discharged home, discharged to another facility, died.).\n",
    "\n",
    "We should discuss if we want to filter out the `admission_type_id` column. If we choose length of stay as the target variable, we might want to filter out the `admission_type_id` column to exclude newborns and electives. The same goes for `single_day_admission`. We might want to filter out the single day admissions. "
   ],
   "id": "32623b411d976cc6"
  },
  {
   "metadata": {
    "ExecuteTime": {
     "end_time": "2024-08-12T23:18:48.480685Z",
     "start_time": "2024-08-12T23:18:48.473523Z"
    }
   },
   "cell_type": "code",
   "source": "data['length_of_stay'].value_counts(normalize=True)",
   "id": "4350fb36ac71f5bf",
   "outputs": [
    {
     "data": {
      "text/plain": [
       "length_of_stay\n",
       "3     0.166677\n",
       "2     0.164018\n",
       "4     0.134497\n",
       "1     0.133717\n",
       "5     0.097220\n",
       "6     0.076233\n",
       "7     0.058764\n",
       "8     0.047231\n",
       "9     0.032060\n",
       "10    0.026364\n",
       "11    0.020947\n",
       "12    0.016770\n",
       "13    0.013252\n",
       "14    0.012252\n",
       "Name: proportion, dtype: float64"
      ]
     },
     "execution_count": 11,
     "metadata": {},
     "output_type": "execute_result"
    }
   ],
   "execution_count": 11
  },
  {
   "metadata": {
    "ExecuteTime": {
     "end_time": "2024-08-12T23:18:48.489038Z",
     "start_time": "2024-08-12T23:18:48.481691Z"
    }
   },
   "cell_type": "code",
   "source": "data['admission_type_id'].value_counts(normalize=True)",
   "id": "94f24dbe2d48e253",
   "outputs": [
    {
     "data": {
      "text/plain": [
       "admission_type_id\n",
       "1    0.484999\n",
       "2    0.194180\n",
       "3    0.167816\n",
       "6    0.083628\n",
       "5    0.066099\n",
       "8    0.003098\n",
       "4    0.000140\n",
       "7    0.000040\n",
       "Name: proportion, dtype: float64"
      ]
     },
     "execution_count": 12,
     "metadata": {},
     "output_type": "execute_result"
    }
   ],
   "execution_count": 12
  },
  {
   "metadata": {},
   "cell_type": "markdown",
   "source": [
    "### Data mismatch corrections\n",
    "\n",
    "Some of the data fields have a `?` character. We should replace these with `np.nan` and convert the columns to correct data type."
   ],
   "id": "cdb934fac6a6dd4a"
  },
  {
   "metadata": {
    "ExecuteTime": {
     "end_time": "2024-08-12T23:18:48.501227Z",
     "start_time": "2024-08-12T23:18:48.490042Z"
    }
   },
   "cell_type": "code",
   "source": [
    "# Make a copy for data quality corrections\n",
    "\n",
    "data_quality = data.copy()"
   ],
   "id": "d0dfa1903cfea5da",
   "outputs": [],
   "execution_count": 13
  },
  {
   "metadata": {
    "ExecuteTime": {
     "end_time": "2024-08-12T23:18:48.510673Z",
     "start_time": "2024-08-12T23:18:48.504232Z"
    }
   },
   "cell_type": "code",
   "source": "data.gender.value_counts()",
   "id": "c6734c345cf1a1a7",
   "outputs": [
    {
     "data": {
      "text/plain": [
       "gender\n",
       "Female             27000\n",
       "Male               23030\n",
       "Unknown/Invalid        1\n",
       "Name: count, dtype: int64"
      ]
     },
     "execution_count": 14,
     "metadata": {},
     "output_type": "execute_result"
    }
   ],
   "execution_count": 14
  },
  {
   "metadata": {
    "ExecuteTime": {
     "end_time": "2024-08-12T23:18:48.519215Z",
     "start_time": "2024-08-12T23:18:48.511678Z"
    }
   },
   "cell_type": "code",
   "source": [
    "# Replace `?` characters in the data['race'] column with NA\n",
    "data_quality.loc[:,'race'] = data['race'].replace('?', 'Other')"
   ],
   "id": "f3c85d343a447b73",
   "outputs": [],
   "execution_count": 15
  },
  {
   "metadata": {
    "ExecuteTime": {
     "end_time": "2024-08-12T23:18:48.527409Z",
     "start_time": "2024-08-12T23:18:48.520222Z"
    }
   },
   "cell_type": "code",
   "source": "data['race'].value_counts()",
   "id": "48498e8e66027fbc",
   "outputs": [
    {
     "data": {
      "text/plain": [
       "race\n",
       "Caucasian          35732\n",
       "AfricanAmerican    11149\n",
       "?                   1257\n",
       "Hispanic            1020\n",
       "Other                610\n",
       "Asian                263\n",
       "Name: count, dtype: int64"
      ]
     },
     "execution_count": 16,
     "metadata": {},
     "output_type": "execute_result"
    }
   ],
   "execution_count": 16
  },
  {
   "metadata": {
    "ExecuteTime": {
     "end_time": "2024-08-12T23:18:48.537451Z",
     "start_time": "2024-08-12T23:18:48.528413Z"
    }
   },
   "cell_type": "code",
   "source": "data_quality.race.value_counts()",
   "id": "b4984d226c0aef11",
   "outputs": [
    {
     "data": {
      "text/plain": [
       "race\n",
       "Caucasian          35732\n",
       "AfricanAmerican    11149\n",
       "Other               1867\n",
       "Hispanic            1020\n",
       "Asian                263\n",
       "Name: count, dtype: int64"
      ]
     },
     "execution_count": 17,
     "metadata": {},
     "output_type": "execute_result"
    }
   ],
   "execution_count": 17
  },
  {
   "metadata": {
    "ExecuteTime": {
     "end_time": "2024-08-12T23:18:48.546560Z",
     "start_time": "2024-08-12T23:18:48.538455Z"
    }
   },
   "cell_type": "code",
   "source": "data_quality.gender.value_counts()",
   "id": "f6039a60c94805ce",
   "outputs": [
    {
     "data": {
      "text/plain": [
       "gender\n",
       "Female             27000\n",
       "Male               23030\n",
       "Unknown/Invalid        1\n",
       "Name: count, dtype: int64"
      ]
     },
     "execution_count": 18,
     "metadata": {},
     "output_type": "execute_result"
    }
   ],
   "execution_count": 18
  },
  {
   "metadata": {
    "ExecuteTime": {
     "end_time": "2024-08-12T23:18:48.555069Z",
     "start_time": "2024-08-12T23:18:48.547565Z"
    }
   },
   "cell_type": "code",
   "source": "data.loc[0:6, 'race']",
   "id": "5cb02ffbb5c7e5c0",
   "outputs": [
    {
     "data": {
      "text/plain": [
       "0          Caucasian\n",
       "1          Caucasian\n",
       "2          Caucasian\n",
       "3    AfricanAmerican\n",
       "4          Caucasian\n",
       "5    AfricanAmerican\n",
       "6          Caucasian\n",
       "Name: race, dtype: object"
      ]
     },
     "execution_count": 19,
     "metadata": {},
     "output_type": "execute_result"
    }
   ],
   "execution_count": 19
  },
  {
   "metadata": {
    "ExecuteTime": {
     "end_time": "2024-08-12T23:18:48.575422Z",
     "start_time": "2024-08-12T23:18:48.556076Z"
    }
   },
   "cell_type": "code",
   "source": "data_quality = data[data['gender'] != 'Unknown/Invalid']",
   "id": "d241de0662fd63b5",
   "outputs": [],
   "execution_count": 20
  },
  {
   "metadata": {
    "ExecuteTime": {
     "end_time": "2024-08-12T23:18:48.583868Z",
     "start_time": "2024-08-12T23:18:48.576427Z"
    }
   },
   "cell_type": "code",
   "source": "data['age'].value_counts()",
   "id": "1f447fbad3fe930d",
   "outputs": [
    {
     "data": {
      "text/plain": [
       "age\n",
       "[70-80)     13109\n",
       "[60-70)     10874\n",
       "[50-60)      8775\n",
       "[80-90)      7530\n",
       "[40-50)      5064\n",
       "[30-40)      2053\n",
       "[90-100)     1178\n",
       "[20-30)       842\n",
       "[10-20)       468\n",
       "[0-10)        138\n",
       "Name: count, dtype: int64"
      ]
     },
     "execution_count": 21,
     "metadata": {},
     "output_type": "execute_result"
    }
   ],
   "execution_count": 21
  },
  {
   "metadata": {
    "ExecuteTime": {
     "end_time": "2024-08-12T23:18:48.593452Z",
     "start_time": "2024-08-12T23:18:48.584875Z"
    }
   },
   "cell_type": "code",
   "source": "data['weight'].value_counts(normalize=True)",
   "id": "dd9de3be4bfc4204",
   "outputs": [
    {
     "data": {
      "text/plain": [
       "weight\n",
       "?            0.962783\n",
       "[75-100)     0.015870\n",
       "[50-75)      0.010993\n",
       "[100-125)    0.006316\n",
       "[125-150)    0.001459\n",
       "[25-50)      0.001359\n",
       "[0-25)       0.000740\n",
       "[150-175)    0.000340\n",
       "[175-200)    0.000120\n",
       ">200         0.000020\n",
       "Name: proportion, dtype: float64"
      ]
     },
     "execution_count": 22,
     "metadata": {},
     "output_type": "execute_result"
    }
   ],
   "execution_count": 22
  },
  {
   "metadata": {
    "ExecuteTime": {
     "end_time": "2024-08-12T23:18:48.602119Z",
     "start_time": "2024-08-12T23:18:48.594457Z"
    }
   },
   "cell_type": "code",
   "source": "data['discharge_disposition_id'].value_counts()",
   "id": "903ebd3567ecbd58",
   "outputs": [
    {
     "data": {
      "text/plain": [
       "discharge_disposition_id\n",
       "1     29385\n",
       "3      5856\n",
       "6      5309\n",
       "18     3668\n",
       "2       981\n",
       "25      975\n",
       "5       952\n",
       "11      847\n",
       "22      704\n",
       "4       486\n",
       "7       268\n",
       "23      181\n",
       "14      137\n",
       "13       99\n",
       "8        98\n",
       "15       21\n",
       "28       19\n",
       "17       14\n",
       "16       11\n",
       "10        6\n",
       "24        4\n",
       "12        3\n",
       "9         3\n",
       "20        2\n",
       "19        1\n",
       "27        1\n",
       "Name: count, dtype: int64"
      ]
     },
     "execution_count": 23,
     "metadata": {},
     "output_type": "execute_result"
    }
   ],
   "execution_count": 23
  },
  {
   "metadata": {
    "ExecuteTime": {
     "end_time": "2024-08-12T23:18:48.611519Z",
     "start_time": "2024-08-12T23:18:48.603125Z"
    }
   },
   "cell_type": "code",
   "source": "data['payer_code'].value_counts(normalize=True)",
   "id": "aecc1f3feec83485",
   "outputs": [
    {
     "data": {
      "text/plain": [
       "payer_code\n",
       "?     0.652895\n",
       "MC    0.187983\n",
       "HM    0.031441\n",
       "BC    0.029822\n",
       "UN    0.025104\n",
       "SP    0.023985\n",
       "MD    0.019968\n",
       "CP    0.014651\n",
       "CM    0.004817\n",
       "OG    0.003078\n",
       "DM    0.002738\n",
       "PO    0.001619\n",
       "WC    0.000700\n",
       "SI    0.000580\n",
       "CH    0.000380\n",
       "OT    0.000240\n",
       "Name: proportion, dtype: float64"
      ]
     },
     "execution_count": 24,
     "metadata": {},
     "output_type": "execute_result"
    }
   ],
   "execution_count": 24
  },
  {
   "metadata": {
    "ExecuteTime": {
     "end_time": "2024-08-12T23:18:48.621571Z",
     "start_time": "2024-08-12T23:18:48.612523Z"
    }
   },
   "cell_type": "code",
   "source": "data_quality.loc[:,'payer_code'] = data.loc[:, 'payer_code'].replace('?', 'Unknown')",
   "id": "989ea912d09989f4",
   "outputs": [],
   "execution_count": 25
  },
  {
   "metadata": {
    "ExecuteTime": {
     "end_time": "2024-08-12T23:18:48.629744Z",
     "start_time": "2024-08-12T23:18:48.622579Z"
    }
   },
   "cell_type": "code",
   "source": "data_quality['payer_code'].value_counts(normalize=True)",
   "id": "da694b0a5a8f7416",
   "outputs": [
    {
     "data": {
      "text/plain": [
       "payer_code\n",
       "Unknown    0.652888\n",
       "MC         0.187987\n",
       "HM         0.031441\n",
       "BC         0.029822\n",
       "UN         0.025105\n",
       "SP         0.023986\n",
       "MD         0.019968\n",
       "CP         0.014651\n",
       "CM         0.004817\n",
       "OG         0.003078\n",
       "DM         0.002738\n",
       "PO         0.001619\n",
       "WC         0.000700\n",
       "SI         0.000580\n",
       "CH         0.000380\n",
       "OT         0.000240\n",
       "Name: proportion, dtype: float64"
      ]
     },
     "execution_count": 26,
     "metadata": {},
     "output_type": "execute_result"
    }
   ],
   "execution_count": 26
  },
  {
   "metadata": {
    "ExecuteTime": {
     "end_time": "2024-08-12T23:18:48.640108Z",
     "start_time": "2024-08-12T23:18:48.630750Z"
    }
   },
   "cell_type": "code",
   "source": "data.medical_specialty.value_counts(normalize=True)",
   "id": "7018e25847307241",
   "outputs": [
    {
     "data": {
      "text/plain": [
       "medical_specialty\n",
       "?                                0.354880\n",
       "InternalMedicine                 0.215606\n",
       "Family/GeneralPractice           0.109812\n",
       "Cardiology                       0.073674\n",
       "Emergency/Trauma                 0.039076\n",
       "                                   ...   \n",
       "SurgicalSpecialty                0.000020\n",
       "Proctology                       0.000020\n",
       "Psychiatry-Addictive             0.000020\n",
       "Pediatrics-InfectiousDiseases    0.000020\n",
       "Cardiology-Pediatric             0.000020\n",
       "Name: proportion, Length: 68, dtype: float64"
      ]
     },
     "execution_count": 27,
     "metadata": {},
     "output_type": "execute_result"
    }
   ],
   "execution_count": 27
  },
  {
   "metadata": {
    "ExecuteTime": {
     "end_time": "2024-08-12T23:18:48.650302Z",
     "start_time": "2024-08-12T23:18:48.641113Z"
    }
   },
   "cell_type": "code",
   "source": "data_quality.loc[:,'medical_specialty'] = data.loc[:, 'medical_specialty'].replace('?', 'Unknown')",
   "id": "adaa710ecf9f665b",
   "outputs": [],
   "execution_count": 28
  },
  {
   "metadata": {
    "ExecuteTime": {
     "end_time": "2024-08-12T23:18:48.658899Z",
     "start_time": "2024-08-12T23:18:48.651307Z"
    }
   },
   "cell_type": "code",
   "source": "data_quality['medical_specialty'].value_counts(normalize=True)",
   "id": "db8bda1d2c4b0624",
   "outputs": [
    {
     "data": {
      "text/plain": [
       "medical_specialty\n",
       "Unknown                          0.354887\n",
       "InternalMedicine                 0.215611\n",
       "Family/GeneralPractice           0.109814\n",
       "Cardiology                       0.073656\n",
       "Emergency/Trauma                 0.039077\n",
       "                                   ...   \n",
       "SurgicalSpecialty                0.000020\n",
       "Proctology                       0.000020\n",
       "Psychiatry-Addictive             0.000020\n",
       "Pediatrics-InfectiousDiseases    0.000020\n",
       "Cardiology-Pediatric             0.000020\n",
       "Name: proportion, Length: 68, dtype: float64"
      ]
     },
     "execution_count": 29,
     "metadata": {},
     "output_type": "execute_result"
    }
   ],
   "execution_count": 29
  },
  {
   "metadata": {
    "ExecuteTime": {
     "end_time": "2024-08-12T23:24:46.071642Z",
     "start_time": "2024-08-12T23:24:46.064735Z"
    }
   },
   "cell_type": "code",
   "source": "data_quality['number_inpatient'].value_counts()\n",
   "id": "1283030d56ecd242",
   "outputs": [
    {
     "data": {
      "text/plain": [
       "number_inpatient\n",
       "0     34269\n",
       "1      9225\n",
       "2      3428\n",
       "3      1508\n",
       "4       715\n",
       "5       357\n",
       "6       212\n",
       "7       121\n",
       "8        65\n",
       "9        43\n",
       "10       26\n",
       "?        15\n",
       "11       15\n",
       "12       11\n",
       "13        5\n",
       "15        4\n",
       "14        4\n",
       "16        4\n",
       "17        1\n",
       "21        1\n",
       "18        1\n",
       "Name: count, dtype: int64"
      ]
     },
     "execution_count": 36,
     "metadata": {},
     "output_type": "execute_result"
    }
   ],
   "execution_count": 36
  },
  {
   "metadata": {
    "ExecuteTime": {
     "end_time": "2024-08-12T23:26:27.459060Z",
     "start_time": "2024-08-12T23:26:27.452577Z"
    }
   },
   "cell_type": "code",
   "source": "data_quality['diag_3'].value_counts()",
   "id": "2c67b9bb0cc7012e",
   "outputs": [
    {
     "data": {
      "text/plain": [
       "diag_3\n",
       "250    6234\n",
       "401    4429\n",
       "428    2210\n",
       "276    2208\n",
       "427    1941\n",
       "       ... \n",
       "308       1\n",
       "735       1\n",
       "697       1\n",
       "341       1\n",
       "868       1\n",
       "Name: count, Length: 671, dtype: int64"
      ]
     },
     "execution_count": 40,
     "metadata": {},
     "output_type": "execute_result"
    }
   ],
   "execution_count": 40
  },
  {
   "metadata": {
    "ExecuteTime": {
     "end_time": "2024-08-12T23:27:11.086859Z",
     "start_time": "2024-08-12T23:27:11.081178Z"
    }
   },
   "cell_type": "code",
   "source": [
    "data_quality['number_diagnoses'].value_counts()\n",
    "data_quality['number_diagnoses'].dtype"
   ],
   "id": "76737f707c0c8384",
   "outputs": [
    {
     "data": {
      "text/plain": [
       "dtype('int64')"
      ]
     },
     "execution_count": 42,
     "metadata": {},
     "output_type": "execute_result"
    }
   ],
   "execution_count": 42
  },
  {
   "metadata": {
    "ExecuteTime": {
     "end_time": "2024-08-12T23:27:48.898532Z",
     "start_time": "2024-08-12T23:27:48.891321Z"
    }
   },
   "cell_type": "code",
   "source": "data_quality['diabetes'].value_counts()",
   "id": "a4b0dd351eac8942",
   "outputs": [
    {
     "data": {
      "text/plain": [
       "diabetes\n",
       "Yes    37368\n",
       "No     12662\n",
       "Name: count, dtype: int64"
      ]
     },
     "execution_count": 43,
     "metadata": {},
     "output_type": "execute_result"
    }
   ],
   "execution_count": 43
  },
  {
   "metadata": {
    "ExecuteTime": {
     "end_time": "2024-08-12T23:29:20.196808Z",
     "start_time": "2024-08-12T23:29:20.189579Z"
    }
   },
   "cell_type": "code",
   "source": "data_quality['max_glu_serum'].value_counts(normalize=True)",
   "id": "6adf1f36238f816c",
   "outputs": [
    {
     "data": {
      "text/plain": [
       "max_glu_serum\n",
       "Norm    0.507868\n",
       ">200    0.295969\n",
       ">300    0.196163\n",
       "Name: proportion, dtype: float64"
      ]
     },
     "execution_count": 45,
     "metadata": {},
     "output_type": "execute_result"
    }
   ],
   "execution_count": 45
  },
  {
   "metadata": {
    "ExecuteTime": {
     "end_time": "2024-08-12T23:30:59.397984Z",
     "start_time": "2024-08-12T23:30:59.391526Z"
    }
   },
   "cell_type": "code",
   "source": "data_quality['A1Cresult'].value_counts()",
   "id": "d10312cdbb7a6791",
   "outputs": [
    {
     "data": {
      "text/plain": [
       "A1Cresult\n",
       ">8      4360\n",
       "Norm    1692\n",
       ">7      1561\n",
       "Name: count, dtype: int64"
      ]
     },
     "execution_count": 46,
     "metadata": {},
     "output_type": "execute_result"
    }
   ],
   "execution_count": 46
  },
  {
   "metadata": {
    "ExecuteTime": {
     "end_time": "2024-08-12T23:33:53.145236Z",
     "start_time": "2024-08-12T23:33:53.138662Z"
    }
   },
   "cell_type": "code",
   "source": "data_quality['metformin'].value_counts()",
   "id": "78d67b8df2371aa1",
   "outputs": [
    {
     "data": {
      "text/plain": [
       "metformin\n",
       "No        40950\n",
       "Steady     8224\n",
       "Up          572\n",
       "Down        284\n",
       "Name: count, dtype: int64"
      ]
     },
     "execution_count": 47,
     "metadata": {},
     "output_type": "execute_result"
    }
   ],
   "execution_count": 47
  },
  {
   "metadata": {
    "ExecuteTime": {
     "end_time": "2024-08-12T23:34:23.967919Z",
     "start_time": "2024-08-12T23:34:23.961178Z"
    }
   },
   "cell_type": "code",
   "source": "data_quality['repaglinide'].value_counts()",
   "id": "6e8963c331430ae5",
   "outputs": [
    {
     "data": {
      "text/plain": [
       "repaglinide\n",
       "No        49436\n",
       "Steady      522\n",
       "Up           48\n",
       "Down         24\n",
       "Name: count, dtype: int64"
      ]
     },
     "execution_count": 48,
     "metadata": {},
     "output_type": "execute_result"
    }
   ],
   "execution_count": 48
  },
  {
   "metadata": {
    "ExecuteTime": {
     "end_time": "2024-08-12T23:34:25.879738Z",
     "start_time": "2024-08-12T23:34:25.872230Z"
    }
   },
   "cell_type": "code",
   "source": "data_quality['nateglinide'].value_counts()",
   "id": "28d1570bca3be5cc",
   "outputs": [
    {
     "data": {
      "text/plain": [
       "nateglinide\n",
       "No        49768\n",
       "Steady      254\n",
       "Up            5\n",
       "Down          3\n",
       "Name: count, dtype: int64"
      ]
     },
     "execution_count": 49,
     "metadata": {},
     "output_type": "execute_result"
    }
   ],
   "execution_count": 49
  },
  {
   "metadata": {
    "ExecuteTime": {
     "end_time": "2024-08-12T23:34:27.251147Z",
     "start_time": "2024-08-12T23:34:27.244481Z"
    }
   },
   "cell_type": "code",
   "source": "data_quality['chlorpropamide'].value_counts()",
   "id": "204bede713125138",
   "outputs": [
    {
     "data": {
      "text/plain": [
       "chlorpropamide\n",
       "No        49962\n",
       "Steady       61\n",
       "Up            5\n",
       "Down          1\n",
       "?             1\n",
       "Name: count, dtype: int64"
      ]
     },
     "execution_count": 50,
     "metadata": {},
     "output_type": "execute_result"
    }
   ],
   "execution_count": 50
  },
  {
   "metadata": {
    "ExecuteTime": {
     "end_time": "2024-08-12T23:35:31.470770Z",
     "start_time": "2024-08-12T23:35:31.464184Z"
    }
   },
   "cell_type": "code",
   "source": "data_quality['glimepiride'].value_counts()",
   "id": "405c3abcbf606067",
   "outputs": [
    {
     "data": {
      "text/plain": [
       "glimepiride\n",
       "No        47776\n",
       "Steady     1989\n",
       "Up          175\n",
       "Down         90\n",
       "Name: count, dtype: int64"
      ]
     },
     "execution_count": 51,
     "metadata": {},
     "output_type": "execute_result"
    }
   ],
   "execution_count": 51
  },
  {
   "metadata": {
    "ExecuteTime": {
     "end_time": "2024-08-12T23:35:42.497360Z",
     "start_time": "2024-08-12T23:35:42.490168Z"
    }
   },
   "cell_type": "code",
   "source": "data_quality['acetohexamide'].value_counts()",
   "id": "add699c0b11a8b10",
   "outputs": [
    {
     "data": {
      "text/plain": [
       "acetohexamide\n",
       "No    50030\n",
       "Name: count, dtype: int64"
      ]
     },
     "execution_count": 52,
     "metadata": {},
     "output_type": "execute_result"
    }
   ],
   "execution_count": 52
  },
  {
   "metadata": {
    "ExecuteTime": {
     "end_time": "2024-08-12T23:36:40.468Z",
     "start_time": "2024-08-12T23:36:40.460884Z"
    }
   },
   "cell_type": "code",
   "source": "data_quality['glipizide'].value_counts()",
   "id": "ff26d839624a14ab",
   "outputs": [
    {
     "data": {
      "text/plain": [
       "glipizide\n",
       "No        43570\n",
       "Steady     5685\n",
       "Up          469\n",
       "Down        306\n",
       "Name: count, dtype: int64"
      ]
     },
     "execution_count": 54,
     "metadata": {},
     "output_type": "execute_result"
    }
   ],
   "execution_count": 54
  },
  {
   "metadata": {
    "ExecuteTime": {
     "end_time": "2024-08-12T23:36:56.050340Z",
     "start_time": "2024-08-12T23:36:56.042373Z"
    }
   },
   "cell_type": "code",
   "source": "data_quality['glyburide'].value_counts()    ",
   "id": "81c910d753be48a6",
   "outputs": [
    {
     "data": {
      "text/plain": [
       "glyburide\n",
       "No        43835\n",
       "Steady     5318\n",
       "Up          527\n",
       "Down        350\n",
       "Name: count, dtype: int64"
      ]
     },
     "execution_count": 56,
     "metadata": {},
     "output_type": "execute_result"
    }
   ],
   "execution_count": 56
  },
  {
   "metadata": {
    "ExecuteTime": {
     "end_time": "2024-08-12T23:37:00.167548Z",
     "start_time": "2024-08-12T23:37:00.160590Z"
    }
   },
   "cell_type": "code",
   "source": "data_quality['tolbutamide'].value_counts()",
   "id": "6749eb92eeaa7c67",
   "outputs": [
    {
     "data": {
      "text/plain": [
       "tolbutamide\n",
       "No    50030\n",
       "Name: count, dtype: int64"
      ]
     },
     "execution_count": 57,
     "metadata": {},
     "output_type": "execute_result"
    }
   ],
   "execution_count": 57
  },
  {
   "metadata": {
    "ExecuteTime": {
     "end_time": "2024-08-12T23:37:22.873080Z",
     "start_time": "2024-08-12T23:37:22.865265Z"
    }
   },
   "cell_type": "code",
   "source": "data_quality['insulin'].value_counts()",
   "id": "f55ce1ce0911f0ee",
   "outputs": [
    {
     "data": {
      "text/plain": [
       "insulin\n",
       "No        25753\n",
       "Steady    15992\n",
       "Down       4587\n",
       "Up         3698\n",
       "Name: count, dtype: int64"
      ]
     },
     "execution_count": 58,
     "metadata": {},
     "output_type": "execute_result"
    }
   ],
   "execution_count": 58
  },
  {
   "metadata": {
    "ExecuteTime": {
     "end_time": "2024-08-12T23:38:23.849837Z",
     "start_time": "2024-08-12T23:38:23.842553Z"
    }
   },
   "cell_type": "code",
   "source": "data_quality['change'].value_counts()",
   "id": "4b1a0c893f059062",
   "outputs": [
    {
     "data": {
      "text/plain": [
       "change\n",
       "No    29669\n",
       "Ch    20361\n",
       "Name: count, dtype: int64"
      ]
     },
     "execution_count": 59,
     "metadata": {},
     "output_type": "execute_result"
    }
   ],
   "execution_count": 59
  },
  {
   "metadata": {
    "ExecuteTime": {
     "end_time": "2024-08-12T23:39:11.551343Z",
     "start_time": "2024-08-12T23:39:11.544225Z"
    }
   },
   "cell_type": "code",
   "source": "data_quality['diabetesMed'].value_counts()",
   "id": "3fd861fa3bbb76df",
   "outputs": [
    {
     "data": {
      "text/plain": [
       "diabetesMed\n",
       "Yes    37401\n",
       "No     12629\n",
       "Name: count, dtype: int64"
      ]
     },
     "execution_count": 60,
     "metadata": {},
     "output_type": "execute_result"
    }
   ],
   "execution_count": 60
  },
  {
   "metadata": {
    "ExecuteTime": {
     "end_time": "2024-08-12T23:39:21.629640Z",
     "start_time": "2024-08-12T23:39:21.621683Z"
    }
   },
   "cell_type": "code",
   "source": "data_quality['readmitted'].value_counts()",
   "id": "f69ec596bc82b2af",
   "outputs": [
    {
     "data": {
      "text/plain": [
       "readmitted\n",
       "NO     26940\n",
       ">30    17341\n",
       "<30     5749\n",
       "Name: count, dtype: int64"
      ]
     },
     "execution_count": 61,
     "metadata": {},
     "output_type": "execute_result"
    }
   ],
   "execution_count": 61
  },
  {
   "metadata": {
    "ExecuteTime": {
     "end_time": "2024-08-12T23:41:29.774793Z",
     "start_time": "2024-08-12T23:41:29.767869Z"
    }
   },
   "cell_type": "code",
   "source": "data_quality['single_day_admission'].value_counts()",
   "id": "334617ae2e25e203",
   "outputs": [
    {
     "data": {
      "text/plain": [
       "single_day_admission\n",
       "No     43341\n",
       "Yes     6689\n",
       "Name: count, dtype: int64"
      ]
     },
     "execution_count": 62,
     "metadata": {},
     "output_type": "execute_result"
    }
   ],
   "execution_count": 62
  },
  {
   "metadata": {},
   "cell_type": "code",
   "outputs": [],
   "execution_count": null,
   "source": "",
   "id": "eb6447badc82d73b"
  }
 ],
 "metadata": {
  "kernelspec": {
   "display_name": "Python 3",
   "language": "python",
   "name": "python3"
  },
  "language_info": {
   "codemirror_mode": {
    "name": "ipython",
    "version": 2
   },
   "file_extension": ".py",
   "mimetype": "text/x-python",
   "name": "python",
   "nbconvert_exporter": "python",
   "pygments_lexer": "ipython2",
   "version": "2.7.6"
  }
 },
 "nbformat": 4,
 "nbformat_minor": 5
}
