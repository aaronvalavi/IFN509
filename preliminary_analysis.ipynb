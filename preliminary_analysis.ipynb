{
 "cells": [
  {
   "cell_type": "markdown",
   "id": "8a77807f92f26ee",
   "metadata": {},
   "source": [
    "## Exploratory data analysis\n",
    "\n",
    " - Refer to the _Assessment1 1 - report.docx_ for the descriptions and treatment of the columns in the dataset.\n",
    " - Also, I've moved the comments about data mining to the end of the report document."
   ]
  },
  {
   "cell_type": "code",
   "execution_count": 8,
   "id": "7df9140457caed5e",
   "metadata": {
    "ExecuteTime": {
     "end_time": "2024-08-14T01:00:16.562185Z",
     "start_time": "2024-08-14T01:00:16.559084Z"
    }
   },
   "outputs": [],
   "source": [
    "# Import libraries\n",
    "import pandas as pd\n",
    "import numpy as np"
   ]
  },
  {
   "cell_type": "code",
   "execution_count": 9,
   "id": "701cd15ae3c3fd8",
   "metadata": {
    "ExecuteTime": {
     "end_time": "2024-08-14T01:00:16.797267Z",
     "start_time": "2024-08-14T01:00:16.612190Z"
    }
   },
   "outputs": [],
   "source": [
    "data  = pd.read_csv('data/D1.csv', low_memory=False)"
   ]
  },
  {
   "cell_type": "code",
   "execution_count": 10,
   "id": "2c5a6768b7dacf70",
   "metadata": {
    "ExecuteTime": {
     "end_time": "2024-08-14T01:00:16.854254Z",
     "start_time": "2024-08-14T01:00:16.817324Z"
    }
   },
   "outputs": [
    {
     "name": "stdout",
     "output_type": "stream",
     "text": [
      "<class 'pandas.core.frame.DataFrame'>\n",
      "RangeIndex: 50031 entries, 0 to 50030\n",
      "Data columns (total 39 columns):\n",
      " #   Column                    Non-Null Count  Dtype \n",
      "---  ------                    --------------  ----- \n",
      " 0   encounter_id              50031 non-null  int64 \n",
      " 1   patient_nbr               50031 non-null  int64 \n",
      " 2   race                      50031 non-null  object\n",
      " 3   gender                    50031 non-null  object\n",
      " 4   age                       50031 non-null  object\n",
      " 5   weight                    50031 non-null  object\n",
      " 6   admission_type_id         50031 non-null  int64 \n",
      " 7   discharge_disposition_id  50031 non-null  int64 \n",
      " 8   admission_source_id       50031 non-null  int64 \n",
      " 9   length_of_stay            50031 non-null  int64 \n",
      " 10  payer_code                50031 non-null  object\n",
      " 11  medical_specialty         50031 non-null  object\n",
      " 12  num_lab_procedures        50031 non-null  int64 \n",
      " 13  num_procedures            50031 non-null  int64 \n",
      " 14  num_medications           50031 non-null  int64 \n",
      " 15  number_outpatient         50031 non-null  object\n",
      " 16  number_emergency          50031 non-null  object\n",
      " 17  number_inpatient          50031 non-null  object\n",
      " 18  diag_1                    50031 non-null  object\n",
      " 19  diag_2                    50031 non-null  object\n",
      " 20  diag_3                    50031 non-null  object\n",
      " 21  number_diagnoses          50031 non-null  int64 \n",
      " 22  diabetes                  50031 non-null  object\n",
      " 23  max_glu_serum             4639 non-null   object\n",
      " 24  A1Cresult                 7613 non-null   object\n",
      " 25  metformin                 50031 non-null  object\n",
      " 26  repaglinide               50031 non-null  object\n",
      " 27  nateglinide               50031 non-null  object\n",
      " 28  chlorpropamide            50031 non-null  object\n",
      " 29  glimepiride               50031 non-null  object\n",
      " 30  acetohexamide             50031 non-null  object\n",
      " 31  glipizide                 50031 non-null  object\n",
      " 32  glyburide                 50031 non-null  object\n",
      " 33  tolbutamide               50031 non-null  object\n",
      " 34  insulin                   50031 non-null  object\n",
      " 35  change                    50031 non-null  object\n",
      " 36  diabetesMed               50031 non-null  object\n",
      " 37  readmitted                50031 non-null  object\n",
      " 38  single_day_admission      50031 non-null  object\n",
      "dtypes: int64(10), object(29)\n",
      "memory usage: 14.9+ MB\n"
     ]
    }
   ],
   "source": [
    "data.info()"
   ]
  },
  {
   "cell_type": "code",
   "execution_count": 11,
   "id": "1bb66c19975f5a36",
   "metadata": {
    "ExecuteTime": {
     "end_time": "2024-08-14T01:00:16.959779Z",
     "start_time": "2024-08-14T01:00:16.952821Z"
    }
   },
   "outputs": [
    {
     "data": {
      "text/plain": [
       "number_inpatient\n",
       "0     0.684975\n",
       "1     0.184386\n",
       "2     0.068518\n",
       "3     0.030141\n",
       "4     0.014291\n",
       "5     0.007136\n",
       "6     0.004237\n",
       "7     0.002419\n",
       "8     0.001299\n",
       "9     0.000859\n",
       "10    0.000520\n",
       "?     0.000300\n",
       "11    0.000300\n",
       "12    0.000220\n",
       "13    0.000100\n",
       "15    0.000080\n",
       "14    0.000080\n",
       "16    0.000080\n",
       "17    0.000020\n",
       "21    0.000020\n",
       "18    0.000020\n",
       "Name: proportion, dtype: float64"
      ]
     },
     "execution_count": 11,
     "metadata": {},
     "output_type": "execute_result"
    }
   ],
   "source": [
    "data['number_inpatient'].value_counts(normalize=True)"
   ]
  },
  {
   "cell_type": "code",
   "execution_count": 12,
   "id": "bea66117d58d0486",
   "metadata": {
    "ExecuteTime": {
     "end_time": "2024-08-14T01:00:17.051623Z",
     "start_time": "2024-08-14T01:00:17.044442Z"
    }
   },
   "outputs": [
    {
     "data": {
      "text/plain": [
       "number_outpatient\n",
       "0     0.888589\n",
       "1     0.062501\n",
       "2     0.021806\n",
       "3     0.012732\n",
       "4     0.006696\n",
       "5     0.003538\n",
       "6     0.001339\n",
       "7     0.000620\n",
       "8     0.000560\n",
       "?     0.000400\n",
       "9     0.000320\n",
       "10    0.000240\n",
       "11    0.000180\n",
       "12    0.000100\n",
       "13    0.000080\n",
       "14    0.000080\n",
       "16    0.000060\n",
       "15    0.000040\n",
       "20    0.000020\n",
       "21    0.000020\n",
       "35    0.000020\n",
       "17    0.000020\n",
       "29    0.000020\n",
       "36    0.000020\n",
       "Name: proportion, dtype: float64"
      ]
     },
     "execution_count": 12,
     "metadata": {},
     "output_type": "execute_result"
    }
   ],
   "source": [
    "data['number_outpatient'].value_counts(normalize=True)"
   ]
  },
  {
   "cell_type": "code",
   "execution_count": 13,
   "id": "86d565d21ee0d3d",
   "metadata": {
    "ExecuteTime": {
     "end_time": "2024-08-14T01:00:17.192962Z",
     "start_time": "2024-08-14T01:00:17.186136Z"
    }
   },
   "outputs": [
    {
     "data": {
      "text/plain": [
       "number_emergency\n",
       "0     0.923128\n",
       "1     0.052547\n",
       "2     0.012872\n",
       "3     0.004637\n",
       "4     0.002638\n",
       "?     0.001379\n",
       "5     0.000899\n",
       "6     0.000540\n",
       "7     0.000480\n",
       "8     0.000320\n",
       "9     0.000200\n",
       "10    0.000160\n",
       "11    0.000060\n",
       "22    0.000040\n",
       "25    0.000020\n",
       "13    0.000020\n",
       "42    0.000020\n",
       "16    0.000020\n",
       "28    0.000020\n",
       "Name: proportion, dtype: float64"
      ]
     },
     "execution_count": 13,
     "metadata": {},
     "output_type": "execute_result"
    }
   ],
   "source": [
    "data['number_emergency'].value_counts(normalize=True)"
   ]
  },
  {
   "cell_type": "code",
   "execution_count": 14,
   "id": "fe5b877da35176",
   "metadata": {
    "ExecuteTime": {
     "end_time": "2024-08-14T01:00:17.428392Z",
     "start_time": "2024-08-14T01:00:17.421306Z"
    }
   },
   "outputs": [
    {
     "data": {
      "text/plain": [
       "weight\n",
       "?            0.962783\n",
       "[75-100)     0.015870\n",
       "[50-75)      0.010993\n",
       "[100-125)    0.006316\n",
       "[125-150)    0.001459\n",
       "[25-50)      0.001359\n",
       "[0-25)       0.000740\n",
       "[150-175)    0.000340\n",
       "[175-200)    0.000120\n",
       ">200         0.000020\n",
       "Name: proportion, dtype: float64"
      ]
     },
     "execution_count": 14,
     "metadata": {},
     "output_type": "execute_result"
    }
   ],
   "source": [
    "data['weight'].value_counts(normalize=True)"
   ]
  },
  {
   "cell_type": "markdown",
   "id": "32623b411d976cc6",
   "metadata": {},
   "source": []
  },
  {
   "cell_type": "code",
   "execution_count": 15,
   "id": "4350fb36ac71f5bf",
   "metadata": {
    "ExecuteTime": {
     "end_time": "2024-08-14T01:00:17.657132Z",
     "start_time": "2024-08-14T01:00:17.651334Z"
    }
   },
   "outputs": [
    {
     "data": {
      "text/plain": [
       "length_of_stay\n",
       "3     0.166677\n",
       "2     0.164018\n",
       "4     0.134497\n",
       "1     0.133717\n",
       "5     0.097220\n",
       "6     0.076233\n",
       "7     0.058764\n",
       "8     0.047231\n",
       "9     0.032060\n",
       "10    0.026364\n",
       "11    0.020947\n",
       "12    0.016770\n",
       "13    0.013252\n",
       "14    0.012252\n",
       "Name: proportion, dtype: float64"
      ]
     },
     "execution_count": 15,
     "metadata": {},
     "output_type": "execute_result"
    }
   ],
   "source": [
    "data['length_of_stay'].value_counts(normalize=True)"
   ]
  },
  {
   "cell_type": "code",
   "execution_count": 16,
   "id": "94f24dbe2d48e253",
   "metadata": {
    "ExecuteTime": {
     "end_time": "2024-08-14T01:00:17.959531Z",
     "start_time": "2024-08-14T01:00:17.954203Z"
    }
   },
   "outputs": [
    {
     "data": {
      "text/plain": [
       "admission_type_id\n",
       "1    0.484999\n",
       "2    0.194180\n",
       "3    0.167816\n",
       "6    0.083628\n",
       "5    0.066099\n",
       "8    0.003098\n",
       "4    0.000140\n",
       "7    0.000040\n",
       "Name: proportion, dtype: float64"
      ]
     },
     "execution_count": 16,
     "metadata": {},
     "output_type": "execute_result"
    }
   ],
   "source": [
    "data['admission_type_id'].value_counts(normalize=True)"
   ]
  },
  {
   "cell_type": "code",
   "execution_count": 17,
   "id": "d0dfa1903cfea5da",
   "metadata": {
    "ExecuteTime": {
     "end_time": "2024-08-14T01:00:18.261166Z",
     "start_time": "2024-08-14T01:00:18.252002Z"
    }
   },
   "outputs": [],
   "source": [
    "# Make a copy for data quality corrections\n",
    "\n",
    "data_quality = data.copy()"
   ]
  },
  {
   "cell_type": "code",
   "execution_count": 18,
   "id": "c6734c345cf1a1a7",
   "metadata": {
    "ExecuteTime": {
     "end_time": "2024-08-14T01:00:18.417134Z",
     "start_time": "2024-08-14T01:00:18.410411Z"
    }
   },
   "outputs": [
    {
     "data": {
      "text/plain": [
       "gender\n",
       "Female             27000\n",
       "Male               23030\n",
       "Unknown/Invalid        1\n",
       "Name: count, dtype: int64"
      ]
     },
     "execution_count": 18,
     "metadata": {},
     "output_type": "execute_result"
    }
   ],
   "source": [
    "data.gender.value_counts()"
   ]
  },
  {
   "cell_type": "code",
   "execution_count": 19,
   "id": "f3c85d343a447b73",
   "metadata": {
    "ExecuteTime": {
     "end_time": "2024-08-14T01:00:18.591932Z",
     "start_time": "2024-08-14T01:00:18.585477Z"
    }
   },
   "outputs": [],
   "source": [
    "# Replace `?` characters in the data['race'] column with NA\n",
    "data_quality.loc[:,'race'] = data['race'].replace('?', 'Other')"
   ]
  },
  {
   "cell_type": "code",
   "execution_count": 20,
   "id": "48498e8e66027fbc",
   "metadata": {
    "ExecuteTime": {
     "end_time": "2024-08-14T01:00:18.831637Z",
     "start_time": "2024-08-14T01:00:18.825001Z"
    }
   },
   "outputs": [
    {
     "data": {
      "text/plain": [
       "race\n",
       "Caucasian          35732\n",
       "AfricanAmerican    11149\n",
       "?                   1257\n",
       "Hispanic            1020\n",
       "Other                610\n",
       "Asian                263\n",
       "Name: count, dtype: int64"
      ]
     },
     "execution_count": 20,
     "metadata": {},
     "output_type": "execute_result"
    }
   ],
   "source": [
    "data['race'].value_counts()"
   ]
  },
  {
   "cell_type": "code",
   "execution_count": 21,
   "id": "b4984d226c0aef11",
   "metadata": {
    "ExecuteTime": {
     "end_time": "2024-08-14T01:00:19.010668Z",
     "start_time": "2024-08-14T01:00:19.004047Z"
    }
   },
   "outputs": [
    {
     "data": {
      "text/plain": [
       "race\n",
       "Caucasian          35732\n",
       "AfricanAmerican    11149\n",
       "Other               1867\n",
       "Hispanic            1020\n",
       "Asian                263\n",
       "Name: count, dtype: int64"
      ]
     },
     "execution_count": 21,
     "metadata": {},
     "output_type": "execute_result"
    }
   ],
   "source": [
    "data_quality.race.value_counts()"
   ]
  },
  {
   "cell_type": "code",
   "execution_count": 22,
   "id": "f6039a60c94805ce",
   "metadata": {
    "ExecuteTime": {
     "end_time": "2024-08-14T01:00:19.185870Z",
     "start_time": "2024-08-14T01:00:19.179453Z"
    }
   },
   "outputs": [
    {
     "data": {
      "text/plain": [
       "gender\n",
       "Female             27000\n",
       "Male               23030\n",
       "Unknown/Invalid        1\n",
       "Name: count, dtype: int64"
      ]
     },
     "execution_count": 22,
     "metadata": {},
     "output_type": "execute_result"
    }
   ],
   "source": [
    "data_quality.gender.value_counts()"
   ]
  },
  {
   "cell_type": "code",
   "execution_count": 23,
   "id": "5cb02ffbb5c7e5c0",
   "metadata": {
    "ExecuteTime": {
     "end_time": "2024-08-14T01:00:19.389263Z",
     "start_time": "2024-08-14T01:00:19.383610Z"
    }
   },
   "outputs": [
    {
     "data": {
      "text/plain": [
       "0          Caucasian\n",
       "1          Caucasian\n",
       "2          Caucasian\n",
       "3    AfricanAmerican\n",
       "4          Caucasian\n",
       "5    AfricanAmerican\n",
       "6          Caucasian\n",
       "Name: race, dtype: object"
      ]
     },
     "execution_count": 23,
     "metadata": {},
     "output_type": "execute_result"
    }
   ],
   "source": [
    "data.loc[0:6, 'race']"
   ]
  },
  {
   "cell_type": "code",
   "execution_count": 24,
   "id": "d241de0662fd63b5",
   "metadata": {
    "ExecuteTime": {
     "end_time": "2024-08-14T01:00:19.669389Z",
     "start_time": "2024-08-14T01:00:19.651646Z"
    }
   },
   "outputs": [],
   "source": [
    "data_quality = data[data['gender'] != 'Unknown/Invalid']"
   ]
  },
  {
   "cell_type": "code",
   "execution_count": 25,
   "id": "1f447fbad3fe930d",
   "metadata": {
    "ExecuteTime": {
     "end_time": "2024-08-14T01:00:20.114817Z",
     "start_time": "2024-08-14T01:00:20.107312Z"
    }
   },
   "outputs": [
    {
     "data": {
      "text/plain": [
       "age\n",
       "[70-80)     13109\n",
       "[60-70)     10874\n",
       "[50-60)      8775\n",
       "[80-90)      7530\n",
       "[40-50)      5064\n",
       "[30-40)      2053\n",
       "[90-100)     1178\n",
       "[20-30)       842\n",
       "[10-20)       468\n",
       "[0-10)        138\n",
       "Name: count, dtype: int64"
      ]
     },
     "execution_count": 25,
     "metadata": {},
     "output_type": "execute_result"
    }
   ],
   "source": [
    "data['age'].value_counts()"
   ]
  },
  {
   "cell_type": "code",
   "execution_count": 26,
   "id": "dd9de3be4bfc4204",
   "metadata": {
    "ExecuteTime": {
     "end_time": "2024-08-14T01:00:20.314647Z",
     "start_time": "2024-08-14T01:00:20.307618Z"
    }
   },
   "outputs": [
    {
     "data": {
      "text/plain": [
       "weight\n",
       "?            0.962783\n",
       "[75-100)     0.015870\n",
       "[50-75)      0.010993\n",
       "[100-125)    0.006316\n",
       "[125-150)    0.001459\n",
       "[25-50)      0.001359\n",
       "[0-25)       0.000740\n",
       "[150-175)    0.000340\n",
       "[175-200)    0.000120\n",
       ">200         0.000020\n",
       "Name: proportion, dtype: float64"
      ]
     },
     "execution_count": 26,
     "metadata": {},
     "output_type": "execute_result"
    }
   ],
   "source": [
    "data['weight'].value_counts(normalize=True)"
   ]
  },
  {
   "cell_type": "code",
   "execution_count": 27,
   "id": "903ebd3567ecbd58",
   "metadata": {
    "ExecuteTime": {
     "end_time": "2024-08-14T01:00:20.451466Z",
     "start_time": "2024-08-14T01:00:20.444948Z"
    }
   },
   "outputs": [
    {
     "data": {
      "text/plain": [
       "discharge_disposition_id\n",
       "1     29385\n",
       "3      5856\n",
       "6      5309\n",
       "18     3668\n",
       "2       981\n",
       "25      975\n",
       "5       952\n",
       "11      847\n",
       "22      704\n",
       "4       486\n",
       "7       268\n",
       "23      181\n",
       "14      137\n",
       "13       99\n",
       "8        98\n",
       "15       21\n",
       "28       19\n",
       "17       14\n",
       "16       11\n",
       "10        6\n",
       "24        4\n",
       "12        3\n",
       "9         3\n",
       "20        2\n",
       "19        1\n",
       "27        1\n",
       "Name: count, dtype: int64"
      ]
     },
     "execution_count": 27,
     "metadata": {},
     "output_type": "execute_result"
    }
   ],
   "source": [
    "data['discharge_disposition_id'].value_counts()"
   ]
  },
  {
   "cell_type": "code",
   "execution_count": 28,
   "id": "aecc1f3feec83485",
   "metadata": {
    "ExecuteTime": {
     "end_time": "2024-08-14T01:00:20.642911Z",
     "start_time": "2024-08-14T01:00:20.635598Z"
    }
   },
   "outputs": [
    {
     "data": {
      "text/plain": [
       "payer_code\n",
       "?     0.652895\n",
       "MC    0.187983\n",
       "HM    0.031441\n",
       "BC    0.029822\n",
       "UN    0.025104\n",
       "SP    0.023985\n",
       "MD    0.019968\n",
       "CP    0.014651\n",
       "CM    0.004817\n",
       "OG    0.003078\n",
       "DM    0.002738\n",
       "PO    0.001619\n",
       "WC    0.000700\n",
       "SI    0.000580\n",
       "CH    0.000380\n",
       "OT    0.000240\n",
       "Name: proportion, dtype: float64"
      ]
     },
     "execution_count": 28,
     "metadata": {},
     "output_type": "execute_result"
    }
   ],
   "source": [
    "data['payer_code'].value_counts(normalize=True)"
   ]
  },
  {
   "cell_type": "code",
   "execution_count": 29,
   "id": "989ea912d09989f4",
   "metadata": {
    "ExecuteTime": {
     "end_time": "2024-08-14T01:00:20.941132Z",
     "start_time": "2024-08-14T01:00:20.933912Z"
    }
   },
   "outputs": [],
   "source": [
    "data_quality.loc[:,'payer_code'] = data.loc[:, 'payer_code'].replace('?', 'Unknown')"
   ]
  },
  {
   "cell_type": "code",
   "execution_count": 30,
   "id": "da694b0a5a8f7416",
   "metadata": {
    "ExecuteTime": {
     "end_time": "2024-08-14T01:00:21.145028Z",
     "start_time": "2024-08-14T01:00:21.136806Z"
    }
   },
   "outputs": [
    {
     "data": {
      "text/plain": [
       "payer_code\n",
       "Unknown    0.652888\n",
       "MC         0.187987\n",
       "HM         0.031441\n",
       "BC         0.029822\n",
       "UN         0.025105\n",
       "SP         0.023986\n",
       "MD         0.019968\n",
       "CP         0.014651\n",
       "CM         0.004817\n",
       "OG         0.003078\n",
       "DM         0.002738\n",
       "PO         0.001619\n",
       "WC         0.000700\n",
       "SI         0.000580\n",
       "CH         0.000380\n",
       "OT         0.000240\n",
       "Name: proportion, dtype: float64"
      ]
     },
     "execution_count": 30,
     "metadata": {},
     "output_type": "execute_result"
    }
   ],
   "source": [
    "data_quality['payer_code'].value_counts(normalize=True)"
   ]
  },
  {
   "cell_type": "code",
   "execution_count": 31,
   "id": "7018e25847307241",
   "metadata": {
    "ExecuteTime": {
     "end_time": "2024-08-14T01:00:21.346097Z",
     "start_time": "2024-08-14T01:00:21.337928Z"
    }
   },
   "outputs": [
    {
     "data": {
      "text/plain": [
       "medical_specialty\n",
       "?                                0.354880\n",
       "InternalMedicine                 0.215606\n",
       "Family/GeneralPractice           0.109812\n",
       "Cardiology                       0.073674\n",
       "Emergency/Trauma                 0.039076\n",
       "                                   ...   \n",
       "SurgicalSpecialty                0.000020\n",
       "Proctology                       0.000020\n",
       "Psychiatry-Addictive             0.000020\n",
       "Pediatrics-InfectiousDiseases    0.000020\n",
       "Cardiology-Pediatric             0.000020\n",
       "Name: proportion, Length: 68, dtype: float64"
      ]
     },
     "execution_count": 31,
     "metadata": {},
     "output_type": "execute_result"
    }
   ],
   "source": [
    "data.medical_specialty.value_counts(normalize=True)"
   ]
  },
  {
   "cell_type": "code",
   "execution_count": 32,
   "id": "adaa710ecf9f665b",
   "metadata": {
    "ExecuteTime": {
     "end_time": "2024-08-14T01:00:21.591352Z",
     "start_time": "2024-08-14T01:00:21.583143Z"
    }
   },
   "outputs": [],
   "source": [
    "data_quality.loc[:,'medical_specialty'] = data.loc[:, 'medical_specialty'].replace('?', 'Unknown')"
   ]
  },
  {
   "cell_type": "code",
   "execution_count": 33,
   "id": "db8bda1d2c4b0624",
   "metadata": {
    "ExecuteTime": {
     "end_time": "2024-08-14T01:00:21.729252Z",
     "start_time": "2024-08-14T01:00:21.722428Z"
    }
   },
   "outputs": [
    {
     "data": {
      "text/plain": [
       "medical_specialty\n",
       "Unknown                          0.354887\n",
       "InternalMedicine                 0.215611\n",
       "Family/GeneralPractice           0.109814\n",
       "Cardiology                       0.073656\n",
       "Emergency/Trauma                 0.039077\n",
       "                                   ...   \n",
       "SurgicalSpecialty                0.000020\n",
       "Proctology                       0.000020\n",
       "Psychiatry-Addictive             0.000020\n",
       "Pediatrics-InfectiousDiseases    0.000020\n",
       "Cardiology-Pediatric             0.000020\n",
       "Name: proportion, Length: 68, dtype: float64"
      ]
     },
     "execution_count": 33,
     "metadata": {},
     "output_type": "execute_result"
    }
   ],
   "source": [
    "data_quality['medical_specialty'].value_counts(normalize=True)"
   ]
  },
  {
   "cell_type": "code",
   "execution_count": 34,
   "id": "34d7b897ddbcea40",
   "metadata": {
    "ExecuteTime": {
     "end_time": "2024-08-14T01:00:21.939390Z",
     "start_time": "2024-08-14T01:00:21.935398Z"
    }
   },
   "outputs": [],
   "source": [
    "def convert_to_int(series):\n",
    "    \"\"\"\n",
    "    Replace '?' values in the Series with NaN, and convert the Series to numeric Int64.\n",
    "\n",
    "    :param series: A pandas Series object.\n",
    "    :return: Transformed Series with dtype Int64\n",
    "    \"\"\"\n",
    "\n",
    "    # Replace '?' with np.nan\n",
    "    series = series.replace('?', np.nan)\n",
    "    # Convert to numeric, forcing conversion to NaN for non-numeric entries\n",
    "    series = pd.to_numeric(series, errors='coerce')\n",
    "    # Convert to Int64 (nullable integer)\n",
    "    return series.astype('Int64')\n"
   ]
  },
  {
   "cell_type": "code",
   "execution_count": 35,
   "id": "e210d5832a93ef58",
   "metadata": {
    "ExecuteTime": {
     "end_time": "2024-08-14T01:00:22.163374Z",
     "start_time": "2024-08-14T01:00:22.082862Z"
    }
   },
   "outputs": [],
   "source": [
    "data_quality.loc[:, 'number_outpatient'] = convert_to_int(data_quality.loc[:,'number_outpatient'])\n",
    "data_quality.loc[:, 'number_emergency'] = convert_to_int(data_quality.loc[:,'number_emergency'])\n",
    "data_quality.loc[:, 'number_inpatient'] = convert_to_int(data_quality.loc[:,'number_inpatient'])"
   ]
  },
  {
   "cell_type": "code",
   "execution_count": 36,
   "id": "30d99dcb9fb371bb",
   "metadata": {
    "ExecuteTime": {
     "end_time": "2024-08-14T01:00:22.266349Z",
     "start_time": "2024-08-14T01:00:22.259381Z"
    }
   },
   "outputs": [
    {
     "data": {
      "text/plain": [
       "number_emergency\n",
       "0     46184\n",
       "1      2629\n",
       "2       644\n",
       "3       232\n",
       "4       132\n",
       "5        45\n",
       "6        27\n",
       "7        24\n",
       "8        16\n",
       "9        10\n",
       "10        8\n",
       "11        3\n",
       "22        2\n",
       "25        1\n",
       "13        1\n",
       "42        1\n",
       "16        1\n",
       "28        1\n",
       "Name: count, dtype: int64"
      ]
     },
     "execution_count": 36,
     "metadata": {},
     "output_type": "execute_result"
    }
   ],
   "source": [
    "data_quality.number_emergency.value_counts()"
   ]
  },
  {
   "cell_type": "code",
   "execution_count": 37,
   "id": "1283030d56ecd242",
   "metadata": {
    "ExecuteTime": {
     "end_time": "2024-08-14T01:00:22.387232Z",
     "start_time": "2024-08-14T01:00:22.380428Z"
    }
   },
   "outputs": [
    {
     "data": {
      "text/plain": [
       "number_inpatient\n",
       "0     34269\n",
       "1      9225\n",
       "2      3428\n",
       "3      1508\n",
       "4       715\n",
       "5       357\n",
       "6       212\n",
       "7       121\n",
       "8        65\n",
       "9        43\n",
       "10       26\n",
       "11       15\n",
       "12       11\n",
       "13        5\n",
       "16        4\n",
       "15        4\n",
       "14        4\n",
       "17        1\n",
       "21        1\n",
       "18        1\n",
       "Name: count, dtype: int64"
      ]
     },
     "execution_count": 37,
     "metadata": {},
     "output_type": "execute_result"
    }
   ],
   "source": [
    "data_quality['number_inpatient'].value_counts()\n"
   ]
  },
  {
   "cell_type": "code",
   "execution_count": 38,
   "id": "2c67b9bb0cc7012e",
   "metadata": {
    "ExecuteTime": {
     "end_time": "2024-08-14T01:00:22.542240Z",
     "start_time": "2024-08-14T01:00:22.535471Z"
    }
   },
   "outputs": [
    {
     "data": {
      "text/plain": [
       "diag_3\n",
       "250    6234\n",
       "401    4429\n",
       "428    2210\n",
       "276    2208\n",
       "427    1941\n",
       "       ... \n",
       "308       1\n",
       "735       1\n",
       "697       1\n",
       "341       1\n",
       "868       1\n",
       "Name: count, Length: 671, dtype: int64"
      ]
     },
     "execution_count": 38,
     "metadata": {},
     "output_type": "execute_result"
    }
   ],
   "source": [
    "data_quality['diag_3'].value_counts()"
   ]
  },
  {
   "cell_type": "code",
   "execution_count": 39,
   "id": "76737f707c0c8384",
   "metadata": {
    "ExecuteTime": {
     "end_time": "2024-08-14T01:00:22.702891Z",
     "start_time": "2024-08-14T01:00:22.697686Z"
    }
   },
   "outputs": [
    {
     "data": {
      "text/plain": [
       "dtype('int64')"
      ]
     },
     "execution_count": 39,
     "metadata": {},
     "output_type": "execute_result"
    }
   ],
   "source": [
    "data_quality['number_diagnoses'].value_counts()\n",
    "data_quality['number_diagnoses'].dtype"
   ]
  },
  {
   "cell_type": "code",
   "execution_count": 40,
   "id": "a4b0dd351eac8942",
   "metadata": {
    "ExecuteTime": {
     "end_time": "2024-08-14T01:00:22.876597Z",
     "start_time": "2024-08-14T01:00:22.869695Z"
    }
   },
   "outputs": [
    {
     "data": {
      "text/plain": [
       "diabetes\n",
       "Yes    37368\n",
       "No     12662\n",
       "Name: count, dtype: int64"
      ]
     },
     "execution_count": 40,
     "metadata": {},
     "output_type": "execute_result"
    }
   ],
   "source": [
    "data_quality['diabetes'].value_counts()"
   ]
  },
  {
   "cell_type": "code",
   "execution_count": 41,
   "id": "6adf1f36238f816c",
   "metadata": {
    "ExecuteTime": {
     "end_time": "2024-08-14T01:00:23.082064Z",
     "start_time": "2024-08-14T01:00:23.073867Z"
    }
   },
   "outputs": [
    {
     "data": {
      "text/plain": [
       "max_glu_serum\n",
       "Norm    0.507868\n",
       ">200    0.295969\n",
       ">300    0.196163\n",
       "Name: proportion, dtype: float64"
      ]
     },
     "execution_count": 41,
     "metadata": {},
     "output_type": "execute_result"
    }
   ],
   "source": [
    "data_quality['max_glu_serum'].value_counts(normalize=True)"
   ]
  },
  {
   "cell_type": "code",
   "execution_count": 42,
   "id": "d10312cdbb7a6791",
   "metadata": {
    "ExecuteTime": {
     "end_time": "2024-08-14T01:00:23.219535Z",
     "start_time": "2024-08-14T01:00:23.213142Z"
    }
   },
   "outputs": [
    {
     "data": {
      "text/plain": [
       "A1Cresult\n",
       ">8      4360\n",
       "Norm    1692\n",
       ">7      1561\n",
       "Name: count, dtype: int64"
      ]
     },
     "execution_count": 42,
     "metadata": {},
     "output_type": "execute_result"
    }
   ],
   "source": [
    "data_quality['A1Cresult'].value_counts()"
   ]
  },
  {
   "cell_type": "code",
   "execution_count": 43,
   "id": "78d67b8df2371aa1",
   "metadata": {
    "ExecuteTime": {
     "end_time": "2024-08-14T01:00:23.482089Z",
     "start_time": "2024-08-14T01:00:23.473717Z"
    }
   },
   "outputs": [
    {
     "data": {
      "text/plain": [
       "metformin\n",
       "No        40950\n",
       "Steady     8224\n",
       "Up          572\n",
       "Down        284\n",
       "Name: count, dtype: int64"
      ]
     },
     "execution_count": 43,
     "metadata": {},
     "output_type": "execute_result"
    }
   ],
   "source": [
    "data_quality['metformin'].value_counts()"
   ]
  },
  {
   "cell_type": "code",
   "execution_count": 44,
   "id": "6e8963c331430ae5",
   "metadata": {
    "ExecuteTime": {
     "end_time": "2024-08-14T01:00:23.620365Z",
     "start_time": "2024-08-14T01:00:23.612928Z"
    }
   },
   "outputs": [
    {
     "data": {
      "text/plain": [
       "repaglinide\n",
       "No        49436\n",
       "Steady      522\n",
       "Up           48\n",
       "Down         24\n",
       "Name: count, dtype: int64"
      ]
     },
     "execution_count": 44,
     "metadata": {},
     "output_type": "execute_result"
    }
   ],
   "source": [
    "data_quality['repaglinide'].value_counts()"
   ]
  },
  {
   "cell_type": "code",
   "execution_count": 45,
   "id": "28d1570bca3be5cc",
   "metadata": {
    "ExecuteTime": {
     "end_time": "2024-08-14T01:00:23.802397Z",
     "start_time": "2024-08-14T01:00:23.795656Z"
    }
   },
   "outputs": [
    {
     "data": {
      "text/plain": [
       "nateglinide\n",
       "No        49768\n",
       "Steady      254\n",
       "Up            5\n",
       "Down          3\n",
       "Name: count, dtype: int64"
      ]
     },
     "execution_count": 45,
     "metadata": {},
     "output_type": "execute_result"
    }
   ],
   "source": [
    "data_quality['nateglinide'].value_counts()"
   ]
  },
  {
   "cell_type": "code",
   "execution_count": 46,
   "id": "204bede713125138",
   "metadata": {
    "ExecuteTime": {
     "end_time": "2024-08-14T01:00:23.982373Z",
     "start_time": "2024-08-14T01:00:23.974519Z"
    }
   },
   "outputs": [
    {
     "data": {
      "text/plain": [
       "chlorpropamide\n",
       "No        49962\n",
       "Steady       61\n",
       "Up            5\n",
       "Down          1\n",
       "?             1\n",
       "Name: count, dtype: int64"
      ]
     },
     "execution_count": 46,
     "metadata": {},
     "output_type": "execute_result"
    }
   ],
   "source": [
    "data_quality['chlorpropamide'].value_counts()"
   ]
  },
  {
   "cell_type": "code",
   "execution_count": 47,
   "id": "405c3abcbf606067",
   "metadata": {
    "ExecuteTime": {
     "end_time": "2024-08-14T01:00:24.199627Z",
     "start_time": "2024-08-14T01:00:24.192508Z"
    }
   },
   "outputs": [
    {
     "data": {
      "text/plain": [
       "glimepiride\n",
       "No        47776\n",
       "Steady     1989\n",
       "Up          175\n",
       "Down         90\n",
       "Name: count, dtype: int64"
      ]
     },
     "execution_count": 47,
     "metadata": {},
     "output_type": "execute_result"
    }
   ],
   "source": [
    "data_quality['glimepiride'].value_counts()"
   ]
  },
  {
   "cell_type": "code",
   "execution_count": 48,
   "id": "add699c0b11a8b10",
   "metadata": {
    "ExecuteTime": {
     "end_time": "2024-08-14T01:00:24.397694Z",
     "start_time": "2024-08-14T01:00:24.390462Z"
    }
   },
   "outputs": [
    {
     "data": {
      "text/plain": [
       "acetohexamide\n",
       "No    50030\n",
       "Name: count, dtype: int64"
      ]
     },
     "execution_count": 48,
     "metadata": {},
     "output_type": "execute_result"
    }
   ],
   "source": [
    "data_quality['acetohexamide'].value_counts()"
   ]
  },
  {
   "cell_type": "code",
   "execution_count": 49,
   "id": "ff26d839624a14ab",
   "metadata": {
    "ExecuteTime": {
     "end_time": "2024-08-14T01:00:24.658443Z",
     "start_time": "2024-08-14T01:00:24.651379Z"
    }
   },
   "outputs": [
    {
     "data": {
      "text/plain": [
       "glipizide\n",
       "No        43570\n",
       "Steady     5685\n",
       "Up          469\n",
       "Down        306\n",
       "Name: count, dtype: int64"
      ]
     },
     "execution_count": 49,
     "metadata": {},
     "output_type": "execute_result"
    }
   ],
   "source": [
    "data_quality['glipizide'].value_counts()"
   ]
  },
  {
   "cell_type": "code",
   "execution_count": 50,
   "id": "81c910d753be48a6",
   "metadata": {
    "ExecuteTime": {
     "end_time": "2024-08-14T01:00:25.008640Z",
     "start_time": "2024-08-14T01:00:25.002180Z"
    }
   },
   "outputs": [
    {
     "data": {
      "text/plain": [
       "glyburide\n",
       "No        43835\n",
       "Steady     5318\n",
       "Up          527\n",
       "Down        350\n",
       "Name: count, dtype: int64"
      ]
     },
     "execution_count": 50,
     "metadata": {},
     "output_type": "execute_result"
    }
   ],
   "source": [
    "data_quality['glyburide'].value_counts()    "
   ]
  },
  {
   "cell_type": "code",
   "execution_count": 51,
   "id": "6749eb92eeaa7c67",
   "metadata": {
    "ExecuteTime": {
     "end_time": "2024-08-14T01:00:25.227412Z",
     "start_time": "2024-08-14T01:00:25.220342Z"
    }
   },
   "outputs": [
    {
     "data": {
      "text/plain": [
       "tolbutamide\n",
       "No    50030\n",
       "Name: count, dtype: int64"
      ]
     },
     "execution_count": 51,
     "metadata": {},
     "output_type": "execute_result"
    }
   ],
   "source": [
    "data_quality['tolbutamide'].value_counts()"
   ]
  },
  {
   "cell_type": "code",
   "execution_count": 52,
   "id": "f55ce1ce0911f0ee",
   "metadata": {
    "ExecuteTime": {
     "end_time": "2024-08-14T01:00:25.424097Z",
     "start_time": "2024-08-14T01:00:25.417336Z"
    }
   },
   "outputs": [
    {
     "data": {
      "text/plain": [
       "insulin\n",
       "No        25753\n",
       "Steady    15992\n",
       "Down       4587\n",
       "Up         3698\n",
       "Name: count, dtype: int64"
      ]
     },
     "execution_count": 52,
     "metadata": {},
     "output_type": "execute_result"
    }
   ],
   "source": [
    "data_quality['insulin'].value_counts()"
   ]
  },
  {
   "cell_type": "code",
   "execution_count": 53,
   "id": "4b1a0c893f059062",
   "metadata": {
    "ExecuteTime": {
     "end_time": "2024-08-14T01:00:25.591241Z",
     "start_time": "2024-08-14T01:00:25.584199Z"
    }
   },
   "outputs": [
    {
     "data": {
      "text/plain": [
       "change\n",
       "No    29669\n",
       "Ch    20361\n",
       "Name: count, dtype: int64"
      ]
     },
     "execution_count": 53,
     "metadata": {},
     "output_type": "execute_result"
    }
   ],
   "source": [
    "data_quality['change'].value_counts()"
   ]
  },
  {
   "cell_type": "code",
   "execution_count": 54,
   "id": "3fd861fa3bbb76df",
   "metadata": {
    "ExecuteTime": {
     "end_time": "2024-08-14T01:00:25.785904Z",
     "start_time": "2024-08-14T01:00:25.778266Z"
    }
   },
   "outputs": [
    {
     "data": {
      "text/plain": [
       "diabetesMed\n",
       "Yes    37401\n",
       "No     12629\n",
       "Name: count, dtype: int64"
      ]
     },
     "execution_count": 54,
     "metadata": {},
     "output_type": "execute_result"
    }
   ],
   "source": [
    "data_quality['diabetesMed'].value_counts()"
   ]
  },
  {
   "cell_type": "code",
   "execution_count": 55,
   "id": "f69ec596bc82b2af",
   "metadata": {
    "ExecuteTime": {
     "end_time": "2024-08-14T01:00:25.963895Z",
     "start_time": "2024-08-14T01:00:25.957623Z"
    }
   },
   "outputs": [
    {
     "data": {
      "text/plain": [
       "readmitted\n",
       "NO     26940\n",
       ">30    17341\n",
       "<30     5749\n",
       "Name: count, dtype: int64"
      ]
     },
     "execution_count": 55,
     "metadata": {},
     "output_type": "execute_result"
    }
   ],
   "source": [
    "data_quality['readmitted'].value_counts()"
   ]
  },
  {
   "cell_type": "code",
   "execution_count": 56,
   "id": "334617ae2e25e203",
   "metadata": {
    "ExecuteTime": {
     "end_time": "2024-08-14T01:00:26.177535Z",
     "start_time": "2024-08-14T01:00:26.170919Z"
    }
   },
   "outputs": [
    {
     "data": {
      "text/plain": [
       "single_day_admission\n",
       "No     43341\n",
       "Yes     6689\n",
       "Name: count, dtype: int64"
      ]
     },
     "execution_count": 56,
     "metadata": {},
     "output_type": "execute_result"
    }
   ],
   "source": [
    "data_quality['single_day_admission'].value_counts()"
   ]
  },
  {
   "cell_type": "code",
   "execution_count": null,
   "id": "eb6447badc82d73b",
   "metadata": {
    "ExecuteTime": {
     "end_time": "2024-08-14T01:00:26.351139Z",
     "start_time": "2024-08-14T01:00:26.348845Z"
    }
   },
   "outputs": [],
   "source": []
  }
 ],
 "metadata": {
  "kernelspec": {
   "display_name": "Python 3 (ipykernel)",
   "language": "python",
   "name": "python3"
  },
  "language_info": {
   "codemirror_mode": {
    "name": "ipython",
    "version": 3
   },
   "file_extension": ".py",
   "mimetype": "text/x-python",
   "name": "python",
   "nbconvert_exporter": "python",
   "pygments_lexer": "ipython3",
   "version": "3.11.9"
  }
 },
 "nbformat": 4,
 "nbformat_minor": 5
}
