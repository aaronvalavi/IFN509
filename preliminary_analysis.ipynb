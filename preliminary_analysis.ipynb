{
 "cells": [
  {
   "metadata": {},
   "cell_type": "markdown",
   "source": [
    "## Exploratory data analysis\n",
    "\n",
    " - Refer to the _Assessment1 1 - report.docx_ for the descriptions and treatment of the columns in the dataset.\n",
    " - Also, I've moved the comments about data mining to the end of the report document."
   ],
   "id": "8a77807f92f26ee"
  },
  {
   "metadata": {
    "ExecuteTime": {
     "end_time": "2024-08-13T00:29:20.649996Z",
     "start_time": "2024-08-13T00:29:20.188049Z"
    }
   },
   "cell_type": "code",
   "source": [
    "# Import libraries\n",
    "import pandas as pd\n",
    "import numpy as np"
   ],
   "id": "7df9140457caed5e",
   "outputs": [],
   "execution_count": 1
  },
  {
   "metadata": {
    "ExecuteTime": {
     "end_time": "2024-08-13T00:29:20.866026Z",
     "start_time": "2024-08-13T00:29:20.652005Z"
    }
   },
   "cell_type": "code",
   "source": "data  = pd.read_csv('data/D1.csv', low_memory=False)",
   "id": "701cd15ae3c3fd8",
   "outputs": [],
   "execution_count": 2
  },
  {
   "metadata": {
    "ExecuteTime": {
     "end_time": "2024-08-13T00:29:20.908805Z",
     "start_time": "2024-08-13T00:29:20.867030Z"
    }
   },
   "cell_type": "code",
   "source": "data.info()",
   "id": "2c5a6768b7dacf70",
   "outputs": [
    {
     "name": "stdout",
     "output_type": "stream",
     "text": [
      "<class 'pandas.core.frame.DataFrame'>\n",
      "RangeIndex: 50031 entries, 0 to 50030\n",
      "Data columns (total 39 columns):\n",
      " #   Column                    Non-Null Count  Dtype \n",
      "---  ------                    --------------  ----- \n",
      " 0   encounter_id              50031 non-null  int64 \n",
      " 1   patient_nbr               50031 non-null  int64 \n",
      " 2   race                      50031 non-null  object\n",
      " 3   gender                    50031 non-null  object\n",
      " 4   age                       50031 non-null  object\n",
      " 5   weight                    50031 non-null  object\n",
      " 6   admission_type_id         50031 non-null  int64 \n",
      " 7   discharge_disposition_id  50031 non-null  int64 \n",
      " 8   admission_source_id       50031 non-null  int64 \n",
      " 9   length_of_stay            50031 non-null  int64 \n",
      " 10  payer_code                50031 non-null  object\n",
      " 11  medical_specialty         50031 non-null  object\n",
      " 12  num_lab_procedures        50031 non-null  int64 \n",
      " 13  num_procedures            50031 non-null  int64 \n",
      " 14  num_medications           50031 non-null  int64 \n",
      " 15  number_outpatient         50031 non-null  object\n",
      " 16  number_emergency          50031 non-null  object\n",
      " 17  number_inpatient          50031 non-null  object\n",
      " 18  diag_1                    50031 non-null  object\n",
      " 19  diag_2                    50031 non-null  object\n",
      " 20  diag_3                    50031 non-null  object\n",
      " 21  number_diagnoses          50031 non-null  int64 \n",
      " 22  diabetes                  50031 non-null  object\n",
      " 23  max_glu_serum             4639 non-null   object\n",
      " 24  A1Cresult                 7613 non-null   object\n",
      " 25  metformin                 50031 non-null  object\n",
      " 26  repaglinide               50031 non-null  object\n",
      " 27  nateglinide               50031 non-null  object\n",
      " 28  chlorpropamide            50031 non-null  object\n",
      " 29  glimepiride               50031 non-null  object\n",
      " 30  acetohexamide             50031 non-null  object\n",
      " 31  glipizide                 50031 non-null  object\n",
      " 32  glyburide                 50031 non-null  object\n",
      " 33  tolbutamide               50031 non-null  object\n",
      " 34  insulin                   50031 non-null  object\n",
      " 35  change                    50031 non-null  object\n",
      " 36  diabetesMed               50031 non-null  object\n",
      " 37  readmitted                50031 non-null  object\n",
      " 38  single_day_admission      50031 non-null  object\n",
      "dtypes: int64(10), object(29)\n",
      "memory usage: 14.9+ MB\n"
     ]
    }
   ],
   "execution_count": 3
  },
  {
   "metadata": {
    "ExecuteTime": {
     "end_time": "2024-08-13T00:29:20.918668Z",
     "start_time": "2024-08-13T00:29:20.909810Z"
    }
   },
   "cell_type": "code",
   "source": "data['number_inpatient'].value_counts(normalize=True)",
   "id": "1bb66c19975f5a36",
   "outputs": [
    {
     "data": {
      "text/plain": [
       "number_inpatient\n",
       "0     0.684975\n",
       "1     0.184386\n",
       "2     0.068518\n",
       "3     0.030141\n",
       "4     0.014291\n",
       "5     0.007136\n",
       "6     0.004237\n",
       "7     0.002419\n",
       "8     0.001299\n",
       "9     0.000859\n",
       "10    0.000520\n",
       "?     0.000300\n",
       "11    0.000300\n",
       "12    0.000220\n",
       "13    0.000100\n",
       "15    0.000080\n",
       "14    0.000080\n",
       "16    0.000080\n",
       "17    0.000020\n",
       "21    0.000020\n",
       "18    0.000020\n",
       "Name: proportion, dtype: float64"
      ]
     },
     "execution_count": 4,
     "metadata": {},
     "output_type": "execute_result"
    }
   ],
   "execution_count": 4
  },
  {
   "metadata": {
    "ExecuteTime": {
     "end_time": "2024-08-13T00:29:20.928681Z",
     "start_time": "2024-08-13T00:29:20.920674Z"
    }
   },
   "cell_type": "code",
   "source": "data['number_outpatient'].value_counts(normalize=True)",
   "id": "bea66117d58d0486",
   "outputs": [
    {
     "data": {
      "text/plain": [
       "number_outpatient\n",
       "0     0.888589\n",
       "1     0.062501\n",
       "2     0.021806\n",
       "3     0.012732\n",
       "4     0.006696\n",
       "5     0.003538\n",
       "6     0.001339\n",
       "7     0.000620\n",
       "8     0.000560\n",
       "?     0.000400\n",
       "9     0.000320\n",
       "10    0.000240\n",
       "11    0.000180\n",
       "12    0.000100\n",
       "13    0.000080\n",
       "14    0.000080\n",
       "16    0.000060\n",
       "15    0.000040\n",
       "20    0.000020\n",
       "21    0.000020\n",
       "35    0.000020\n",
       "17    0.000020\n",
       "29    0.000020\n",
       "36    0.000020\n",
       "Name: proportion, dtype: float64"
      ]
     },
     "execution_count": 5,
     "metadata": {},
     "output_type": "execute_result"
    }
   ],
   "execution_count": 5
  },
  {
   "metadata": {
    "ExecuteTime": {
     "end_time": "2024-08-13T00:29:20.938441Z",
     "start_time": "2024-08-13T00:29:20.929687Z"
    }
   },
   "cell_type": "code",
   "source": "data['number_emergency'].value_counts(normalize=True)",
   "id": "86d565d21ee0d3d",
   "outputs": [
    {
     "data": {
      "text/plain": [
       "number_emergency\n",
       "0     0.923128\n",
       "1     0.052547\n",
       "2     0.012872\n",
       "3     0.004637\n",
       "4     0.002638\n",
       "?     0.001379\n",
       "5     0.000899\n",
       "6     0.000540\n",
       "7     0.000480\n",
       "8     0.000320\n",
       "9     0.000200\n",
       "10    0.000160\n",
       "11    0.000060\n",
       "22    0.000040\n",
       "25    0.000020\n",
       "13    0.000020\n",
       "42    0.000020\n",
       "16    0.000020\n",
       "28    0.000020\n",
       "Name: proportion, dtype: float64"
      ]
     },
     "execution_count": 6,
     "metadata": {},
     "output_type": "execute_result"
    }
   ],
   "execution_count": 6
  },
  {
   "metadata": {
    "ExecuteTime": {
     "end_time": "2024-08-13T00:29:20.948162Z",
     "start_time": "2024-08-13T00:29:20.939446Z"
    }
   },
   "cell_type": "code",
   "source": "data['weight'].value_counts(normalize=True)",
   "id": "fe5b877da35176",
   "outputs": [
    {
     "data": {
      "text/plain": [
       "weight\n",
       "?            0.962783\n",
       "[75-100)     0.015870\n",
       "[50-75)      0.010993\n",
       "[100-125)    0.006316\n",
       "[125-150)    0.001459\n",
       "[25-50)      0.001359\n",
       "[0-25)       0.000740\n",
       "[150-175)    0.000340\n",
       "[175-200)    0.000120\n",
       ">200         0.000020\n",
       "Name: proportion, dtype: float64"
      ]
     },
     "execution_count": 7,
     "metadata": {},
     "output_type": "execute_result"
    }
   ],
   "execution_count": 7
  },
  {
   "metadata": {},
   "cell_type": "markdown",
   "source": "",
   "id": "32623b411d976cc6"
  },
  {
   "metadata": {
    "ExecuteTime": {
     "end_time": "2024-08-13T00:29:20.956421Z",
     "start_time": "2024-08-13T00:29:20.949166Z"
    }
   },
   "cell_type": "code",
   "source": "data['length_of_stay'].value_counts(normalize=True)",
   "id": "4350fb36ac71f5bf",
   "outputs": [
    {
     "data": {
      "text/plain": [
       "length_of_stay\n",
       "3     0.166677\n",
       "2     0.164018\n",
       "4     0.134497\n",
       "1     0.133717\n",
       "5     0.097220\n",
       "6     0.076233\n",
       "7     0.058764\n",
       "8     0.047231\n",
       "9     0.032060\n",
       "10    0.026364\n",
       "11    0.020947\n",
       "12    0.016770\n",
       "13    0.013252\n",
       "14    0.012252\n",
       "Name: proportion, dtype: float64"
      ]
     },
     "execution_count": 8,
     "metadata": {},
     "output_type": "execute_result"
    }
   ],
   "execution_count": 8
  },
  {
   "metadata": {
    "ExecuteTime": {
     "end_time": "2024-08-13T00:29:20.964806Z",
     "start_time": "2024-08-13T00:29:20.957426Z"
    }
   },
   "cell_type": "code",
   "source": "data['admission_type_id'].value_counts(normalize=True)",
   "id": "94f24dbe2d48e253",
   "outputs": [
    {
     "data": {
      "text/plain": [
       "admission_type_id\n",
       "1    0.484999\n",
       "2    0.194180\n",
       "3    0.167816\n",
       "6    0.083628\n",
       "5    0.066099\n",
       "8    0.003098\n",
       "4    0.000140\n",
       "7    0.000040\n",
       "Name: proportion, dtype: float64"
      ]
     },
     "execution_count": 9,
     "metadata": {},
     "output_type": "execute_result"
    }
   ],
   "execution_count": 9
  },
  {
   "metadata": {
    "ExecuteTime": {
     "end_time": "2024-08-13T00:29:20.979409Z",
     "start_time": "2024-08-13T00:29:20.965811Z"
    }
   },
   "cell_type": "code",
   "source": [
    "# Make a copy for data quality corrections\n",
    "\n",
    "data_quality = data.copy()"
   ],
   "id": "d0dfa1903cfea5da",
   "outputs": [],
   "execution_count": 10
  },
  {
   "metadata": {
    "ExecuteTime": {
     "end_time": "2024-08-13T00:29:20.986682Z",
     "start_time": "2024-08-13T00:29:20.980413Z"
    }
   },
   "cell_type": "code",
   "source": "data.gender.value_counts()",
   "id": "c6734c345cf1a1a7",
   "outputs": [
    {
     "data": {
      "text/plain": [
       "gender\n",
       "Female             27000\n",
       "Male               23030\n",
       "Unknown/Invalid        1\n",
       "Name: count, dtype: int64"
      ]
     },
     "execution_count": 11,
     "metadata": {},
     "output_type": "execute_result"
    }
   ],
   "execution_count": 11
  },
  {
   "metadata": {
    "ExecuteTime": {
     "end_time": "2024-08-13T00:29:20.996072Z",
     "start_time": "2024-08-13T00:29:20.987687Z"
    }
   },
   "cell_type": "code",
   "source": [
    "# Replace `?` characters in the data['race'] column with NA\n",
    "data_quality.loc[:,'race'] = data['race'].replace('?', 'Other')"
   ],
   "id": "f3c85d343a447b73",
   "outputs": [],
   "execution_count": 12
  },
  {
   "metadata": {
    "ExecuteTime": {
     "end_time": "2024-08-13T00:29:21.005262Z",
     "start_time": "2024-08-13T00:29:20.997080Z"
    }
   },
   "cell_type": "code",
   "source": "data['race'].value_counts()",
   "id": "48498e8e66027fbc",
   "outputs": [
    {
     "data": {
      "text/plain": [
       "race\n",
       "Caucasian          35732\n",
       "AfricanAmerican    11149\n",
       "?                   1257\n",
       "Hispanic            1020\n",
       "Other                610\n",
       "Asian                263\n",
       "Name: count, dtype: int64"
      ]
     },
     "execution_count": 13,
     "metadata": {},
     "output_type": "execute_result"
    }
   ],
   "execution_count": 13
  },
  {
   "metadata": {
    "ExecuteTime": {
     "end_time": "2024-08-13T00:29:21.014440Z",
     "start_time": "2024-08-13T00:29:21.007266Z"
    }
   },
   "cell_type": "code",
   "source": "data_quality.race.value_counts()",
   "id": "b4984d226c0aef11",
   "outputs": [
    {
     "data": {
      "text/plain": [
       "race\n",
       "Caucasian          35732\n",
       "AfricanAmerican    11149\n",
       "Other               1867\n",
       "Hispanic            1020\n",
       "Asian                263\n",
       "Name: count, dtype: int64"
      ]
     },
     "execution_count": 14,
     "metadata": {},
     "output_type": "execute_result"
    }
   ],
   "execution_count": 14
  },
  {
   "metadata": {
    "ExecuteTime": {
     "end_time": "2024-08-13T00:29:21.023505Z",
     "start_time": "2024-08-13T00:29:21.015445Z"
    }
   },
   "cell_type": "code",
   "source": "data_quality.gender.value_counts()",
   "id": "f6039a60c94805ce",
   "outputs": [
    {
     "data": {
      "text/plain": [
       "gender\n",
       "Female             27000\n",
       "Male               23030\n",
       "Unknown/Invalid        1\n",
       "Name: count, dtype: int64"
      ]
     },
     "execution_count": 15,
     "metadata": {},
     "output_type": "execute_result"
    }
   ],
   "execution_count": 15
  },
  {
   "metadata": {
    "ExecuteTime": {
     "end_time": "2024-08-13T00:29:21.031289Z",
     "start_time": "2024-08-13T00:29:21.024510Z"
    }
   },
   "cell_type": "code",
   "source": "data.loc[0:6, 'race']",
   "id": "5cb02ffbb5c7e5c0",
   "outputs": [
    {
     "data": {
      "text/plain": [
       "0          Caucasian\n",
       "1          Caucasian\n",
       "2          Caucasian\n",
       "3    AfricanAmerican\n",
       "4          Caucasian\n",
       "5    AfricanAmerican\n",
       "6          Caucasian\n",
       "Name: race, dtype: object"
      ]
     },
     "execution_count": 16,
     "metadata": {},
     "output_type": "execute_result"
    }
   ],
   "execution_count": 16
  },
  {
   "metadata": {
    "ExecuteTime": {
     "end_time": "2024-08-13T00:29:21.050760Z",
     "start_time": "2024-08-13T00:29:21.032296Z"
    }
   },
   "cell_type": "code",
   "source": "data_quality = data[data['gender'] != 'Unknown/Invalid']",
   "id": "d241de0662fd63b5",
   "outputs": [],
   "execution_count": 17
  },
  {
   "metadata": {
    "ExecuteTime": {
     "end_time": "2024-08-13T00:29:21.058031Z",
     "start_time": "2024-08-13T00:29:21.051767Z"
    }
   },
   "cell_type": "code",
   "source": "data['age'].value_counts()",
   "id": "1f447fbad3fe930d",
   "outputs": [
    {
     "data": {
      "text/plain": [
       "age\n",
       "[70-80)     13109\n",
       "[60-70)     10874\n",
       "[50-60)      8775\n",
       "[80-90)      7530\n",
       "[40-50)      5064\n",
       "[30-40)      2053\n",
       "[90-100)     1178\n",
       "[20-30)       842\n",
       "[10-20)       468\n",
       "[0-10)        138\n",
       "Name: count, dtype: int64"
      ]
     },
     "execution_count": 18,
     "metadata": {},
     "output_type": "execute_result"
    }
   ],
   "execution_count": 18
  },
  {
   "metadata": {
    "ExecuteTime": {
     "end_time": "2024-08-13T00:29:21.067568Z",
     "start_time": "2024-08-13T00:29:21.059039Z"
    }
   },
   "cell_type": "code",
   "source": "data['weight'].value_counts(normalize=True)",
   "id": "dd9de3be4bfc4204",
   "outputs": [
    {
     "data": {
      "text/plain": [
       "weight\n",
       "?            0.962783\n",
       "[75-100)     0.015870\n",
       "[50-75)      0.010993\n",
       "[100-125)    0.006316\n",
       "[125-150)    0.001459\n",
       "[25-50)      0.001359\n",
       "[0-25)       0.000740\n",
       "[150-175)    0.000340\n",
       "[175-200)    0.000120\n",
       ">200         0.000020\n",
       "Name: proportion, dtype: float64"
      ]
     },
     "execution_count": 19,
     "metadata": {},
     "output_type": "execute_result"
    }
   ],
   "execution_count": 19
  },
  {
   "metadata": {
    "ExecuteTime": {
     "end_time": "2024-08-13T00:29:21.075540Z",
     "start_time": "2024-08-13T00:29:21.068575Z"
    }
   },
   "cell_type": "code",
   "source": "data['discharge_disposition_id'].value_counts()",
   "id": "903ebd3567ecbd58",
   "outputs": [
    {
     "data": {
      "text/plain": [
       "discharge_disposition_id\n",
       "1     29385\n",
       "3      5856\n",
       "6      5309\n",
       "18     3668\n",
       "2       981\n",
       "25      975\n",
       "5       952\n",
       "11      847\n",
       "22      704\n",
       "4       486\n",
       "7       268\n",
       "23      181\n",
       "14      137\n",
       "13       99\n",
       "8        98\n",
       "15       21\n",
       "28       19\n",
       "17       14\n",
       "16       11\n",
       "10        6\n",
       "24        4\n",
       "12        3\n",
       "9         3\n",
       "20        2\n",
       "19        1\n",
       "27        1\n",
       "Name: count, dtype: int64"
      ]
     },
     "execution_count": 20,
     "metadata": {},
     "output_type": "execute_result"
    }
   ],
   "execution_count": 20
  },
  {
   "metadata": {
    "ExecuteTime": {
     "end_time": "2024-08-13T00:29:21.084892Z",
     "start_time": "2024-08-13T00:29:21.076545Z"
    }
   },
   "cell_type": "code",
   "source": "data['payer_code'].value_counts(normalize=True)",
   "id": "aecc1f3feec83485",
   "outputs": [
    {
     "data": {
      "text/plain": [
       "payer_code\n",
       "?     0.652895\n",
       "MC    0.187983\n",
       "HM    0.031441\n",
       "BC    0.029822\n",
       "UN    0.025104\n",
       "SP    0.023985\n",
       "MD    0.019968\n",
       "CP    0.014651\n",
       "CM    0.004817\n",
       "OG    0.003078\n",
       "DM    0.002738\n",
       "PO    0.001619\n",
       "WC    0.000700\n",
       "SI    0.000580\n",
       "CH    0.000380\n",
       "OT    0.000240\n",
       "Name: proportion, dtype: float64"
      ]
     },
     "execution_count": 21,
     "metadata": {},
     "output_type": "execute_result"
    }
   ],
   "execution_count": 21
  },
  {
   "metadata": {
    "ExecuteTime": {
     "end_time": "2024-08-13T00:29:21.094638Z",
     "start_time": "2024-08-13T00:29:21.085897Z"
    }
   },
   "cell_type": "code",
   "source": "data_quality.loc[:,'payer_code'] = data.loc[:, 'payer_code'].replace('?', 'Unknown')",
   "id": "989ea912d09989f4",
   "outputs": [],
   "execution_count": 22
  },
  {
   "metadata": {
    "ExecuteTime": {
     "end_time": "2024-08-13T00:29:21.102100Z",
     "start_time": "2024-08-13T00:29:21.095643Z"
    }
   },
   "cell_type": "code",
   "source": "data_quality['payer_code'].value_counts(normalize=True)",
   "id": "da694b0a5a8f7416",
   "outputs": [
    {
     "data": {
      "text/plain": [
       "payer_code\n",
       "Unknown    0.652888\n",
       "MC         0.187987\n",
       "HM         0.031441\n",
       "BC         0.029822\n",
       "UN         0.025105\n",
       "SP         0.023986\n",
       "MD         0.019968\n",
       "CP         0.014651\n",
       "CM         0.004817\n",
       "OG         0.003078\n",
       "DM         0.002738\n",
       "PO         0.001619\n",
       "WC         0.000700\n",
       "SI         0.000580\n",
       "CH         0.000380\n",
       "OT         0.000240\n",
       "Name: proportion, dtype: float64"
      ]
     },
     "execution_count": 23,
     "metadata": {},
     "output_type": "execute_result"
    }
   ],
   "execution_count": 23
  },
  {
   "metadata": {
    "ExecuteTime": {
     "end_time": "2024-08-13T00:29:21.116158Z",
     "start_time": "2024-08-13T00:29:21.103105Z"
    }
   },
   "cell_type": "code",
   "source": "data.medical_specialty.value_counts(normalize=True)",
   "id": "7018e25847307241",
   "outputs": [
    {
     "data": {
      "text/plain": [
       "medical_specialty\n",
       "?                                0.354880\n",
       "InternalMedicine                 0.215606\n",
       "Family/GeneralPractice           0.109812\n",
       "Cardiology                       0.073674\n",
       "Emergency/Trauma                 0.039076\n",
       "                                   ...   \n",
       "SurgicalSpecialty                0.000020\n",
       "Proctology                       0.000020\n",
       "Psychiatry-Addictive             0.000020\n",
       "Pediatrics-InfectiousDiseases    0.000020\n",
       "Cardiology-Pediatric             0.000020\n",
       "Name: proportion, Length: 68, dtype: float64"
      ]
     },
     "execution_count": 24,
     "metadata": {},
     "output_type": "execute_result"
    }
   ],
   "execution_count": 24
  },
  {
   "metadata": {
    "ExecuteTime": {
     "end_time": "2024-08-13T00:29:21.126787Z",
     "start_time": "2024-08-13T00:29:21.117162Z"
    }
   },
   "cell_type": "code",
   "source": "data_quality.loc[:,'medical_specialty'] = data.loc[:, 'medical_specialty'].replace('?', 'Unknown')",
   "id": "adaa710ecf9f665b",
   "outputs": [],
   "execution_count": 25
  },
  {
   "metadata": {
    "ExecuteTime": {
     "end_time": "2024-08-13T00:29:21.135958Z",
     "start_time": "2024-08-13T00:29:21.128793Z"
    }
   },
   "cell_type": "code",
   "source": "data_quality['medical_specialty'].value_counts(normalize=True)",
   "id": "db8bda1d2c4b0624",
   "outputs": [
    {
     "data": {
      "text/plain": [
       "medical_specialty\n",
       "Unknown                          0.354887\n",
       "InternalMedicine                 0.215611\n",
       "Family/GeneralPractice           0.109814\n",
       "Cardiology                       0.073656\n",
       "Emergency/Trauma                 0.039077\n",
       "                                   ...   \n",
       "SurgicalSpecialty                0.000020\n",
       "Proctology                       0.000020\n",
       "Psychiatry-Addictive             0.000020\n",
       "Pediatrics-InfectiousDiseases    0.000020\n",
       "Cardiology-Pediatric             0.000020\n",
       "Name: proportion, Length: 68, dtype: float64"
      ]
     },
     "execution_count": 26,
     "metadata": {},
     "output_type": "execute_result"
    }
   ],
   "execution_count": 26
  },
  {
   "metadata": {
    "ExecuteTime": {
     "end_time": "2024-08-13T00:29:21.142578Z",
     "start_time": "2024-08-13T00:29:21.136963Z"
    }
   },
   "cell_type": "code",
   "source": [
    "def convert_to_int(series):\n",
    "    \"\"\"\n",
    "    Replace '?' values in the Series with NaN, and convert the Series to numeric Int64.\n",
    "\n",
    "    :param series: A pandas Series object.\n",
    "    :return: Transformed Series with dtype Int64\n",
    "    \"\"\"\n",
    "\n",
    "    # Replace '?' with np.nan\n",
    "    series = series.replace('?', np.nan)\n",
    "    # Convert to numeric, forcing conversion to NaN for non-numeric entries\n",
    "    series = pd.to_numeric(series, errors='coerce')\n",
    "    # Convert to Int64 (nullable integer)\n",
    "    return series.astype('Int64')\n"
   ],
   "id": "34d7b897ddbcea40",
   "outputs": [],
   "execution_count": 27
  },
  {
   "metadata": {
    "ExecuteTime": {
     "end_time": "2024-08-13T00:29:21.463764Z",
     "start_time": "2024-08-13T00:29:21.369272Z"
    }
   },
   "cell_type": "code",
   "source": [
    "data_quality.loc[:, 'number_outpatient'] = convert_to_int(data_quality.loc[:,'number_outpatient'])\n",
    "data_quality.loc[:, 'number_emergency'] = convert_to_int(data_quality.loc[:,'number_emergency'])\n",
    "data_quality.loc[:, 'number_inpatient'] = convert_to_int(data_quality.loc[:,'number_inpatient'])"
   ],
   "id": "e210d5832a93ef58",
   "outputs": [],
   "execution_count": 28
  },
  {
   "metadata": {
    "ExecuteTime": {
     "end_time": "2024-08-13T00:30:15.722835Z",
     "start_time": "2024-08-13T00:30:15.715290Z"
    }
   },
   "cell_type": "code",
   "source": "data_quality.number_emergency.value_counts()",
   "id": "30d99dcb9fb371bb",
   "outputs": [
    {
     "data": {
      "text/plain": [
       "number_emergency\n",
       "0     46184\n",
       "1      2629\n",
       "2       644\n",
       "3       232\n",
       "4       132\n",
       "5        45\n",
       "6        27\n",
       "7        24\n",
       "8        16\n",
       "9        10\n",
       "10        8\n",
       "11        3\n",
       "22        2\n",
       "25        1\n",
       "13        1\n",
       "42        1\n",
       "16        1\n",
       "28        1\n",
       "Name: count, dtype: int64"
      ]
     },
     "execution_count": 51,
     "metadata": {},
     "output_type": "execute_result"
    }
   ],
   "execution_count": 51
  },
  {
   "metadata": {
    "ExecuteTime": {
     "end_time": "2024-08-13T00:29:21.623568Z",
     "start_time": "2024-08-13T00:29:21.617257Z"
    }
   },
   "cell_type": "code",
   "source": "data_quality['number_inpatient'].value_counts()\n",
   "id": "1283030d56ecd242",
   "outputs": [
    {
     "data": {
      "text/plain": [
       "number_inpatient\n",
       "0     34269\n",
       "1      9225\n",
       "2      3428\n",
       "3      1508\n",
       "4       715\n",
       "5       357\n",
       "6       212\n",
       "7       121\n",
       "8        65\n",
       "9        43\n",
       "10       26\n",
       "11       15\n",
       "12       11\n",
       "13        5\n",
       "16        4\n",
       "15        4\n",
       "14        4\n",
       "17        1\n",
       "21        1\n",
       "18        1\n",
       "Name: count, dtype: int64"
      ]
     },
     "execution_count": 30,
     "metadata": {},
     "output_type": "execute_result"
    }
   ],
   "execution_count": 30
  },
  {
   "metadata": {
    "ExecuteTime": {
     "end_time": "2024-08-13T00:29:21.662446Z",
     "start_time": "2024-08-13T00:29:21.654591Z"
    }
   },
   "cell_type": "code",
   "source": "data_quality['diag_3'].value_counts()",
   "id": "2c67b9bb0cc7012e",
   "outputs": [
    {
     "data": {
      "text/plain": [
       "diag_3\n",
       "250    6234\n",
       "401    4429\n",
       "428    2210\n",
       "276    2208\n",
       "427    1941\n",
       "       ... \n",
       "308       1\n",
       "735       1\n",
       "697       1\n",
       "341       1\n",
       "868       1\n",
       "Name: count, Length: 671, dtype: int64"
      ]
     },
     "execution_count": 31,
     "metadata": {},
     "output_type": "execute_result"
    }
   ],
   "execution_count": 31
  },
  {
   "metadata": {
    "ExecuteTime": {
     "end_time": "2024-08-13T00:29:21.692552Z",
     "start_time": "2024-08-13T00:29:21.687455Z"
    }
   },
   "cell_type": "code",
   "source": [
    "data_quality['number_diagnoses'].value_counts()\n",
    "data_quality['number_diagnoses'].dtype"
   ],
   "id": "76737f707c0c8384",
   "outputs": [
    {
     "data": {
      "text/plain": [
       "dtype('int64')"
      ]
     },
     "execution_count": 32,
     "metadata": {},
     "output_type": "execute_result"
    }
   ],
   "execution_count": 32
  },
  {
   "metadata": {
    "ExecuteTime": {
     "end_time": "2024-08-13T00:29:21.748785Z",
     "start_time": "2024-08-13T00:29:21.742106Z"
    }
   },
   "cell_type": "code",
   "source": "data_quality['diabetes'].value_counts()",
   "id": "a4b0dd351eac8942",
   "outputs": [
    {
     "data": {
      "text/plain": [
       "diabetes\n",
       "Yes    37368\n",
       "No     12662\n",
       "Name: count, dtype: int64"
      ]
     },
     "execution_count": 33,
     "metadata": {},
     "output_type": "execute_result"
    }
   ],
   "execution_count": 33
  },
  {
   "metadata": {
    "ExecuteTime": {
     "end_time": "2024-08-13T00:29:21.809040Z",
     "start_time": "2024-08-13T00:29:21.802789Z"
    }
   },
   "cell_type": "code",
   "source": "data_quality['max_glu_serum'].value_counts(normalize=True)",
   "id": "6adf1f36238f816c",
   "outputs": [
    {
     "data": {
      "text/plain": [
       "max_glu_serum\n",
       "Norm    0.507868\n",
       ">200    0.295969\n",
       ">300    0.196163\n",
       "Name: proportion, dtype: float64"
      ]
     },
     "execution_count": 34,
     "metadata": {},
     "output_type": "execute_result"
    }
   ],
   "execution_count": 34
  },
  {
   "metadata": {
    "ExecuteTime": {
     "end_time": "2024-08-13T00:29:21.898076Z",
     "start_time": "2024-08-13T00:29:21.891563Z"
    }
   },
   "cell_type": "code",
   "source": "data_quality['A1Cresult'].value_counts()",
   "id": "d10312cdbb7a6791",
   "outputs": [
    {
     "data": {
      "text/plain": [
       "A1Cresult\n",
       ">8      4360\n",
       "Norm    1692\n",
       ">7      1561\n",
       "Name: count, dtype: int64"
      ]
     },
     "execution_count": 35,
     "metadata": {},
     "output_type": "execute_result"
    }
   ],
   "execution_count": 35
  },
  {
   "metadata": {
    "ExecuteTime": {
     "end_time": "2024-08-13T00:29:21.928537Z",
     "start_time": "2024-08-13T00:29:21.922085Z"
    }
   },
   "cell_type": "code",
   "source": "data_quality['metformin'].value_counts()",
   "id": "78d67b8df2371aa1",
   "outputs": [
    {
     "data": {
      "text/plain": [
       "metformin\n",
       "No        40950\n",
       "Steady     8224\n",
       "Up          572\n",
       "Down        284\n",
       "Name: count, dtype: int64"
      ]
     },
     "execution_count": 36,
     "metadata": {},
     "output_type": "execute_result"
    }
   ],
   "execution_count": 36
  },
  {
   "metadata": {
    "ExecuteTime": {
     "end_time": "2024-08-13T00:29:21.985348Z",
     "start_time": "2024-08-13T00:29:21.978928Z"
    }
   },
   "cell_type": "code",
   "source": "data_quality['repaglinide'].value_counts()",
   "id": "6e8963c331430ae5",
   "outputs": [
    {
     "data": {
      "text/plain": [
       "repaglinide\n",
       "No        49436\n",
       "Steady      522\n",
       "Up           48\n",
       "Down         24\n",
       "Name: count, dtype: int64"
      ]
     },
     "execution_count": 37,
     "metadata": {},
     "output_type": "execute_result"
    }
   ],
   "execution_count": 37
  },
  {
   "metadata": {
    "ExecuteTime": {
     "end_time": "2024-08-13T00:29:22.023953Z",
     "start_time": "2024-08-13T00:29:22.017357Z"
    }
   },
   "cell_type": "code",
   "source": "data_quality['nateglinide'].value_counts()",
   "id": "28d1570bca3be5cc",
   "outputs": [
    {
     "data": {
      "text/plain": [
       "nateglinide\n",
       "No        49768\n",
       "Steady      254\n",
       "Up            5\n",
       "Down          3\n",
       "Name: count, dtype: int64"
      ]
     },
     "execution_count": 38,
     "metadata": {},
     "output_type": "execute_result"
    }
   ],
   "execution_count": 38
  },
  {
   "metadata": {
    "ExecuteTime": {
     "end_time": "2024-08-13T00:29:22.082335Z",
     "start_time": "2024-08-13T00:29:22.074473Z"
    }
   },
   "cell_type": "code",
   "source": "data_quality['chlorpropamide'].value_counts()",
   "id": "204bede713125138",
   "outputs": [
    {
     "data": {
      "text/plain": [
       "chlorpropamide\n",
       "No        49962\n",
       "Steady       61\n",
       "Up            5\n",
       "Down          1\n",
       "?             1\n",
       "Name: count, dtype: int64"
      ]
     },
     "execution_count": 39,
     "metadata": {},
     "output_type": "execute_result"
    }
   ],
   "execution_count": 39
  },
  {
   "metadata": {
    "ExecuteTime": {
     "end_time": "2024-08-13T00:29:22.125897Z",
     "start_time": "2024-08-13T00:29:22.119344Z"
    }
   },
   "cell_type": "code",
   "source": "data_quality['glimepiride'].value_counts()",
   "id": "405c3abcbf606067",
   "outputs": [
    {
     "data": {
      "text/plain": [
       "glimepiride\n",
       "No        47776\n",
       "Steady     1989\n",
       "Up          175\n",
       "Down         90\n",
       "Name: count, dtype: int64"
      ]
     },
     "execution_count": 40,
     "metadata": {},
     "output_type": "execute_result"
    }
   ],
   "execution_count": 40
  },
  {
   "metadata": {
    "ExecuteTime": {
     "end_time": "2024-08-13T00:29:22.180587Z",
     "start_time": "2024-08-13T00:29:22.173405Z"
    }
   },
   "cell_type": "code",
   "source": "data_quality['acetohexamide'].value_counts()",
   "id": "add699c0b11a8b10",
   "outputs": [
    {
     "data": {
      "text/plain": [
       "acetohexamide\n",
       "No    50030\n",
       "Name: count, dtype: int64"
      ]
     },
     "execution_count": 41,
     "metadata": {},
     "output_type": "execute_result"
    }
   ],
   "execution_count": 41
  },
  {
   "metadata": {
    "ExecuteTime": {
     "end_time": "2024-08-13T00:29:22.228122Z",
     "start_time": "2024-08-13T00:29:22.220605Z"
    }
   },
   "cell_type": "code",
   "source": "data_quality['glipizide'].value_counts()",
   "id": "ff26d839624a14ab",
   "outputs": [
    {
     "data": {
      "text/plain": [
       "glipizide\n",
       "No        43570\n",
       "Steady     5685\n",
       "Up          469\n",
       "Down        306\n",
       "Name: count, dtype: int64"
      ]
     },
     "execution_count": 42,
     "metadata": {},
     "output_type": "execute_result"
    }
   ],
   "execution_count": 42
  },
  {
   "metadata": {
    "ExecuteTime": {
     "end_time": "2024-08-13T00:29:22.279747Z",
     "start_time": "2024-08-13T00:29:22.273130Z"
    }
   },
   "cell_type": "code",
   "source": "data_quality['glyburide'].value_counts()    ",
   "id": "81c910d753be48a6",
   "outputs": [
    {
     "data": {
      "text/plain": [
       "glyburide\n",
       "No        43835\n",
       "Steady     5318\n",
       "Up          527\n",
       "Down        350\n",
       "Name: count, dtype: int64"
      ]
     },
     "execution_count": 43,
     "metadata": {},
     "output_type": "execute_result"
    }
   ],
   "execution_count": 43
  },
  {
   "metadata": {
    "ExecuteTime": {
     "end_time": "2024-08-13T00:29:22.321741Z",
     "start_time": "2024-08-13T00:29:22.315762Z"
    }
   },
   "cell_type": "code",
   "source": "data_quality['tolbutamide'].value_counts()",
   "id": "6749eb92eeaa7c67",
   "outputs": [
    {
     "data": {
      "text/plain": [
       "tolbutamide\n",
       "No    50030\n",
       "Name: count, dtype: int64"
      ]
     },
     "execution_count": 44,
     "metadata": {},
     "output_type": "execute_result"
    }
   ],
   "execution_count": 44
  },
  {
   "metadata": {
    "ExecuteTime": {
     "end_time": "2024-08-13T00:29:22.401031Z",
     "start_time": "2024-08-13T00:29:22.394788Z"
    }
   },
   "cell_type": "code",
   "source": "data_quality['insulin'].value_counts()",
   "id": "f55ce1ce0911f0ee",
   "outputs": [
    {
     "data": {
      "text/plain": [
       "insulin\n",
       "No        25753\n",
       "Steady    15992\n",
       "Down       4587\n",
       "Up         3698\n",
       "Name: count, dtype: int64"
      ]
     },
     "execution_count": 45,
     "metadata": {},
     "output_type": "execute_result"
    }
   ],
   "execution_count": 45
  },
  {
   "metadata": {
    "ExecuteTime": {
     "end_time": "2024-08-13T00:29:22.447078Z",
     "start_time": "2024-08-13T00:29:22.440548Z"
    }
   },
   "cell_type": "code",
   "source": "data_quality['change'].value_counts()",
   "id": "4b1a0c893f059062",
   "outputs": [
    {
     "data": {
      "text/plain": [
       "change\n",
       "No    29669\n",
       "Ch    20361\n",
       "Name: count, dtype: int64"
      ]
     },
     "execution_count": 46,
     "metadata": {},
     "output_type": "execute_result"
    }
   ],
   "execution_count": 46
  },
  {
   "metadata": {
    "ExecuteTime": {
     "end_time": "2024-08-13T00:29:22.494822Z",
     "start_time": "2024-08-13T00:29:22.488083Z"
    }
   },
   "cell_type": "code",
   "source": "data_quality['diabetesMed'].value_counts()",
   "id": "3fd861fa3bbb76df",
   "outputs": [
    {
     "data": {
      "text/plain": [
       "diabetesMed\n",
       "Yes    37401\n",
       "No     12629\n",
       "Name: count, dtype: int64"
      ]
     },
     "execution_count": 47,
     "metadata": {},
     "output_type": "execute_result"
    }
   ],
   "execution_count": 47
  },
  {
   "metadata": {
    "ExecuteTime": {
     "end_time": "2024-08-13T00:29:22.540996Z",
     "start_time": "2024-08-13T00:29:22.534344Z"
    }
   },
   "cell_type": "code",
   "source": "data_quality['readmitted'].value_counts()",
   "id": "f69ec596bc82b2af",
   "outputs": [
    {
     "data": {
      "text/plain": [
       "readmitted\n",
       "NO     26940\n",
       ">30    17341\n",
       "<30     5749\n",
       "Name: count, dtype: int64"
      ]
     },
     "execution_count": 48,
     "metadata": {},
     "output_type": "execute_result"
    }
   ],
   "execution_count": 48
  },
  {
   "metadata": {
    "ExecuteTime": {
     "end_time": "2024-08-13T00:29:22.604312Z",
     "start_time": "2024-08-13T00:29:22.597516Z"
    }
   },
   "cell_type": "code",
   "source": "data_quality['single_day_admission'].value_counts()",
   "id": "334617ae2e25e203",
   "outputs": [
    {
     "data": {
      "text/plain": [
       "single_day_admission\n",
       "No     43341\n",
       "Yes     6689\n",
       "Name: count, dtype: int64"
      ]
     },
     "execution_count": 49,
     "metadata": {},
     "output_type": "execute_result"
    }
   ],
   "execution_count": 49
  },
  {
   "metadata": {
    "ExecuteTime": {
     "end_time": "2024-08-13T00:29:22.639008Z",
     "start_time": "2024-08-13T00:29:22.636833Z"
    }
   },
   "cell_type": "code",
   "source": "",
   "id": "eb6447badc82d73b",
   "outputs": [],
   "execution_count": 49
  }
 ],
 "metadata": {
  "kernelspec": {
   "display_name": "Python 3",
   "language": "python",
   "name": "python3"
  },
  "language_info": {
   "codemirror_mode": {
    "name": "ipython",
    "version": 2
   },
   "file_extension": ".py",
   "mimetype": "text/x-python",
   "name": "python",
   "nbconvert_exporter": "python",
   "pygments_lexer": "ipython2",
   "version": "2.7.6"
  }
 },
 "nbformat": 4,
 "nbformat_minor": 5
}
