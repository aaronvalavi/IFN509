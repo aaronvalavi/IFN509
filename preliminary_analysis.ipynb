{
 "cells": [
  {
   "metadata": {},
   "cell_type": "markdown",
   "source": "# Exploratory data analysis",
   "id": "8a77807f92f26ee"
  },
  {
   "metadata": {
    "ExecuteTime": {
     "end_time": "2024-08-08T09:31:28.126159Z",
     "start_time": "2024-08-08T09:31:27.678257Z"
    }
   },
   "cell_type": "code",
   "source": [
    "# Import libraries\n",
    "import pandas as pd\n",
    "import numpy as np"
   ],
   "id": "7df9140457caed5e",
   "outputs": [],
   "execution_count": 1
  },
  {
   "metadata": {
    "ExecuteTime": {
     "end_time": "2024-08-08T09:31:28.331194Z",
     "start_time": "2024-08-08T09:31:28.127165Z"
    }
   },
   "cell_type": "code",
   "source": "data  = pd.read_csv('data/D1.csv', low_memory=False)",
   "id": "701cd15ae3c3fd8",
   "outputs": [],
   "execution_count": 2
  },
  {
   "metadata": {
    "ExecuteTime": {
     "end_time": "2024-08-08T09:31:28.376465Z",
     "start_time": "2024-08-08T09:31:28.332201Z"
    }
   },
   "cell_type": "code",
   "source": "data.info()",
   "id": "2c5a6768b7dacf70",
   "outputs": [
    {
     "name": "stdout",
     "output_type": "stream",
     "text": [
      "<class 'pandas.core.frame.DataFrame'>\n",
      "RangeIndex: 50031 entries, 0 to 50030\n",
      "Data columns (total 39 columns):\n",
      " #   Column                    Non-Null Count  Dtype \n",
      "---  ------                    --------------  ----- \n",
      " 0   encounter_id              50031 non-null  int64 \n",
      " 1   patient_nbr               50031 non-null  int64 \n",
      " 2   race                      50031 non-null  object\n",
      " 3   gender                    50031 non-null  object\n",
      " 4   age                       50031 non-null  object\n",
      " 5   weight                    50031 non-null  object\n",
      " 6   admission_type_id         50031 non-null  int64 \n",
      " 7   discharge_disposition_id  50031 non-null  int64 \n",
      " 8   admission_source_id       50031 non-null  int64 \n",
      " 9   length_of_stay            50031 non-null  int64 \n",
      " 10  payer_code                50031 non-null  object\n",
      " 11  medical_specialty         50031 non-null  object\n",
      " 12  num_lab_procedures        50031 non-null  int64 \n",
      " 13  num_procedures            50031 non-null  int64 \n",
      " 14  num_medications           50031 non-null  int64 \n",
      " 15  number_outpatient         50031 non-null  object\n",
      " 16  number_emergency          50031 non-null  object\n",
      " 17  number_inpatient          50031 non-null  object\n",
      " 18  diag_1                    50031 non-null  object\n",
      " 19  diag_2                    50031 non-null  object\n",
      " 20  diag_3                    50031 non-null  object\n",
      " 21  number_diagnoses          50031 non-null  int64 \n",
      " 22  diabetes                  50031 non-null  object\n",
      " 23  max_glu_serum             4639 non-null   object\n",
      " 24  A1Cresult                 7613 non-null   object\n",
      " 25  metformin                 50031 non-null  object\n",
      " 26  repaglinide               50031 non-null  object\n",
      " 27  nateglinide               50031 non-null  object\n",
      " 28  chlorpropamide            50031 non-null  object\n",
      " 29  glimepiride               50031 non-null  object\n",
      " 30  acetohexamide             50031 non-null  object\n",
      " 31  glipizide                 50031 non-null  object\n",
      " 32  glyburide                 50031 non-null  object\n",
      " 33  tolbutamide               50031 non-null  object\n",
      " 34  insulin                   50031 non-null  object\n",
      " 35  change                    50031 non-null  object\n",
      " 36  diabetesMed               50031 non-null  object\n",
      " 37  readmitted                50031 non-null  object\n",
      " 38  single_day_admission      50031 non-null  object\n",
      "dtypes: int64(10), object(29)\n",
      "memory usage: 14.9+ MB\n"
     ]
    }
   ],
   "execution_count": 3
  },
  {
   "metadata": {
    "ExecuteTime": {
     "end_time": "2024-08-08T09:31:28.381829Z",
     "start_time": "2024-08-08T09:31:28.377473Z"
    }
   },
   "cell_type": "code",
   "source": [
    "def value_counts(df):\n",
    "    \"\"\"\n",
    "    Count the occurrences of each unique value in the object columns of a DataFrame.\n",
    "    Present proportions of each unique value.\n",
    "\n",
    "    :param df: A pandas DataFrame object.\n",
    "    :return: None\n",
    "    \"\"\"\n",
    "    for column in df.columns:\n",
    "        if df[column].dtype == 'object':\n",
    "            print(df[column].value_counts(normalize=True))\n",
    "            print('-' * 50)\n"
   ],
   "id": "80c7b932dc204684",
   "outputs": [],
   "execution_count": 4
  },
  {
   "metadata": {
    "ExecuteTime": {
     "end_time": "2024-08-08T09:31:28.389056Z",
     "start_time": "2024-08-08T09:31:28.383834Z"
    }
   },
   "cell_type": "code",
   "source": "# value_counts(data)",
   "id": "bb27939c676c4d70",
   "outputs": [],
   "execution_count": 5
  },
  {
   "metadata": {
    "ExecuteTime": {
     "end_time": "2024-08-08T09:31:28.405302Z",
     "start_time": "2024-08-08T09:31:28.390061Z"
    }
   },
   "cell_type": "code",
   "source": "data[['number_outpatient', 'number_inpatient', 'number_emergency']]",
   "id": "8b91203f9bbc4f2f",
   "outputs": [
    {
     "data": {
      "text/plain": [
       "      number_outpatient number_inpatient number_emergency\n",
       "0                     0                0                0\n",
       "1                     0                0                0\n",
       "2                     0                0                0\n",
       "3                     0                0                0\n",
       "4                     0                0                0\n",
       "...                 ...              ...              ...\n",
       "50026                 0                0                0\n",
       "50027                 1                0                0\n",
       "50028                 0                0                0\n",
       "50029                 0                0                0\n",
       "50030                 2                0                0\n",
       "\n",
       "[50031 rows x 3 columns]"
      ],
      "text/html": [
       "<div>\n",
       "<style scoped>\n",
       "    .dataframe tbody tr th:only-of-type {\n",
       "        vertical-align: middle;\n",
       "    }\n",
       "\n",
       "    .dataframe tbody tr th {\n",
       "        vertical-align: top;\n",
       "    }\n",
       "\n",
       "    .dataframe thead th {\n",
       "        text-align: right;\n",
       "    }\n",
       "</style>\n",
       "<table border=\"1\" class=\"dataframe\">\n",
       "  <thead>\n",
       "    <tr style=\"text-align: right;\">\n",
       "      <th></th>\n",
       "      <th>number_outpatient</th>\n",
       "      <th>number_inpatient</th>\n",
       "      <th>number_emergency</th>\n",
       "    </tr>\n",
       "  </thead>\n",
       "  <tbody>\n",
       "    <tr>\n",
       "      <th>0</th>\n",
       "      <td>0</td>\n",
       "      <td>0</td>\n",
       "      <td>0</td>\n",
       "    </tr>\n",
       "    <tr>\n",
       "      <th>1</th>\n",
       "      <td>0</td>\n",
       "      <td>0</td>\n",
       "      <td>0</td>\n",
       "    </tr>\n",
       "    <tr>\n",
       "      <th>2</th>\n",
       "      <td>0</td>\n",
       "      <td>0</td>\n",
       "      <td>0</td>\n",
       "    </tr>\n",
       "    <tr>\n",
       "      <th>3</th>\n",
       "      <td>0</td>\n",
       "      <td>0</td>\n",
       "      <td>0</td>\n",
       "    </tr>\n",
       "    <tr>\n",
       "      <th>4</th>\n",
       "      <td>0</td>\n",
       "      <td>0</td>\n",
       "      <td>0</td>\n",
       "    </tr>\n",
       "    <tr>\n",
       "      <th>...</th>\n",
       "      <td>...</td>\n",
       "      <td>...</td>\n",
       "      <td>...</td>\n",
       "    </tr>\n",
       "    <tr>\n",
       "      <th>50026</th>\n",
       "      <td>0</td>\n",
       "      <td>0</td>\n",
       "      <td>0</td>\n",
       "    </tr>\n",
       "    <tr>\n",
       "      <th>50027</th>\n",
       "      <td>1</td>\n",
       "      <td>0</td>\n",
       "      <td>0</td>\n",
       "    </tr>\n",
       "    <tr>\n",
       "      <th>50028</th>\n",
       "      <td>0</td>\n",
       "      <td>0</td>\n",
       "      <td>0</td>\n",
       "    </tr>\n",
       "    <tr>\n",
       "      <th>50029</th>\n",
       "      <td>0</td>\n",
       "      <td>0</td>\n",
       "      <td>0</td>\n",
       "    </tr>\n",
       "    <tr>\n",
       "      <th>50030</th>\n",
       "      <td>2</td>\n",
       "      <td>0</td>\n",
       "      <td>0</td>\n",
       "    </tr>\n",
       "  </tbody>\n",
       "</table>\n",
       "<p>50031 rows × 3 columns</p>\n",
       "</div>"
      ]
     },
     "execution_count": 6,
     "metadata": {},
     "output_type": "execute_result"
    }
   ],
   "execution_count": 6
  },
  {
   "metadata": {
    "ExecuteTime": {
     "end_time": "2024-08-08T09:31:28.413122Z",
     "start_time": "2024-08-08T09:31:28.406309Z"
    }
   },
   "cell_type": "code",
   "source": "data['number_inpatient'].value_counts(normalize=True)",
   "id": "1bb66c19975f5a36",
   "outputs": [
    {
     "data": {
      "text/plain": [
       "number_inpatient\n",
       "0     0.684975\n",
       "1     0.184386\n",
       "2     0.068518\n",
       "3     0.030141\n",
       "4     0.014291\n",
       "5     0.007136\n",
       "6     0.004237\n",
       "7     0.002419\n",
       "8     0.001299\n",
       "9     0.000859\n",
       "10    0.000520\n",
       "?     0.000300\n",
       "11    0.000300\n",
       "12    0.000220\n",
       "13    0.000100\n",
       "15    0.000080\n",
       "14    0.000080\n",
       "16    0.000080\n",
       "17    0.000020\n",
       "21    0.000020\n",
       "18    0.000020\n",
       "Name: proportion, dtype: float64"
      ]
     },
     "execution_count": 7,
     "metadata": {},
     "output_type": "execute_result"
    }
   ],
   "execution_count": 7
  },
  {
   "metadata": {
    "ExecuteTime": {
     "end_time": "2024-08-08T09:31:28.423931Z",
     "start_time": "2024-08-08T09:31:28.414127Z"
    }
   },
   "cell_type": "code",
   "source": "data['number_outpatient'].value_counts(normalize=True)",
   "id": "bea66117d58d0486",
   "outputs": [
    {
     "data": {
      "text/plain": [
       "number_outpatient\n",
       "0     0.888589\n",
       "1     0.062501\n",
       "2     0.021806\n",
       "3     0.012732\n",
       "4     0.006696\n",
       "5     0.003538\n",
       "6     0.001339\n",
       "7     0.000620\n",
       "8     0.000560\n",
       "?     0.000400\n",
       "9     0.000320\n",
       "10    0.000240\n",
       "11    0.000180\n",
       "12    0.000100\n",
       "13    0.000080\n",
       "14    0.000080\n",
       "16    0.000060\n",
       "15    0.000040\n",
       "20    0.000020\n",
       "21    0.000020\n",
       "35    0.000020\n",
       "17    0.000020\n",
       "29    0.000020\n",
       "36    0.000020\n",
       "Name: proportion, dtype: float64"
      ]
     },
     "execution_count": 8,
     "metadata": {},
     "output_type": "execute_result"
    }
   ],
   "execution_count": 8
  },
  {
   "metadata": {
    "ExecuteTime": {
     "end_time": "2024-08-08T09:31:28.433737Z",
     "start_time": "2024-08-08T09:31:28.424936Z"
    }
   },
   "cell_type": "code",
   "source": "data['number_emergency'].value_counts(normalize=True)",
   "id": "86d565d21ee0d3d",
   "outputs": [
    {
     "data": {
      "text/plain": [
       "number_emergency\n",
       "0     0.923128\n",
       "1     0.052547\n",
       "2     0.012872\n",
       "3     0.004637\n",
       "4     0.002638\n",
       "?     0.001379\n",
       "5     0.000899\n",
       "6     0.000540\n",
       "7     0.000480\n",
       "8     0.000320\n",
       "9     0.000200\n",
       "10    0.000160\n",
       "11    0.000060\n",
       "22    0.000040\n",
       "25    0.000020\n",
       "13    0.000020\n",
       "42    0.000020\n",
       "16    0.000020\n",
       "28    0.000020\n",
       "Name: proportion, dtype: float64"
      ]
     },
     "execution_count": 9,
     "metadata": {},
     "output_type": "execute_result"
    }
   ],
   "execution_count": 9
  },
  {
   "metadata": {
    "ExecuteTime": {
     "end_time": "2024-08-08T09:31:28.443264Z",
     "start_time": "2024-08-08T09:31:28.434742Z"
    }
   },
   "cell_type": "code",
   "source": "data['weight'].value_counts(normalize=True)",
   "id": "fe5b877da35176",
   "outputs": [
    {
     "data": {
      "text/plain": [
       "weight\n",
       "?            0.962783\n",
       "[75-100)     0.015870\n",
       "[50-75)      0.010993\n",
       "[100-125)    0.006316\n",
       "[125-150)    0.001459\n",
       "[25-50)      0.001359\n",
       "[0-25)       0.000740\n",
       "[150-175)    0.000340\n",
       "[175-200)    0.000120\n",
       ">200         0.000020\n",
       "Name: proportion, dtype: float64"
      ]
     },
     "execution_count": 10,
     "metadata": {},
     "output_type": "execute_result"
    }
   ],
   "execution_count": 10
  },
  {
   "metadata": {},
   "cell_type": "markdown",
   "source": [
    "## Comments about the data types\n",
    "\n",
    "- The `id` columns are integers, which is fine.\n",
    "- The `race` and `gender` look fine, just some missing values. We should convert them to categorical data type.\n",
    "- The `age` column is a string based on the formatting of the intervals. We should convert it to an interval data type.\n",
    "- The `weight` column has 97% missing values. I suggest drop this column.\n",
    "- The `payer_code` column has 40% missing values. We should discuss if it is necessary to keep this column. We might be able to assume that the emply payer code means that the patient does not have insurance. If not, I suggest drop this column.\n",
    "- \n",
    "- "
   ],
   "id": "56d968d3990cfd03"
  },
  {
   "metadata": {},
   "cell_type": "markdown",
   "source": [
    "## Comments about the goal of the data mining\n",
    "\n",
    "This looks like a 'length of stay' prediction problem. The goal is to predict the length of stay of a patient in the hospital. The `length_of_stay` column is the target variable. It has no missing values and the data are in a manageable range. We should convert this column to a numeric data type. \n",
    "\n",
    "The `readmitted` column could be secondary target variable. It is a categorical variable with three classes. We should convert this column to a categorical data type.\n",
    "\n",
    "The `discharge_disposition_id` could also be used as a secondary target variable. It is a categorical variable with 26 classes. It might be worth reducing the number of classes to binary outcome variable (all cause mortality), or categorical variable with fewer classes (e.g. discharged home, discharged to another facility, died.).\n",
    "\n",
    "We should discuss if we want to filter out the `admission_type_id` column. If we choose length of stay as the target variable, we might want to filter out the `admission_type_id` column to exclude newborns and electives. The same goes for `single_day_admission`. We might want to filter out the single day admissions. "
   ],
   "id": "32623b411d976cc6"
  },
  {
   "metadata": {
    "ExecuteTime": {
     "end_time": "2024-08-08T09:31:28.452621Z",
     "start_time": "2024-08-08T09:31:28.444269Z"
    }
   },
   "cell_type": "code",
   "source": "data['length_of_stay'].value_counts(normalize=True)",
   "id": "4350fb36ac71f5bf",
   "outputs": [
    {
     "data": {
      "text/plain": [
       "length_of_stay\n",
       "3     0.166677\n",
       "2     0.164018\n",
       "4     0.134497\n",
       "1     0.133717\n",
       "5     0.097220\n",
       "6     0.076233\n",
       "7     0.058764\n",
       "8     0.047231\n",
       "9     0.032060\n",
       "10    0.026364\n",
       "11    0.020947\n",
       "12    0.016770\n",
       "13    0.013252\n",
       "14    0.012252\n",
       "Name: proportion, dtype: float64"
      ]
     },
     "execution_count": 11,
     "metadata": {},
     "output_type": "execute_result"
    }
   ],
   "execution_count": 11
  },
  {
   "metadata": {
    "ExecuteTime": {
     "end_time": "2024-08-08T09:31:28.461268Z",
     "start_time": "2024-08-08T09:31:28.453627Z"
    }
   },
   "cell_type": "code",
   "source": "data['admission_type_id'].value_counts(normalize=True)",
   "id": "94f24dbe2d48e253",
   "outputs": [
    {
     "data": {
      "text/plain": [
       "admission_type_id\n",
       "1    0.484999\n",
       "2    0.194180\n",
       "3    0.167816\n",
       "6    0.083628\n",
       "5    0.066099\n",
       "8    0.003098\n",
       "4    0.000140\n",
       "7    0.000040\n",
       "Name: proportion, dtype: float64"
      ]
     },
     "execution_count": 12,
     "metadata": {},
     "output_type": "execute_result"
    }
   ],
   "execution_count": 12
  },
  {
   "metadata": {},
   "cell_type": "markdown",
   "source": [
    "### Data mismatch corrections\n",
    "\n",
    "Some of the data fields have a `?` character. We should replace these with `np.nan` and convert the columns to correct data type."
   ],
   "id": "cdb934fac6a6dd4a"
  },
  {
   "metadata": {
    "ExecuteTime": {
     "end_time": "2024-08-08T09:31:28.473079Z",
     "start_time": "2024-08-08T09:31:28.462276Z"
    }
   },
   "cell_type": "code",
   "source": [
    "# Make a copy for data quality corrections\n",
    "\n",
    "data_quality = data.copy()"
   ],
   "id": "d0dfa1903cfea5da",
   "outputs": [],
   "execution_count": 13
  },
  {
   "metadata": {
    "ExecuteTime": {
     "end_time": "2024-08-08T09:31:28.482204Z",
     "start_time": "2024-08-08T09:31:28.476086Z"
    }
   },
   "cell_type": "code",
   "source": [
    "# Replace `?` characters in the data['race'] column with NA\n",
    "data_quality['race'] = data['race'].replace('?', 'Other')"
   ],
   "id": "f3c85d343a447b73",
   "outputs": [],
   "execution_count": 14
  },
  {
   "metadata": {
    "ExecuteTime": {
     "end_time": "2024-08-08T09:31:28.490260Z",
     "start_time": "2024-08-08T09:31:28.483209Z"
    }
   },
   "cell_type": "code",
   "source": "data_quality.race.value_counts()",
   "id": "b4984d226c0aef11",
   "outputs": [
    {
     "data": {
      "text/plain": [
       "race\n",
       "Caucasian          35732\n",
       "AfricanAmerican    11149\n",
       "Other               1867\n",
       "Hispanic            1020\n",
       "Asian                263\n",
       "Name: count, dtype: int64"
      ]
     },
     "execution_count": 15,
     "metadata": {},
     "output_type": "execute_result"
    }
   ],
   "execution_count": 15
  },
  {
   "metadata": {
    "ExecuteTime": {
     "end_time": "2024-08-08T09:31:28.499633Z",
     "start_time": "2024-08-08T09:31:28.491266Z"
    }
   },
   "cell_type": "code",
   "source": "data_quality.gender.value_counts()",
   "id": "f6039a60c94805ce",
   "outputs": [
    {
     "data": {
      "text/plain": [
       "gender\n",
       "Female             27000\n",
       "Male               23030\n",
       "Unknown/Invalid        1\n",
       "Name: count, dtype: int64"
      ]
     },
     "execution_count": 16,
     "metadata": {},
     "output_type": "execute_result"
    }
   ],
   "execution_count": 16
  },
  {
   "metadata": {
    "ExecuteTime": {
     "end_time": "2024-08-08T09:31:28.519149Z",
     "start_time": "2024-08-08T09:31:28.500641Z"
    }
   },
   "cell_type": "code",
   "source": "data_quality = data[data['gender'] != 'Unknown/Invalid']",
   "id": "d241de0662fd63b5",
   "outputs": [],
   "execution_count": 17
  },
  {
   "metadata": {
    "ExecuteTime": {
     "end_time": "2024-08-08T09:31:28.527032Z",
     "start_time": "2024-08-08T09:31:28.520155Z"
    }
   },
   "cell_type": "code",
   "source": "data['age'].value_counts()",
   "id": "1f447fbad3fe930d",
   "outputs": [
    {
     "data": {
      "text/plain": [
       "age\n",
       "[70-80)     13109\n",
       "[60-70)     10874\n",
       "[50-60)      8775\n",
       "[80-90)      7530\n",
       "[40-50)      5064\n",
       "[30-40)      2053\n",
       "[90-100)     1178\n",
       "[20-30)       842\n",
       "[10-20)       468\n",
       "[0-10)        138\n",
       "Name: count, dtype: int64"
      ]
     },
     "execution_count": 18,
     "metadata": {},
     "output_type": "execute_result"
    }
   ],
   "execution_count": 18
  },
  {
   "metadata": {
    "ExecuteTime": {
     "end_time": "2024-08-08T09:31:28.536784Z",
     "start_time": "2024-08-08T09:31:28.528038Z"
    }
   },
   "cell_type": "code",
   "source": "data['weight'].value_counts(normalize=True)",
   "id": "dd9de3be4bfc4204",
   "outputs": [
    {
     "data": {
      "text/plain": [
       "weight\n",
       "?            0.962783\n",
       "[75-100)     0.015870\n",
       "[50-75)      0.010993\n",
       "[100-125)    0.006316\n",
       "[125-150)    0.001459\n",
       "[25-50)      0.001359\n",
       "[0-25)       0.000740\n",
       "[150-175)    0.000340\n",
       "[175-200)    0.000120\n",
       ">200         0.000020\n",
       "Name: proportion, dtype: float64"
      ]
     },
     "execution_count": 19,
     "metadata": {},
     "output_type": "execute_result"
    }
   ],
   "execution_count": 19
  },
  {
   "metadata": {
    "ExecuteTime": {
     "end_time": "2024-08-08T09:31:28.547255Z",
     "start_time": "2024-08-08T09:31:28.537793Z"
    }
   },
   "cell_type": "code",
   "source": "data['discharge_disposition_id'].value_counts()",
   "id": "903ebd3567ecbd58",
   "outputs": [
    {
     "data": {
      "text/plain": [
       "discharge_disposition_id\n",
       "1     29385\n",
       "3      5856\n",
       "6      5309\n",
       "18     3668\n",
       "2       981\n",
       "25      975\n",
       "5       952\n",
       "11      847\n",
       "22      704\n",
       "4       486\n",
       "7       268\n",
       "23      181\n",
       "14      137\n",
       "13       99\n",
       "8        98\n",
       "15       21\n",
       "28       19\n",
       "17       14\n",
       "16       11\n",
       "10        6\n",
       "24        4\n",
       "12        3\n",
       "9         3\n",
       "20        2\n",
       "19        1\n",
       "27        1\n",
       "Name: count, dtype: int64"
      ]
     },
     "execution_count": 20,
     "metadata": {},
     "output_type": "execute_result"
    }
   ],
   "execution_count": 20
  },
  {
   "metadata": {
    "ExecuteTime": {
     "end_time": "2024-08-08T09:31:28.558336Z",
     "start_time": "2024-08-08T09:31:28.548263Z"
    }
   },
   "cell_type": "code",
   "source": "data['payer_code'].value_counts(normalize=True)",
   "id": "aecc1f3feec83485",
   "outputs": [
    {
     "data": {
      "text/plain": [
       "payer_code\n",
       "?     0.652895\n",
       "MC    0.187983\n",
       "HM    0.031441\n",
       "BC    0.029822\n",
       "UN    0.025104\n",
       "SP    0.023985\n",
       "MD    0.019968\n",
       "CP    0.014651\n",
       "CM    0.004817\n",
       "OG    0.003078\n",
       "DM    0.002738\n",
       "PO    0.001619\n",
       "WC    0.000700\n",
       "SI    0.000580\n",
       "CH    0.000380\n",
       "OT    0.000240\n",
       "Name: proportion, dtype: float64"
      ]
     },
     "execution_count": 21,
     "metadata": {},
     "output_type": "execute_result"
    }
   ],
   "execution_count": 21
  },
  {
   "metadata": {
    "ExecuteTime": {
     "end_time": "2024-08-08T09:31:28.568544Z",
     "start_time": "2024-08-08T09:31:28.559347Z"
    }
   },
   "cell_type": "code",
   "source": "data_quality.loc[:,'payer_code'] = data.loc[:, 'payer_code'].replace('?', 'Unknown')",
   "id": "989ea912d09989f4",
   "outputs": [],
   "execution_count": 22
  },
  {
   "metadata": {
    "ExecuteTime": {
     "end_time": "2024-08-08T09:31:28.577Z",
     "start_time": "2024-08-08T09:31:28.569552Z"
    }
   },
   "cell_type": "code",
   "source": "data_quality['payer_code'].value_counts(normalize=True)",
   "id": "da694b0a5a8f7416",
   "outputs": [
    {
     "data": {
      "text/plain": [
       "payer_code\n",
       "Unknown    0.652888\n",
       "MC         0.187987\n",
       "HM         0.031441\n",
       "BC         0.029822\n",
       "UN         0.025105\n",
       "SP         0.023986\n",
       "MD         0.019968\n",
       "CP         0.014651\n",
       "CM         0.004817\n",
       "OG         0.003078\n",
       "DM         0.002738\n",
       "PO         0.001619\n",
       "WC         0.000700\n",
       "SI         0.000580\n",
       "CH         0.000380\n",
       "OT         0.000240\n",
       "Name: proportion, dtype: float64"
      ]
     },
     "execution_count": 23,
     "metadata": {},
     "output_type": "execute_result"
    }
   ],
   "execution_count": 23
  },
  {
   "metadata": {
    "ExecuteTime": {
     "end_time": "2024-08-08T09:31:28.587195Z",
     "start_time": "2024-08-08T09:31:28.578006Z"
    }
   },
   "cell_type": "code",
   "source": "data.medical_specialty.value_counts(normalize=True)",
   "id": "7018e25847307241",
   "outputs": [
    {
     "data": {
      "text/plain": [
       "medical_specialty\n",
       "?                                0.354880\n",
       "InternalMedicine                 0.215606\n",
       "Family/GeneralPractice           0.109812\n",
       "Cardiology                       0.073674\n",
       "Emergency/Trauma                 0.039076\n",
       "                                   ...   \n",
       "SurgicalSpecialty                0.000020\n",
       "Proctology                       0.000020\n",
       "Psychiatry-Addictive             0.000020\n",
       "Pediatrics-InfectiousDiseases    0.000020\n",
       "Cardiology-Pediatric             0.000020\n",
       "Name: proportion, Length: 68, dtype: float64"
      ]
     },
     "execution_count": 24,
     "metadata": {},
     "output_type": "execute_result"
    }
   ],
   "execution_count": 24
  },
  {
   "metadata": {
    "ExecuteTime": {
     "end_time": "2024-08-08T09:31:28.597308Z",
     "start_time": "2024-08-08T09:31:28.588200Z"
    }
   },
   "cell_type": "code",
   "source": "data_quality.loc[:,'medical_specialty'] = data.loc[:, 'medical_specialty'].replace('?', 'Unknown')",
   "id": "adaa710ecf9f665b",
   "outputs": [],
   "execution_count": 25
  },
  {
   "metadata": {
    "ExecuteTime": {
     "end_time": "2024-08-08T09:31:28.605665Z",
     "start_time": "2024-08-08T09:31:28.598313Z"
    }
   },
   "cell_type": "code",
   "source": "data_quality['medical_specialty'].value_counts(normalize=True)",
   "id": "db8bda1d2c4b0624",
   "outputs": [
    {
     "data": {
      "text/plain": [
       "medical_specialty\n",
       "Unknown                          0.354887\n",
       "InternalMedicine                 0.215611\n",
       "Family/GeneralPractice           0.109814\n",
       "Cardiology                       0.073656\n",
       "Emergency/Trauma                 0.039077\n",
       "                                   ...   \n",
       "SurgicalSpecialty                0.000020\n",
       "Proctology                       0.000020\n",
       "Psychiatry-Addictive             0.000020\n",
       "Pediatrics-InfectiousDiseases    0.000020\n",
       "Cardiology-Pediatric             0.000020\n",
       "Name: proportion, Length: 68, dtype: float64"
      ]
     },
     "execution_count": 26,
     "metadata": {},
     "output_type": "execute_result"
    }
   ],
   "execution_count": 26
  },
  {
   "metadata": {
    "ExecuteTime": {
     "end_time": "2024-08-08T09:31:28.608821Z",
     "start_time": "2024-08-08T09:31:28.606672Z"
    }
   },
   "cell_type": "code",
   "source": "",
   "id": "1283030d56ecd242",
   "outputs": [],
   "execution_count": 26
  },
  {
   "metadata": {
    "ExecuteTime": {
     "end_time": "2024-08-08T09:31:28.613279Z",
     "start_time": "2024-08-08T09:31:28.609829Z"
    }
   },
   "cell_type": "code",
   "source": [
    "def replace_question_mark(series):\n",
    "    \"\"\"\n",
    "    Replace '?' values in the Series with NaN, and convert the Series to numeric.\n",
    "    :param series: A pandas Series object.\n",
    "    :return: Transformed Series\n",
    "    \"\"\"\n",
    "    series = series.replace('?', np.nan)\n",
    "    series = pd.to_numeric(series, errors='coerce')\n",
    "    series = series.astype('Int64')\n",
    "    return series\n",
    "\n"
   ],
   "id": "bc2643df97dc67a1",
   "outputs": [],
   "execution_count": 27
  },
  {
   "metadata": {
    "ExecuteTime": {
     "end_time": "2024-08-08T09:33:15.971813Z",
     "start_time": "2024-08-08T09:33:15.939783Z"
    }
   },
   "cell_type": "code",
   "source": "data_quality.loc[:, 'number_outpatient'] = replace_question_mark(data['number_outpatient'])\n",
   "id": "f024ed2cf580a09b",
   "outputs": [],
   "execution_count": 33
  },
  {
   "metadata": {
    "ExecuteTime": {
     "end_time": "2024-08-08T09:33:33.840094Z",
     "start_time": "2024-08-08T09:33:33.800867Z"
    }
   },
   "cell_type": "code",
   "source": "data_quality.info()",
   "id": "d030ecb99d02caca",
   "outputs": [
    {
     "name": "stdout",
     "output_type": "stream",
     "text": [
      "<class 'pandas.core.frame.DataFrame'>\n",
      "Index: 50030 entries, 0 to 50030\n",
      "Data columns (total 39 columns):\n",
      " #   Column                    Non-Null Count  Dtype \n",
      "---  ------                    --------------  ----- \n",
      " 0   encounter_id              50030 non-null  int64 \n",
      " 1   patient_nbr               50030 non-null  int64 \n",
      " 2   race                      50030 non-null  object\n",
      " 3   gender                    50030 non-null  object\n",
      " 4   age                       50030 non-null  object\n",
      " 5   weight                    50030 non-null  object\n",
      " 6   admission_type_id         50030 non-null  int64 \n",
      " 7   discharge_disposition_id  50030 non-null  int64 \n",
      " 8   admission_source_id       50030 non-null  int64 \n",
      " 9   length_of_stay            50030 non-null  int64 \n",
      " 10  payer_code                50030 non-null  object\n",
      " 11  medical_specialty         50030 non-null  object\n",
      " 12  num_lab_procedures        50030 non-null  int64 \n",
      " 13  num_procedures            50030 non-null  int64 \n",
      " 14  num_medications           50030 non-null  int64 \n",
      " 15  number_outpatient         50010 non-null  object\n",
      " 16  number_emergency          50030 non-null  object\n",
      " 17  number_inpatient          50030 non-null  object\n",
      " 18  diag_1                    50030 non-null  object\n",
      " 19  diag_2                    50030 non-null  object\n",
      " 20  diag_3                    50030 non-null  object\n",
      " 21  number_diagnoses          50030 non-null  int64 \n",
      " 22  diabetes                  50030 non-null  object\n",
      " 23  max_glu_serum             4639 non-null   object\n",
      " 24  A1Cresult                 7613 non-null   object\n",
      " 25  metformin                 50030 non-null  object\n",
      " 26  repaglinide               50030 non-null  object\n",
      " 27  nateglinide               50030 non-null  object\n",
      " 28  chlorpropamide            50030 non-null  object\n",
      " 29  glimepiride               50030 non-null  object\n",
      " 30  acetohexamide             50030 non-null  object\n",
      " 31  glipizide                 50030 non-null  object\n",
      " 32  glyburide                 50030 non-null  object\n",
      " 33  tolbutamide               50030 non-null  object\n",
      " 34  insulin                   50030 non-null  object\n",
      " 35  change                    50030 non-null  object\n",
      " 36  diabetesMed               50030 non-null  object\n",
      " 37  readmitted                50030 non-null  object\n",
      " 38  single_day_admission      50030 non-null  object\n",
      "dtypes: int64(10), object(29)\n",
      "memory usage: 15.3+ MB\n"
     ]
    }
   ],
   "execution_count": 36
  },
  {
   "metadata": {
    "ExecuteTime": {
     "end_time": "2024-08-08T09:33:49.995363Z",
     "start_time": "2024-08-08T09:33:49.987482Z"
    }
   },
   "cell_type": "code",
   "source": "data_quality.number_outpatient.value_counts()",
   "id": "28e7c2713df1cc69",
   "outputs": [
    {
     "data": {
      "text/plain": [
       "number_outpatient\n",
       "0     44456\n",
       "1      3127\n",
       "2      1091\n",
       "3       637\n",
       "4       335\n",
       "5       177\n",
       "6        67\n",
       "7        31\n",
       "8        28\n",
       "9        16\n",
       "10       12\n",
       "11        9\n",
       "12        5\n",
       "13        4\n",
       "14        4\n",
       "16        3\n",
       "15        2\n",
       "20        1\n",
       "21        1\n",
       "35        1\n",
       "17        1\n",
       "29        1\n",
       "36        1\n",
       "Name: count, dtype: int64"
      ]
     },
     "execution_count": 38,
     "metadata": {},
     "output_type": "execute_result"
    }
   ],
   "execution_count": 38
  },
  {
   "metadata": {
    "ExecuteTime": {
     "end_time": "2024-08-08T09:32:06.697020Z",
     "start_time": "2024-08-08T09:32:05.552140Z"
    }
   },
   "cell_type": "code",
   "source": "data_quality['number_outpatient'] = data['number_outpatient'].map(replace_question_mark)",
   "id": "224d22469144f78f",
   "outputs": [
    {
     "ename": "TypeError",
     "evalue": "replace() argument 2 must be str, not float",
     "output_type": "error",
     "traceback": [
      "\u001B[1;31m---------------------------------------------------------------------------\u001B[0m",
      "\u001B[1;31mTypeError\u001B[0m                                 Traceback (most recent call last)",
      "Cell \u001B[1;32mIn[32], line 1\u001B[0m\n\u001B[1;32m----> 1\u001B[0m data_quality[\u001B[38;5;124m'\u001B[39m\u001B[38;5;124mnumber_outpatient\u001B[39m\u001B[38;5;124m'\u001B[39m] \u001B[38;5;241m=\u001B[39m data[\u001B[38;5;124m'\u001B[39m\u001B[38;5;124mnumber_outpatient\u001B[39m\u001B[38;5;124m'\u001B[39m]\u001B[38;5;241m.\u001B[39mmap(replace_question_mark)\n",
      "File \u001B[1;32m~\\.conda\\envs\\IFN509\\Lib\\site-packages\\pandas\\core\\series.py:4700\u001B[0m, in \u001B[0;36mSeries.map\u001B[1;34m(self, arg, na_action)\u001B[0m\n\u001B[0;32m   4620\u001B[0m \u001B[38;5;28;01mdef\u001B[39;00m \u001B[38;5;21mmap\u001B[39m(\n\u001B[0;32m   4621\u001B[0m     \u001B[38;5;28mself\u001B[39m,\n\u001B[0;32m   4622\u001B[0m     arg: Callable \u001B[38;5;241m|\u001B[39m Mapping \u001B[38;5;241m|\u001B[39m Series,\n\u001B[0;32m   4623\u001B[0m     na_action: Literal[\u001B[38;5;124m\"\u001B[39m\u001B[38;5;124mignore\u001B[39m\u001B[38;5;124m\"\u001B[39m] \u001B[38;5;241m|\u001B[39m \u001B[38;5;28;01mNone\u001B[39;00m \u001B[38;5;241m=\u001B[39m \u001B[38;5;28;01mNone\u001B[39;00m,\n\u001B[0;32m   4624\u001B[0m ) \u001B[38;5;241m-\u001B[39m\u001B[38;5;241m>\u001B[39m Series:\n\u001B[0;32m   4625\u001B[0m \u001B[38;5;250m    \u001B[39m\u001B[38;5;124;03m\"\"\"\u001B[39;00m\n\u001B[0;32m   4626\u001B[0m \u001B[38;5;124;03m    Map values of Series according to an input mapping or function.\u001B[39;00m\n\u001B[0;32m   4627\u001B[0m \n\u001B[1;32m   (...)\u001B[0m\n\u001B[0;32m   4698\u001B[0m \u001B[38;5;124;03m    dtype: object\u001B[39;00m\n\u001B[0;32m   4699\u001B[0m \u001B[38;5;124;03m    \"\"\"\u001B[39;00m\n\u001B[1;32m-> 4700\u001B[0m     new_values \u001B[38;5;241m=\u001B[39m \u001B[38;5;28mself\u001B[39m\u001B[38;5;241m.\u001B[39m_map_values(arg, na_action\u001B[38;5;241m=\u001B[39mna_action)\n\u001B[0;32m   4701\u001B[0m     \u001B[38;5;28;01mreturn\u001B[39;00m \u001B[38;5;28mself\u001B[39m\u001B[38;5;241m.\u001B[39m_constructor(new_values, index\u001B[38;5;241m=\u001B[39m\u001B[38;5;28mself\u001B[39m\u001B[38;5;241m.\u001B[39mindex, copy\u001B[38;5;241m=\u001B[39m\u001B[38;5;28;01mFalse\u001B[39;00m)\u001B[38;5;241m.\u001B[39m__finalize__(\n\u001B[0;32m   4702\u001B[0m         \u001B[38;5;28mself\u001B[39m, method\u001B[38;5;241m=\u001B[39m\u001B[38;5;124m\"\u001B[39m\u001B[38;5;124mmap\u001B[39m\u001B[38;5;124m\"\u001B[39m\n\u001B[0;32m   4703\u001B[0m     )\n",
      "File \u001B[1;32m~\\.conda\\envs\\IFN509\\Lib\\site-packages\\pandas\\core\\base.py:921\u001B[0m, in \u001B[0;36mIndexOpsMixin._map_values\u001B[1;34m(self, mapper, na_action, convert)\u001B[0m\n\u001B[0;32m    918\u001B[0m \u001B[38;5;28;01mif\u001B[39;00m \u001B[38;5;28misinstance\u001B[39m(arr, ExtensionArray):\n\u001B[0;32m    919\u001B[0m     \u001B[38;5;28;01mreturn\u001B[39;00m arr\u001B[38;5;241m.\u001B[39mmap(mapper, na_action\u001B[38;5;241m=\u001B[39mna_action)\n\u001B[1;32m--> 921\u001B[0m \u001B[38;5;28;01mreturn\u001B[39;00m algorithms\u001B[38;5;241m.\u001B[39mmap_array(arr, mapper, na_action\u001B[38;5;241m=\u001B[39mna_action, convert\u001B[38;5;241m=\u001B[39mconvert)\n",
      "File \u001B[1;32m~\\.conda\\envs\\IFN509\\Lib\\site-packages\\pandas\\core\\algorithms.py:1743\u001B[0m, in \u001B[0;36mmap_array\u001B[1;34m(arr, mapper, na_action, convert)\u001B[0m\n\u001B[0;32m   1741\u001B[0m values \u001B[38;5;241m=\u001B[39m arr\u001B[38;5;241m.\u001B[39mastype(\u001B[38;5;28mobject\u001B[39m, copy\u001B[38;5;241m=\u001B[39m\u001B[38;5;28;01mFalse\u001B[39;00m)\n\u001B[0;32m   1742\u001B[0m \u001B[38;5;28;01mif\u001B[39;00m na_action \u001B[38;5;129;01mis\u001B[39;00m \u001B[38;5;28;01mNone\u001B[39;00m:\n\u001B[1;32m-> 1743\u001B[0m     \u001B[38;5;28;01mreturn\u001B[39;00m lib\u001B[38;5;241m.\u001B[39mmap_infer(values, mapper, convert\u001B[38;5;241m=\u001B[39mconvert)\n\u001B[0;32m   1744\u001B[0m \u001B[38;5;28;01melse\u001B[39;00m:\n\u001B[0;32m   1745\u001B[0m     \u001B[38;5;28;01mreturn\u001B[39;00m lib\u001B[38;5;241m.\u001B[39mmap_infer_mask(\n\u001B[0;32m   1746\u001B[0m         values, mapper, mask\u001B[38;5;241m=\u001B[39misna(values)\u001B[38;5;241m.\u001B[39mview(np\u001B[38;5;241m.\u001B[39muint8), convert\u001B[38;5;241m=\u001B[39mconvert\n\u001B[0;32m   1747\u001B[0m     )\n",
      "File \u001B[1;32mlib.pyx:2972\u001B[0m, in \u001B[0;36mpandas._libs.lib.map_infer\u001B[1;34m()\u001B[0m\n",
      "Cell \u001B[1;32mIn[27], line 7\u001B[0m, in \u001B[0;36mreplace_question_mark\u001B[1;34m(series)\u001B[0m\n\u001B[0;32m      1\u001B[0m \u001B[38;5;28;01mdef\u001B[39;00m \u001B[38;5;21mreplace_question_mark\u001B[39m(series):\n\u001B[0;32m      2\u001B[0m \u001B[38;5;250m    \u001B[39m\u001B[38;5;124;03m\"\"\"\u001B[39;00m\n\u001B[0;32m      3\u001B[0m \u001B[38;5;124;03m    Replace '?' values in the Series with NaN, and convert the Series to numeric.\u001B[39;00m\n\u001B[0;32m      4\u001B[0m \u001B[38;5;124;03m    :param series: A pandas Series object.\u001B[39;00m\n\u001B[0;32m      5\u001B[0m \u001B[38;5;124;03m    :return: Transformed Series\u001B[39;00m\n\u001B[0;32m      6\u001B[0m \u001B[38;5;124;03m    \"\"\"\u001B[39;00m\n\u001B[1;32m----> 7\u001B[0m     series \u001B[38;5;241m=\u001B[39m series\u001B[38;5;241m.\u001B[39mreplace(\u001B[38;5;124m'\u001B[39m\u001B[38;5;124m?\u001B[39m\u001B[38;5;124m'\u001B[39m, np\u001B[38;5;241m.\u001B[39mnan)\n\u001B[0;32m      8\u001B[0m     series \u001B[38;5;241m=\u001B[39m pd\u001B[38;5;241m.\u001B[39mto_numeric(series, errors\u001B[38;5;241m=\u001B[39m\u001B[38;5;124m'\u001B[39m\u001B[38;5;124mcoerce\u001B[39m\u001B[38;5;124m'\u001B[39m)\n\u001B[0;32m      9\u001B[0m     series \u001B[38;5;241m=\u001B[39m series\u001B[38;5;241m.\u001B[39mastype(\u001B[38;5;124m'\u001B[39m\u001B[38;5;124mInt64\u001B[39m\u001B[38;5;124m'\u001B[39m)\n",
      "\u001B[1;31mTypeError\u001B[0m: replace() argument 2 must be str, not float"
     ]
    }
   ],
   "execution_count": 32
  },
  {
   "metadata": {
    "ExecuteTime": {
     "end_time": "2024-08-08T09:31:28.710075Z",
     "start_time": "2024-08-08T09:31:28.670332Z"
    }
   },
   "cell_type": "code",
   "source": "data_quality.info()",
   "id": "d3ef3abd5bbb99b3",
   "outputs": [
    {
     "name": "stdout",
     "output_type": "stream",
     "text": [
      "<class 'pandas.core.frame.DataFrame'>\n",
      "Index: 50030 entries, 0 to 50030\n",
      "Data columns (total 39 columns):\n",
      " #   Column                    Non-Null Count  Dtype \n",
      "---  ------                    --------------  ----- \n",
      " 0   encounter_id              50030 non-null  int64 \n",
      " 1   patient_nbr               50030 non-null  int64 \n",
      " 2   race                      50030 non-null  object\n",
      " 3   gender                    50030 non-null  object\n",
      " 4   age                       50030 non-null  object\n",
      " 5   weight                    50030 non-null  object\n",
      " 6   admission_type_id         50030 non-null  int64 \n",
      " 7   discharge_disposition_id  50030 non-null  int64 \n",
      " 8   admission_source_id       50030 non-null  int64 \n",
      " 9   length_of_stay            50030 non-null  int64 \n",
      " 10  payer_code                50030 non-null  object\n",
      " 11  medical_specialty         50030 non-null  object\n",
      " 12  num_lab_procedures        50030 non-null  int64 \n",
      " 13  num_procedures            50030 non-null  int64 \n",
      " 14  num_medications           50030 non-null  int64 \n",
      " 15  number_outpatient         50030 non-null  object\n",
      " 16  number_emergency          50030 non-null  object\n",
      " 17  number_inpatient          50030 non-null  object\n",
      " 18  diag_1                    50030 non-null  object\n",
      " 19  diag_2                    50030 non-null  object\n",
      " 20  diag_3                    50030 non-null  object\n",
      " 21  number_diagnoses          50030 non-null  int64 \n",
      " 22  diabetes                  50030 non-null  object\n",
      " 23  max_glu_serum             4639 non-null   object\n",
      " 24  A1Cresult                 7613 non-null   object\n",
      " 25  metformin                 50030 non-null  object\n",
      " 26  repaglinide               50030 non-null  object\n",
      " 27  nateglinide               50030 non-null  object\n",
      " 28  chlorpropamide            50030 non-null  object\n",
      " 29  glimepiride               50030 non-null  object\n",
      " 30  acetohexamide             50030 non-null  object\n",
      " 31  glipizide                 50030 non-null  object\n",
      " 32  glyburide                 50030 non-null  object\n",
      " 33  tolbutamide               50030 non-null  object\n",
      " 34  insulin                   50030 non-null  object\n",
      " 35  change                    50030 non-null  object\n",
      " 36  diabetesMed               50030 non-null  object\n",
      " 37  readmitted                50030 non-null  object\n",
      " 38  single_day_admission      50030 non-null  object\n",
      "dtypes: int64(10), object(29)\n",
      "memory usage: 15.3+ MB\n"
     ]
    }
   ],
   "execution_count": 31
  },
  {
   "metadata": {
    "ExecuteTime": {
     "end_time": "2024-08-08T09:31:28.713519Z",
     "start_time": "2024-08-08T09:31:28.711083Z"
    }
   },
   "cell_type": "code",
   "source": "",
   "id": "319adccc05dee194",
   "outputs": [],
   "execution_count": 31
  }
 ],
 "metadata": {
  "kernelspec": {
   "display_name": "Python 3",
   "language": "python",
   "name": "python3"
  },
  "language_info": {
   "codemirror_mode": {
    "name": "ipython",
    "version": 2
   },
   "file_extension": ".py",
   "mimetype": "text/x-python",
   "name": "python",
   "nbconvert_exporter": "python",
   "pygments_lexer": "ipython2",
   "version": "2.7.6"
  }
 },
 "nbformat": 4,
 "nbformat_minor": 5
}
