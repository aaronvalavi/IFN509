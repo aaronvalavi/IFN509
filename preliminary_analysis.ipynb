{
 "cells": [
  {
   "metadata": {},
   "cell_type": "markdown",
   "source": "# Exploratory data analysis",
   "id": "8a77807f92f26ee"
  },
  {
   "metadata": {
    "ExecuteTime": {
     "end_time": "2024-08-02T00:34:14.190538Z",
     "start_time": "2024-08-02T00:34:14.187124Z"
    }
   },
   "cell_type": "code",
   "source": [
    "# Import libraries\n",
    "import pandas as pd\n",
    "import numpy as np"
   ],
   "id": "7df9140457caed5e",
   "outputs": [],
   "execution_count": 73
  },
  {
   "metadata": {
    "ExecuteTime": {
     "end_time": "2024-08-02T00:34:14.595774Z",
     "start_time": "2024-08-02T00:34:14.353148Z"
    }
   },
   "cell_type": "code",
   "source": "data  = pd.read_csv('data/D1.csv', low_memory=False)",
   "id": "701cd15ae3c3fd8",
   "outputs": [],
   "execution_count": 74
  },
  {
   "metadata": {
    "ExecuteTime": {
     "end_time": "2024-08-02T00:34:14.639106Z",
     "start_time": "2024-08-02T00:34:14.597781Z"
    }
   },
   "cell_type": "code",
   "source": "data.info()",
   "id": "2c5a6768b7dacf70",
   "outputs": [
    {
     "name": "stdout",
     "output_type": "stream",
     "text": [
      "<class 'pandas.core.frame.DataFrame'>\n",
      "RangeIndex: 50031 entries, 0 to 50030\n",
      "Data columns (total 39 columns):\n",
      " #   Column                    Non-Null Count  Dtype \n",
      "---  ------                    --------------  ----- \n",
      " 0   encounter_id              50031 non-null  int64 \n",
      " 1   patient_nbr               50031 non-null  int64 \n",
      " 2   race                      50031 non-null  object\n",
      " 3   gender                    50031 non-null  object\n",
      " 4   age                       50031 non-null  object\n",
      " 5   weight                    50031 non-null  object\n",
      " 6   admission_type_id         50031 non-null  int64 \n",
      " 7   discharge_disposition_id  50031 non-null  int64 \n",
      " 8   admission_source_id       50031 non-null  int64 \n",
      " 9   length_of_stay            50031 non-null  int64 \n",
      " 10  payer_code                50031 non-null  object\n",
      " 11  medical_specialty         50031 non-null  object\n",
      " 12  num_lab_procedures        50031 non-null  int64 \n",
      " 13  num_procedures            50031 non-null  int64 \n",
      " 14  num_medications           50031 non-null  int64 \n",
      " 15  number_outpatient         50031 non-null  object\n",
      " 16  number_emergency          50031 non-null  object\n",
      " 17  number_inpatient          50031 non-null  object\n",
      " 18  diag_1                    50031 non-null  object\n",
      " 19  diag_2                    50031 non-null  object\n",
      " 20  diag_3                    50031 non-null  object\n",
      " 21  number_diagnoses          50031 non-null  int64 \n",
      " 22  diabetes                  50031 non-null  object\n",
      " 23  max_glu_serum             4639 non-null   object\n",
      " 24  A1Cresult                 7613 non-null   object\n",
      " 25  metformin                 50031 non-null  object\n",
      " 26  repaglinide               50031 non-null  object\n",
      " 27  nateglinide               50031 non-null  object\n",
      " 28  chlorpropamide            50031 non-null  object\n",
      " 29  glimepiride               50031 non-null  object\n",
      " 30  acetohexamide             50031 non-null  object\n",
      " 31  glipizide                 50031 non-null  object\n",
      " 32  glyburide                 50031 non-null  object\n",
      " 33  tolbutamide               50031 non-null  object\n",
      " 34  insulin                   50031 non-null  object\n",
      " 35  change                    50031 non-null  object\n",
      " 36  diabetesMed               50031 non-null  object\n",
      " 37  readmitted                50031 non-null  object\n",
      " 38  single_day_admission      50031 non-null  object\n",
      "dtypes: int64(10), object(29)\n",
      "memory usage: 14.9+ MB\n"
     ]
    }
   ],
   "execution_count": 75
  },
  {
   "metadata": {
    "ExecuteTime": {
     "end_time": "2024-08-02T00:34:14.782726Z",
     "start_time": "2024-08-02T00:34:14.777027Z"
    }
   },
   "cell_type": "code",
   "source": [
    "def value_counts(df):\n",
    "    \"\"\"\n",
    "    Count the occurrences of each unique value in the object columns of a DataFrame.\n",
    "    Present proportions of each unique value.\n",
    "\n",
    "    :param df: A pandas DataFrame object.\n",
    "    :return: None\n",
    "    \"\"\"\n",
    "    for column in df.columns:\n",
    "        if df[column].dtype == 'object':\n",
    "            print(df[column].value_counts(normalize=True))\n",
    "            print('-' * 50)\n"
   ],
   "id": "80c7b932dc204684",
   "outputs": [],
   "execution_count": 76
  },
  {
   "metadata": {
    "ExecuteTime": {
     "end_time": "2024-08-02T00:34:15.345070Z",
     "start_time": "2024-08-02T00:34:15.276613Z"
    }
   },
   "cell_type": "code",
   "source": "value_counts(data)",
   "id": "bb27939c676c4d70",
   "outputs": [
    {
     "name": "stdout",
     "output_type": "stream",
     "text": [
      "race\n",
      "Caucasian          0.714197\n",
      "AfricanAmerican    0.222842\n",
      "?                  0.025124\n",
      "Hispanic           0.020387\n",
      "Other              0.012192\n",
      "Asian              0.005257\n",
      "Name: proportion, dtype: float64\n",
      "--------------------------------------------------\n",
      "gender\n",
      "Female             0.539665\n",
      "Male               0.460315\n",
      "Unknown/Invalid    0.000020\n",
      "Name: proportion, dtype: float64\n",
      "--------------------------------------------------\n",
      "age\n",
      "[70-80)     0.262018\n",
      "[60-70)     0.217345\n",
      "[50-60)     0.175391\n",
      "[80-90)     0.150507\n",
      "[40-50)     0.101217\n",
      "[30-40)     0.041035\n",
      "[90-100)    0.023545\n",
      "[20-30)     0.016830\n",
      "[10-20)     0.009354\n",
      "[0-10)      0.002758\n",
      "Name: proportion, dtype: float64\n",
      "--------------------------------------------------\n",
      "weight\n",
      "?            0.962783\n",
      "[75-100)     0.015870\n",
      "[50-75)      0.010993\n",
      "[100-125)    0.006316\n",
      "[125-150)    0.001459\n",
      "[25-50)      0.001359\n",
      "[0-25)       0.000740\n",
      "[150-175)    0.000340\n",
      "[175-200)    0.000120\n",
      ">200         0.000020\n",
      "Name: proportion, dtype: float64\n",
      "--------------------------------------------------\n",
      "payer_code\n",
      "?     0.652895\n",
      "MC    0.187983\n",
      "HM    0.031441\n",
      "BC    0.029822\n",
      "UN    0.025104\n",
      "SP    0.023985\n",
      "MD    0.019968\n",
      "CP    0.014651\n",
      "CM    0.004817\n",
      "OG    0.003078\n",
      "DM    0.002738\n",
      "PO    0.001619\n",
      "WC    0.000700\n",
      "SI    0.000580\n",
      "CH    0.000380\n",
      "OT    0.000240\n",
      "Name: proportion, dtype: float64\n",
      "--------------------------------------------------\n",
      "medical_specialty\n",
      "?                                0.354880\n",
      "InternalMedicine                 0.215606\n",
      "Family/GeneralPractice           0.109812\n",
      "Cardiology                       0.073674\n",
      "Emergency/Trauma                 0.039076\n",
      "                                   ...   \n",
      "SurgicalSpecialty                0.000020\n",
      "Proctology                       0.000020\n",
      "Psychiatry-Addictive             0.000020\n",
      "Pediatrics-InfectiousDiseases    0.000020\n",
      "Cardiology-Pediatric             0.000020\n",
      "Name: proportion, Length: 68, dtype: float64\n",
      "--------------------------------------------------\n",
      "number_outpatient\n",
      "0     0.888589\n",
      "1     0.062501\n",
      "2     0.021806\n",
      "3     0.012732\n",
      "4     0.006696\n",
      "5     0.003538\n",
      "6     0.001339\n",
      "7     0.000620\n",
      "8     0.000560\n",
      "?     0.000400\n",
      "9     0.000320\n",
      "10    0.000240\n",
      "11    0.000180\n",
      "12    0.000100\n",
      "13    0.000080\n",
      "14    0.000080\n",
      "16    0.000060\n",
      "15    0.000040\n",
      "20    0.000020\n",
      "21    0.000020\n",
      "35    0.000020\n",
      "17    0.000020\n",
      "29    0.000020\n",
      "36    0.000020\n",
      "Name: proportion, dtype: float64\n",
      "--------------------------------------------------\n",
      "number_emergency\n",
      "0     0.923128\n",
      "1     0.052547\n",
      "2     0.012872\n",
      "3     0.004637\n",
      "4     0.002638\n",
      "?     0.001379\n",
      "5     0.000899\n",
      "6     0.000540\n",
      "7     0.000480\n",
      "8     0.000320\n",
      "9     0.000200\n",
      "10    0.000160\n",
      "11    0.000060\n",
      "22    0.000040\n",
      "25    0.000020\n",
      "13    0.000020\n",
      "42    0.000020\n",
      "16    0.000020\n",
      "28    0.000020\n",
      "Name: proportion, dtype: float64\n",
      "--------------------------------------------------\n",
      "number_inpatient\n",
      "0     0.684975\n",
      "1     0.184386\n",
      "2     0.068518\n",
      "3     0.030141\n",
      "4     0.014291\n",
      "5     0.007136\n",
      "6     0.004237\n",
      "7     0.002419\n",
      "8     0.001299\n",
      "9     0.000859\n",
      "10    0.000520\n",
      "?     0.000300\n",
      "11    0.000300\n",
      "12    0.000220\n",
      "13    0.000100\n",
      "15    0.000080\n",
      "14    0.000080\n",
      "16    0.000080\n",
      "17    0.000020\n",
      "21    0.000020\n",
      "18    0.000020\n",
      "Name: proportion, dtype: float64\n",
      "--------------------------------------------------\n",
      "diag_1\n",
      "414    0.076732\n",
      "428    0.069377\n",
      "786    0.045352\n",
      "410    0.039735\n",
      "486    0.033979\n",
      "         ...   \n",
      "266    0.000020\n",
      "703    0.000020\n",
      "V60    0.000020\n",
      "814    0.000020\n",
      "61     0.000020\n",
      "Name: proportion, Length: 639, dtype: float64\n",
      "--------------------------------------------------\n",
      "diag_2\n",
      "428     0.069677\n",
      "250     0.067698\n",
      "276     0.062901\n",
      "427     0.050009\n",
      "401     0.040635\n",
      "          ...   \n",
      "483     0.000020\n",
      "658     0.000020\n",
      "945     0.000020\n",
      "906     0.000020\n",
      "E881    0.000020\n",
      "Name: proportion, Length: 635, dtype: float64\n",
      "--------------------------------------------------\n",
      "diag_3\n",
      "250    0.124603\n",
      "401    0.088545\n",
      "428    0.044173\n",
      "276    0.044133\n",
      "427    0.038796\n",
      "         ...   \n",
      "308    0.000020\n",
      "735    0.000020\n",
      "697    0.000020\n",
      "341    0.000020\n",
      "868    0.000020\n",
      "Name: proportion, Length: 671, dtype: float64\n",
      "--------------------------------------------------\n",
      "diabetes\n",
      "Yes    0.746917\n",
      "No     0.253083\n",
      "Name: proportion, dtype: float64\n",
      "--------------------------------------------------\n",
      "max_glu_serum\n",
      "Norm    0.507868\n",
      ">200    0.295969\n",
      ">300    0.196163\n",
      "Name: proportion, dtype: float64\n",
      "--------------------------------------------------\n",
      "A1Cresult\n",
      ">8      0.572705\n",
      "Norm    0.222251\n",
      ">7      0.205044\n",
      "Name: proportion, dtype: float64\n",
      "--------------------------------------------------\n",
      "metformin\n",
      "No        0.818513\n",
      "Steady    0.164378\n",
      "Up        0.011433\n",
      "Down      0.005676\n",
      "Name: proportion, dtype: float64\n",
      "--------------------------------------------------\n",
      "repaglinide\n",
      "No        0.988127\n",
      "Steady    0.010434\n",
      "Up        0.000959\n",
      "Down      0.000480\n",
      "Name: proportion, dtype: float64\n",
      "--------------------------------------------------\n",
      "nateglinide\n",
      "No        0.994763\n",
      "Steady    0.005077\n",
      "Up        0.000100\n",
      "Down      0.000060\n",
      "Name: proportion, dtype: float64\n",
      "--------------------------------------------------\n",
      "chlorpropamide\n",
      "No        0.998641\n",
      "Steady    0.001219\n",
      "Up        0.000100\n",
      "Down      0.000020\n",
      "?         0.000020\n",
      "Name: proportion, dtype: float64\n",
      "--------------------------------------------------\n",
      "glimepiride\n",
      "No        0.954948\n",
      "Steady    0.039755\n",
      "Up        0.003498\n",
      "Down      0.001799\n",
      "Name: proportion, dtype: float64\n",
      "--------------------------------------------------\n",
      "acetohexamide\n",
      "No    1.0\n",
      "Name: proportion, dtype: float64\n",
      "--------------------------------------------------\n",
      "glipizide\n",
      "No        0.870860\n",
      "Steady    0.113650\n",
      "Up        0.009374\n",
      "Down      0.006116\n",
      "Name: proportion, dtype: float64\n",
      "--------------------------------------------------\n",
      "glyburide\n",
      "No        0.876177\n",
      "Steady    0.106294\n",
      "Up        0.010533\n",
      "Down      0.006996\n",
      "Name: proportion, dtype: float64\n",
      "--------------------------------------------------\n",
      "tolbutamide\n",
      "No    1.0\n",
      "Name: proportion, dtype: float64\n",
      "--------------------------------------------------\n",
      "insulin\n",
      "No        0.514761\n",
      "Steady    0.319642\n",
      "Down      0.091683\n",
      "Up        0.073914\n",
      "Name: proportion, dtype: float64\n",
      "--------------------------------------------------\n",
      "change\n",
      "No    0.593012\n",
      "Ch    0.406988\n",
      "Name: proportion, dtype: float64\n",
      "--------------------------------------------------\n",
      "diabetesMed\n",
      "Yes    0.747577\n",
      "No     0.252423\n",
      "Name: proportion, dtype: float64\n",
      "--------------------------------------------------\n",
      "readmitted\n",
      "NO     0.538486\n",
      ">30    0.346605\n",
      "<30    0.114909\n",
      "Name: proportion, dtype: float64\n",
      "--------------------------------------------------\n",
      "single_day_admission\n",
      "No     0.866283\n",
      "Yes    0.133717\n",
      "Name: proportion, dtype: float64\n",
      "--------------------------------------------------\n"
     ]
    }
   ],
   "execution_count": 77
  },
  {
   "metadata": {
    "ExecuteTime": {
     "end_time": "2024-08-02T00:34:15.821449Z",
     "start_time": "2024-08-02T00:34:15.817849Z"
    }
   },
   "cell_type": "code",
   "source": "",
   "id": "38f0e21f201e8f8e",
   "outputs": [],
   "execution_count": 77
  },
  {
   "metadata": {
    "ExecuteTime": {
     "end_time": "2024-08-02T00:35:16.843695Z",
     "start_time": "2024-08-02T00:35:16.839380Z"
    }
   },
   "cell_type": "code",
   "source": [
    "def replace_question_mark(df, columns):\n",
    "    \"\"\"\n",
    "    Replace '?' values in the specified columns of a DataFrame with NaN, and convert the columns to numeric.\n",
    "\n",
    "    :param df: A pandas DataFrame object.\n",
    "    :param columns: A list of column names.\n",
    "    :return: None\n",
    "    \"\"\"\n",
    "    for column in columns:\n",
    "        df[column] = df[column].replace('?', np.nan)\n",
    "        df[column] = pd.to_numeric(df[column], errors='coerce')\n",
    "\n"
   ],
   "id": "bc2643df97dc67a1",
   "outputs": [],
   "execution_count": 81
  },
  {
   "metadata": {
    "ExecuteTime": {
     "end_time": "2024-08-02T00:35:17.540599Z",
     "start_time": "2024-08-02T00:35:17.535Z"
    }
   },
   "cell_type": "code",
   "source": "replace_question_mark(data, ['number_outpatient', 'number_inpatient', 'number_emergency'])",
   "id": "f024ed2cf580a09b",
   "outputs": [],
   "execution_count": 82
  },
  {
   "metadata": {
    "ExecuteTime": {
     "end_time": "2024-08-02T00:35:18.066161Z",
     "start_time": "2024-08-02T00:35:18.053136Z"
    }
   },
   "cell_type": "code",
   "source": "data[['number_outpatient', 'number_inpatient', 'number_emergency']]",
   "id": "8b91203f9bbc4f2f",
   "outputs": [
    {
     "data": {
      "text/plain": [
       "       number_outpatient  number_inpatient  number_emergency\n",
       "0                    0.0               0.0               0.0\n",
       "1                    0.0               0.0               0.0\n",
       "2                    0.0               0.0               0.0\n",
       "3                    0.0               0.0               0.0\n",
       "4                    0.0               0.0               0.0\n",
       "...                  ...               ...               ...\n",
       "50026                0.0               0.0               0.0\n",
       "50027                1.0               0.0               0.0\n",
       "50028                0.0               0.0               0.0\n",
       "50029                0.0               0.0               0.0\n",
       "50030                2.0               0.0               0.0\n",
       "\n",
       "[50031 rows x 3 columns]"
      ],
      "text/html": [
       "<div>\n",
       "<style scoped>\n",
       "    .dataframe tbody tr th:only-of-type {\n",
       "        vertical-align: middle;\n",
       "    }\n",
       "\n",
       "    .dataframe tbody tr th {\n",
       "        vertical-align: top;\n",
       "    }\n",
       "\n",
       "    .dataframe thead th {\n",
       "        text-align: right;\n",
       "    }\n",
       "</style>\n",
       "<table border=\"1\" class=\"dataframe\">\n",
       "  <thead>\n",
       "    <tr style=\"text-align: right;\">\n",
       "      <th></th>\n",
       "      <th>number_outpatient</th>\n",
       "      <th>number_inpatient</th>\n",
       "      <th>number_emergency</th>\n",
       "    </tr>\n",
       "  </thead>\n",
       "  <tbody>\n",
       "    <tr>\n",
       "      <th>0</th>\n",
       "      <td>0.0</td>\n",
       "      <td>0.0</td>\n",
       "      <td>0.0</td>\n",
       "    </tr>\n",
       "    <tr>\n",
       "      <th>1</th>\n",
       "      <td>0.0</td>\n",
       "      <td>0.0</td>\n",
       "      <td>0.0</td>\n",
       "    </tr>\n",
       "    <tr>\n",
       "      <th>2</th>\n",
       "      <td>0.0</td>\n",
       "      <td>0.0</td>\n",
       "      <td>0.0</td>\n",
       "    </tr>\n",
       "    <tr>\n",
       "      <th>3</th>\n",
       "      <td>0.0</td>\n",
       "      <td>0.0</td>\n",
       "      <td>0.0</td>\n",
       "    </tr>\n",
       "    <tr>\n",
       "      <th>4</th>\n",
       "      <td>0.0</td>\n",
       "      <td>0.0</td>\n",
       "      <td>0.0</td>\n",
       "    </tr>\n",
       "    <tr>\n",
       "      <th>...</th>\n",
       "      <td>...</td>\n",
       "      <td>...</td>\n",
       "      <td>...</td>\n",
       "    </tr>\n",
       "    <tr>\n",
       "      <th>50026</th>\n",
       "      <td>0.0</td>\n",
       "      <td>0.0</td>\n",
       "      <td>0.0</td>\n",
       "    </tr>\n",
       "    <tr>\n",
       "      <th>50027</th>\n",
       "      <td>1.0</td>\n",
       "      <td>0.0</td>\n",
       "      <td>0.0</td>\n",
       "    </tr>\n",
       "    <tr>\n",
       "      <th>50028</th>\n",
       "      <td>0.0</td>\n",
       "      <td>0.0</td>\n",
       "      <td>0.0</td>\n",
       "    </tr>\n",
       "    <tr>\n",
       "      <th>50029</th>\n",
       "      <td>0.0</td>\n",
       "      <td>0.0</td>\n",
       "      <td>0.0</td>\n",
       "    </tr>\n",
       "    <tr>\n",
       "      <th>50030</th>\n",
       "      <td>2.0</td>\n",
       "      <td>0.0</td>\n",
       "      <td>0.0</td>\n",
       "    </tr>\n",
       "  </tbody>\n",
       "</table>\n",
       "<p>50031 rows × 3 columns</p>\n",
       "</div>"
      ]
     },
     "execution_count": 83,
     "metadata": {},
     "output_type": "execute_result"
    }
   ],
   "execution_count": 83
  },
  {
   "metadata": {
    "ExecuteTime": {
     "end_time": "2024-08-02T00:35:34.395878Z",
     "start_time": "2024-08-02T00:35:34.389820Z"
    }
   },
   "cell_type": "code",
   "source": "data['number_inpatient'].value_counts(normalize=True)",
   "id": "1bb66c19975f5a36",
   "outputs": [
    {
     "data": {
      "text/plain": [
       "number_inpatient\n",
       "0.0     0.685181\n",
       "1.0     0.184441\n",
       "2.0     0.068538\n",
       "3.0     0.030150\n",
       "4.0     0.014295\n",
       "5.0     0.007138\n",
       "6.0     0.004239\n",
       "7.0     0.002419\n",
       "8.0     0.001300\n",
       "9.0     0.000860\n",
       "10.0    0.000520\n",
       "11.0    0.000300\n",
       "12.0    0.000220\n",
       "13.0    0.000100\n",
       "16.0    0.000080\n",
       "15.0    0.000080\n",
       "14.0    0.000080\n",
       "17.0    0.000020\n",
       "21.0    0.000020\n",
       "18.0    0.000020\n",
       "Name: proportion, dtype: float64"
      ]
     },
     "execution_count": 84,
     "metadata": {},
     "output_type": "execute_result"
    }
   ],
   "execution_count": 84
  },
  {
   "metadata": {
    "ExecuteTime": {
     "end_time": "2024-08-02T00:37:34.976603Z",
     "start_time": "2024-08-02T00:37:34.969480Z"
    }
   },
   "cell_type": "code",
   "source": "data['number_outpatient'].value_counts(normalize=True)",
   "id": "bea66117d58d0486",
   "outputs": [
    {
     "data": {
      "text/plain": [
       "number_outpatient\n",
       "0.0     0.888944\n",
       "1.0     0.062526\n",
       "2.0     0.021815\n",
       "3.0     0.012737\n",
       "4.0     0.006699\n",
       "5.0     0.003539\n",
       "6.0     0.001340\n",
       "7.0     0.000620\n",
       "8.0     0.000560\n",
       "9.0     0.000320\n",
       "10.0    0.000240\n",
       "11.0    0.000180\n",
       "12.0    0.000100\n",
       "13.0    0.000080\n",
       "14.0    0.000080\n",
       "16.0    0.000060\n",
       "15.0    0.000040\n",
       "20.0    0.000020\n",
       "21.0    0.000020\n",
       "35.0    0.000020\n",
       "17.0    0.000020\n",
       "29.0    0.000020\n",
       "36.0    0.000020\n",
       "Name: proportion, dtype: float64"
      ]
     },
     "execution_count": 85,
     "metadata": {},
     "output_type": "execute_result"
    }
   ],
   "execution_count": 85
  },
  {
   "metadata": {
    "ExecuteTime": {
     "end_time": "2024-08-02T00:37:47.308297Z",
     "start_time": "2024-08-02T00:37:47.301044Z"
    }
   },
   "cell_type": "code",
   "source": "data['number_emergency'].value_counts(normalize=True)",
   "id": "86d565d21ee0d3d",
   "outputs": [
    {
     "data": {
      "text/plain": [
       "number_emergency\n",
       "0.0     0.924403\n",
       "1.0     0.052620\n",
       "2.0     0.012890\n",
       "3.0     0.004644\n",
       "4.0     0.002642\n",
       "5.0     0.000901\n",
       "6.0     0.000540\n",
       "7.0     0.000480\n",
       "8.0     0.000320\n",
       "9.0     0.000200\n",
       "10.0    0.000160\n",
       "11.0    0.000060\n",
       "22.0    0.000040\n",
       "25.0    0.000020\n",
       "13.0    0.000020\n",
       "42.0    0.000020\n",
       "16.0    0.000020\n",
       "28.0    0.000020\n",
       "Name: proportion, dtype: float64"
      ]
     },
     "execution_count": 86,
     "metadata": {},
     "output_type": "execute_result"
    }
   ],
   "execution_count": 86
  },
  {
   "metadata": {
    "ExecuteTime": {
     "end_time": "2024-08-02T00:33:01.581946Z",
     "start_time": "2024-08-02T00:33:01.571109Z"
    }
   },
   "cell_type": "code",
   "source": "data['weight'].value_counts(normalize=True)",
   "id": "fe5b877da35176",
   "outputs": [
    {
     "data": {
      "text/plain": [
       "weight\n",
       "?            0.962783\n",
       "[75-100)     0.015870\n",
       "[50-75)      0.010993\n",
       "[100-125)    0.006316\n",
       "[125-150)    0.001459\n",
       "[25-50)      0.001359\n",
       "[0-25)       0.000740\n",
       "[150-175)    0.000340\n",
       "[175-200)    0.000120\n",
       ">200         0.000020\n",
       "Name: proportion, dtype: float64"
      ]
     },
     "execution_count": 71,
     "metadata": {},
     "output_type": "execute_result"
    }
   ],
   "execution_count": 71
  },
  {
   "metadata": {},
   "cell_type": "markdown",
   "source": [
    "## Comments about the data types\n",
    "\n",
    "- The `id` columns are integers, which is fine.\n",
    "- The `race` and `gender` look fine, just some missing values. We should convert them to categorical data type.\n",
    "- The `age` column is a string based on the formatting of the intervals. We should convert it to an interval data type.\n",
    "- The `weight` column has 97% missing values. I suggest drop this column.\n",
    "- The `payer_code` column has 40% missing values. We should discuss if it is necessary to keep this column. We might be able to assume that the emply payer code means that the patient does not have insurance. If not, I suggest drop this column.\n",
    "- \n",
    "- "
   ],
   "id": "56d968d3990cfd03"
  },
  {
   "metadata": {},
   "cell_type": "markdown",
   "source": [
    "## Comments about the goal of the data mining\n",
    "\n",
    "This looks like a 'length of stay' prediction problem. The goal is to predict the length of stay of a patient in the hospital. The `length_of_stay` column is the target variable. It has no missing values and the data are in a manageable range. We should convert this column to a numeric data type. \n",
    "\n",
    "The `readmitted` column could be secondary target variable. It is a categorical variable with three classes. We should convert this column to a categorical data type.\n",
    "\n",
    "The `discharge_disposition_id` could also be used as a secondary target variable. It is a categorical variable with 26 classes. It might be worth reducing the number of classes to binary outcome variable (all cause mortality), or categorical variable with fewer classes (e.g. discharged home, discharged to another facility, died.).\n",
    "\n",
    "We should discuss if we want to filter out the `admission_type_id` column. If we choose length of stay as the target variable, we might want to filter out the `admission_type_id` column to exclude newborns and electives. The same goes for `single_day_admission`. We might want to filter out the single day admissions. "
   ],
   "id": "32623b411d976cc6"
  },
  {
   "metadata": {
    "SqlCellData": {
     "variableName$1": "df_sql"
    }
   },
   "cell_type": "code",
   "outputs": [],
   "execution_count": null,
   "source": "%%sql\n",
   "id": "2129feffd0799966"
  },
  {
   "metadata": {
    "ExecuteTime": {
     "end_time": "2024-08-02T00:16:42.190435Z",
     "start_time": "2024-08-02T00:16:42.184661Z"
    }
   },
   "cell_type": "code",
   "source": "data['length_of_stay'].value_counts(normalize=True)",
   "id": "4350fb36ac71f5bf",
   "outputs": [
    {
     "data": {
      "text/plain": [
       "length_of_stay\n",
       "3     0.166677\n",
       "2     0.164018\n",
       "4     0.134497\n",
       "1     0.133717\n",
       "5     0.097220\n",
       "6     0.076233\n",
       "7     0.058764\n",
       "8     0.047231\n",
       "9     0.032060\n",
       "10    0.026364\n",
       "11    0.020947\n",
       "12    0.016770\n",
       "13    0.013252\n",
       "14    0.012252\n",
       "Name: proportion, dtype: float64"
      ]
     },
     "execution_count": 61,
     "metadata": {},
     "output_type": "execute_result"
    }
   ],
   "execution_count": 61
  },
  {
   "metadata": {
    "ExecuteTime": {
     "end_time": "2024-08-02T00:19:06.964343Z",
     "start_time": "2024-08-02T00:19:06.958020Z"
    }
   },
   "cell_type": "code",
   "source": "data['admission_type_id'].value_counts(normalize=True)",
   "id": "94f24dbe2d48e253",
   "outputs": [
    {
     "data": {
      "text/plain": [
       "admission_type_id\n",
       "1    0.484999\n",
       "2    0.194180\n",
       "3    0.167816\n",
       "6    0.083628\n",
       "5    0.066099\n",
       "8    0.003098\n",
       "4    0.000140\n",
       "7    0.000040\n",
       "Name: proportion, dtype: float64"
      ]
     },
     "execution_count": 62,
     "metadata": {},
     "output_type": "execute_result"
    }
   ],
   "execution_count": 62
  },
  {
   "metadata": {},
   "cell_type": "code",
   "outputs": [],
   "execution_count": null,
   "source": "",
   "id": "4aceafa2054b6ef9"
  }
 ],
 "metadata": {
  "kernelspec": {
   "display_name": "Python 3",
   "language": "python",
   "name": "python3"
  },
  "language_info": {
   "codemirror_mode": {
    "name": "ipython",
    "version": 2
   },
   "file_extension": ".py",
   "mimetype": "text/x-python",
   "name": "python",
   "nbconvert_exporter": "python",
   "pygments_lexer": "ipython2",
   "version": "2.7.6"
  }
 },
 "nbformat": 4,
 "nbformat_minor": 5
}
